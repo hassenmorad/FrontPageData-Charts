{
 "cells": [
  {
   "cell_type": "markdown",
   "metadata": {},
   "source": [
    "### FrontPageData Plots\n",
    "Visualizing correllation of web search results position & click-through rate"
   ]
  },
  {
   "cell_type": "code",
   "execution_count": 1,
   "metadata": {},
   "outputs": [],
   "source": [
    "import pandas as pd\n",
    "import numpy as np\n",
    "import altair as alt"
   ]
  },
  {
   "cell_type": "code",
   "execution_count": 2,
   "metadata": {},
   "outputs": [],
   "source": [
    "%run chart_theme.py"
   ]
  },
  {
   "cell_type": "code",
   "execution_count": 3,
   "metadata": {},
   "outputs": [],
   "source": [
    "file = pd.read_csv('CTR_dataset_final.csv')"
   ]
  },
  {
   "cell_type": "code",
   "execution_count": 4,
   "metadata": {},
   "outputs": [],
   "source": [
    "filtered = file[(file.position <= 10) & (file.impressions > 100) & (file.clicks >= 25)]"
   ]
  },
  {
   "cell_type": "code",
   "execution_count": 5,
   "metadata": {},
   "outputs": [
    {
     "data": {
      "text/html": [
       "<div>\n",
       "<style scoped>\n",
       "    .dataframe tbody tr th:only-of-type {\n",
       "        vertical-align: middle;\n",
       "    }\n",
       "\n",
       "    .dataframe tbody tr th {\n",
       "        vertical-align: top;\n",
       "    }\n",
       "\n",
       "    .dataframe thead th {\n",
       "        text-align: right;\n",
       "    }\n",
       "</style>\n",
       "<table border=\"1\" class=\"dataframe\">\n",
       "  <thead>\n",
       "    <tr style=\"text-align: right;\">\n",
       "      <th></th>\n",
       "      <th>clicks</th>\n",
       "      <th>impressions</th>\n",
       "      <th>ctr</th>\n",
       "      <th>position</th>\n",
       "    </tr>\n",
       "  </thead>\n",
       "  <tbody>\n",
       "    <tr>\n",
       "      <th>0</th>\n",
       "      <td>23577</td>\n",
       "      <td>34451</td>\n",
       "      <td>0.684363</td>\n",
       "      <td>1.002641</td>\n",
       "    </tr>\n",
       "    <tr>\n",
       "      <th>1</th>\n",
       "      <td>10834</td>\n",
       "      <td>142149</td>\n",
       "      <td>0.076216</td>\n",
       "      <td>6.119157</td>\n",
       "    </tr>\n",
       "    <tr>\n",
       "      <th>2</th>\n",
       "      <td>8763</td>\n",
       "      <td>37676</td>\n",
       "      <td>0.232588</td>\n",
       "      <td>2.349321</td>\n",
       "    </tr>\n",
       "    <tr>\n",
       "      <th>3</th>\n",
       "      <td>7548</td>\n",
       "      <td>36091</td>\n",
       "      <td>0.209138</td>\n",
       "      <td>3.464077</td>\n",
       "    </tr>\n",
       "    <tr>\n",
       "      <th>4</th>\n",
       "      <td>6834</td>\n",
       "      <td>51417</td>\n",
       "      <td>0.132913</td>\n",
       "      <td>2.795360</td>\n",
       "    </tr>\n",
       "  </tbody>\n",
       "</table>\n",
       "</div>"
      ],
      "text/plain": [
       "   clicks  impressions       ctr  position\n",
       "0   23577        34451  0.684363  1.002641\n",
       "1   10834       142149  0.076216  6.119157\n",
       "2    8763        37676  0.232588  2.349321\n",
       "3    7548        36091  0.209138  3.464077\n",
       "4    6834        51417  0.132913  2.795360"
      ]
     },
     "execution_count": 5,
     "metadata": {},
     "output_type": "execute_result"
    }
   ],
   "source": [
    "filtered.head()"
   ]
  },
  {
   "cell_type": "markdown",
   "metadata": {},
   "source": [
    "---"
   ]
  },
  {
   "cell_type": "markdown",
   "metadata": {},
   "source": [
    "#### Bar Plot:"
   ]
  },
  {
   "cell_type": "code",
   "execution_count": 6,
   "metadata": {},
   "outputs": [],
   "source": [
    "avg_ctrs = []\n",
    "for i in range(1,10,1):\n",
    "    df = filtered[(filtered.position >= i) & (filtered.position < i + 1)]\n",
    "    avg_ctrs.append(df.ctr.mean().round(3))"
   ]
  },
  {
   "cell_type": "code",
   "execution_count": 7,
   "metadata": {},
   "outputs": [
    {
     "data": {
      "text/html": [
       "<div>\n",
       "<style scoped>\n",
       "    .dataframe tbody tr th:only-of-type {\n",
       "        vertical-align: middle;\n",
       "    }\n",
       "\n",
       "    .dataframe tbody tr th {\n",
       "        vertical-align: top;\n",
       "    }\n",
       "\n",
       "    .dataframe thead th {\n",
       "        text-align: right;\n",
       "    }\n",
       "</style>\n",
       "<table border=\"1\" class=\"dataframe\">\n",
       "  <thead>\n",
       "    <tr style=\"text-align: right;\">\n",
       "      <th></th>\n",
       "      <th>Search Position</th>\n",
       "      <th>Mean CTR</th>\n",
       "      <th>Mean CTR Perc</th>\n",
       "    </tr>\n",
       "  </thead>\n",
       "  <tbody>\n",
       "    <tr>\n",
       "      <th>0</th>\n",
       "      <td>1</td>\n",
       "      <td>0.398</td>\n",
       "      <td>39.8%</td>\n",
       "    </tr>\n",
       "    <tr>\n",
       "      <th>1</th>\n",
       "      <td>2</td>\n",
       "      <td>0.255</td>\n",
       "      <td>25.5%</td>\n",
       "    </tr>\n",
       "    <tr>\n",
       "      <th>2</th>\n",
       "      <td>3</td>\n",
       "      <td>0.178</td>\n",
       "      <td>17.8%</td>\n",
       "    </tr>\n",
       "    <tr>\n",
       "      <th>3</th>\n",
       "      <td>4</td>\n",
       "      <td>0.125</td>\n",
       "      <td>12.5%</td>\n",
       "    </tr>\n",
       "    <tr>\n",
       "      <th>4</th>\n",
       "      <td>5</td>\n",
       "      <td>0.092</td>\n",
       "      <td>9.2%</td>\n",
       "    </tr>\n",
       "    <tr>\n",
       "      <th>5</th>\n",
       "      <td>6</td>\n",
       "      <td>0.061</td>\n",
       "      <td>6.1%</td>\n",
       "    </tr>\n",
       "    <tr>\n",
       "      <th>6</th>\n",
       "      <td>7</td>\n",
       "      <td>0.050</td>\n",
       "      <td>5.0%</td>\n",
       "    </tr>\n",
       "    <tr>\n",
       "      <th>7</th>\n",
       "      <td>8</td>\n",
       "      <td>0.030</td>\n",
       "      <td>3.0%</td>\n",
       "    </tr>\n",
       "    <tr>\n",
       "      <th>8</th>\n",
       "      <td>9</td>\n",
       "      <td>0.025</td>\n",
       "      <td>2.5%</td>\n",
       "    </tr>\n",
       "  </tbody>\n",
       "</table>\n",
       "</div>"
      ],
      "text/plain": [
       "   Search Position  Mean CTR Mean CTR Perc\n",
       "0                1     0.398         39.8%\n",
       "1                2     0.255         25.5%\n",
       "2                3     0.178         17.8%\n",
       "3                4     0.125         12.5%\n",
       "4                5     0.092          9.2%\n",
       "5                6     0.061          6.1%\n",
       "6                7     0.050          5.0%\n",
       "7                8     0.030          3.0%\n",
       "8                9     0.025          2.5%"
      ]
     },
     "execution_count": 7,
     "metadata": {},
     "output_type": "execute_result"
    }
   ],
   "source": [
    "ctr_pos_df = pd.DataFrame({'Search Position':range(1,10,1), 'Mean CTR':avg_ctrs})\n",
    "ctr_pos_df['Mean CTR Perc'] = ctr_pos_df['Mean CTR'].apply(lambda x:x*100).round(1).astype(str) + '%'\n",
    "\n",
    "ctr_pos_df"
   ]
  },
  {
   "cell_type": "code",
   "execution_count": 8,
   "metadata": {},
   "outputs": [
    {
     "data": {
      "application/vnd.vegalite.v3+json": {
       "$schema": "https://vega.github.io/schema/vega-lite/v3.4.0.json",
       "background": "white",
       "config": {
        "axisX": {
         "grid": false,
         "labelAngle": 0,
         "labelFont": "Lato",
         "labelFontSize": 13,
         "labelFontWeight": "bold",
         "ticks": false,
         "titleFont": "Lato",
         "titleFontSize": 13,
         "titleY": 20
        },
        "axisY": {
         "domainWidth": 0,
         "labelAlign": "left",
         "labelFont": "Lato",
         "labelFontSize": 13,
         "labelLimit": 100,
         "labelPadding": 30,
         "ticks": false,
         "titleAlign": "left",
         "titleAngle": 0,
         "titleFont": "Lato",
         "titleFontSize": 13,
         "titleX": -30,
         "titleY": -20
        },
        "title": {
         "anchor": "start",
         "font": "Lato",
         "fontSize": 20,
         "offset": 5
        },
        "view": {
         "strokeOpacity": 0
        }
       },
       "data": {
        "name": "data-c9974d5839b380137592dd821ebe270e"
       },
       "datasets": {
        "data-c9974d5839b380137592dd821ebe270e": [
         {
          "Mean CTR": 0.398,
          "Mean CTR Perc": "39.8%",
          "Search Position": 1
         },
         {
          "Mean CTR": 0.255,
          "Mean CTR Perc": "25.5%",
          "Search Position": 2
         },
         {
          "Mean CTR": 0.178,
          "Mean CTR Perc": "17.8%",
          "Search Position": 3
         },
         {
          "Mean CTR": 0.125,
          "Mean CTR Perc": "12.5%",
          "Search Position": 4
         },
         {
          "Mean CTR": 0.092,
          "Mean CTR Perc": "9.2%",
          "Search Position": 5
         },
         {
          "Mean CTR": 0.061,
          "Mean CTR Perc": "6.1%",
          "Search Position": 6
         },
         {
          "Mean CTR": 0.05,
          "Mean CTR Perc": "5.0%",
          "Search Position": 7
         },
         {
          "Mean CTR": 0.03,
          "Mean CTR Perc": "3.0%",
          "Search Position": 8
         },
         {
          "Mean CTR": 0.025,
          "Mean CTR Perc": "2.5%",
          "Search Position": 9
         }
        ]
       },
       "height": 300,
       "layer": [
        {
         "encoding": {
          "x": {
           "field": "Search Position",
           "title": "Search Results Position",
           "type": "ordinal"
          },
          "y": {
           "axis": {
            "format": ".0%"
           },
           "field": "Mean CTR",
           "scale": {
            "domain": [
             0,
             0.45
            ]
           },
           "title": "Based on Search Results Position",
           "type": "quantitative"
          }
         },
         "mark": {
          "size": 40,
          "type": "bar"
         }
        },
        {
         "encoding": {
          "text": {
           "field": "Mean CTR Perc",
           "type": "nominal"
          },
          "x": {
           "field": "Search Position",
           "type": "ordinal"
          },
          "y": {
           "field": "Mean CTR",
           "type": "quantitative"
          }
         },
         "mark": {
          "dy": -8,
          "fontWeight": "bold",
          "size": 13,
          "type": "text"
         }
        }
       ],
       "title": "Avg. Click-Through Rate",
       "width": 500
      },
      "image/png": "[encoded data removed]",
      "text/plain": [
       "<VegaLite 3 object>\n",
       "\n",
       "If you see this message, it means the renderer has not been properly enabled\n",
       "for the frontend that you are using. For more information, see\n",
       "https://altair-viz.github.io/user_guide/troubleshooting.html\n"
      ]
     },
     "execution_count": 8,
     "metadata": {},
     "output_type": "execute_result"
    }
   ],
   "source": [
    "base = alt.Chart(ctr_pos_df).mark_bar(size=40).encode(\n",
    "    x=alt.X('Search Position:O', title='Search Results Position'),\n",
    "    y=alt.Y('Mean CTR', title='Based on Search Results Position', axis=alt.Axis(format='.0%'), scale=alt.Scale(domain=(0, .45)))\n",
    "    )\n",
    "\n",
    "text = alt.Chart(ctr_pos_df).mark_text(\n",
    "    size=13,\n",
    "    fontWeight='bold',\n",
    "    dy=-8\n",
    "    ).encode(\n",
    "    x=alt.X('Search Position:O'),\n",
    "    y=alt.Y('Mean CTR'),\n",
    "    text='Mean CTR Perc')\n",
    "\n",
    "bar = (base + text).properties(title='Avg. Click-Through Rate')\n",
    "bar"
   ]
  },
  {
   "cell_type": "code",
   "execution_count": 9,
   "metadata": {},
   "outputs": [],
   "source": [
    "bar.save('bar.png', scale_factor=3)"
   ]
  },
  {
   "cell_type": "markdown",
   "metadata": {},
   "source": [
    "---"
   ]
  },
  {
   "cell_type": "markdown",
   "metadata": {},
   "source": [
    "#### Scatter Plot:"
   ]
  },
  {
   "cell_type": "code",
   "execution_count": 10,
   "metadata": {},
   "outputs": [],
   "source": [
    "avgs = []\n",
    "for i in range(2,11):\n",
    "    df = filtered[(filtered.position < i) & (filtered.position > i-1)]\n",
    "    avgs.append(df.ctr.mean().round(3))"
   ]
  },
  {
   "cell_type": "code",
   "execution_count": 11,
   "metadata": {},
   "outputs": [
    {
     "data": {
      "text/html": [
       "<div>\n",
       "<style scoped>\n",
       "    .dataframe tbody tr th:only-of-type {\n",
       "        vertical-align: middle;\n",
       "    }\n",
       "\n",
       "    .dataframe tbody tr th {\n",
       "        vertical-align: top;\n",
       "    }\n",
       "\n",
       "    .dataframe thead th {\n",
       "        text-align: right;\n",
       "    }\n",
       "</style>\n",
       "<table border=\"1\" class=\"dataframe\">\n",
       "  <thead>\n",
       "    <tr style=\"text-align: right;\">\n",
       "      <th></th>\n",
       "      <th>position</th>\n",
       "      <th>avg_ctr</th>\n",
       "    </tr>\n",
       "  </thead>\n",
       "  <tbody>\n",
       "    <tr>\n",
       "      <th>0</th>\n",
       "      <td>1</td>\n",
       "      <td>0.368</td>\n",
       "    </tr>\n",
       "    <tr>\n",
       "      <th>1</th>\n",
       "      <td>2</td>\n",
       "      <td>0.255</td>\n",
       "    </tr>\n",
       "    <tr>\n",
       "      <th>2</th>\n",
       "      <td>3</td>\n",
       "      <td>0.178</td>\n",
       "    </tr>\n",
       "    <tr>\n",
       "      <th>3</th>\n",
       "      <td>4</td>\n",
       "      <td>0.125</td>\n",
       "    </tr>\n",
       "    <tr>\n",
       "      <th>4</th>\n",
       "      <td>5</td>\n",
       "      <td>0.092</td>\n",
       "    </tr>\n",
       "    <tr>\n",
       "      <th>5</th>\n",
       "      <td>6</td>\n",
       "      <td>0.061</td>\n",
       "    </tr>\n",
       "    <tr>\n",
       "      <th>6</th>\n",
       "      <td>7</td>\n",
       "      <td>0.050</td>\n",
       "    </tr>\n",
       "    <tr>\n",
       "      <th>7</th>\n",
       "      <td>8</td>\n",
       "      <td>0.030</td>\n",
       "    </tr>\n",
       "    <tr>\n",
       "      <th>8</th>\n",
       "      <td>9</td>\n",
       "      <td>0.025</td>\n",
       "    </tr>\n",
       "  </tbody>\n",
       "</table>\n",
       "</div>"
      ],
      "text/plain": [
       "   position  avg_ctr\n",
       "0         1    0.368\n",
       "1         2    0.255\n",
       "2         3    0.178\n",
       "3         4    0.125\n",
       "4         5    0.092\n",
       "5         6    0.061\n",
       "6         7    0.050\n",
       "7         8    0.030\n",
       "8         9    0.025"
      ]
     },
     "execution_count": 11,
     "metadata": {},
     "output_type": "execute_result"
    }
   ],
   "source": [
    "line_df = pd.DataFrame({'position':range(1,10), 'avg_ctr':avgs})\n",
    "line_df"
   ]
  },
  {
   "cell_type": "code",
   "execution_count": 12,
   "metadata": {},
   "outputs": [
    {
     "data": {
      "application/vnd.vegalite.v3+json": {
       "$schema": "https://vega.github.io/schema/vega-lite/v3.4.0.json",
       "background": "white",
       "config": {
        "axisX": {
         "grid": false,
         "labelAngle": 0,
         "labelFont": "Lato",
         "labelFontSize": 13,
         "labelFontWeight": "bold",
         "ticks": false,
         "titleFont": "Lato",
         "titleFontSize": 13,
         "titleY": 20
        },
        "axisY": {
         "domainWidth": 0,
         "labelAlign": "left",
         "labelFont": "Lato",
         "labelFontSize": 13,
         "labelLimit": 100,
         "labelPadding": 30,
         "ticks": false,
         "titleAlign": "left",
         "titleAngle": 0,
         "titleFont": "Lato",
         "titleFontSize": 13,
         "titleX": -30,
         "titleY": -20
        },
        "title": {
         "anchor": "start",
         "font": "Lato",
         "fontSize": 20,
         "offset": 5
        },
        "view": {
         "strokeOpacity": 0
        }
       },
       "datasets": {
        "data-991f457d461c11966050656cb9d9b78e": [
         {
          "avg_ctr": 0.368,
          "position": 1
         },
         {
          "avg_ctr": 0.255,
          "position": 2
         },
         {
          "avg_ctr": 0.178,
          "position": 3
         },
         {
          "avg_ctr": 0.125,
          "position": 4
         },
         {
          "avg_ctr": 0.092,
          "position": 5
         },
         {
          "avg_ctr": 0.061,
          "position": 6
         },
         {
          "avg_ctr": 0.05,
          "position": 7
         },
         {
          "avg_ctr": 0.03,
          "position": 8
         },
         {
          "avg_ctr": 0.025,
          "position": 9
         }
        ],
        "data-c1b2a677962be895723f7b3607bc6e40": [
         {
          "clicks": 23577,
          "ctr": 0.6843632985980088,
          "impressions": 34451,
          "position": 1.0026414327595716
         },
         {
          "clicks": 10834,
          "ctr": 0.0762158017291715,
          "impressions": 142149,
          "position": 6.119156659561446
         },
         {
          "clicks": 8763,
          "ctr": 0.2325883851788937,
          "impressions": 37676,
          "position": 2.349320522348445
         },
         {
          "clicks": 7548,
          "ctr": 0.20913801224682052,
          "impressions": 36091,
          "position": 3.4640769166828296
         },
         {
          "clicks": 6834,
          "ctr": 0.13291323881206604,
          "impressions": 51417,
          "position": 2.7953595114456307
         },
         {
          "clicks": 5885,
          "ctr": 0.0566181139481634,
          "impressions": 103942,
          "position": 4.191626099170692
         },
         {
          "clicks": 5690,
          "ctr": 0.11191534558042564,
          "impressions": 50842,
          "position": 3.1785138271507813
         },
         {
          "clicks": 4974,
          "ctr": 0.18551394897806955,
          "impressions": 26812,
          "position": 1.7898329106370283
         },
         {
          "clicks": 4785,
          "ctr": 0.05441457423580786,
          "impressions": 87936,
          "position": 4.88170942503639
         },
         {
          "clicks": 4707,
          "ctr": 0.4273651715997821,
          "impressions": 11014,
          "position": 1.042037406936626
         },
         {
          "clicks": 4654,
          "ctr": 0.007872177754923916,
          "impressions": 591196,
          "position": 6.933206584618299
         },
         {
          "clicks": 4517,
          "ctr": 0.21379212419538052,
          "impressions": 21128,
          "position": 2.044206739871261
         },
         {
          "clicks": 4279,
          "ctr": 0.16155094952240726,
          "impressions": 26487,
          "position": 3.124136368784687
         },
         {
          "clicks": 4002,
          "ctr": 0.023436813717739244,
          "impressions": 170757,
          "position": 6.44934029058838
         },
         {
          "clicks": 3827,
          "ctr": 0.1185490366148318,
          "impressions": 32282,
          "position": 1.0029737934452636
         },
         {
          "clicks": 3649,
          "ctr": 0.23570828757832185,
          "impressions": 15481,
          "position": 3.813836315483496
         },
         {
          "clicks": 3621,
          "ctr": 0.3757783312577833,
          "impressions": 9636,
          "position": 1.5011415525114156
         },
         {
          "clicks": 3493,
          "ctr": 0.08412813102119461,
          "impressions": 41520,
          "position": 2.5981454720616566
         },
         {
          "clicks": 3399,
          "ctr": 0.2390127276562829,
          "impressions": 14221,
          "position": 3.6575486955910272
         },
         {
          "clicks": 3020,
          "ctr": 0.004755508595345586,
          "impressions": 635053,
          "position": 8.214404152094392
         },
         {
          "clicks": 3009,
          "ctr": 0.02645879497731349,
          "impressions": 113724,
          "position": 5.024040659843129
         },
         {
          "clicks": 2921,
          "ctr": 0.3141535814153581,
          "impressions": 9298,
          "position": 1.4321359432135945
         },
         {
          "clicks": 2784,
          "ctr": 0.2781496653012289,
          "impressions": 10009,
          "position": 2.278849035867719
         },
         {
          "clicks": 2619,
          "ctr": 0.30467659376454165,
          "impressions": 8596,
          "position": 1.8591205211726385
         },
         {
          "clicks": 2543,
          "ctr": 0.7512555391432791,
          "impressions": 3385,
          "position": 1.0144756277695717
         },
         {
          "clicks": 2306,
          "ctr": 0.0010012556944789391,
          "impressions": 2303108,
          "position": 7.508991762435803
         },
         {
          "clicks": 1973,
          "ctr": 0.3784042961258151,
          "impressions": 5214,
          "position": 2.00939777522056
         },
         {
          "clicks": 1962,
          "ctr": 0.27432885906040266,
          "impressions": 7152,
          "position": 5.165687919463087
         },
         {
          "clicks": 1886,
          "ctr": 0.18931941377233488,
          "impressions": 9962,
          "position": 2.5371411363180085
         },
         {
          "clicks": 1868,
          "ctr": 0.14136521870743152,
          "impressions": 13214,
          "position": 5.060012108369912
         },
         {
          "clicks": 1862,
          "ctr": 0.030473135525260625,
          "impressions": 61103,
          "position": 7.7551675040505375
         },
         {
          "clicks": 1768,
          "ctr": 0.2473073157084907,
          "impressions": 7149,
          "position": 1.2554203385088822
         },
         {
          "clicks": 1760,
          "ctr": 0.3848677017275312,
          "impressions": 4573,
          "position": 1.8657336540564182
         },
         {
          "clicks": 1739,
          "ctr": 0.014075501019846538,
          "impressions": 123548,
          "position": 5.894405413280668
         },
         {
          "clicks": 1670,
          "ctr": 0.0314536482465062,
          "impressions": 53094,
          "position": 8.535973933024447
         },
         {
          "clicks": 1581,
          "ctr": 0.036161112508863016,
          "impressions": 43721,
          "position": 8.636330367557925
         },
         {
          "clicks": 1580,
          "ctr": 0.15998379910895097,
          "impressions": 9876,
          "position": 1.1009518023491291
         },
         {
          "clicks": 1526,
          "ctr": 0.07647589455748223,
          "impressions": 19954,
          "position": 4.096973037987371
         },
         {
          "clicks": 1468,
          "ctr": 0.2662797025213133,
          "impressions": 5513,
          "position": 2.3192454199165606
         },
         {
          "clicks": 1464,
          "ctr": 0.0675339053418212,
          "impressions": 21678,
          "position": 4.466924993080543
         },
         {
          "clicks": 1455,
          "ctr": 0.08434293664135413,
          "impressions": 17251,
          "position": 6.334531331517012
         },
         {
          "clicks": 1412,
          "ctr": 0.03217720249760722,
          "impressions": 43882,
          "position": 4.386559409325009
         },
         {
          "clicks": 1374,
          "ctr": 0.0029884442472448247,
          "impressions": 459771,
          "position": 8.166000030449942
         },
         {
          "clicks": 1292,
          "ctr": 0.09345388788426763,
          "impressions": 13825,
          "position": 4.788065099457505
         },
         {
          "clicks": 1272,
          "ctr": 0.036982119494112516,
          "impressions": 34395,
          "position": 5.647128943160343
         },
         {
          "clicks": 1260,
          "ctr": 0.07747171667486473,
          "impressions": 16264,
          "position": 2.837555336940482
         },
         {
          "clicks": 1252,
          "ctr": 0.03091892425851382,
          "impressions": 40493,
          "position": 8.044032301879337
         },
         {
          "clicks": 1171,
          "ctr": 0.30470986208691125,
          "impressions": 3843,
          "position": 1.9084048920114491
         },
         {
          "clicks": 1161,
          "ctr": 0.16545532278751604,
          "impressions": 7017,
          "position": 3.0380504489097904
         },
         {
          "clicks": 1126,
          "ctr": 0.08067636311528266,
          "impressions": 13957,
          "position": 3.1154259511356313
         },
         {
          "clicks": 1123,
          "ctr": 0.09726312142733416,
          "impressions": 11546,
          "position": 4.907413822968993
         },
         {
          "clicks": 1104,
          "ctr": 0.16228134646479495,
          "impressions": 6803,
          "position": 1.6591209760399823
         },
         {
          "clicks": 1096,
          "ctr": 0.08159618820726622,
          "impressions": 13432,
          "position": 6.365321620011913
         },
         {
          "clicks": 1072,
          "ctr": 0.2952354723216745,
          "impressions": 3631,
          "position": 1.6422473147893142
         },
         {
          "clicks": 1069,
          "ctr": 0.2016981132075472,
          "impressions": 5300,
          "position": 2.4679245283018867
         },
         {
          "clicks": 1068,
          "ctr": 0.37939609236234456,
          "impressions": 2815,
          "position": 1.1911190053285967
         },
         {
          "clicks": 1063,
          "ctr": 0.24186575654152445,
          "impressions": 4395,
          "position": 2.240500568828214
         },
         {
          "clicks": 1062,
          "ctr": 0.4449099287808965,
          "impressions": 2387,
          "position": 1.4281524926686218
         },
         {
          "clicks": 1040,
          "ctr": 0.04417636564438026,
          "impressions": 23542,
          "position": 6.560572593662392
         },
         {
          "clicks": 1032,
          "ctr": 0.04206407434580582,
          "impressions": 24534,
          "position": 6.348210646449826
         },
         {
          "clicks": 1028,
          "ctr": 0.11768746422438466,
          "impressions": 8735,
          "position": 2.7748139668002287
         },
         {
          "clicks": 1002,
          "ctr": 0.34197952218430033,
          "impressions": 2930,
          "position": 2.745051194539249
         },
         {
          "clicks": 977,
          "ctr": 0.061690976826419136,
          "impressions": 15837,
          "position": 5.975310980615015
         },
         {
          "clicks": 967,
          "ctr": 0.09303444294785453,
          "impressions": 10394,
          "position": 9.257071387338849
         },
         {
          "clicks": 955,
          "ctr": 0.061474090762793684,
          "impressions": 15535,
          "position": 4.806115223688447
         },
         {
          "clicks": 952,
          "ctr": 0.27277936962750715,
          "impressions": 3490,
          "position": 1.3315186246418338
         },
         {
          "clicks": 951,
          "ctr": 0.0239891027419721,
          "impressions": 39643,
          "position": 4.8265015261206266
         },
         {
          "clicks": 946,
          "ctr": 0.027940220922677058,
          "impressions": 33858,
          "position": 8.612587866973831
         },
         {
          "clicks": 937,
          "ctr": 0.5956770502225047,
          "impressions": 1573,
          "position": 1.4335664335664335
         },
         {
          "clicks": 888,
          "ctr": 0.10802919708029196,
          "impressions": 8220,
          "position": 2.7669099756691002
         },
         {
          "clicks": 859,
          "ctr": 0.09870159715040792,
          "impressions": 8703,
          "position": 5.177869700103413
         },
         {
          "clicks": 854,
          "ctr": 0.3674698795180723,
          "impressions": 2324,
          "position": 1.8253012048192767
         },
         {
          "clicks": 827,
          "ctr": 0.30997001499250376,
          "impressions": 2668,
          "position": 2.9872563718140928
         },
         {
          "clicks": 825,
          "ctr": 0.045966124359260084,
          "impressions": 17948,
          "position": 5.416536661466457
         },
         {
          "clicks": 823,
          "ctr": 0.2672945761610913,
          "impressions": 3079,
          "position": 1.3825917505683665
         },
         {
          "clicks": 787,
          "ctr": 0.03364254264096097,
          "impressions": 23393,
          "position": 6.0739109990168
         },
         {
          "clicks": 761,
          "ctr": 0.010737516402579262,
          "impressions": 70873,
          "position": 9.454376137598238
         },
         {
          "clicks": 761,
          "ctr": 0.07540626238604836,
          "impressions": 10092,
          "position": 1.0618311533888227
         },
         {
          "clicks": 758,
          "ctr": 0.3877237851662404,
          "impressions": 1955,
          "position": 1.1606138107416881
         },
         {
          "clicks": 757,
          "ctr": 0.036471381769126995,
          "impressions": 20756,
          "position": 7.70654268645211
         },
         {
          "clicks": 699,
          "ctr": 0.14647946353730093,
          "impressions": 4772,
          "position": 4.797150041911149
         },
         {
          "clicks": 689,
          "ctr": 0.03131248863842938,
          "impressions": 22004,
          "position": 4.754680967096891
         },
         {
          "clicks": 689,
          "ctr": 0.06015891032917139,
          "impressions": 11453,
          "position": 5.4081899938880635
         },
         {
          "clicks": 683,
          "ctr": 0.3117298037425833,
          "impressions": 2191,
          "position": 1.848014605203104
         },
         {
          "clicks": 680,
          "ctr": 0.03012448500420857,
          "impressions": 22573,
          "position": 6.656758073804988
         },
         {
          "clicks": 677,
          "ctr": 0.1517256835499776,
          "impressions": 4462,
          "position": 2.798072613177947
         },
         {
          "clicks": 676,
          "ctr": 0.07591240875912407,
          "impressions": 8905,
          "position": 5.578214486243684
         },
         {
          "clicks": 667,
          "ctr": 0.2110759493670886,
          "impressions": 3160,
          "position": 2.3765822784810124
         },
         {
          "clicks": 662,
          "ctr": 0.07750848846739257,
          "impressions": 8541,
          "position": 1.9330289193302888
         },
         {
          "clicks": 660,
          "ctr": 0.21568627450980396,
          "impressions": 3060,
          "position": 2.491503267973856
         },
         {
          "clicks": 640,
          "ctr": 0.026023665270605456,
          "impressions": 24593,
          "position": 7.053592485666653
         },
         {
          "clicks": 630,
          "ctr": 0.5722070844686649,
          "impressions": 1101,
          "position": 1.008174386920981
         },
         {
          "clicks": 630,
          "ctr": 0.41365725541694026,
          "impressions": 1523,
          "position": 1.9586342744583056
         },
         {
          "clicks": 628,
          "ctr": 0.8103225806451613,
          "impressions": 775,
          "position": 1.0167741935483872
         },
         {
          "clicks": 624,
          "ctr": 0.5527015057573074,
          "impressions": 1129,
          "position": 1.1275465013286097
         },
         {
          "clicks": 618,
          "ctr": 0.492822966507177,
          "impressions": 1254,
          "position": 1.5893141945773523
         },
         {
          "clicks": 601,
          "ctr": 0.012842703592110606,
          "impressions": 46797,
          "position": 8.112443105327266
         },
         {
          "clicks": 599,
          "ctr": 0.062001863161163434,
          "impressions": 9661,
          "position": 4.9477279784701365
         },
         {
          "clicks": 596,
          "ctr": 0.2082459818308875,
          "impressions": 2862,
          "position": 2.7092941998602376
         },
         {
          "clicks": 589,
          "ctr": 0.1559438707969288,
          "impressions": 3777,
          "position": 4.084193804606831
         },
         {
          "clicks": 586,
          "ctr": 0.06665150136487716,
          "impressions": 8792,
          "position": 5.4613284804367614
         },
         {
          "clicks": 584,
          "ctr": 0.13333333333333333,
          "impressions": 4380,
          "position": 2.386986301369863
         },
         {
          "clicks": 563,
          "ctr": 0.057696249231399876,
          "impressions": 9758,
          "position": 4.615904898544784
         },
         {
          "clicks": 559,
          "ctr": 0.008171678337012295,
          "impressions": 68407,
          "position": 9.534799070270589
         },
         {
          "clicks": 545,
          "ctr": 0.017675293507167414,
          "impressions": 30834,
          "position": 8.390705065836414
         },
         {
          "clicks": 541,
          "ctr": 0.03597552866072616,
          "impressions": 15038,
          "position": 4.970474797180477
         },
         {
          "clicks": 529,
          "ctr": 0.03190975992278924,
          "impressions": 16578,
          "position": 7.1250452406804206
         },
         {
          "clicks": 496,
          "ctr": 0.052531243380639685,
          "impressions": 9442,
          "position": 6.797288710019064
         },
         {
          "clicks": 495,
          "ctr": 0.2203918076580588,
          "impressions": 2246,
          "position": 1.1438112199465718
         },
         {
          "clicks": 488,
          "ctr": 0.01959681953256766,
          "impressions": 24902,
          "position": 7.407075736888603
         },
         {
          "clicks": 478,
          "ctr": 0.007843137254901959,
          "impressions": 60945,
          "position": 8.210386413979819
         },
         {
          "clicks": 475,
          "ctr": 0.8574007220216606,
          "impressions": 554,
          "position": 1.0036101083032491
         },
         {
          "clicks": 475,
          "ctr": 0.11696626446688008,
          "impressions": 4061,
          "position": 5.276286628909135
         },
         {
          "clicks": 464,
          "ctr": 0.8640595903165735,
          "impressions": 537,
          "position": 1
         },
         {
          "clicks": 457,
          "ctr": 0.01976045314999784,
          "impressions": 23127,
          "position": 5.879232066415877
         },
         {
          "clicks": 456,
          "ctr": 0.7715736040609137,
          "impressions": 591,
          "position": 1
         },
         {
          "clicks": 452,
          "ctr": 0.02289998986726112,
          "impressions": 19738,
          "position": 6.852872631472287
         },
         {
          "clicks": 449,
          "ctr": 0.03021127708249226,
          "impressions": 14862,
          "position": 8.281590633831247
         },
         {
          "clicks": 444,
          "ctr": 0.13413897280966766,
          "impressions": 3310,
          "position": 2.976737160120846
         },
         {
          "clicks": 441,
          "ctr": 0.12152108018737945,
          "impressions": 3629,
          "position": 4.528795811518325
         },
         {
          "clicks": 438,
          "ctr": 0.10909090909090907,
          "impressions": 4015,
          "position": 5.300124533001245
         },
         {
          "clicks": 432,
          "ctr": 0.015006252605252188,
          "impressions": 28788,
          "position": 1.0047589273308324
         },
         {
          "clicks": 430,
          "ctr": 0.021203155818540438,
          "impressions": 20280,
          "position": 7.395660749506903
         },
         {
          "clicks": 429,
          "ctr": 0.017121647509578543,
          "impressions": 25056,
          "position": 1.0059466794380587
         },
         {
          "clicks": 421,
          "ctr": 0.06710232706407396,
          "impressions": 6274,
          "position": 3.5204016576346833
         },
         {
          "clicks": 420,
          "ctr": 0.0390806736763748,
          "impressions": 10747,
          "position": 5.2897552805434085
         },
         {
          "clicks": 415,
          "ctr": 0.19177449168207025,
          "impressions": 2164,
          "position": 1.1529574861367835
         },
         {
          "clicks": 414,
          "ctr": 0.7327433628318584,
          "impressions": 565,
          "position": 1
         },
         {
          "clicks": 412,
          "ctr": 0.07435480960115502,
          "impressions": 5541,
          "position": 4.061360765204837
         },
         {
          "clicks": 410,
          "ctr": 0.5678670360110804,
          "impressions": 722,
          "position": 1.2257617728531855
         },
         {
          "clicks": 409,
          "ctr": 0.04805545764305017,
          "impressions": 8511,
          "position": 4.362237104923041
         },
         {
          "clicks": 405,
          "ctr": 0.5532786885245902,
          "impressions": 732,
          "position": 1.151639344262295
         },
         {
          "clicks": 402,
          "ctr": 0.03670562454346238,
          "impressions": 10952,
          "position": 5.952063550036522
         },
         {
          "clicks": 398,
          "ctr": 0.3355817875210793,
          "impressions": 1186,
          "position": 3.3617200674536263
         },
         {
          "clicks": 397,
          "ctr": 0.08130247798484537,
          "impressions": 4883,
          "position": 1.4226909686668032
         },
         {
          "clicks": 396,
          "ctr": 0.7360594795539034,
          "impressions": 538,
          "position": 1
         },
         {
          "clicks": 395,
          "ctr": 0.05894642590658111,
          "impressions": 6701,
          "position": 4.391284882853306
         },
         {
          "clicks": 391,
          "ctr": 0.2975646879756469,
          "impressions": 1314,
          "position": 1.5806697108066972
         },
         {
          "clicks": 389,
          "ctr": 0.05244708103006607,
          "impressions": 7417,
          "position": 6.871376567345287
         },
         {
          "clicks": 387,
          "ctr": 0.3682207421503329,
          "impressions": 1051,
          "position": 1.8001902949571835
         },
         {
          "clicks": 387,
          "ctr": 0.6526138279932546,
          "impressions": 593,
          "position": 1.0033726812816188
         },
         {
          "clicks": 387,
          "ctr": 0.17269076305220885,
          "impressions": 2241,
          "position": 3.209727800089246
         },
         {
          "clicks": 380,
          "ctr": 0.023704073357869133,
          "impressions": 16031,
          "position": 5.912606824277963
         },
         {
          "clicks": 379,
          "ctr": 0.12112496005113454,
          "impressions": 3129,
          "position": 4.781399808245446
         },
         {
          "clicks": 377,
          "ctr": 0.6867030965391621,
          "impressions": 549,
          "position": 1.0455373406193078
         },
         {
          "clicks": 368,
          "ctr": 0.0699619771863118,
          "impressions": 5260,
          "position": 5.097528517110267
         },
         {
          "clicks": 364,
          "ctr": 0.386411889596603,
          "impressions": 942,
          "position": 1.461783439490446
         },
         {
          "clicks": 363,
          "ctr": 0.2402382528127068,
          "impressions": 1511,
          "position": 1.0185307743216412
         },
         {
          "clicks": 362,
          "ctr": 0.11580294305822135,
          "impressions": 3126,
          "position": 2.706653870761357
         },
         {
          "clicks": 362,
          "ctr": 0.383881230116649,
          "impressions": 943,
          "position": 1.7794273594909862
         },
         {
          "clicks": 360,
          "ctr": 0.09685230024213076,
          "impressions": 3717,
          "position": 3.2429378531073447
         },
         {
          "clicks": 358,
          "ctr": 0.2314156431803491,
          "impressions": 1547,
          "position": 2.8312863606981247
         },
         {
          "clicks": 356,
          "ctr": 0.12322602976808585,
          "impressions": 2889,
          "position": 2.6036690896503982
         },
         {
          "clicks": 355,
          "ctr": 0.07751091703056769,
          "impressions": 4580,
          "position": 5.857423580786027
         },
         {
          "clicks": 355,
          "ctr": 0.4166666666666667,
          "impressions": 852,
          "position": 1.4107981220657275
         },
         {
          "clicks": 355,
          "ctr": 0.04598445595854922,
          "impressions": 7720,
          "position": 7.322150259067357
         },
         {
          "clicks": 354,
          "ctr": 0.2017094017094017,
          "impressions": 1755,
          "position": 4.6826210826210835
         },
         {
          "clicks": 349,
          "ctr": 0.09032091097308488,
          "impressions": 3864,
          "position": 3.128623188405797
         },
         {
          "clicks": 345,
          "ctr": 0.3125,
          "impressions": 1104,
          "position": 2.3596014492753623
         },
         {
          "clicks": 337,
          "ctr": 0.05194204685573366,
          "impressions": 6488,
          "position": 4.542077681874229
         },
         {
          "clicks": 336,
          "ctr": 0.3758389261744967,
          "impressions": 894,
          "position": 1.046979865771812
         },
         {
          "clicks": 332,
          "ctr": 0.5389610389610391,
          "impressions": 616,
          "position": 1.0081168831168832
         },
         {
          "clicks": 330,
          "ctr": 0.3384615384615385,
          "impressions": 975,
          "position": 2.0164102564102557
         },
         {
          "clicks": 329,
          "ctr": 0.09850299401197604,
          "impressions": 3340,
          "position": 5.20748502994012
         },
         {
          "clicks": 328,
          "ctr": 0.0002676626764798767,
          "impressions": 1225423,
          "position": 9.453050089642515
         },
         {
          "clicks": 326,
          "ctr": 0.3090047393364929,
          "impressions": 1055,
          "position": 2.2398104265402843
         },
         {
          "clicks": 320,
          "ctr": 0.21447721179624665,
          "impressions": 1492,
          "position": 3.051608579088472
         },
         {
          "clicks": 317,
          "ctr": 0.04581586934528111,
          "impressions": 6919,
          "position": 4.1057956352074
         },
         {
          "clicks": 317,
          "ctr": 0.01819747416762342,
          "impressions": 17420,
          "position": 3.7392652123995407
         },
         {
          "clicks": 316,
          "ctr": 0.3166332665330661,
          "impressions": 998,
          "position": 1.6763527054108216
         },
         {
          "clicks": 311,
          "ctr": 0.36761229314420796,
          "impressions": 846,
          "position": 3.0224586288416075
         },
         {
          "clicks": 308,
          "ctr": 0.031775508098627885,
          "impressions": 9693,
          "position": 6.849479005467862
         },
         {
          "clicks": 304,
          "ctr": 0.08624113475177304,
          "impressions": 3525,
          "position": 3.735035460992908
         },
         {
          "clicks": 303,
          "ctr": 0.032056707575116375,
          "impressions": 9452,
          "position": 5.465933135844265
         },
         {
          "clicks": 300,
          "ctr": 0.06030150753768844,
          "impressions": 4975,
          "position": 1.4739698492462312
         },
         {
          "clicks": 299,
          "ctr": 0.6348195329087049,
          "impressions": 471,
          "position": 1.9766454352441611
         },
         {
          "clicks": 299,
          "ctr": 0.032592108131676484,
          "impressions": 9174,
          "position": 7.797689121430127
         },
         {
          "clicks": 299,
          "ctr": 0.3555291319857313,
          "impressions": 841,
          "position": 1.8430439952437572
         },
         {
          "clicks": 297,
          "ctr": 0.11194873727855258,
          "impressions": 2653,
          "position": 3.92687523558236
         },
         {
          "clicks": 294,
          "ctr": 0.1389413988657845,
          "impressions": 2116,
          "position": 5.275992438563328
         },
         {
          "clicks": 290,
          "ctr": 0.2388797364085667,
          "impressions": 1214,
          "position": 1.7907742998352554
         },
         {
          "clicks": 289,
          "ctr": 0.02466501664248528,
          "impressions": 11717,
          "position": 5.632243748399762
         },
         {
          "clicks": 289,
          "ctr": 0.4358974358974359,
          "impressions": 663,
          "position": 1.7722473604826543
         },
         {
          "clicks": 286,
          "ctr": 0.053789731051344734,
          "impressions": 5317,
          "position": 2.925333834869287
         },
         {
          "clicks": 284,
          "ctr": 0.2551662174303684,
          "impressions": 1113,
          "position": 2.3189577717879604
         },
         {
          "clicks": 283,
          "ctr": 0.001500840576789474,
          "impressions": 188561,
          "position": 5.8546252936715435
         },
         {
          "clicks": 283,
          "ctr": 0.13205786280914605,
          "impressions": 2143,
          "position": 3.321978534764349
         },
         {
          "clicks": 282,
          "ctr": 0.010898971940944578,
          "impressions": 25874,
          "position": 2.288552214578341
         },
         {
          "clicks": 281,
          "ctr": 0.25545454545454543,
          "impressions": 1100,
          "position": 3.585454545454545
         },
         {
          "clicks": 279,
          "ctr": 0.01491181186531267,
          "impressions": 18710,
          "position": 6.933832175307323
         },
         {
          "clicks": 277,
          "ctr": 0.2832310838445808,
          "impressions": 978,
          "position": 1.8916155419222904
         },
         {
          "clicks": 277,
          "ctr": 0.05206766917293233,
          "impressions": 5320,
          "position": 6.6001879699248125
         },
         {
          "clicks": 277,
          "ctr": 0.2598499061913696,
          "impressions": 1066,
          "position": 2.7420262664165103
         },
         {
          "clicks": 276,
          "ctr": 0.26640926640926643,
          "impressions": 1036,
          "position": 2.937258687258687
         },
         {
          "clicks": 276,
          "ctr": 0.228287841191067,
          "impressions": 1209,
          "position": 4.461538461538462
         },
         {
          "clicks": 276,
          "ctr": 0.040058055152394766,
          "impressions": 6890,
          "position": 8.618722786647314
         },
         {
          "clicks": 275,
          "ctr": 0.04954062331111511,
          "impressions": 5551,
          "position": 5.512520266618627
         },
         {
          "clicks": 274,
          "ctr": 0.020561308719795886,
          "impressions": 13326,
          "position": 6.844664565511031
         },
         {
          "clicks": 273,
          "ctr": 0.01327175498298493,
          "impressions": 20570,
          "position": 7.429314535731647
         },
         {
          "clicks": 272,
          "ctr": 0.406576980568012,
          "impressions": 669,
          "position": 1.844544095665172
         },
         {
          "clicks": 268,
          "ctr": 0.2231473771856786,
          "impressions": 1201,
          "position": 1.5462114904246462
         },
         {
          "clicks": 267,
          "ctr": 0.14816870144284128,
          "impressions": 1802,
          "position": 4.053274139844619
         },
         {
          "clicks": 266,
          "ctr": 0.018660119256401264,
          "impressions": 14255,
          "position": 8.360154331813398
         },
         {
          "clicks": 262,
          "ctr": 0.8881355932203391,
          "impressions": 295,
          "position": 1.5694915254237287
         },
         {
          "clicks": 261,
          "ctr": 0.9094076655052264,
          "impressions": 287,
          "position": 1.0034843205574913
         },
         {
          "clicks": 261,
          "ctr": 0.6574307304785895,
          "impressions": 397,
          "position": 1.057934508816121
         },
         {
          "clicks": 258,
          "ctr": 0.02795838751625488,
          "impressions": 9228,
          "position": 4.300065019505851
         },
         {
          "clicks": 257,
          "ctr": 0.01750442718975616,
          "impressions": 14682,
          "position": 7.866639422422013
         },
         {
          "clicks": 253,
          "ctr": 0.012644310060472787,
          "impressions": 20009,
          "position": 1.0044479984007195
         },
         {
          "clicks": 253,
          "ctr": 0.20111287758346585,
          "impressions": 1258,
          "position": 1.3879173290937996
         },
         {
          "clicks": 252,
          "ctr": 0.016327588441104057,
          "impressions": 15434,
          "position": 1.253855125048594
         },
         {
          "clicks": 252,
          "ctr": 0.7138810198300283,
          "impressions": 353,
          "position": 1.0141643059490084
         },
         {
          "clicks": 250,
          "ctr": 0.0186039589224587,
          "impressions": 13438,
          "position": 8.163640422681947
         },
         {
          "clicks": 249,
          "ctr": 0.04117744336034397,
          "impressions": 6047,
          "position": 3.2779890854969405
         },
         {
          "clicks": 248,
          "ctr": 0.02069425901201602,
          "impressions": 11984,
          "position": 9.01059746328438
         },
         {
          "clicks": 247,
          "ctr": 0.33651226158038144,
          "impressions": 734,
          "position": 1.7520435967302452
         },
         {
          "clicks": 246,
          "ctr": 0.8395904436860068,
          "impressions": 293,
          "position": 1
         },
         {
          "clicks": 245,
          "ctr": 0.26952695269526955,
          "impressions": 909,
          "position": 1.2376237623762376
         },
         {
          "clicks": 244,
          "ctr": 0.3794712286158631,
          "impressions": 643,
          "position": 2.1632970451010887
         },
         {
          "clicks": 241,
          "ctr": 0.2583065380493033,
          "impressions": 933,
          "position": 2.139335476956056
         },
         {
          "clicks": 241,
          "ctr": 0.047153198982586575,
          "impressions": 5111,
          "position": 3.62238309528468
         },
         {
          "clicks": 241,
          "ctr": 0.1114708603145236,
          "impressions": 2162,
          "position": 1.1433857539315448
         },
         {
          "clicks": 240,
          "ctr": 0.7817589576547231,
          "impressions": 307,
          "position": 1
         },
         {
          "clicks": 240,
          "ctr": 0.583941605839416,
          "impressions": 411,
          "position": 1.094890510948905
         },
         {
          "clicks": 240,
          "ctr": 0.10484927916120576,
          "impressions": 2289,
          "position": 4.798602009611184
         },
         {
          "clicks": 238,
          "ctr": 0.9049429657794676,
          "impressions": 263,
          "position": 1
         },
         {
          "clicks": 238,
          "ctr": 0.2556390977443609,
          "impressions": 931,
          "position": 3.2406015037593985
         },
         {
          "clicks": 238,
          "ctr": 0.09949832775919733,
          "impressions": 2392,
          "position": 3.1224916387959865
         },
         {
          "clicks": 237,
          "ctr": 0.4610894941634242,
          "impressions": 514,
          "position": 1.4105058365758754
         },
         {
          "clicks": 235,
          "ctr": 0.28519417475728154,
          "impressions": 824,
          "position": 2.5861650485436893
         },
         {
          "clicks": 231,
          "ctr": 0.8339350180505415,
          "impressions": 277,
          "position": 1
         },
         {
          "clicks": 230,
          "ctr": 0.5569007263922519,
          "impressions": 413,
          "position": 1.2687651331719128
         },
         {
          "clicks": 230,
          "ctr": 0.03333816495144224,
          "impressions": 6899,
          "position": 8.810262356863314
         },
         {
          "clicks": 229,
          "ctr": 0.1827613727055068,
          "impressions": 1253,
          "position": 3.597765363128492
         },
         {
          "clicks": 227,
          "ctr": 0.9153225806451613,
          "impressions": 248,
          "position": 1
         },
         {
          "clicks": 227,
          "ctr": 0.013631996156617823,
          "impressions": 16652,
          "position": 5.426435263031467
         },
         {
          "clicks": 224,
          "ctr": 0.020717721050684423,
          "impressions": 10812,
          "position": 4.938771735109138
         },
         {
          "clicks": 223,
          "ctr": 0.04467147435897436,
          "impressions": 4992,
          "position": 2.7441907051282053
         },
         {
          "clicks": 222,
          "ctr": 0.683076923076923,
          "impressions": 325,
          "position": 1.003076923076923
         },
         {
          "clicks": 221,
          "ctr": 0.014715674523904647,
          "impressions": 15018,
          "position": 1.0051937674790252
         },
         {
          "clicks": 221,
          "ctr": 0.3646864686468647,
          "impressions": 606,
          "position": 3.0907590759075907
         },
         {
          "clicks": 221,
          "ctr": 0.0722930978083088,
          "impressions": 3057,
          "position": 9.454039908406935
         },
         {
          "clicks": 217,
          "ctr": 0.09442993907745864,
          "impressions": 2298,
          "position": 5.8842471714534375
         },
         {
          "clicks": 216,
          "ctr": 0.526829268292683,
          "impressions": 410,
          "position": 1.6829268292682928
         },
         {
          "clicks": 216,
          "ctr": 0.03474903474903475,
          "impressions": 6216,
          "position": 3.2572393822393817
         },
         {
          "clicks": 215,
          "ctr": 0.6073446327683616,
          "impressions": 354,
          "position": 1.03954802259887
         },
         {
          "clicks": 212,
          "ctr": 0.9592760180995475,
          "impressions": 221,
          "position": 1
         },
         {
          "clicks": 209,
          "ctr": 0.3572649572649573,
          "impressions": 585,
          "position": 2.034188034188034
         },
         {
          "clicks": 209,
          "ctr": 0.023331100692118776,
          "impressions": 8958,
          "position": 1.005023442732753
         },
         {
          "clicks": 208,
          "ctr": 0.2363636363636364,
          "impressions": 880,
          "position": 2.995454545454545
         },
         {
          "clicks": 208,
          "ctr": 0.12121212121212123,
          "impressions": 1716,
          "position": 2.7954545454545454
         },
         {
          "clicks": 206,
          "ctr": 0.0615476546160741,
          "impressions": 3347,
          "position": 3.8843740663280553
         },
         {
          "clicks": 205,
          "ctr": 0.09822712026832776,
          "impressions": 2087,
          "position": 5.184954480114998
         },
         {
          "clicks": 204,
          "ctr": 0.4340425531914894,
          "impressions": 470,
          "position": 1.6957446808510641
         },
         {
          "clicks": 204,
          "ctr": 0.4055666003976143,
          "impressions": 503,
          "position": 1.2107355864811131
         },
         {
          "clicks": 203,
          "ctr": 0.009342353536748123,
          "impressions": 21729,
          "position": 9.898614754475586
         },
         {
          "clicks": 203,
          "ctr": 0.4776470588235294,
          "impressions": 425,
          "position": 1.9223529411764704
         },
         {
          "clicks": 202,
          "ctr": 0.2763337893296854,
          "impressions": 731,
          "position": 2.8331053351573185
         },
         {
          "clicks": 202,
          "ctr": 0.1573208722741433,
          "impressions": 1284,
          "position": 5.4478193146417455
         },
         {
          "clicks": 201,
          "ctr": 0.08945260347129506,
          "impressions": 2247,
          "position": 4.33555852247441
         },
         {
          "clicks": 200,
          "ctr": 0.2478314745972739,
          "impressions": 807,
          "position": 4.346964064436183
         },
         {
          "clicks": 200,
          "ctr": 0.2638522427440633,
          "impressions": 758,
          "position": 3.398416886543536
         },
         {
          "clicks": 200,
          "ctr": 0.08741258741258741,
          "impressions": 2288,
          "position": 4.570367132867133
         },
         {
          "clicks": 199,
          "ctr": 0.08076298701298701,
          "impressions": 2464,
          "position": 3.166801948051948
         },
         {
          "clicks": 198,
          "ctr": 0.09806835066864784,
          "impressions": 2019,
          "position": 2.822684497275879
         },
         {
          "clicks": 198,
          "ctr": 0.12692307692307692,
          "impressions": 1560,
          "position": 4.911538461538461
         },
         {
          "clicks": 196,
          "ctr": 0.2135076252723312,
          "impressions": 918,
          "position": 3.351851851851852
         },
         {
          "clicks": 196,
          "ctr": 0.004523320486487735,
          "impressions": 43331,
          "position": 8.428723085089196
         },
         {
          "clicks": 196,
          "ctr": 0.07515337423312883,
          "impressions": 2608,
          "position": 5.491180981595091
         },
         {
          "clicks": 195,
          "ctr": 0.7647058823529411,
          "impressions": 255,
          "position": 1.007843137254902
         },
         {
          "clicks": 195,
          "ctr": 0.5025773195876289,
          "impressions": 388,
          "position": 1.3402061855670104
         },
         {
          "clicks": 195,
          "ctr": 0.22860492379835876,
          "impressions": 853,
          "position": 4.825322391559204
         },
         {
          "clicks": 195,
          "ctr": 0.013120710536939846,
          "impressions": 14862,
          "position": 6.536065132552818
         },
         {
          "clicks": 193,
          "ctr": 0.8464912280701754,
          "impressions": 228,
          "position": 1.4912280701754386
         },
         {
          "clicks": 193,
          "ctr": 0.12961719274680994,
          "impressions": 1489,
          "position": 6.563465413028879
         },
         {
          "clicks": 192,
          "ctr": 0.9320388349514565,
          "impressions": 206,
          "position": 1
         },
         {
          "clicks": 192,
          "ctr": 0.9099526066350709,
          "impressions": 211,
          "position": 1.1895734597156398
         },
         {
          "clicks": 192,
          "ctr": 0.029762827468609518,
          "impressions": 6451,
          "position": 1.1238567663928074
         },
         {
          "clicks": 191,
          "ctr": 0.007041215070412152,
          "impressions": 27126,
          "position": 9.735235567352357
         },
         {
          "clicks": 191,
          "ctr": 0.4125269978401728,
          "impressions": 463,
          "position": 3.2937365010799136
         },
         {
          "clicks": 191,
          "ctr": 0.4910025706940874,
          "impressions": 389,
          "position": 1.3444730077120823
         },
         {
          "clicks": 190,
          "ctr": 0.015636573121553782,
          "impressions": 12151,
          "position": 5.209530079828822
         },
         {
          "clicks": 190,
          "ctr": 0.33687943262411346,
          "impressions": 564,
          "position": 1.3634751773049645
         },
         {
          "clicks": 190,
          "ctr": 0.0026762071102597327,
          "impressions": 70996,
          "position": 8.129598850639471
         },
         {
          "clicks": 189,
          "ctr": 0.3423913043478261,
          "impressions": 552,
          "position": 1
         },
         {
          "clicks": 189,
          "ctr": 0.1903323262839879,
          "impressions": 993,
          "position": 1.9647532729103725
         },
         {
          "clicks": 188,
          "ctr": 0.10603496897913142,
          "impressions": 1773,
          "position": 8.199661590524535
         },
         {
          "clicks": 186,
          "ctr": 0.03762135922330097,
          "impressions": 4944,
          "position": 2.682443365695793
         },
         {
          "clicks": 186,
          "ctr": 0.11425061425061425,
          "impressions": 1628,
          "position": 3.82985257985258
         },
         {
          "clicks": 183,
          "ctr": 0.3567251461988304,
          "impressions": 513,
          "position": 1.9571150097465888
         },
         {
          "clicks": 182,
          "ctr": 0.03190184049079755,
          "impressions": 5705,
          "position": 6.297984224364593
         },
         {
          "clicks": 181,
          "ctr": 0.19032597266035756,
          "impressions": 951,
          "position": 2.95478443743428
         },
         {
          "clicks": 181,
          "ctr": 0.8701923076923077,
          "impressions": 208,
          "position": 1
         },
         {
          "clicks": 181,
          "ctr": 0.027574649603900058,
          "impressions": 6564,
          "position": 4.424283973187081
         },
         {
          "clicks": 178,
          "ctr": 0.3242258652094718,
          "impressions": 549,
          "position": 2.9398907103825134
         },
         {
          "clicks": 177,
          "ctr": 0.17788944723618091,
          "impressions": 995,
          "position": 7.125628140703517
         },
         {
          "clicks": 177,
          "ctr": 0.3443579766536965,
          "impressions": 514,
          "position": 2.3229571984435795
         },
         {
          "clicks": 177,
          "ctr": 0.01655288506499579,
          "impressions": 10693,
          "position": 6.122884129804545
         },
         {
          "clicks": 176,
          "ctr": 0.1164021164021164,
          "impressions": 1512,
          "position": 2.098544973544973
         },
         {
          "clicks": 176,
          "ctr": 0.045349136820407115,
          "impressions": 3881,
          "position": 9.116464828652411
         },
         {
          "clicks": 175,
          "ctr": 0.4691689008042895,
          "impressions": 373,
          "position": 1.8337801608579087
         },
         {
          "clicks": 173,
          "ctr": 0.12339514978601995,
          "impressions": 1402,
          "position": 3.4422253922967188
         },
         {
          "clicks": 173,
          "ctr": 0.5242424242424243,
          "impressions": 330,
          "position": 2.2212121212121207
         },
         {
          "clicks": 172,
          "ctr": 0.05984690327070285,
          "impressions": 2874,
          "position": 7.413013221990258
         },
         {
          "clicks": 172,
          "ctr": 0.2536873156342183,
          "impressions": 678,
          "position": 1.0132743362831858
         },
         {
          "clicks": 171,
          "ctr": 0.006725928256765261,
          "impressions": 25424,
          "position": 9.615245437381999
         },
         {
          "clicks": 171,
          "ctr": 0.4150485436893204,
          "impressions": 412,
          "position": 1.3762135922330097
         },
         {
          "clicks": 170,
          "ctr": 0.00996483001172333,
          "impressions": 17060,
          "position": 9.09337631887456
         },
         {
          "clicks": 170,
          "ctr": 0.0206511175898931,
          "impressions": 8232,
          "position": 5.62184159378037
         },
         {
          "clicks": 169,
          "ctr": 0.8492462311557789,
          "impressions": 199,
          "position": 1
         },
         {
          "clicks": 169,
          "ctr": 0.04409079050352205,
          "impressions": 3833,
          "position": 3.9639968692929823
         },
         {
          "clicks": 168,
          "ctr": 0.9081081081081082,
          "impressions": 185,
          "position": 1
         },
         {
          "clicks": 168,
          "ctr": 0.4732394366197183,
          "impressions": 355,
          "position": 2.36056338028169
         },
         {
          "clicks": 168,
          "ctr": 0.5813148788927336,
          "impressions": 289,
          "position": 1.4325259515570934
         },
         {
          "clicks": 167,
          "ctr": 0.8789473684210526,
          "impressions": 190,
          "position": 1
         },
         {
          "clicks": 167,
          "ctr": 0.3591397849462365,
          "impressions": 465,
          "position": 1.5806451612903225
         },
         {
          "clicks": 166,
          "ctr": 0.4345549738219896,
          "impressions": 382,
          "position": 2.1073298429319367
         },
         {
          "clicks": 166,
          "ctr": 0.007799652304656298,
          "impressions": 21283,
          "position": 6.355588967720716
         },
         {
          "clicks": 165,
          "ctr": 0.3160919540229885,
          "impressions": 522,
          "position": 2.220306513409961
         },
         {
          "clicks": 165,
          "ctr": 0.06674757281553398,
          "impressions": 2472,
          "position": 4.6213592233009715
         },
         {
          "clicks": 165,
          "ctr": 0.004789411047574816,
          "impressions": 34451,
          "position": 8.319206989637456
         },
         {
          "clicks": 165,
          "ctr": 0.00216438859301624,
          "impressions": 76234,
          "position": 9.3074481202613
         },
         {
          "clicks": 164,
          "ctr": 0.3858823529411765,
          "impressions": 425,
          "position": 1.6894117647058824
         },
         {
          "clicks": 164,
          "ctr": 0.4767441860465117,
          "impressions": 344,
          "position": 2.828488372093023
         },
         {
          "clicks": 164,
          "ctr": 0.02164445031014913,
          "impressions": 7577,
          "position": 5.962386168668338
         },
         {
          "clicks": 163,
          "ctr": 0.5582191780821918,
          "impressions": 292,
          "position": 1.5513698630136985
         },
         {
          "clicks": 161,
          "ctr": 0.7488372093023256,
          "impressions": 215,
          "position": 2.3488372093023253
         },
         {
          "clicks": 161,
          "ctr": 0.007969507969507971,
          "impressions": 20202,
          "position": 6.452529452529451
         },
         {
          "clicks": 160,
          "ctr": 0.07901234567901234,
          "impressions": 2025,
          "position": 5.9995061728395065
         },
         {
          "clicks": 159,
          "ctr": 0.940828402366864,
          "impressions": 169,
          "position": 1.017751479289941
         },
         {
          "clicks": 159,
          "ctr": 0.07378190255220418,
          "impressions": 2155,
          "position": 4.4153132250580045
         },
         {
          "clicks": 159,
          "ctr": 0.5145631067961165,
          "impressions": 309,
          "position": 1.6990291262135924
         },
         {
          "clicks": 159,
          "ctr": 0.3916256157635468,
          "impressions": 406,
          "position": 1.91871921182266
         },
         {
          "clicks": 158,
          "ctr": 0.2867513611615245,
          "impressions": 551,
          "position": 3.8620689655172415
         },
         {
          "clicks": 157,
          "ctr": 0.04373259052924791,
          "impressions": 3590,
          "position": 2.402228412256268
         },
         {
          "clicks": 157,
          "ctr": 0.31781376518218624,
          "impressions": 494,
          "position": 1.508097165991903
         },
         {
          "clicks": 156,
          "ctr": 0.037311647931116965,
          "impressions": 4181,
          "position": 2.3343697679980866
         },
         {
          "clicks": 156,
          "ctr": 0.3880597014925373,
          "impressions": 402,
          "position": 2.8980099502487566
         },
         {
          "clicks": 156,
          "ctr": 0.3553530751708428,
          "impressions": 439,
          "position": 3.277904328018223
         },
         {
          "clicks": 156,
          "ctr": 0.0325678496868476,
          "impressions": 4790,
          "position": 3.64321503131524
         },
         {
          "clicks": 156,
          "ctr": 0.04060385216033316,
          "impressions": 3842,
          "position": 7.195471108797501
         },
         {
          "clicks": 156,
          "ctr": 0.13220338983050847,
          "impressions": 1180,
          "position": 3.6915254237288138
         },
         {
          "clicks": 155,
          "ctr": 0.2080536912751678,
          "impressions": 745,
          "position": 4.573154362416108
         },
         {
          "clicks": 155,
          "ctr": 0.10580204778156996,
          "impressions": 1465,
          "position": 3.95358361774744
         },
         {
          "clicks": 154,
          "ctr": 0.005258844420161181,
          "impressions": 29284,
          "position": 7.588922278377272
         },
         {
          "clicks": 154,
          "ctr": 0.3384615384615385,
          "impressions": 455,
          "position": 2.221978021978022
         },
         {
          "clicks": 154,
          "ctr": 0.1068702290076336,
          "impressions": 1441,
          "position": 5.163775156141568
         },
         {
          "clicks": 154,
          "ctr": 0.5724907063197026,
          "impressions": 269,
          "position": 1.0408921933085502
         },
         {
          "clicks": 154,
          "ctr": 0.1097647897362794,
          "impressions": 1403,
          "position": 4.398431931575196
         },
         {
          "clicks": 153,
          "ctr": 0.08181818181818183,
          "impressions": 1870,
          "position": 5.0973262032085564
         },
         {
          "clicks": 150,
          "ctr": 0.8823529411764706,
          "impressions": 170,
          "position": 1.1941176470588235
         },
         {
          "clicks": 149,
          "ctr": 0.004642467674092539,
          "impressions": 32095,
          "position": 1.0032403801215142
         },
         {
          "clicks": 149,
          "ctr": 0.061417971970321526,
          "impressions": 2426,
          "position": 4.775762572135203
         },
         {
          "clicks": 149,
          "ctr": 0.009144470357186695,
          "impressions": 16294,
          "position": 6.407880201301093
         },
         {
          "clicks": 149,
          "ctr": 0.04531630170316302,
          "impressions": 3288,
          "position": 4.016423357664234
         },
         {
          "clicks": 148,
          "ctr": 0.4457831325301205,
          "impressions": 332,
          "position": 1.3072289156626506
         },
         {
          "clicks": 147,
          "ctr": 0.8909090909090909,
          "impressions": 165,
          "position": 1.0060606060606059
         },
         {
          "clicks": 147,
          "ctr": 0.027338664682908687,
          "impressions": 5377,
          "position": 5.907011344615957
         },
         {
          "clicks": 146,
          "ctr": 0.19235836627140976,
          "impressions": 759,
          "position": 5.4229249011857705
         },
         {
          "clicks": 146,
          "ctr": 0.016189842537147926,
          "impressions": 9018,
          "position": 4.046019072965181
         },
         {
          "clicks": 144,
          "ctr": 0.602510460251046,
          "impressions": 239,
          "position": 1.2426778242677825
         },
         {
          "clicks": 142,
          "ctr": 0.11668036154478224,
          "impressions": 1217,
          "position": 3.1758422350041084
         },
         {
          "clicks": 142,
          "ctr": 0.006156247290384114,
          "impressions": 23066,
          "position": 8.371846007110031
         },
         {
          "clicks": 141,
          "ctr": 0.0011318028576015411,
          "impressions": 124580,
          "position": 9.691258628993419
         },
         {
          "clicks": 141,
          "ctr": 0.026115947397666237,
          "impressions": 5399,
          "position": 5.3208001481755876
         },
         {
          "clicks": 141,
          "ctr": 0.11662531017369727,
          "impressions": 1209,
          "position": 3.832092638544252
         },
         {
          "clicks": 141,
          "ctr": 0.17300613496932515,
          "impressions": 815,
          "position": 1.8098159509202452
         },
         {
          "clicks": 140,
          "ctr": 0.0516414607156031,
          "impressions": 2711,
          "position": 6.0335669494651425
         },
         {
          "clicks": 140,
          "ctr": 0.249554367201426,
          "impressions": 561,
          "position": 2.975044563279857
         },
         {
          "clicks": 139,
          "ctr": 0.7988505747126436,
          "impressions": 174,
          "position": 1.132183908045977
         },
         {
          "clicks": 139,
          "ctr": 0.9391891891891893,
          "impressions": 148,
          "position": 1
         },
         {
          "clicks": 139,
          "ctr": 0.027174975562072337,
          "impressions": 5115,
          "position": 4.345650048875855
         },
         {
          "clicks": 138,
          "ctr": 0.6330275229357798,
          "impressions": 218,
          "position": 1.68348623853211
         },
         {
          "clicks": 137,
          "ctr": 0.3682795698924731,
          "impressions": 372,
          "position": 1.9408602150537635
         },
         {
          "clicks": 137,
          "ctr": 0.1721105527638191,
          "impressions": 796,
          "position": 3.5841708542713566
         },
         {
          "clicks": 137,
          "ctr": 0.049156799425905985,
          "impressions": 2787,
          "position": 2.5016146393972014
         },
         {
          "clicks": 136,
          "ctr": 0.5811965811965812,
          "impressions": 234,
          "position": 1.0128205128205128
         },
         {
          "clicks": 136,
          "ctr": 0.4822695035460993,
          "impressions": 282,
          "position": 1.574468085106383
         },
         {
          "clicks": 136,
          "ctr": 0.7010309278350515,
          "impressions": 194,
          "position": 1.0412371134020622
         },
         {
          "clicks": 136,
          "ctr": 0.5551020408163265,
          "impressions": 245,
          "position": 1.9183673469387756
         },
         {
          "clicks": 136,
          "ctr": 0.056384742951907124,
          "impressions": 2412,
          "position": 3.511608623548922
         },
         {
          "clicks": 135,
          "ctr": 0.3543307086614173,
          "impressions": 381,
          "position": 2.4514435695538057
         },
         {
          "clicks": 135,
          "ctr": 0.3221957040572792,
          "impressions": 419,
          "position": 2.7875894988066827
         },
         {
          "clicks": 135,
          "ctr": 0.4485049833887043,
          "impressions": 301,
          "position": 1.0066445182724253
         },
         {
          "clicks": 134,
          "ctr": 0.4768683274021353,
          "impressions": 281,
          "position": 2.245551601423488
         },
         {
          "clicks": 134,
          "ctr": 0.1572769953051643,
          "impressions": 852,
          "position": 4.399061032863849
         },
         {
          "clicks": 134,
          "ctr": 0.5877192982456141,
          "impressions": 228,
          "position": 1.1535087719298245
         },
         {
          "clicks": 134,
          "ctr": 0.006736037802241994,
          "impressions": 19893,
          "position": 9.355652742170612
         },
         {
          "clicks": 134,
          "ctr": 0.057191634656423386,
          "impressions": 2343,
          "position": 5.66880068288519
         },
         {
          "clicks": 134,
          "ctr": 0.02558716822608364,
          "impressions": 5237,
          "position": 8.455604353637579
         },
         {
          "clicks": 134,
          "ctr": 0.475177304964539,
          "impressions": 282,
          "position": 1.9361702127659572
         },
         {
          "clicks": 133,
          "ctr": 0.0497754491017964,
          "impressions": 2672,
          "position": 7.148203592814372
         },
         {
          "clicks": 133,
          "ctr": 0.18811881188118806,
          "impressions": 707,
          "position": 3.1188118811881185
         },
         {
          "clicks": 133,
          "ctr": 0.2427007299270073,
          "impressions": 548,
          "position": 3.5875912408759123
         },
         {
          "clicks": 133,
          "ctr": 0.26814516129032256,
          "impressions": 496,
          "position": 2.026209677419355
         },
         {
          "clicks": 132,
          "ctr": 0.12966601178781925,
          "impressions": 1018,
          "position": 6.240667976424361
         },
         {
          "clicks": 131,
          "ctr": 0.0861842105263158,
          "impressions": 1520,
          "position": 6.010526315789473
         },
         {
          "clicks": 131,
          "ctr": 0.6064814814814815,
          "impressions": 216,
          "position": 1.425925925925926
         },
         {
          "clicks": 131,
          "ctr": 0.05125195618153365,
          "impressions": 2556,
          "position": 3.536776212832551
         },
         {
          "clicks": 130,
          "ctr": 0.08977900552486189,
          "impressions": 1448,
          "position": 4.794198895027624
         },
         {
          "clicks": 129,
          "ctr": 0.3146341463414634,
          "impressions": 410,
          "position": 1.148780487804878
         },
         {
          "clicks": 129,
          "ctr": 0.01319693094629156,
          "impressions": 9775,
          "position": 1.1025063938618926
         },
         {
          "clicks": 129,
          "ctr": 0.7818181818181819,
          "impressions": 165,
          "position": 1
         },
         {
          "clicks": 129,
          "ctr": 0.003872478386167147,
          "impressions": 33312,
          "position": 4.575138088376561
         },
         {
          "clicks": 129,
          "ctr": 0.004365925474667479,
          "impressions": 29547,
          "position": 2.152367414627543
         },
         {
          "clicks": 128,
          "ctr": 0.64,
          "impressions": 200,
          "position": 1.8
         },
         {
          "clicks": 128,
          "ctr": 0.03173816017852715,
          "impressions": 4033,
          "position": 5.246962558889164
         },
         {
          "clicks": 128,
          "ctr": 0.2949308755760369,
          "impressions": 434,
          "position": 3.9539170506912433
         },
         {
          "clicks": 128,
          "ctr": 0.07678464307138573,
          "impressions": 1667,
          "position": 5.58248350329934
         },
         {
          "clicks": 127,
          "ctr": 0.3702623906705539,
          "impressions": 343,
          "position": 1.1895043731778423
         },
         {
          "clicks": 126,
          "ctr": 0.875,
          "impressions": 144,
          "position": 1
         },
         {
          "clicks": 126,
          "ctr": 0.2641509433962264,
          "impressions": 477,
          "position": 2.5450733752620547
         },
         {
          "clicks": 126,
          "ctr": 0.04231027535258563,
          "impressions": 2978,
          "position": 7.171255876427133
         },
         {
          "clicks": 126,
          "ctr": 0.6702127659574468,
          "impressions": 188,
          "position": 1.904255319148936
         },
         {
          "clicks": 126,
          "ctr": 0.12268743914313535,
          "impressions": 1027,
          "position": 3.8412852969815
         },
         {
          "clicks": 125,
          "ctr": 0.016050333846944015,
          "impressions": 7788,
          "position": 7.220210580380073
         },
         {
          "clicks": 124,
          "ctr": 0.02298850574712644,
          "impressions": 5394,
          "position": 7.1357063403781975
         },
         {
          "clicks": 124,
          "ctr": 0.3987138263665595,
          "impressions": 311,
          "position": 2.279742765273312
         },
         {
          "clicks": 124,
          "ctr": 0.038449612403100776,
          "impressions": 3225,
          "position": 2.1516279069767443
         },
         {
          "clicks": 124,
          "ctr": 0.3155216284987277,
          "impressions": 393,
          "position": 2.7913486005089054
         },
         {
          "clicks": 124,
          "ctr": 0.492063492063492,
          "impressions": 252,
          "position": 1.6825396825396826
         },
         {
          "clicks": 123,
          "ctr": 0.12628336755646818,
          "impressions": 974,
          "position": 4.8644763860369595
         },
         {
          "clicks": 122,
          "ctr": 0.057984790874524725,
          "impressions": 2104,
          "position": 3.2309885931558937
         },
         {
          "clicks": 122,
          "ctr": 0.2230347349177331,
          "impressions": 547,
          "position": 4.435100548446068
         },
         {
          "clicks": 122,
          "ctr": 0.22344322344322345,
          "impressions": 546,
          "position": 2.9249084249084247
         },
         {
          "clicks": 122,
          "ctr": 0.02216167120799273,
          "impressions": 5505,
          "position": 7.026521344232516
         },
         {
          "clicks": 121,
          "ctr": 0.013186573670444636,
          "impressions": 9176,
          "position": 8.383391455972102
         },
         {
          "clicks": 121,
          "ctr": 0.08236895847515316,
          "impressions": 1469,
          "position": 3.578624914908101
         },
         {
          "clicks": 120,
          "ctr": 0.061318344404701075,
          "impressions": 1957,
          "position": 7.535002554931017
         },
         {
          "clicks": 120,
          "ctr": 0.5504587155963303,
          "impressions": 218,
          "position": 1.743119266055046
         },
         {
          "clicks": 120,
          "ctr": 0.055788005578800565,
          "impressions": 2151,
          "position": 1.0227801022780103
         },
         {
          "clicks": 120,
          "ctr": 0.29411764705882354,
          "impressions": 408,
          "position": 1.5049019607843137
         },
         {
          "clicks": 120,
          "ctr": 0.4240282685512368,
          "impressions": 283,
          "position": 1.8197879858657244
         },
         {
          "clicks": 119,
          "ctr": 0.019751037344398342,
          "impressions": 6025,
          "position": 8.578423236514523
         },
         {
          "clicks": 119,
          "ctr": 0.035554227666567066,
          "impressions": 3347,
          "position": 3.2811472960860466
         },
         {
          "clicks": 119,
          "ctr": 0.1800302571860817,
          "impressions": 661,
          "position": 2.9803328290468984
         },
         {
          "clicks": 119,
          "ctr": 0.38263665594855306,
          "impressions": 311,
          "position": 1.0739549839228295
         },
         {
          "clicks": 118,
          "ctr": 0.015170995114425304,
          "impressions": 7778,
          "position": 5.646181537670352
         },
         {
          "clicks": 118,
          "ctr": 0.450381679389313,
          "impressions": 262,
          "position": 1.7938931297709924
         },
         {
          "clicks": 118,
          "ctr": 0.19471947194719472,
          "impressions": 606,
          "position": 2.841584158415841
         },
         {
          "clicks": 117,
          "ctr": 0.052678973435389465,
          "impressions": 2221,
          "position": 2.3102206213417382
         },
         {
          "clicks": 117,
          "ctr": 0.4624505928853755,
          "impressions": 253,
          "position": 2.292490118577075
         },
         {
          "clicks": 117,
          "ctr": 0.04513888888888889,
          "impressions": 2592,
          "position": 6.967592592592593
         },
         {
          "clicks": 117,
          "ctr": 0.0972568578553616,
          "impressions": 1203,
          "position": 9.377389858686618
         },
         {
          "clicks": 117,
          "ctr": 0.508695652173913,
          "impressions": 230,
          "position": 1.8608695652173912
         },
         {
          "clicks": 116,
          "ctr": 0.04489164086687306,
          "impressions": 2584,
          "position": 2.0390866873065017
         },
         {
          "clicks": 116,
          "ctr": 0.16642754662840745,
          "impressions": 697,
          "position": 4.8048780487804885
         },
         {
          "clicks": 115,
          "ctr": 0.3709677419354839,
          "impressions": 310,
          "position": 2.2096774193548385
         },
         {
          "clicks": 115,
          "ctr": 0.015473627556512378,
          "impressions": 7432,
          "position": 5.997847147470398
         },
         {
          "clicks": 115,
          "ctr": 0.05079505300353357,
          "impressions": 2264,
          "position": 4.1660777385159005
         },
         {
          "clicks": 115,
          "ctr": 0.4771784232365146,
          "impressions": 241,
          "position": 1.1784232365145229
         },
         {
          "clicks": 115,
          "ctr": 0.06364139457664637,
          "impressions": 1807,
          "position": 7.944659656889873
         },
         {
          "clicks": 114,
          "ctr": 0.06563039723661486,
          "impressions": 1737,
          "position": 9.51986183074266
         },
         {
          "clicks": 114,
          "ctr": 0.7169811320754716,
          "impressions": 159,
          "position": 1.3584905660377358
         },
         {
          "clicks": 114,
          "ctr": 0.005783572624422911,
          "impressions": 19711,
          "position": 8.76657703820202
         },
         {
          "clicks": 114,
          "ctr": 0.18874172185430466,
          "impressions": 604,
          "position": 2.0364238410596025
         },
         {
          "clicks": 114,
          "ctr": 0.34545454545454546,
          "impressions": 330,
          "position": 3.463636363636364
         },
         {
          "clicks": 114,
          "ctr": 0.06138933764135704,
          "impressions": 1857,
          "position": 3.1141626278944536
         },
         {
          "clicks": 114,
          "ctr": 0.2446351931330472,
          "impressions": 466,
          "position": 4.521459227467812
         },
         {
          "clicks": 114,
          "ctr": 0.1884297520661157,
          "impressions": 605,
          "position": 3.1983471074380163
         },
         {
          "clicks": 114,
          "ctr": 0.049159120310478664,
          "impressions": 2319,
          "position": 5.348857266062958
         },
         {
          "clicks": 114,
          "ctr": 0.03611023123218245,
          "impressions": 3157,
          "position": 8.302502375673107
         },
         {
          "clicks": 113,
          "ctr": 0.8897637795275591,
          "impressions": 127,
          "position": 1.1181102362204725
         },
         {
          "clicks": 113,
          "ctr": 0.1006233303650935,
          "impressions": 1123,
          "position": 1.9510240427426535
         },
         {
          "clicks": 113,
          "ctr": 0.019758699073264555,
          "impressions": 5719,
          "position": 6.893512851897185
         },
         {
          "clicks": 113,
          "ctr": 0.11154985192497532,
          "impressions": 1013,
          "position": 4.0414610069101675
         },
         {
          "clicks": 112,
          "ctr": 0.12829324169530354,
          "impressions": 873,
          "position": 1.009163802978236
         },
         {
          "clicks": 112,
          "ctr": 0.10676835081029552,
          "impressions": 1049,
          "position": 1.51954242135367
         },
         {
          "clicks": 112,
          "ctr": 0.41791044776119396,
          "impressions": 268,
          "position": 1.7089552238805972
         },
         {
          "clicks": 112,
          "ctr": 0.42911877394636017,
          "impressions": 261,
          "position": 5.237547892720307
         },
         {
          "clicks": 111,
          "ctr": 0.5285714285714286,
          "impressions": 210,
          "position": 2.9571428571428573
         },
         {
          "clicks": 111,
          "ctr": 0.0967741935483871,
          "impressions": 1147,
          "position": 4.8343504795117695
         },
         {
          "clicks": 111,
          "ctr": 0.007453165916873699,
          "impressions": 14893,
          "position": 9.863157187940644
         },
         {
          "clicks": 110,
          "ctr": 0.44,
          "impressions": 250,
          "position": 2.468
         },
         {
          "clicks": 110,
          "ctr": 0.4198473282442748,
          "impressions": 262,
          "position": 2.65267175572519
         },
         {
          "clicks": 110,
          "ctr": 0.03685092127303183,
          "impressions": 2985,
          "position": 1.4676716917922947
         },
         {
          "clicks": 110,
          "ctr": 0.15873015873015872,
          "impressions": 693,
          "position": 2.923520923520924
         },
         {
          "clicks": 109,
          "ctr": 0.036601746138347886,
          "impressions": 2978,
          "position": 2.4395567494963064
         },
         {
          "clicks": 109,
          "ctr": 0.6089385474860335,
          "impressions": 179,
          "position": 2.044692737430168
         },
         {
          "clicks": 109,
          "ctr": 0.3011049723756906,
          "impressions": 362,
          "position": 1.5883977900552486
         },
         {
          "clicks": 108,
          "ctr": 0.8709677419354839,
          "impressions": 124,
          "position": 1.0806451612903225
         },
         {
          "clicks": 108,
          "ctr": 0.4426229508196721,
          "impressions": 244,
          "position": 1.5081967213114753
         },
         {
          "clicks": 108,
          "ctr": 0.4595744680851064,
          "impressions": 235,
          "position": 2.6553191489361705
         },
         {
          "clicks": 108,
          "ctr": 0.54,
          "impressions": 200,
          "position": 1.445
         },
         {
          "clicks": 108,
          "ctr": 0.19014084507042253,
          "impressions": 568,
          "position": 3.125
         },
         {
          "clicks": 108,
          "ctr": 0.45,
          "impressions": 240,
          "position": 2.425
         },
         {
          "clicks": 108,
          "ctr": 0.11088295687885012,
          "impressions": 974,
          "position": 5.197125256673512
         },
         {
          "clicks": 108,
          "ctr": 0.003245679939894816,
          "impressions": 33275,
          "position": 1.999038317054846
         },
         {
          "clicks": 107,
          "ctr": 0.3977695167286245,
          "impressions": 269,
          "position": 2.2304832713754648
         },
         {
          "clicks": 107,
          "ctr": 0.01980014803849001,
          "impressions": 5404,
          "position": 7.043671354552183
         },
         {
          "clicks": 106,
          "ctr": 0.7969924812030075,
          "impressions": 133,
          "position": 1.5939849624060152
         },
         {
          "clicks": 106,
          "ctr": 0.03704998252359315,
          "impressions": 2861,
          "position": 6.369451240824887
         },
         {
          "clicks": 106,
          "ctr": 0.3192771084337349,
          "impressions": 332,
          "position": 3.9246987951807233
         },
         {
          "clicks": 106,
          "ctr": 0.3063583815028902,
          "impressions": 346,
          "position": 1.3583815028901731
         },
         {
          "clicks": 106,
          "ctr": 0.3693379790940767,
          "impressions": 287,
          "position": 2.7909407665505226
         },
         {
          "clicks": 106,
          "ctr": 0.3202416918429003,
          "impressions": 331,
          "position": 2.9063444108761334
         },
         {
          "clicks": 105,
          "ctr": 0.21875,
          "impressions": 480,
          "position": 3.38125
         },
         {
          "clicks": 105,
          "ctr": 0.03754022166607079,
          "impressions": 2797,
          "position": 3.5698963174830176
         },
         {
          "clicks": 105,
          "ctr": 0.18197573656845756,
          "impressions": 577,
          "position": 2.8890814558058926
         },
         {
          "clicks": 103,
          "ctr": 0.29178470254957506,
          "impressions": 353,
          "position": 2.951841359773371
         },
         {
          "clicks": 103,
          "ctr": 0.4007782101167315,
          "impressions": 257,
          "position": 2.6536964980544746
         },
         {
          "clicks": 103,
          "ctr": 0.1418732782369146,
          "impressions": 726,
          "position": 3.475206611570248
         },
         {
          "clicks": 103,
          "ctr": 0.4904761904761905,
          "impressions": 210,
          "position": 6.033333333333332
         },
         {
          "clicks": 103,
          "ctr": 0.02636293831584336,
          "impressions": 3907,
          "position": 3.6398771435884307
         },
         {
          "clicks": 103,
          "ctr": 0.4186991869918699,
          "impressions": 246,
          "position": 2.6463414634146343
         },
         {
          "clicks": 103,
          "ctr": 0.23732718894009214,
          "impressions": 434,
          "position": 2.9447004608294933
         },
         {
          "clicks": 102,
          "ctr": 0.4615384615384616,
          "impressions": 221,
          "position": 1.972850678733032
         },
         {
          "clicks": 102,
          "ctr": 0.08777969018932874,
          "impressions": 1162,
          "position": 5.5129087779690185
         },
         {
          "clicks": 102,
          "ctr": 0.2440191387559809,
          "impressions": 418,
          "position": 2.1650717703349285
         },
         {
          "clicks": 102,
          "ctr": 0.01606046291922532,
          "impressions": 6351,
          "position": 7.620059833097151
         },
         {
          "clicks": 102,
          "ctr": 0.3063063063063063,
          "impressions": 333,
          "position": 3.3213213213213213
         },
         {
          "clicks": 102,
          "ctr": 0.4377682403433477,
          "impressions": 233,
          "position": 2.133047210300429
         },
         {
          "clicks": 102,
          "ctr": 0.020656136087484813,
          "impressions": 4938,
          "position": 4.947144592952613
         },
         {
          "clicks": 101,
          "ctr": 0.060226595110316035,
          "impressions": 1677,
          "position": 2.75968992248062
         },
         {
          "clicks": 101,
          "ctr": 0.09148550724637683,
          "impressions": 1104,
          "position": 4.898550724637682
         },
         {
          "clicks": 101,
          "ctr": 0.03749072011878248,
          "impressions": 2694,
          "position": 7.223088344469191
         },
         {
          "clicks": 101,
          "ctr": 0.4122448979591837,
          "impressions": 245,
          "position": 1.6367346938775509
         },
         {
          "clicks": 101,
          "ctr": 0.28450704225352114,
          "impressions": 355,
          "position": 3.4985915492957744
         },
         {
          "clicks": 100,
          "ctr": 0.2331002331002331,
          "impressions": 429,
          "position": 4.627039627039627
         },
         {
          "clicks": 100,
          "ctr": 0.04775549188156638,
          "impressions": 2094,
          "position": 8.792263610315185
         },
         {
          "clicks": 100,
          "ctr": 0.11013215859030837,
          "impressions": 908,
          "position": 4.438325991189426
         },
         {
          "clicks": 100,
          "ctr": 0.04688232536333802,
          "impressions": 2133,
          "position": 2.191279887482419
         },
         {
          "clicks": 100,
          "ctr": 0.0449438202247191,
          "impressions": 2225,
          "position": 6.326741573033707
         },
         {
          "clicks": 99,
          "ctr": 0.14864864864864866,
          "impressions": 666,
          "position": 4.127627627627628
         },
         {
          "clicks": 99,
          "ctr": 0.1430635838150289,
          "impressions": 692,
          "position": 5.15606936416185
         },
         {
          "clicks": 99,
          "ctr": 0.3694029850746269,
          "impressions": 268,
          "position": 3.899253731343284
         },
         {
          "clicks": 99,
          "ctr": 0.1542056074766355,
          "impressions": 642,
          "position": 2.451713395638629
         },
         {
          "clicks": 99,
          "ctr": 0.10227272727272728,
          "impressions": 968,
          "position": 6.8698347107438025
         },
         {
          "clicks": 97,
          "ctr": 0.9065420560747663,
          "impressions": 107,
          "position": 1
         },
         {
          "clicks": 97,
          "ctr": 0.13179347826086954,
          "impressions": 736,
          "position": 5.380434782608695
         },
         {
          "clicks": 97,
          "ctr": 0.04186447993094519,
          "impressions": 2317,
          "position": 1.5321536469572723
         },
         {
          "clicks": 97,
          "ctr": 0.2747875354107649,
          "impressions": 353,
          "position": 3.5155807365439093
         },
         {
          "clicks": 97,
          "ctr": 0.38645418326693226,
          "impressions": 251,
          "position": 1.6733067729083664
         },
         {
          "clicks": 97,
          "ctr": 0.06501340482573728,
          "impressions": 1492,
          "position": 1.8739946380697048
         },
         {
          "clicks": 96,
          "ctr": 0.8421052631578947,
          "impressions": 114,
          "position": 1
         },
         {
          "clicks": 96,
          "ctr": 0.035437430786267994,
          "impressions": 2709,
          "position": 1.7914359542266518
         },
         {
          "clicks": 96,
          "ctr": 0.6808510638297872,
          "impressions": 141,
          "position": 2.0212765957446805
         },
         {
          "clicks": 96,
          "ctr": 0.3764705882352941,
          "impressions": 255,
          "position": 1.3411764705882354
         },
         {
          "clicks": 96,
          "ctr": 0.2546419098143236,
          "impressions": 377,
          "position": 1.9204244031830242
         },
         {
          "clicks": 96,
          "ctr": 0.4383561643835616,
          "impressions": 219,
          "position": 1.1004566210045663
         },
         {
          "clicks": 95,
          "ctr": 0.2996845425867508,
          "impressions": 317,
          "position": 2.100946372239748
         },
         {
          "clicks": 95,
          "ctr": 0.42035398230088494,
          "impressions": 226,
          "position": 1.5265486725663715
         },
         {
          "clicks": 95,
          "ctr": 0.8715596330275229,
          "impressions": 109,
          "position": 1
         },
         {
          "clicks": 95,
          "ctr": 0.5864197530864198,
          "impressions": 162,
          "position": 2.3271604938271606
         },
         {
          "clicks": 94,
          "ctr": 0.0817391304347826,
          "impressions": 1150,
          "position": 7.2608695652173925
         },
         {
          "clicks": 94,
          "ctr": 0.04307974335472044,
          "impressions": 2182,
          "position": 3.449587534372136
         },
         {
          "clicks": 94,
          "ctr": 0.6266666666666667,
          "impressions": 150,
          "position": 1.92
         },
         {
          "clicks": 94,
          "ctr": 0.5433526011560693,
          "impressions": 173,
          "position": 2.1502890173410405
         },
         {
          "clicks": 94,
          "ctr": 0.4895833333333333,
          "impressions": 192,
          "position": 1.34375
         },
         {
          "clicks": 93,
          "ctr": 0.25271739130434784,
          "impressions": 368,
          "position": 2.891304347826087
         },
         {
          "clicks": 93,
          "ctr": 0.11938382541720155,
          "impressions": 779,
          "position": 2.920410783055199
         },
         {
          "clicks": 93,
          "ctr": 0.07795473595976529,
          "impressions": 1193,
          "position": 3.0838222967309306
         },
         {
          "clicks": 93,
          "ctr": 0.5375722543352601,
          "impressions": 173,
          "position": 1.0751445086705202
         },
         {
          "clicks": 93,
          "ctr": 0.19456066945606693,
          "impressions": 478,
          "position": 2.696652719665272
         },
         {
          "clicks": 93,
          "ctr": 0.203056768558952,
          "impressions": 458,
          "position": 4.207423580786026
         },
         {
          "clicks": 93,
          "ctr": 0.12722298221614228,
          "impressions": 731,
          "position": 3.2845417236662113
         },
         {
          "clicks": 92,
          "ctr": 0.03691813804173355,
          "impressions": 2492,
          "position": 2.2780898876404496
         },
         {
          "clicks": 92,
          "ctr": 0.2266009852216749,
          "impressions": 406,
          "position": 3.5394088669950734
         },
         {
          "clicks": 92,
          "ctr": 0.4816753926701571,
          "impressions": 191,
          "position": 1.3612565445026177
         },
         {
          "clicks": 92,
          "ctr": 0.5476190476190477,
          "impressions": 168,
          "position": 1.0654761904761905
         },
         {
          "clicks": 91,
          "ctr": 0.245945945945946,
          "impressions": 370,
          "position": 2.6972972972972973
         },
         {
          "clicks": 91,
          "ctr": 0.7459016393442623,
          "impressions": 122,
          "position": 1.0163934426229508
         },
         {
          "clicks": 91,
          "ctr": 0.007630387388898206,
          "impressions": 11926,
          "position": 8.552658058024484
         },
         {
          "clicks": 91,
          "ctr": 0.2724550898203593,
          "impressions": 334,
          "position": 2.2005988023952097
         },
         {
          "clicks": 91,
          "ctr": 0.2964169381107492,
          "impressions": 307,
          "position": 2.283387622149837
         },
         {
          "clicks": 91,
          "ctr": 0.2898089171974522,
          "impressions": 314,
          "position": 2.4203821656050954
         },
         {
          "clicks": 90,
          "ctr": 0.015154066341134871,
          "impressions": 5939,
          "position": 7.418252231015322
         },
         {
          "clicks": 90,
          "ctr": 0.8256880733944955,
          "impressions": 109,
          "position": 1.688073394495413
         },
         {
          "clicks": 90,
          "ctr": 0.0616860863605209,
          "impressions": 1459,
          "position": 7.453050034270048
         },
         {
          "clicks": 90,
          "ctr": 0.03907946157186279,
          "impressions": 2303,
          "position": 4.959617889709075
         },
         {
          "clicks": 89,
          "ctr": 0.014462138446538838,
          "impressions": 6154,
          "position": 9.967175820604485
         },
         {
          "clicks": 89,
          "ctr": 0.24383561643835616,
          "impressions": 365,
          "position": 3.202739726027397
         },
         {
          "clicks": 89,
          "ctr": 0.3836206896551724,
          "impressions": 232,
          "position": 1.5689655172413794
         },
         {
          "clicks": 89,
          "ctr": 0.7542372881355932,
          "impressions": 118,
          "position": 1
         },
         {
          "clicks": 89,
          "ctr": 0.038763066202090586,
          "impressions": 2296,
          "position": 5.9033101045296155
         },
         {
          "clicks": 88,
          "ctr": 0.04317958783120707,
          "impressions": 2038,
          "position": 6.574092247301277
         },
         {
          "clicks": 88,
          "ctr": 0.22448979591836732,
          "impressions": 392,
          "position": 4.566326530612245
         },
         {
          "clicks": 88,
          "ctr": 0.4170616113744076,
          "impressions": 211,
          "position": 1.5213270142180095
         },
         {
          "clicks": 88,
          "ctr": 0.5827814569536424,
          "impressions": 151,
          "position": 1.5629139072847682
         },
         {
          "clicks": 88,
          "ctr": 0.3928571428571429,
          "impressions": 224,
          "position": 1.8660714285714288
         },
         {
          "clicks": 88,
          "ctr": 0.056482670089858786,
          "impressions": 1558,
          "position": 5.953145057766367
         },
         {
          "clicks": 88,
          "ctr": 0.002978305750160761,
          "impressions": 29547,
          "position": 2.1524689477781163
         },
         {
          "clicks": 87,
          "ctr": 0.08317399617590822,
          "impressions": 1046,
          "position": 1.3202676864244742
         },
         {
          "clicks": 87,
          "ctr": 0.15992647058823528,
          "impressions": 544,
          "position": 4.851102941176472
         },
         {
          "clicks": 87,
          "ctr": 0.1403225806451613,
          "impressions": 620,
          "position": 5.101612903225806
         },
         {
          "clicks": 87,
          "ctr": 0.016319639842431063,
          "impressions": 5331,
          "position": 7.635528043519041
         },
         {
          "clicks": 87,
          "ctr": 0.5918367346938775,
          "impressions": 147,
          "position": 1.4693877551020411
         },
         {
          "clicks": 87,
          "ctr": 0.0954994511525796,
          "impressions": 911,
          "position": 5.200878155872667
         },
         {
          "clicks": 86,
          "ctr": 0.06957928802588997,
          "impressions": 1236,
          "position": 5.765372168284791
         },
         {
          "clicks": 86,
          "ctr": 0.4095238095238095,
          "impressions": 210,
          "position": 3.509523809523809
         },
         {
          "clicks": 86,
          "ctr": 0.4526315789473685,
          "impressions": 190,
          "position": 2.268421052631579
         },
         {
          "clicks": 86,
          "ctr": 0.0020607687146554205,
          "impressions": 41732,
          "position": 9.363054730183071
         },
         {
          "clicks": 86,
          "ctr": 0.025679307255897284,
          "impressions": 3349,
          "position": 6.568826515377724
         },
         {
          "clicks": 86,
          "ctr": 0.2182741116751269,
          "impressions": 394,
          "position": 3.172588832487309
         },
         {
          "clicks": 85,
          "ctr": 0.6589147286821705,
          "impressions": 129,
          "position": 1.2248062015503876
         },
         {
          "clicks": 85,
          "ctr": 0.09004237288135593,
          "impressions": 944,
          "position": 3.233050847457627
         },
         {
          "clicks": 85,
          "ctr": 0.4941860465116279,
          "impressions": 172,
          "position": 1.0290697674418603
         },
         {
          "clicks": 85,
          "ctr": 0.1868131868131868,
          "impressions": 455,
          "position": 1.2483516483516484
         },
         {
          "clicks": 85,
          "ctr": 0.003416124105779278,
          "impressions": 24882,
          "position": 8.890362511052167
         },
         {
          "clicks": 85,
          "ctr": 0.5120481927710844,
          "impressions": 166,
          "position": 2.5120481927710845
         },
         {
          "clicks": 84,
          "ctr": 0.4827586206896552,
          "impressions": 174,
          "position": 1.3045977011494254
         },
         {
          "clicks": 84,
          "ctr": 0.20388349514563106,
          "impressions": 412,
          "position": 2.2888349514563107
         },
         {
          "clicks": 84,
          "ctr": 0.20947630922693267,
          "impressions": 401,
          "position": 2.5910224438902745
         },
         {
          "clicks": 84,
          "ctr": 0.13228346456692913,
          "impressions": 635,
          "position": 2.6283464566929133
         },
         {
          "clicks": 84,
          "ctr": 0.029957203994293864,
          "impressions": 2804,
          "position": 2.491440798858773
         },
         {
          "clicks": 84,
          "ctr": 0.3373493975903614,
          "impressions": 249,
          "position": 3.3694779116465865
         },
         {
          "clicks": 84,
          "ctr": 0.34567901234567894,
          "impressions": 243,
          "position": 4.378600823045268
         },
         {
          "clicks": 84,
          "ctr": 0.08936170212765958,
          "impressions": 940,
          "position": 4.36063829787234
         },
         {
          "clicks": 83,
          "ctr": 0.4585635359116022,
          "impressions": 181,
          "position": 1.4143646408839778
         },
         {
          "clicks": 83,
          "ctr": 0.15930902111324374,
          "impressions": 521,
          "position": 4.222648752399232
         },
         {
          "clicks": 83,
          "ctr": 0.03322658126501201,
          "impressions": 2498,
          "position": 7.82906325060048
         },
         {
          "clicks": 83,
          "ctr": 0.03341384863123994,
          "impressions": 2484,
          "position": 9.370772946859905
         },
         {
          "clicks": 83,
          "ctr": 0.4345549738219896,
          "impressions": 191,
          "position": 2.8743455497382198
         },
         {
          "clicks": 83,
          "ctr": 0.02147477360931436,
          "impressions": 3865,
          "position": 6.1754204398447605
         },
         {
          "clicks": 83,
          "ctr": 0.50920245398773,
          "impressions": 163,
          "position": 1.177914110429448
         },
         {
          "clicks": 82,
          "ctr": 0.04128902316213495,
          "impressions": 1986,
          "position": 7.2532729103726075
         },
         {
          "clicks": 82,
          "ctr": 0.4581005586592179,
          "impressions": 179,
          "position": 2.100558659217877
         },
         {
          "clicks": 82,
          "ctr": 0.5394736842105263,
          "impressions": 152,
          "position": 2.375
         },
         {
          "clicks": 82,
          "ctr": 0.7884615384615384,
          "impressions": 104,
          "position": 1.0865384615384617
         },
         {
          "clicks": 82,
          "ctr": 0.004904306220095694,
          "impressions": 16720,
          "position": 7.97188995215311
         },
         {
          "clicks": 81,
          "ctr": 0.07555970149253731,
          "impressions": 1072,
          "position": 6.755597014925373
         },
         {
          "clicks": 81,
          "ctr": 0.17016806722689076,
          "impressions": 476,
          "position": 2.7857142857142856
         },
         {
          "clicks": 81,
          "ctr": 0.4909090909090909,
          "impressions": 165,
          "position": 1.1333333333333333
         },
         {
          "clicks": 81,
          "ctr": 0.052941176470588235,
          "impressions": 1530,
          "position": 6.688235294117647
         },
         {
          "clicks": 81,
          "ctr": 0.15728155339805824,
          "impressions": 515,
          "position": 4.388349514563107
         },
         {
          "clicks": 81,
          "ctr": 0.4090909090909091,
          "impressions": 198,
          "position": 1.5353535353535357
         },
         {
          "clicks": 81,
          "ctr": 0.08059701492537312,
          "impressions": 1005,
          "position": 6.0756218905472625
         },
         {
          "clicks": 80,
          "ctr": 0.4166666666666667,
          "impressions": 192,
          "position": 2.130208333333333
         },
         {
          "clicks": 80,
          "ctr": 0.05843681519357195,
          "impressions": 1369,
          "position": 3.406135865595325
         },
         {
          "clicks": 80,
          "ctr": 0.03134796238244514,
          "impressions": 2552,
          "position": 6.329937304075235
         },
         {
          "clicks": 80,
          "ctr": 0.013809770412566893,
          "impressions": 5793,
          "position": 6.109960296910063
         },
         {
          "clicks": 80,
          "ctr": 0.0400200100050025,
          "impressions": 1999,
          "position": 3.165082541270636
         },
         {
          "clicks": 80,
          "ctr": 0.6896551724137931,
          "impressions": 116,
          "position": 1.2672413793103448
         },
         {
          "clicks": 80,
          "ctr": 0.4519774011299435,
          "impressions": 177,
          "position": 1.6779661016949152
         },
         {
          "clicks": 79,
          "ctr": 0.6694915254237288,
          "impressions": 118,
          "position": 1.889830508474576
         },
         {
          "clicks": 79,
          "ctr": 0.5197368421052632,
          "impressions": 152,
          "position": 1.5197368421052633
         },
         {
          "clicks": 79,
          "ctr": 0.37264150943396224,
          "impressions": 212,
          "position": 1.9339622641509435
         },
         {
          "clicks": 79,
          "ctr": 0.4072164948453608,
          "impressions": 194,
          "position": 2.2577319587628866
         },
         {
          "clicks": 79,
          "ctr": 0.7181818181818181,
          "impressions": 110,
          "position": 1.3090909090909093
         },
         {
          "clicks": 79,
          "ctr": 0.4702380952380952,
          "impressions": 168,
          "position": 1.6964285714285714
         },
         {
          "clicks": 79,
          "ctr": 0.3038461538461538,
          "impressions": 260,
          "position": 2.2076923076923083
         },
         {
          "clicks": 78,
          "ctr": 0.3107569721115538,
          "impressions": 251,
          "position": 2.3784860557768925
         },
         {
          "clicks": 78,
          "ctr": 0.2698961937716263,
          "impressions": 289,
          "position": 3.833910034602076
         },
         {
          "clicks": 78,
          "ctr": 0.05833956619296934,
          "impressions": 1337,
          "position": 3.219147344801795
         },
         {
          "clicks": 78,
          "ctr": 0.7090909090909091,
          "impressions": 110,
          "position": 1.7545454545454544
         },
         {
          "clicks": 78,
          "ctr": 0.34210526315789475,
          "impressions": 228,
          "position": 2.8070175438596485
         },
         {
          "clicks": 78,
          "ctr": 0.06621392190152801,
          "impressions": 1178,
          "position": 3.5611205432937183
         },
         {
          "clicks": 78,
          "ctr": 0.2921348314606741,
          "impressions": 267,
          "position": 4.535580524344568
         },
         {
          "clicks": 78,
          "ctr": 0.02667578659370725,
          "impressions": 2924,
          "position": 7.261969904240766
         },
         {
          "clicks": 78,
          "ctr": 0.6554621848739496,
          "impressions": 119,
          "position": 1.0672268907563025
         },
         {
          "clicks": 78,
          "ctr": 0.6610169491525424,
          "impressions": 118,
          "position": 1.1271186440677967
         },
         {
          "clicks": 78,
          "ctr": 0.5864661654135338,
          "impressions": 133,
          "position": 1.9473684210526316
         },
         {
          "clicks": 77,
          "ctr": 0.2972972972972973,
          "impressions": 259,
          "position": 2.0849420849420848
         },
         {
          "clicks": 77,
          "ctr": 0.4723926380368098,
          "impressions": 163,
          "position": 2.0674846625766867
         },
         {
          "clicks": 77,
          "ctr": 0.6936936936936937,
          "impressions": 111,
          "position": 1
         },
         {
          "clicks": 77,
          "ctr": 0.5833333333333334,
          "impressions": 132,
          "position": 2.25
         },
         {
          "clicks": 77,
          "ctr": 0.22318840579710145,
          "impressions": 345,
          "position": 2.8231884057971017
         },
         {
          "clicks": 77,
          "ctr": 0.4350282485875706,
          "impressions": 177,
          "position": 2.0112994350282483
         },
         {
          "clicks": 77,
          "ctr": 0.3392070484581498,
          "impressions": 227,
          "position": 2.8986784140969157
         },
         {
          "clicks": 76,
          "ctr": 0.15734989648033126,
          "impressions": 483,
          "position": 2.761904761904762
         },
         {
          "clicks": 76,
          "ctr": 0.2289156626506024,
          "impressions": 332,
          "position": 3.5030120481927716
         },
         {
          "clicks": 76,
          "ctr": 0.25675675675675674,
          "impressions": 296,
          "position": 2.47972972972973
         },
         {
          "clicks": 76,
          "ctr": 0.2794117647058824,
          "impressions": 272,
          "position": 2.3198529411764706
         },
         {
          "clicks": 76,
          "ctr": 0.28044280442804426,
          "impressions": 271,
          "position": 2.1439114391143907
         },
         {
          "clicks": 76,
          "ctr": 0.02520729684908789,
          "impressions": 3015,
          "position": 2.6361525704809288
         },
         {
          "clicks": 76,
          "ctr": 0.3958333333333333,
          "impressions": 192,
          "position": 2.046875
         },
         {
          "clicks": 76,
          "ctr": 0.12709030100334448,
          "impressions": 598,
          "position": 5.173913043478262
         },
         {
          "clicks": 75,
          "ctr": 0.6410256410256411,
          "impressions": 117,
          "position": 1
         },
         {
          "clicks": 75,
          "ctr": 0.5725190839694656,
          "impressions": 131,
          "position": 2.381679389312977
         },
         {
          "clicks": 75,
          "ctr": 0.3275109170305677,
          "impressions": 229,
          "position": 3.0087336244541483
         },
         {
          "clicks": 75,
          "ctr": 0.024933510638297872,
          "impressions": 3008,
          "position": 6.68218085106383
         },
         {
          "clicks": 75,
          "ctr": 0.6880733944954128,
          "impressions": 109,
          "position": 2.0458715596330275
         },
         {
          "clicks": 75,
          "ctr": 0.3926701570680629,
          "impressions": 191,
          "position": 1.9528795811518325
         },
         {
          "clicks": 75,
          "ctr": 0.6048387096774194,
          "impressions": 124,
          "position": 1.1048387096774193
         },
         {
          "clicks": 75,
          "ctr": 0.014869151467089609,
          "impressions": 5044,
          "position": 8.295202220459952
         },
         {
          "clicks": 74,
          "ctr": 0.4404761904761905,
          "impressions": 168,
          "position": 2.6845238095238093
         },
         {
          "clicks": 74,
          "ctr": 0.1143740340030912,
          "impressions": 647,
          "position": 4.938176197836167
         },
         {
          "clicks": 74,
          "ctr": 0.06554472984942426,
          "impressions": 1129,
          "position": 5.368467670504872
         },
         {
          "clicks": 74,
          "ctr": 0.3045267489711934,
          "impressions": 243,
          "position": 2.835390946502057
         },
         {
          "clicks": 74,
          "ctr": 0.2144927536231884,
          "impressions": 345,
          "position": 4.046376811594203
         },
         {
          "clicks": 74,
          "ctr": 0.20670391061452514,
          "impressions": 358,
          "position": 2.3072625698324023
         },
         {
          "clicks": 74,
          "ctr": 0.1295971978984238,
          "impressions": 571,
          "position": 3.882661996497373
         },
         {
          "clicks": 74,
          "ctr": 0.05863708399366085,
          "impressions": 1262,
          "position": 5.916006339144214
         },
         {
          "clicks": 74,
          "ctr": 0.4539877300613497,
          "impressions": 163,
          "position": 1.0368098159509205
         },
         {
          "clicks": 74,
          "ctr": 0.08249721293199554,
          "impressions": 897,
          "position": 3.018952062430323
         },
         {
          "clicks": 74,
          "ctr": 0.4683544303797468,
          "impressions": 158,
          "position": 2.088607594936709
         },
         {
          "clicks": 74,
          "ctr": 0.07283464566929132,
          "impressions": 1016,
          "position": 5.479330708661418
         },
         {
          "clicks": 73,
          "ctr": 0.553030303030303,
          "impressions": 132,
          "position": 1.7575757575757576
         },
         {
          "clicks": 73,
          "ctr": 0.15800865800865802,
          "impressions": 462,
          "position": 3.1666666666666665
         },
         {
          "clicks": 73,
          "ctr": 0.14512922465208747,
          "impressions": 503,
          "position": 2.137176938369781
         },
         {
          "clicks": 72,
          "ctr": 0.058919803600654665,
          "impressions": 1222,
          "position": 7.171031096563011
         },
         {
          "clicks": 72,
          "ctr": 0.048,
          "impressions": 1500,
          "position": 1.034
         },
         {
          "clicks": 72,
          "ctr": 0.040955631399317405,
          "impressions": 1758,
          "position": 6.950511945392491
         },
         {
          "clicks": 72,
          "ctr": 0.1565217391304348,
          "impressions": 460,
          "position": 3.343478260869565
         },
         {
          "clicks": 71,
          "ctr": 0.5298507462686567,
          "impressions": 134,
          "position": 2.992537313432836
         },
         {
          "clicks": 71,
          "ctr": 0.031415929203539826,
          "impressions": 2260,
          "position": 4.303097345132743
         },
         {
          "clicks": 71,
          "ctr": 0.14947368421052631,
          "impressions": 475,
          "position": 2.448421052631579
         },
         {
          "clicks": 71,
          "ctr": 0.003605708191559596,
          "impressions": 19691,
          "position": 8.17642577827434
         },
         {
          "clicks": 71,
          "ctr": 0.242320819112628,
          "impressions": 293,
          "position": 3.7679180887372015
         },
         {
          "clicks": 71,
          "ctr": 0.2022792022792023,
          "impressions": 351,
          "position": 2.712250712250712
         },
         {
          "clicks": 71,
          "ctr": 0.021443672606463304,
          "impressions": 3311,
          "position": 9.464512231954092
         },
         {
          "clicks": 71,
          "ctr": 0.4355828220858896,
          "impressions": 163,
          "position": 1.8650306748466257
         },
         {
          "clicks": 71,
          "ctr": 0.009844703272323905,
          "impressions": 7212,
          "position": 8.706045479755963
         },
         {
          "clicks": 71,
          "ctr": 0.29098360655737704,
          "impressions": 244,
          "position": 3.7745901639344255
         },
         {
          "clicks": 70,
          "ctr": 0.20895522388059698,
          "impressions": 335,
          "position": 4.438805970149255
         },
         {
          "clicks": 70,
          "ctr": 0.3125,
          "impressions": 224,
          "position": 2.821428571428571
         },
         {
          "clicks": 70,
          "ctr": 0.6422018348623854,
          "impressions": 109,
          "position": 1.256880733944954
         },
         {
          "clicks": 70,
          "ctr": 0.3867403314917127,
          "impressions": 181,
          "position": 2.3093922651933703
         },
         {
          "clicks": 69,
          "ctr": 0.3538461538461539,
          "impressions": 195,
          "position": 2.2974358974358973
         },
         {
          "clicks": 69,
          "ctr": 0.5897435897435898,
          "impressions": 117,
          "position": 1.3846153846153846
         },
         {
          "clicks": 69,
          "ctr": 0.6634615384615384,
          "impressions": 104,
          "position": 1.4807692307692308
         },
         {
          "clicks": 69,
          "ctr": 0.06301369863013699,
          "impressions": 1095,
          "position": 6.625570776255708
         },
         {
          "clicks": 69,
          "ctr": 0.013287117273252456,
          "impressions": 5193,
          "position": 9.058732909686118
         },
         {
          "clicks": 69,
          "ctr": 0.4693877551020408,
          "impressions": 147,
          "position": 3.952380952380953
         },
         {
          "clicks": 69,
          "ctr": 0.21835443037974686,
          "impressions": 316,
          "position": 3.6677215189873418
         },
         {
          "clicks": 68,
          "ctr": 0.591304347826087,
          "impressions": 115,
          "position": 1.252173913043478
         },
         {
          "clicks": 68,
          "ctr": 0.0034447821681864235,
          "impressions": 19740,
          "position": 8.171732522796352
         },
         {
          "clicks": 68,
          "ctr": 0.19825072886297376,
          "impressions": 343,
          "position": 2.24198250728863
         },
         {
          "clicks": 68,
          "ctr": 0.021594156875198483,
          "impressions": 3149,
          "position": 2.538901238488409
         },
         {
          "clicks": 68,
          "ctr": 0.3655913978494624,
          "impressions": 186,
          "position": 1.0161290322580645
         },
         {
          "clicks": 68,
          "ctr": 0.019149535342157138,
          "impressions": 3551,
          "position": 9.124471979724019
         },
         {
          "clicks": 68,
          "ctr": 0.0191765369430344,
          "impressions": 3546,
          "position": 7
         },
         {
          "clicks": 68,
          "ctr": 0.19428571428571428,
          "impressions": 350,
          "position": 3.5342857142857143
         },
         {
          "clicks": 68,
          "ctr": 0.19883040935672516,
          "impressions": 342,
          "position": 4.108187134502924
         },
         {
          "clicks": 68,
          "ctr": 0.06302131603336422,
          "impressions": 1079,
          "position": 5.907321594068582
         },
         {
          "clicks": 68,
          "ctr": 0.4625850340136055,
          "impressions": 147,
          "position": 2.020408163265306
         },
         {
          "clicks": 68,
          "ctr": 0.4146341463414634,
          "impressions": 164,
          "position": 1.9878048780487805
         },
         {
          "clicks": 68,
          "ctr": 0.5619834710743802,
          "impressions": 121,
          "position": 1.7520661157024793
         },
         {
          "clicks": 68,
          "ctr": 0.12903225806451613,
          "impressions": 527,
          "position": 2.5882352941176467
         },
         {
          "clicks": 68,
          "ctr": 0.04613297150610583,
          "impressions": 1474,
          "position": 6.9579375848032585
         },
         {
          "clicks": 67,
          "ctr": 0.03027564392227745,
          "impressions": 2213,
          "position": 1.2693176683235428
         },
         {
          "clicks": 67,
          "ctr": 0.4011976047904192,
          "impressions": 167,
          "position": 1.9461077844311376
         },
         {
          "clicks": 67,
          "ctr": 0.03665207877461707,
          "impressions": 1828,
          "position": 6.406455142231947
         },
         {
          "clicks": 67,
          "ctr": 0.04789135096497498,
          "impressions": 1399,
          "position": 7.561829878484633
         },
         {
          "clicks": 67,
          "ctr": 0.030790441176470586,
          "impressions": 2176,
          "position": 5.946231617647059
         },
         {
          "clicks": 67,
          "ctr": 0.3764044943820225,
          "impressions": 178,
          "position": 3.4831460674157304
         },
         {
          "clicks": 67,
          "ctr": 0.33668341708542715,
          "impressions": 199,
          "position": 3.768844221105528
         },
         {
          "clicks": 66,
          "ctr": 0.051643192488262914,
          "impressions": 1278,
          "position": 6.190140845070423
         },
         {
          "clicks": 66,
          "ctr": 0.02643171806167401,
          "impressions": 2497,
          "position": 1.142971565879055
         },
         {
          "clicks": 66,
          "ctr": 0.15172413793103448,
          "impressions": 435,
          "position": 3.3287356321839083
         },
         {
          "clicks": 66,
          "ctr": 0.264,
          "impressions": 250,
          "position": 3.3560000000000003
         },
         {
          "clicks": 66,
          "ctr": 0.033656297807241206,
          "impressions": 1961,
          "position": 2.103518612952575
         },
         {
          "clicks": 66,
          "ctr": 0.08375634517766498,
          "impressions": 788,
          "position": 6.9238578680203045
         },
         {
          "clicks": 66,
          "ctr": 0.07104413347685684,
          "impressions": 929,
          "position": 7.08719052744887
         },
         {
          "clicks": 66,
          "ctr": 0.14864864864864866,
          "impressions": 444,
          "position": 5.86036036036036
         },
         {
          "clicks": 66,
          "ctr": 0.04094292803970223,
          "impressions": 1612,
          "position": 1.7847394540942931
         },
         {
          "clicks": 65,
          "ctr": 0.5508474576271186,
          "impressions": 118,
          "position": 1.8813559322033897
         },
         {
          "clicks": 65,
          "ctr": 0.3186274509803921,
          "impressions": 204,
          "position": 1.5098039215686274
         },
         {
          "clicks": 65,
          "ctr": 0.03364389233954451,
          "impressions": 1932,
          "position": 2.9213250517598337
         },
         {
          "clicks": 65,
          "ctr": 0.025855210819411296,
          "impressions": 2514,
          "position": 3.8448687350835318
         },
         {
          "clicks": 65,
          "ctr": 0.10317460317460317,
          "impressions": 630,
          "position": 5.412698412698413
         },
         {
          "clicks": 65,
          "ctr": 0.04935459377372817,
          "impressions": 1317,
          "position": 1.2930903568716778
         },
         {
          "clicks": 64,
          "ctr": 0.03177755710029792,
          "impressions": 2014,
          "position": 1.6251241310824232
         },
         {
          "clicks": 64,
          "ctr": 0.2277580071174377,
          "impressions": 281,
          "position": 5.683274021352313
         },
         {
          "clicks": 64,
          "ctr": 0.2549800796812749,
          "impressions": 251,
          "position": 4.0159362549800806
         },
         {
          "clicks": 64,
          "ctr": 0.5818181818181818,
          "impressions": 110,
          "position": 1.0818181818181818
         },
         {
          "clicks": 64,
          "ctr": 0.5203252032520326,
          "impressions": 123,
          "position": 2.341463414634146
         },
         {
          "clicks": 64,
          "ctr": 0.20189274447949526,
          "impressions": 317,
          "position": 3.3659305993690847
         },
         {
          "clicks": 64,
          "ctr": 0.007115063924402446,
          "impressions": 8995,
          "position": 4.1081712062256805
         },
         {
          "clicks": 64,
          "ctr": 0.3855421686746988,
          "impressions": 166,
          "position": 2.427710843373494
         },
         {
          "clicks": 64,
          "ctr": 0.09078014184397164,
          "impressions": 705,
          "position": 7.421276595744682
         },
         {
          "clicks": 64,
          "ctr": 0.4050632911392405,
          "impressions": 158,
          "position": 1.3860759493670889
         },
         {
          "clicks": 63,
          "ctr": 0.3,
          "impressions": 210,
          "position": 2.0428571428571427
         },
         {
          "clicks": 63,
          "ctr": 0.08701657458563536,
          "impressions": 724,
          "position": 1.8798342541436464
         },
         {
          "clicks": 63,
          "ctr": 0.245136186770428,
          "impressions": 257,
          "position": 4.116731517509727
         },
         {
          "clicks": 63,
          "ctr": 0.026470588235294117,
          "impressions": 2380,
          "position": 3.350420168067227
         },
         {
          "clicks": 63,
          "ctr": 0.20655737704918034,
          "impressions": 305,
          "position": 2.3114754098360653
         },
         {
          "clicks": 63,
          "ctr": 0.22419928825622776,
          "impressions": 281,
          "position": 1.6619217081850532
         },
         {
          "clicks": 63,
          "ctr": 0.15365853658536585,
          "impressions": 410,
          "position": 3.0390243902439025
         },
         {
          "clicks": 63,
          "ctr": 0.5478260869565217,
          "impressions": 115,
          "position": 2.4260869565217393
         },
         {
          "clicks": 63,
          "ctr": 0.04751131221719457,
          "impressions": 1326,
          "position": 4.340874811463046
         },
         {
          "clicks": 63,
          "ctr": 0.06752411575562701,
          "impressions": 933,
          "position": 2.7084673097534835
         },
         {
          "clicks": 63,
          "ctr": 0.014935988620199146,
          "impressions": 4218,
          "position": 1.5862968231389285
         },
         {
          "clicks": 62,
          "ctr": 0.28440366972477066,
          "impressions": 218,
          "position": 3.0229357798165135
         },
         {
          "clicks": 62,
          "ctr": 0.0668103448275862,
          "impressions": 928,
          "position": 5.092672413793104
         },
         {
          "clicks": 62,
          "ctr": 0.31794871794871793,
          "impressions": 195,
          "position": 3.1384615384615384
         },
         {
          "clicks": 62,
          "ctr": 0.08959537572254335,
          "impressions": 692,
          "position": 5.57514450867052
         },
         {
          "clicks": 62,
          "ctr": 0.1169811320754717,
          "impressions": 530,
          "position": 5.339622641509433
         },
         {
          "clicks": 62,
          "ctr": 0.08378378378378379,
          "impressions": 740,
          "position": 5.85
         },
         {
          "clicks": 62,
          "ctr": 0.015282228247473504,
          "impressions": 4057,
          "position": 7.081587379837318
         },
         {
          "clicks": 62,
          "ctr": 0.031031031031031032,
          "impressions": 1998,
          "position": 8.884384384384385
         },
         {
          "clicks": 62,
          "ctr": 0.3647058823529412,
          "impressions": 170,
          "position": 2.0176470588235293
         },
         {
          "clicks": 62,
          "ctr": 0.010127409343351846,
          "impressions": 6122,
          "position": 3.1871937275400195
         },
         {
          "clicks": 62,
          "ctr": 0.3425414364640884,
          "impressions": 181,
          "position": 2.9613259668508287
         },
         {
          "clicks": 62,
          "ctr": 0.23220973782771534,
          "impressions": 267,
          "position": 1.9775280898876404
         },
         {
          "clicks": 61,
          "ctr": 0.25102880658436216,
          "impressions": 243,
          "position": 2.3456790123456788
         },
         {
          "clicks": 61,
          "ctr": 0.5126050420168067,
          "impressions": 119,
          "position": 2.4117647058823533
         },
         {
          "clicks": 61,
          "ctr": 0.12007874015748032,
          "impressions": 508,
          "position": 2.236220472440945
         },
         {
          "clicks": 61,
          "ctr": 0.2267657992565056,
          "impressions": 269,
          "position": 2.8141263940520447
         },
         {
          "clicks": 61,
          "ctr": 0.02245123297754877,
          "impressions": 2717,
          "position": 2.9543614280456385
         },
         {
          "clicks": 61,
          "ctr": 0.01972833117723156,
          "impressions": 3092,
          "position": 4.658150064683053
         },
         {
          "clicks": 61,
          "ctr": 0.5495495495495496,
          "impressions": 111,
          "position": 2.0270270270270268
         },
         {
          "clicks": 61,
          "ctr": 0.5,
          "impressions": 122,
          "position": 1.8852459016393444
         },
         {
          "clicks": 61,
          "ctr": 0.19242902208201887,
          "impressions": 317,
          "position": 2.2618296529968456
         },
         {
          "clicks": 61,
          "ctr": 0.23282442748091606,
          "impressions": 262,
          "position": 4.232824427480916
         },
         {
          "clicks": 61,
          "ctr": 0.3160621761658031,
          "impressions": 193,
          "position": 1.9067357512953367
         },
         {
          "clicks": 61,
          "ctr": 0.5545454545454546,
          "impressions": 110,
          "position": 1.9545454545454544
         },
         {
          "clicks": 61,
          "ctr": 0.3034825870646766,
          "impressions": 201,
          "position": 3.0845771144278618
         },
         {
          "clicks": 61,
          "ctr": 0.5495495495495496,
          "impressions": 111,
          "position": 2.756756756756757
         },
         {
          "clicks": 61,
          "ctr": 0.01869445295740117,
          "impressions": 3263,
          "position": 9.452957401164571
         },
         {
          "clicks": 60,
          "ctr": 0.04291845493562232,
          "impressions": 1398,
          "position": 1.5915593705293276
         },
         {
          "clicks": 60,
          "ctr": 0.4166666666666667,
          "impressions": 144,
          "position": 3.2569444444444446
         },
         {
          "clicks": 60,
          "ctr": 0.3468208092485549,
          "impressions": 173,
          "position": 5.6531791907514455
         },
         {
          "clicks": 60,
          "ctr": 0.3296703296703297,
          "impressions": 182,
          "position": 4.115384615384615
         },
         {
          "clicks": 60,
          "ctr": 0.2510460251046025,
          "impressions": 239,
          "position": 5.451882845188284
         },
         {
          "clicks": 60,
          "ctr": 0.3045685279187817,
          "impressions": 197,
          "position": 3.1573604060913705
         },
         {
          "clicks": 60,
          "ctr": 0.5084745762711864,
          "impressions": 118,
          "position": 2.1864406779661016
         },
         {
          "clicks": 60,
          "ctr": 0.3296703296703297,
          "impressions": 182,
          "position": 2.021978021978022
         },
         {
          "clicks": 60,
          "ctr": 0.3,
          "impressions": 200,
          "position": 3.745
         },
         {
          "clicks": 60,
          "ctr": 0.02916869227029655,
          "impressions": 2057,
          "position": 3.8376276130286815
         },
         {
          "clicks": 60,
          "ctr": 0.05097706032285471,
          "impressions": 1177,
          "position": 7.917587085811385
         },
         {
          "clicks": 60,
          "ctr": 0.4,
          "impressions": 150,
          "position": 1.7733333333333334
         },
         {
          "clicks": 60,
          "ctr": 0.594059405940594,
          "impressions": 101,
          "position": 2.504950495049505
         },
         {
          "clicks": 60,
          "ctr": 0.02884615384615385,
          "impressions": 2080,
          "position": 8.111057692307693
         },
         {
          "clicks": 60,
          "ctr": 0.0009235315847801996,
          "impressions": 64968,
          "position": 9.1762560029553
         },
         {
          "clicks": 59,
          "ctr": 0.018408736349453975,
          "impressions": 3205,
          "position": 9.058346333853354
         },
         {
          "clicks": 59,
          "ctr": 0.34502923976608185,
          "impressions": 171,
          "position": 2.982456140350877
         },
         {
          "clicks": 59,
          "ctr": 0.005380756953944368,
          "impressions": 10965,
          "position": 8.983766529867761
         },
         {
          "clicks": 59,
          "ctr": 0.21851851851851853,
          "impressions": 270,
          "position": 2.7703703703703706
         },
         {
          "clicks": 59,
          "ctr": 0.11346153846153845,
          "impressions": 520,
          "position": 3.3807692307692307
         },
         {
          "clicks": 59,
          "ctr": 0.329608938547486,
          "impressions": 179,
          "position": 2.88268156424581
         },
         {
          "clicks": 59,
          "ctr": 0.5086206896551724,
          "impressions": 116,
          "position": 1.7672413793103448
         },
         {
          "clicks": 59,
          "ctr": 0.20701754385964916,
          "impressions": 285,
          "position": 1.1052631578947367
         },
         {
          "clicks": 59,
          "ctr": 0.07239263803680981,
          "impressions": 815,
          "position": 1.2527607361963191
         },
         {
          "clicks": 59,
          "ctr": 0.5412844036697247,
          "impressions": 109,
          "position": 2.5504587155963305
         },
         {
          "clicks": 59,
          "ctr": 0.0019225129525237054,
          "impressions": 30689,
          "position": 9.546743132718564
         },
         {
          "clicks": 59,
          "ctr": 0.5462962962962963,
          "impressions": 108,
          "position": 1.3888888888888888
         },
         {
          "clicks": 59,
          "ctr": 0.4244604316546763,
          "impressions": 139,
          "position": 1.3525179856115108
         },
         {
          "clicks": 59,
          "ctr": 0.0960912052117264,
          "impressions": 614,
          "position": 8.965798045602606
         },
         {
          "clicks": 58,
          "ctr": 0.03988995873452544,
          "impressions": 1454,
          "position": 1.9656121045392023
         },
         {
          "clicks": 58,
          "ctr": 0.16477272727272727,
          "impressions": 352,
          "position": 5.795454545454546
         },
         {
          "clicks": 58,
          "ctr": 0.03409758965314521,
          "impressions": 1701,
          "position": 8.216931216931219
         },
         {
          "clicks": 58,
          "ctr": 0.5631067961165048,
          "impressions": 103,
          "position": 1.8737864077669903
         },
         {
          "clicks": 58,
          "ctr": 0.2020905923344948,
          "impressions": 287,
          "position": 4.536585365853659
         },
         {
          "clicks": 58,
          "ctr": 0.4084507042253521,
          "impressions": 142,
          "position": 3.014084507042253
         },
         {
          "clicks": 58,
          "ctr": 0.09797297297297296,
          "impressions": 592,
          "position": 2.2179054054054053
         },
         {
          "clicks": 58,
          "ctr": 0.1039426523297491,
          "impressions": 558,
          "position": 2.666666666666667
         },
         {
          "clicks": 58,
          "ctr": 0.3717948717948718,
          "impressions": 156,
          "position": 2.269230769230769
         },
         {
          "clicks": 58,
          "ctr": 0.4142857142857143,
          "impressions": 140,
          "position": 2.6785714285714293
         },
         {
          "clicks": 58,
          "ctr": 0.05708661417322835,
          "impressions": 1016,
          "position": 4.015748031496063
         },
         {
          "clicks": 58,
          "ctr": 0.3118279569892473,
          "impressions": 186,
          "position": 1.1612903225806452
         },
         {
          "clicks": 58,
          "ctr": 0.08055555555555556,
          "impressions": 720,
          "position": 5.484722222222223
         },
         {
          "clicks": 58,
          "ctr": 0.16909620991253646,
          "impressions": 343,
          "position": 2.737609329446064
         },
         {
          "clicks": 58,
          "ctr": 0.3945578231292517,
          "impressions": 147,
          "position": 1.0816326530612246
         },
         {
          "clicks": 57,
          "ctr": 0.10035211267605634,
          "impressions": 568,
          "position": 5.223591549295775
         },
         {
          "clicks": 57,
          "ctr": 0.3131868131868132,
          "impressions": 182,
          "position": 1.9670329670329672
         },
         {
          "clicks": 57,
          "ctr": 0.4253731343283582,
          "impressions": 134,
          "position": 1.537313432835821
         },
         {
          "clicks": 57,
          "ctr": 0.4351145038167939,
          "impressions": 131,
          "position": 1.6946564885496185
         },
         {
          "clicks": 57,
          "ctr": 0.3851351351351352,
          "impressions": 148,
          "position": 1.3175675675675675
         },
         {
          "clicks": 57,
          "ctr": 0.12666666666666668,
          "impressions": 450,
          "position": 5.8244444444444445
         },
         {
          "clicks": 57,
          "ctr": 0.5089285714285714,
          "impressions": 112,
          "position": 3.3482142857142856
         },
         {
          "clicks": 57,
          "ctr": 0.4710743801652893,
          "impressions": 121,
          "position": 3.049586776859504
         },
         {
          "clicks": 57,
          "ctr": 0.10160427807486633,
          "impressions": 561,
          "position": 5.691622103386809
         },
         {
          "clicks": 57,
          "ctr": 0.36774193548387096,
          "impressions": 155,
          "position": 2.5290322580645164
         },
         {
          "clicks": 57,
          "ctr": 0.01595298068849706,
          "impressions": 3573,
          "position": 7.277637839350685
         },
         {
          "clicks": 57,
          "ctr": 0.3081081081081081,
          "impressions": 185,
          "position": 2.3567567567567567
         },
         {
          "clicks": 57,
          "ctr": 0.10270270270270272,
          "impressions": 555,
          "position": 6.077477477477478
         },
         {
          "clicks": 57,
          "ctr": 0.017204950196196802,
          "impressions": 3313,
          "position": 7.064895864775129
         },
         {
          "clicks": 56,
          "ctr": 0.4028776978417266,
          "impressions": 139,
          "position": 1.8417266187050358
         },
         {
          "clicks": 56,
          "ctr": 0.009009009009009007,
          "impressions": 6216,
          "position": 6.687580437580437
         },
         {
          "clicks": 56,
          "ctr": 0.25,
          "impressions": 224,
          "position": 4.616071428571429
         },
         {
          "clicks": 56,
          "ctr": 0.3373493975903614,
          "impressions": 166,
          "position": 3.6867469879518073
         },
         {
          "clicks": 56,
          "ctr": 0.012213740458015269,
          "impressions": 4585,
          "position": 9.332824427480915
         },
         {
          "clicks": 56,
          "ctr": 0.1978798586572438,
          "impressions": 283,
          "position": 4.826855123674912
         },
         {
          "clicks": 56,
          "ctr": 0.4087591240875912,
          "impressions": 137,
          "position": 3.1824817518248176
         },
         {
          "clicks": 56,
          "ctr": 0.2962962962962963,
          "impressions": 189,
          "position": 2.433862433862434
         },
         {
          "clicks": 56,
          "ctr": 0.27450980392156865,
          "impressions": 204,
          "position": 4.96078431372549
         },
         {
          "clicks": 56,
          "ctr": 0.16716417910447762,
          "impressions": 335,
          "position": 4.8507462686567155
         },
         {
          "clicks": 56,
          "ctr": 0.3862068965517241,
          "impressions": 145,
          "position": 2.6344827586206896
         },
         {
          "clicks": 56,
          "ctr": 0.11570247933884298,
          "impressions": 484,
          "position": 3.347107438016529
         },
         {
          "clicks": 56,
          "ctr": 0.4057971014492754,
          "impressions": 138,
          "position": 1.4782608695652173
         },
         {
          "clicks": 56,
          "ctr": 0.4628099173553719,
          "impressions": 121,
          "position": 3.5454545454545454
         },
         {
          "clicks": 56,
          "ctr": 0.0016965070132388136,
          "impressions": 33009,
          "position": 5.575873246690296
         },
         {
          "clicks": 56,
          "ctr": 0.014694305956441878,
          "impressions": 3811,
          "position": 8.26292311729205
         },
         {
          "clicks": 55,
          "ctr": 0.027390438247011952,
          "impressions": 2008,
          "position": 1.406374501992032
         },
         {
          "clicks": 55,
          "ctr": 0.06358381502890173,
          "impressions": 865,
          "position": 7.865895953757224
         },
         {
          "clicks": 55,
          "ctr": 0.027610441767068276,
          "impressions": 1992,
          "position": 8.373995983935743
         },
         {
          "clicks": 55,
          "ctr": 0.03937007874015748,
          "impressions": 1397,
          "position": 5.5912670007158205
         },
         {
          "clicks": 55,
          "ctr": 0.04680851063829787,
          "impressions": 1175,
          "position": 6.036595744680851
         },
         {
          "clicks": 55,
          "ctr": 0.06650544135429262,
          "impressions": 827,
          "position": 8.275695284159614
         },
         {
          "clicks": 55,
          "ctr": 0.5092592592592593,
          "impressions": 108,
          "position": 1.4166666666666667
         },
         {
          "clicks": 55,
          "ctr": 0.12702078521939955,
          "impressions": 433,
          "position": 5.558891454965359
         },
         {
          "clicks": 55,
          "ctr": 0.25462962962962965,
          "impressions": 216,
          "position": 3.4027777777777777
         },
         {
          "clicks": 54,
          "ctr": 0.05654450261780105,
          "impressions": 955,
          "position": 4.7591623036649215
         },
         {
          "clicks": 54,
          "ctr": 0.12080536912751677,
          "impressions": 447,
          "position": 1.046979865771812
         },
         {
          "clicks": 54,
          "ctr": 0.2583732057416268,
          "impressions": 209,
          "position": 2.8229665071770333
         },
         {
          "clicks": 54,
          "ctr": 0.13075060532687652,
          "impressions": 413,
          "position": 1.5714285714285714
         },
         {
          "clicks": 54,
          "ctr": 0.03375,
          "impressions": 1600,
          "position": 5.958125
         },
         {
          "clicks": 54,
          "ctr": 0.03680981595092025,
          "impressions": 1467,
          "position": 5.7914110429447865
         },
         {
          "clicks": 54,
          "ctr": 0.06835443037974684,
          "impressions": 790,
          "position": 5.70632911392405
         },
         {
          "clicks": 54,
          "ctr": 0.39416058394160586,
          "impressions": 137,
          "position": 3.2116788321167884
         },
         {
          "clicks": 54,
          "ctr": 0.03052572074618428,
          "impressions": 1769,
          "position": 1.7738835500282646
         },
         {
          "clicks": 54,
          "ctr": 0.0133630289532294,
          "impressions": 4041,
          "position": 6.99752536500866
         },
         {
          "clicks": 54,
          "ctr": 0.026799007444168736,
          "impressions": 2015,
          "position": 7.811414392059554
         },
         {
          "clicks": 54,
          "ctr": 0.03169014084507042,
          "impressions": 1704,
          "position": 9.371478873239434
         },
         {
          "clicks": 53,
          "ctr": 0.4732142857142857,
          "impressions": 112,
          "position": 2.8303571428571432
         },
         {
          "clicks": 53,
          "ctr": 0.167192429022082,
          "impressions": 317,
          "position": 4.55205047318612
         },
         {
          "clicks": 53,
          "ctr": 0.3192771084337349,
          "impressions": 166,
          "position": 2.0783132530120483
         },
         {
          "clicks": 53,
          "ctr": 0.07957957957957958,
          "impressions": 666,
          "position": 2.927927927927928
         },
         {
          "clicks": 53,
          "ctr": 0.09464285714285714,
          "impressions": 560,
          "position": 5.9
         },
         {
          "clicks": 53,
          "ctr": 0.011988237955213752,
          "impressions": 4421,
          "position": 9.38000452386338
         },
         {
          "clicks": 53,
          "ctr": 0.4649122807017544,
          "impressions": 114,
          "position": 3.1754385964912277
         },
         {
          "clicks": 53,
          "ctr": 0.1,
          "impressions": 530,
          "position": 3.6339622641509433
         },
         {
          "clicks": 53,
          "ctr": 0.1620795107033639,
          "impressions": 327,
          "position": 3.5321100917431187
         },
         {
          "clicks": 53,
          "ctr": 0.0279831045406547,
          "impressions": 1894,
          "position": 6.353748680042238
         },
         {
          "clicks": 52,
          "ctr": 0.2888888888888889,
          "impressions": 180,
          "position": 3.216666666666667
         },
         {
          "clicks": 52,
          "ctr": 0.16828478964401294,
          "impressions": 309,
          "position": 3.029126213592233
         },
         {
          "clicks": 52,
          "ctr": 0.13612565445026178,
          "impressions": 382,
          "position": 2.8769633507853403
         },
         {
          "clicks": 52,
          "ctr": 0.5048543689320388,
          "impressions": 103,
          "position": 2.8058252427184467
         },
         {
          "clicks": 52,
          "ctr": 0.21052631578947367,
          "impressions": 247,
          "position": 2.9676113360323884
         },
         {
          "clicks": 52,
          "ctr": 0.16455696202531644,
          "impressions": 316,
          "position": 1.4651898734177216
         },
         {
          "clicks": 52,
          "ctr": 0.06096131301289566,
          "impressions": 853,
          "position": 3.003516998827667
         },
         {
          "clicks": 52,
          "ctr": 0.04297520661157025,
          "impressions": 1210,
          "position": 2.5892561983471074
         },
         {
          "clicks": 52,
          "ctr": 0.40625,
          "impressions": 128,
          "position": 4.4375
         },
         {
          "clicks": 52,
          "ctr": 0.10633946830265847,
          "impressions": 489,
          "position": 5.541922290388548
         },
         {
          "clicks": 52,
          "ctr": 0.35135135135135137,
          "impressions": 148,
          "position": 1.2905405405405406
         },
         {
          "clicks": 52,
          "ctr": 0.029562251279135875,
          "impressions": 1759,
          "position": 4.789084707220012
         },
         {
          "clicks": 52,
          "ctr": 0.3076923076923077,
          "impressions": 169,
          "position": 1.5502958579881656
         },
         {
          "clicks": 52,
          "ctr": 0.09701492537313433,
          "impressions": 536,
          "position": 4.585820895522389
         },
         {
          "clicks": 52,
          "ctr": 0.004567413263065437,
          "impressions": 11385,
          "position": 9.916644707949057
         },
         {
          "clicks": 52,
          "ctr": 0.028872848417545807,
          "impressions": 1801,
          "position": 7.1910049972237635
         },
         {
          "clicks": 52,
          "ctr": 0.04406779661016949,
          "impressions": 1180,
          "position": 3.8
         },
         {
          "clicks": 52,
          "ctr": 0.4,
          "impressions": 130,
          "position": 2.2461538461538457
         },
         {
          "clicks": 52,
          "ctr": 0.2047244094488189,
          "impressions": 254,
          "position": 4.740157480314961
         },
         {
          "clicks": 51,
          "ctr": 0.07391304347826087,
          "impressions": 690,
          "position": 7.4101449275362326
         },
         {
          "clicks": 51,
          "ctr": 0.03606789250353607,
          "impressions": 1414,
          "position": 3.637906647807638
         },
         {
          "clicks": 51,
          "ctr": 0.3017751479289941,
          "impressions": 169,
          "position": 2.8106508875739644
         },
         {
          "clicks": 51,
          "ctr": 0.022039757994814176,
          "impressions": 2314,
          "position": 4.5233362143474505
         },
         {
          "clicks": 51,
          "ctr": 0.14782608695652175,
          "impressions": 345,
          "position": 3.782608695652174
         },
         {
          "clicks": 51,
          "ctr": 0.37777777777777777,
          "impressions": 135,
          "position": 2.1185185185185187
         },
         {
          "clicks": 51,
          "ctr": 0.42857142857142855,
          "impressions": 119,
          "position": 3.0504201680672267
         },
         {
          "clicks": 51,
          "ctr": 0.17586206896551726,
          "impressions": 290,
          "position": 5.006896551724138
         },
         {
          "clicks": 51,
          "ctr": 0.08614864864864864,
          "impressions": 592,
          "position": 5.5641891891891895
         },
         {
          "clicks": 51,
          "ctr": 0.0048190494188793355,
          "impressions": 10583,
          "position": 9.332514409902672
         },
         {
          "clicks": 51,
          "ctr": 0.2116182572614108,
          "impressions": 241,
          "position": 5.315352697095436
         },
         {
          "clicks": 51,
          "ctr": 0.10944206008583693,
          "impressions": 466,
          "position": 2.8476394849785414
         },
         {
          "clicks": 51,
          "ctr": 0.02265659706796979,
          "impressions": 2251,
          "position": 5.886717014660151
         },
         {
          "clicks": 51,
          "ctr": 0.06390977443609022,
          "impressions": 798,
          "position": 5.783208020050125
         },
         {
          "clicks": 50,
          "ctr": 0.25,
          "impressions": 200,
          "position": 4.2
         },
         {
          "clicks": 50,
          "ctr": 0.028604118993135013,
          "impressions": 1748,
          "position": 4.775743707093822
         },
         {
          "clicks": 50,
          "ctr": 0.06648936170212766,
          "impressions": 752,
          "position": 5.888297872340425
         },
         {
          "clicks": 50,
          "ctr": 0.10504201680672268,
          "impressions": 476,
          "position": 6.155462184873951
         },
         {
          "clicks": 50,
          "ctr": 0.176678445229682,
          "impressions": 283,
          "position": 4.699646643109539
         },
         {
          "clicks": 50,
          "ctr": 0.16722408026755853,
          "impressions": 299,
          "position": 1.4414715719063544
         },
         {
          "clicks": 50,
          "ctr": 0.0509683995922528,
          "impressions": 981,
          "position": 5.7859327217125385
         },
         {
          "clicks": 50,
          "ctr": 0.0015039855617386072,
          "impressions": 33245,
          "position": 1.001052789893217
         },
         {
          "clicks": 50,
          "ctr": 0.0015270439483248328,
          "impressions": 32743,
          "position": 8.627645603640474
         },
         {
          "clicks": 50,
          "ctr": 0.2262443438914027,
          "impressions": 221,
          "position": 2.995475113122172
         },
         {
          "clicks": 50,
          "ctr": 0.2403846153846154,
          "impressions": 208,
          "position": 3.4855769230769234
         },
         {
          "clicks": 50,
          "ctr": 0.4901960784313725,
          "impressions": 102,
          "position": 1.7745098039215683
         },
         {
          "clicks": 50,
          "ctr": 0.01212415130940834,
          "impressions": 4124,
          "position": 7.939136760426769
         },
         {
          "clicks": 50,
          "ctr": 0.35714285714285715,
          "impressions": 140,
          "position": 3.792857142857143
         },
         {
          "clicks": 49,
          "ctr": 0.1856060606060606,
          "impressions": 264,
          "position": 1.0037878787878791
         },
         {
          "clicks": 49,
          "ctr": 0.03295225285810356,
          "impressions": 1487,
          "position": 6.498991257565567
         },
         {
          "clicks": 49,
          "ctr": 0.10986547085201794,
          "impressions": 446,
          "position": 5.441704035874438
         },
         {
          "clicks": 49,
          "ctr": 0.01240506329113924,
          "impressions": 3950,
          "position": 8.804050632911393
         },
         {
          "clicks": 49,
          "ctr": 0.07040229885057471,
          "impressions": 696,
          "position": 9.317528735632184
         },
         {
          "clicks": 49,
          "ctr": 0.03640416047548292,
          "impressions": 1346,
          "position": 6.389301634472512
         },
         {
          "clicks": 49,
          "ctr": 0.050411522633744855,
          "impressions": 972,
          "position": 8.854938271604937
         },
         {
          "clicks": 49,
          "ctr": 0.2149122807017544,
          "impressions": 228,
          "position": 1.6578947368421053
         },
         {
          "clicks": 49,
          "ctr": 0.11694510739856802,
          "impressions": 419,
          "position": 6.145584725536993
         },
         {
          "clicks": 49,
          "ctr": 0.09333333333333334,
          "impressions": 525,
          "position": 5.626666666666668
         },
         {
          "clicks": 49,
          "ctr": 0.3223684210526316,
          "impressions": 152,
          "position": 4.046052631578947
         },
         {
          "clicks": 49,
          "ctr": 0.2552083333333333,
          "impressions": 192,
          "position": 1.53125
         },
         {
          "clicks": 49,
          "ctr": 0.1225,
          "impressions": 400,
          "position": 4.5975
         },
         {
          "clicks": 49,
          "ctr": 0.26063829787234044,
          "impressions": 188,
          "position": 2.042553191489362
         },
         {
          "clicks": 49,
          "ctr": 0.11395348837209306,
          "impressions": 430,
          "position": 2.6488372093023256
         },
         {
          "clicks": 49,
          "ctr": 0.19367588932806326,
          "impressions": 253,
          "position": 4.442687747035573
         },
         {
          "clicks": 48,
          "ctr": 0.42105263157894735,
          "impressions": 114,
          "position": 1.9912280701754383
         },
         {
          "clicks": 48,
          "ctr": 0.08839779005524863,
          "impressions": 543,
          "position": 2.05340699815838
         },
         {
          "clicks": 48,
          "ctr": 0.13636363636363635,
          "impressions": 352,
          "position": 7.0369318181818175
         },
         {
          "clicks": 48,
          "ctr": 0.11162790697674417,
          "impressions": 430,
          "position": 5.6
         },
         {
          "clicks": 48,
          "ctr": 0.0867992766726944,
          "impressions": 553,
          "position": 6.054249547920433
         },
         {
          "clicks": 48,
          "ctr": 0.4705882352941176,
          "impressions": 102,
          "position": 2.284313725490196
         },
         {
          "clicks": 48,
          "ctr": 0.2364532019704433,
          "impressions": 203,
          "position": 7.862068965517241
         },
         {
          "clicks": 48,
          "ctr": 0.12467532467532468,
          "impressions": 385,
          "position": 4.176623376623377
         },
         {
          "clicks": 48,
          "ctr": 0.003971537315902697,
          "impressions": 12086,
          "position": 7.0806718517292735
         },
         {
          "clicks": 48,
          "ctr": 0.034139402560455195,
          "impressions": 1406,
          "position": 4.6678520625889055
         },
         {
          "clicks": 48,
          "ctr": 0.1959183673469388,
          "impressions": 245,
          "position": 2.9428571428571435
         },
         {
          "clicks": 48,
          "ctr": 0.14457831325301204,
          "impressions": 332,
          "position": 4.6656626506024095
         },
         {
          "clicks": 47,
          "ctr": 0.027230590961761298,
          "impressions": 1726,
          "position": 2.044611819235226
         },
         {
          "clicks": 47,
          "ctr": 0.020982142857142852,
          "impressions": 2240,
          "position": 4.047321428571428
         },
         {
          "clicks": 47,
          "ctr": 0.007083647324792766,
          "impressions": 6635,
          "position": 8.179201205727201
         },
         {
          "clicks": 47,
          "ctr": 0.03666146645865834,
          "impressions": 1282,
          "position": 1.931357254290172
         },
         {
          "clicks": 47,
          "ctr": 0.1010752688172043,
          "impressions": 465,
          "position": 2.6688172043010754
         },
         {
          "clicks": 47,
          "ctr": 0.1857707509881423,
          "impressions": 253,
          "position": 3.225296442687747
         },
         {
          "clicks": 47,
          "ctr": 0.012583668005354752,
          "impressions": 3735,
          "position": 6.451405622489959
         },
         {
          "clicks": 47,
          "ctr": 0.16376306620209058,
          "impressions": 287,
          "position": 2.7909407665505226
         },
         {
          "clicks": 47,
          "ctr": 0.28484848484848485,
          "impressions": 165,
          "position": 1.8909090909090909
         },
         {
          "clicks": 47,
          "ctr": 0.037964458804523434,
          "impressions": 1238,
          "position": 5.453957996768981
         },
         {
          "clicks": 47,
          "ctr": 0.040517241379310336,
          "impressions": 1160,
          "position": 4.551724137931036
         },
         {
          "clicks": 47,
          "ctr": 0.2797619047619048,
          "impressions": 168,
          "position": 3.8928571428571432
         },
         {
          "clicks": 47,
          "ctr": 0.34057971014492755,
          "impressions": 138,
          "position": 2.181159420289855
         },
         {
          "clicks": 47,
          "ctr": 0.0865561694290976,
          "impressions": 543,
          "position": 2.720073664825046
         },
         {
          "clicks": 47,
          "ctr": 0.0120698510529019,
          "impressions": 3894,
          "position": 3.959938366718028
         },
         {
          "clicks": 47,
          "ctr": 0.20434782608695654,
          "impressions": 230,
          "position": 2.356521739130435
         },
         {
          "clicks": 47,
          "ctr": 0.2764705882352941,
          "impressions": 170,
          "position": 2.494117647058824
         },
         {
          "clicks": 47,
          "ctr": 0.015588723051409618,
          "impressions": 3015,
          "position": 3.860696517412936
         },
         {
          "clicks": 47,
          "ctr": 0.044131455399061034,
          "impressions": 1065,
          "position": 8.227230046948359
         },
         {
          "clicks": 47,
          "ctr": 0.04658077304261645,
          "impressions": 1009,
          "position": 7.349851337958374
         },
         {
          "clicks": 47,
          "ctr": 0.08545454545454545,
          "impressions": 550,
          "position": 5.092727272727274
         },
         {
          "clicks": 46,
          "ctr": 0.1885245901639344,
          "impressions": 244,
          "position": 4.418032786885246
         },
         {
          "clicks": 46,
          "ctr": 0.027479091995221028,
          "impressions": 1674,
          "position": 3.589605734767025
         },
         {
          "clicks": 46,
          "ctr": 0.06571428571428571,
          "impressions": 700,
          "position": 3.7257142857142855
         },
         {
          "clicks": 46,
          "ctr": 0.10952380952380952,
          "impressions": 420,
          "position": 2.307142857142857
         },
         {
          "clicks": 45,
          "ctr": 0.17509727626459146,
          "impressions": 257,
          "position": 4.085603112840467
         },
         {
          "clicks": 45,
          "ctr": 0.09414225941422594,
          "impressions": 478,
          "position": 1.49163179916318
         },
         {
          "clicks": 45,
          "ctr": 0.2631578947368421,
          "impressions": 171,
          "position": 2.064327485380117
         },
         {
          "clicks": 45,
          "ctr": 0.07880910683012259,
          "impressions": 571,
          "position": 5.833625218914187
         },
         {
          "clicks": 45,
          "ctr": 0.11194029850746268,
          "impressions": 402,
          "position": 4.291044776119403
         },
         {
          "clicks": 45,
          "ctr": 0.12893982808022922,
          "impressions": 349,
          "position": 4.206303724928366
         },
         {
          "clicks": 45,
          "ctr": 0.03548895899053628,
          "impressions": 1268,
          "position": 7.08359621451104
         },
         {
          "clicks": 45,
          "ctr": 0.08620689655172414,
          "impressions": 522,
          "position": 4.773946360153257
         },
         {
          "clicks": 45,
          "ctr": 0.3435114503816794,
          "impressions": 131,
          "position": 2.4961832061068705
         },
         {
          "clicks": 45,
          "ctr": 0.07853403141361257,
          "impressions": 573,
          "position": 4.015706806282722
         },
         {
          "clicks": 45,
          "ctr": 0.11904761904761905,
          "impressions": 378,
          "position": 3.3703703703703702
         },
         {
          "clicks": 45,
          "ctr": 0.4326923076923077,
          "impressions": 104,
          "position": 1.9038461538461535
         },
         {
          "clicks": 45,
          "ctr": 0.371900826446281,
          "impressions": 121,
          "position": 3.115702479338843
         },
         {
          "clicks": 45,
          "ctr": 0.014231499051233398,
          "impressions": 3162,
          "position": 4.345983554712207
         },
         {
          "clicks": 45,
          "ctr": 0.021728633510381457,
          "impressions": 2071,
          "position": 2.4466441332689524
         },
         {
          "clicks": 45,
          "ctr": 0.3543307086614173,
          "impressions": 127,
          "position": 1.748031496062992
         },
         {
          "clicks": 45,
          "ctr": 0.025951557093425604,
          "impressions": 1734,
          "position": 6.28316032295271
         },
         {
          "clicks": 45,
          "ctr": 0.05434782608695652,
          "impressions": 828,
          "position": 6.233091787439613
         },
         {
          "clicks": 44,
          "ctr": 0.07357859531772576,
          "impressions": 598,
          "position": 2.1254180602006687
         },
         {
          "clicks": 44,
          "ctr": 0.031907179115300936,
          "impressions": 1379,
          "position": 5.733865119651923
         },
         {
          "clicks": 44,
          "ctr": 0.053855569155446766,
          "impressions": 817,
          "position": 3.3867809057527536
         },
         {
          "clicks": 44,
          "ctr": 0.023109243697478996,
          "impressions": 1904,
          "position": 9.665441176470589
         },
         {
          "clicks": 44,
          "ctr": 0.07177814029363784,
          "impressions": 613,
          "position": 6.112561174551388
         },
         {
          "clicks": 44,
          "ctr": 0.06043956043956044,
          "impressions": 728,
          "position": 1.370879120879121
         },
         {
          "clicks": 44,
          "ctr": 0.05929919137466307,
          "impressions": 742,
          "position": 6.351752021563343
         },
         {
          "clicks": 44,
          "ctr": 0.23783783783783785,
          "impressions": 185,
          "position": 1.2702702702702702
         },
         {
          "clicks": 44,
          "ctr": 0.19298245614035087,
          "impressions": 228,
          "position": 1.3552631578947367
         },
         {
          "clicks": 44,
          "ctr": 0.01570867547304534,
          "impressions": 2801,
          "position": 5.660121385219566
         },
         {
          "clicks": 44,
          "ctr": 0.0854368932038835,
          "impressions": 515,
          "position": 9.264077669902912
         },
         {
          "clicks": 44,
          "ctr": 0.17054263565891473,
          "impressions": 258,
          "position": 3.182170542635659
         },
         {
          "clicks": 44,
          "ctr": 0.04178537511870845,
          "impressions": 1053,
          "position": 6.2241215574548905
         },
         {
          "clicks": 44,
          "ctr": 0.0013402784123792988,
          "impressions": 32829,
          "position": 6.5751317432757626
         },
         {
          "clicks": 44,
          "ctr": 0.016871165644171782,
          "impressions": 2608,
          "position": 4.757668711656442
         },
         {
          "clicks": 44,
          "ctr": 0.03228173147468818,
          "impressions": 1363,
          "position": 7.0315480557593535
         },
         {
          "clicks": 44,
          "ctr": 0.2933333333333333,
          "impressions": 150,
          "position": 2.24
         },
         {
          "clicks": 43,
          "ctr": 0.11286089238845146,
          "impressions": 381,
          "position": 6.15748031496063
         },
         {
          "clicks": 43,
          "ctr": 0.25,
          "impressions": 172,
          "position": 1.6918604651162792
         },
         {
          "clicks": 43,
          "ctr": 0.12684365781710916,
          "impressions": 339,
          "position": 1.0029498525073746
         },
         {
          "clicks": 43,
          "ctr": 0.14333333333333334,
          "impressions": 300,
          "position": 3.23
         },
         {
          "clicks": 43,
          "ctr": 0.3706896551724138,
          "impressions": 116,
          "position": 2.9741379310344827
         },
         {
          "clicks": 43,
          "ctr": 0.21182266009852216,
          "impressions": 203,
          "position": 2.6157635467980294
         },
         {
          "clicks": 43,
          "ctr": 0.03194650817236255,
          "impressions": 1346,
          "position": 6.579494799405646
         },
         {
          "clicks": 43,
          "ctr": 0.012233285917496443,
          "impressions": 3515,
          "position": 3.5615931721194882
         },
         {
          "clicks": 43,
          "ctr": 0.041626331074540175,
          "impressions": 1033,
          "position": 2.037754114230397
         },
         {
          "clicks": 43,
          "ctr": 0.24293785310734464,
          "impressions": 177,
          "position": 3.9491525423728815
         },
         {
          "clicks": 43,
          "ctr": 0.044885177453027135,
          "impressions": 958,
          "position": 1.9832985386221296
         },
         {
          "clicks": 43,
          "ctr": 0.1,
          "impressions": 430,
          "position": 4.681395348837209
         },
         {
          "clicks": 43,
          "ctr": 0.03216155572176515,
          "impressions": 1337,
          "position": 5.039640987284966
         },
         {
          "clicks": 43,
          "ctr": 0.0012988189808801765,
          "impressions": 33107,
          "position": 2.9973117467605035
         },
         {
          "clicks": 43,
          "ctr": 0.05341614906832298,
          "impressions": 805,
          "position": 2.987577639751553
         },
         {
          "clicks": 43,
          "ctr": 0.4257425742574257,
          "impressions": 101,
          "position": 2.6732673267326734
         },
         {
          "clicks": 43,
          "ctr": 0.044885177453027135,
          "impressions": 958,
          "position": 6.6471816283924845
         },
         {
          "clicks": 43,
          "ctr": 0.038053097345132736,
          "impressions": 1130,
          "position": 7.811504424778762
         },
         {
          "clicks": 43,
          "ctr": 0.0649546827794562,
          "impressions": 662,
          "position": 9.717522658610273
         },
         {
          "clicks": 43,
          "ctr": 0.09492273730684328,
          "impressions": 453,
          "position": 8.32008830022075
         },
         {
          "clicks": 42,
          "ctr": 0.24277456647398846,
          "impressions": 173,
          "position": 5.872832369942198
         },
         {
          "clicks": 42,
          "ctr": 0.4,
          "impressions": 105,
          "position": 1.2571428571428571
         },
         {
          "clicks": 42,
          "ctr": 0.0711864406779661,
          "impressions": 590,
          "position": 6.079661016949152
         },
         {
          "clicks": 42,
          "ctr": 0.02048780487804878,
          "impressions": 2050,
          "position": 4.246829268292683
         },
         {
          "clicks": 42,
          "ctr": 0.0052783712454442635,
          "impressions": 7957,
          "position": 9.04210129445771
         },
         {
          "clicks": 42,
          "ctr": 0.25925925925925924,
          "impressions": 162,
          "position": 3.1481481481481484
         },
         {
          "clicks": 42,
          "ctr": 0.19004524886877827,
          "impressions": 221,
          "position": 4.018099547511312
         },
         {
          "clicks": 42,
          "ctr": 0.2222222222222222,
          "impressions": 189,
          "position": 5.211640211640212
         },
         {
          "clicks": 42,
          "ctr": 0.013337567481740234,
          "impressions": 3149,
          "position": 3.3813909177516672
         },
         {
          "clicks": 42,
          "ctr": 0.4158415841584158,
          "impressions": 101,
          "position": 1.1683168316831682
         },
         {
          "clicks": 42,
          "ctr": 0.035175879396984924,
          "impressions": 1194,
          "position": 9.715242881072026
         },
         {
          "clicks": 41,
          "ctr": 0.13183279742765272,
          "impressions": 311,
          "position": 4.527331189710611
         },
         {
          "clicks": 41,
          "ctr": 0.2907801418439716,
          "impressions": 141,
          "position": 3.3900709219858154
         },
         {
          "clicks": 41,
          "ctr": 0.33064516129032256,
          "impressions": 124,
          "position": 3.620967741935484
         },
         {
          "clicks": 41,
          "ctr": 0.1806167400881057,
          "impressions": 227,
          "position": 4.889867841409692
         },
         {
          "clicks": 41,
          "ctr": 0.08742004264392324,
          "impressions": 469,
          "position": 2.7100213219616203
         },
         {
          "clicks": 41,
          "ctr": 0.405940594059406,
          "impressions": 101,
          "position": 1.4851485148514851
         },
         {
          "clicks": 41,
          "ctr": 0.03912213740458016,
          "impressions": 1048,
          "position": 6.513358778625954
         },
         {
          "clicks": 41,
          "ctr": 0.0296028880866426,
          "impressions": 1385,
          "position": 4.8447653429602875
         },
         {
          "clicks": 41,
          "ctr": 0.3727272727272728,
          "impressions": 110,
          "position": 1.9545454545454544
         },
         {
          "clicks": 41,
          "ctr": 0.11452513966480447,
          "impressions": 358,
          "position": 8.879888268156424
         },
         {
          "clicks": 41,
          "ctr": 0.2928571428571429,
          "impressions": 140,
          "position": 3.3642857142857143
         },
         {
          "clicks": 41,
          "ctr": 0.07056798623063683,
          "impressions": 581,
          "position": 7.139414802065406
         },
         {
          "clicks": 41,
          "ctr": 0.012685643564356437,
          "impressions": 3232,
          "position": 7.599009900990099
         },
         {
          "clicks": 41,
          "ctr": 0.25949367088607594,
          "impressions": 158,
          "position": 3.0379746835443036
         },
         {
          "clicks": 41,
          "ctr": 0.16334661354581673,
          "impressions": 251,
          "position": 4.848605577689243
         },
         {
          "clicks": 41,
          "ctr": 0.030303030303030307,
          "impressions": 1353,
          "position": 8.52919438285292
         },
         {
          "clicks": 41,
          "ctr": 0.11081081081081083,
          "impressions": 370,
          "position": 6.010810810810812
         },
         {
          "clicks": 41,
          "ctr": 0.00786344457230533,
          "impressions": 5214,
          "position": 8.900652090525508
         },
         {
          "clicks": 40,
          "ctr": 0.37383177570093457,
          "impressions": 107,
          "position": 2.2149532710280373
         },
         {
          "clicks": 40,
          "ctr": 0.37735849056603776,
          "impressions": 106,
          "position": 1.169811320754717
         },
         {
          "clicks": 40,
          "ctr": 0.01763668430335097,
          "impressions": 2268,
          "position": 3.0308641975308643
         },
         {
          "clicks": 40,
          "ctr": 0.3883495145631068,
          "impressions": 103,
          "position": 1
         },
         {
          "clicks": 40,
          "ctr": 0.3636363636363637,
          "impressions": 110,
          "position": 3.527272727272728
         },
         {
          "clicks": 40,
          "ctr": 0.07722007722007722,
          "impressions": 518,
          "position": 7.086872586872588
         },
         {
          "clicks": 40,
          "ctr": 0.110803324099723,
          "impressions": 361,
          "position": 4.969529085872576
         },
         {
          "clicks": 40,
          "ctr": 0.1932367149758454,
          "impressions": 207,
          "position": 6.415458937198068
         },
         {
          "clicks": 40,
          "ctr": 0.03656307129798903,
          "impressions": 1094,
          "position": 3.671846435100549
         },
         {
          "clicks": 40,
          "ctr": 0.24096385542168675,
          "impressions": 166,
          "position": 3.415662650602409
         },
         {
          "clicks": 40,
          "ctr": 0.03330557868442964,
          "impressions": 1201,
          "position": 5.0141548709408825
         },
         {
          "clicks": 40,
          "ctr": 0.3252032520325203,
          "impressions": 123,
          "position": 3.113821138211382
         },
         {
          "clicks": 40,
          "ctr": 0.113314447592068,
          "impressions": 353,
          "position": 4.424929178470255
         },
         {
          "clicks": 40,
          "ctr": 0.0408997955010225,
          "impressions": 978,
          "position": 5.777096114519428
         },
         {
          "clicks": 40,
          "ctr": 0.32,
          "impressions": 125,
          "position": 3.096
         },
         {
          "clicks": 40,
          "ctr": 0.08791208791208792,
          "impressions": 455,
          "position": 5.558241758241758
         },
         {
          "clicks": 40,
          "ctr": 0.02686366689053056,
          "impressions": 1489,
          "position": 8.144392209536601
         },
         {
          "clicks": 40,
          "ctr": 0.15625,
          "impressions": 256,
          "position": 3.5
         },
         {
          "clicks": 40,
          "ctr": 0.08264462809917356,
          "impressions": 484,
          "position": 3.363636363636364
         },
         {
          "clicks": 40,
          "ctr": 0.21505376344086025,
          "impressions": 186,
          "position": 2.247311827956989
         },
         {
          "clicks": 40,
          "ctr": 0.19801980198019806,
          "impressions": 202,
          "position": 2.1782178217821784
         },
         {
          "clicks": 40,
          "ctr": 0.02053388090349076,
          "impressions": 1948,
          "position": 8.382956878850102
         },
         {
          "clicks": 40,
          "ctr": 0.010875475802066341,
          "impressions": 3678,
          "position": 1.4741707449700925
         },
         {
          "clicks": 40,
          "ctr": 0.0020178580436866268,
          "impressions": 19823,
          "position": 5.687232003228573
         },
         {
          "clicks": 40,
          "ctr": 0.3883495145631068,
          "impressions": 103,
          "position": 1.6116504854368932
         },
         {
          "clicks": 40,
          "ctr": 0.3603603603603603,
          "impressions": 111,
          "position": 3.63963963963964
         },
         {
          "clicks": 40,
          "ctr": 0.20304568527918784,
          "impressions": 197,
          "position": 3.0964467005076144
         },
         {
          "clicks": 40,
          "ctr": 0.008828073273008165,
          "impressions": 4531,
          "position": 7.4425071728095356
         },
         {
          "clicks": 40,
          "ctr": 0.3539823008849557,
          "impressions": 113,
          "position": 4.1946902654867255
         },
         {
          "clicks": 39,
          "ctr": 0.12956810631229235,
          "impressions": 301,
          "position": 3.717607973421927
         },
         {
          "clicks": 39,
          "ctr": 0.01989795918367347,
          "impressions": 1960,
          "position": 1.4428571428571428
         },
         {
          "clicks": 39,
          "ctr": 0.2215909090909091,
          "impressions": 176,
          "position": 2.5170454545454546
         },
         {
          "clicks": 39,
          "ctr": 0.375,
          "impressions": 104,
          "position": 2.105769230769231
         },
         {
          "clicks": 39,
          "ctr": 0.05019305019305019,
          "impressions": 777,
          "position": 3.1583011583011578
         },
         {
          "clicks": 39,
          "ctr": 0.025913621262458476,
          "impressions": 1505,
          "position": 8.316279069767443
         },
         {
          "clicks": 39,
          "ctr": 0.3023255813953488,
          "impressions": 129,
          "position": 5.054263565891473
         },
         {
          "clicks": 39,
          "ctr": 0.0924170616113744,
          "impressions": 422,
          "position": 5.876777251184834
         },
         {
          "clicks": 39,
          "ctr": 0.14391143911439114,
          "impressions": 271,
          "position": 5.4464944649446485
         },
         {
          "clicks": 39,
          "ctr": 0.06782608695652173,
          "impressions": 575,
          "position": 4.328695652173913
         },
         {
          "clicks": 39,
          "ctr": 0.22285714285714286,
          "impressions": 175,
          "position": 3.32
         },
         {
          "clicks": 39,
          "ctr": 0.17727272727272728,
          "impressions": 220,
          "position": 4.363636363636363
         },
         {
          "clicks": 39,
          "ctr": 0.017719218537028625,
          "impressions": 2201,
          "position": 7.986369831894593
         },
         {
          "clicks": 39,
          "ctr": 0.2977099236641221,
          "impressions": 131,
          "position": 4.679389312977099
         },
         {
          "clicks": 39,
          "ctr": 0.19796954314720813,
          "impressions": 197,
          "position": 3.7157360406091366
         },
         {
          "clicks": 39,
          "ctr": 0.08764044943820225,
          "impressions": 445,
          "position": 1.838202247191011
         },
         {
          "clicks": 39,
          "ctr": 0.17410714285714285,
          "impressions": 224,
          "position": 4.598214285714286
         },
         {
          "clicks": 39,
          "ctr": 0.09307875894988067,
          "impressions": 419,
          "position": 6.1026252983293565
         },
         {
          "clicks": 39,
          "ctr": 0.22285714285714286,
          "impressions": 175,
          "position": 5.1657142857142855
         },
         {
          "clicks": 38,
          "ctr": 0.027879677182685254,
          "impressions": 1363,
          "position": 3.2611885546588413
         },
         {
          "clicks": 38,
          "ctr": 0.005023132848645076,
          "impressions": 7565,
          "position": 1.1988103106411103
         },
         {
          "clicks": 38,
          "ctr": 0.2345679012345679,
          "impressions": 162,
          "position": 3.5246913580246915
         },
         {
          "clicks": 38,
          "ctr": 0.03270223752151463,
          "impressions": 1162,
          "position": 8.1144578313253
         },
         {
          "clicks": 38,
          "ctr": 0.07063197026022305,
          "impressions": 538,
          "position": 5.1133828996282515
         },
         {
          "clicks": 38,
          "ctr": 0.024967148488830485,
          "impressions": 1522,
          "position": 6.351511169513798
         },
         {
          "clicks": 38,
          "ctr": 0.20320855614973266,
          "impressions": 187,
          "position": 3.5614973262032086
         },
         {
          "clicks": 38,
          "ctr": 0.06451612903225806,
          "impressions": 589,
          "position": 3.775891341256367
         },
         {
          "clicks": 38,
          "ctr": 0.03865717192268565,
          "impressions": 983,
          "position": 4.6581892166836205
         },
         {
          "clicks": 38,
          "ctr": 0.06050955414012739,
          "impressions": 628,
          "position": 1.4394904458598727
         },
         {
          "clicks": 38,
          "ctr": 0.2345679012345679,
          "impressions": 162,
          "position": 1.6913580246913582
         },
         {
          "clicks": 38,
          "ctr": 0.2122905027932961,
          "impressions": 179,
          "position": 3.089385474860335
         },
         {
          "clicks": 38,
          "ctr": 0.10826210826210826,
          "impressions": 351,
          "position": 3.660968660968661
         },
         {
          "clicks": 38,
          "ctr": 0.3584905660377358,
          "impressions": 106,
          "position": 3.3679245283018866
         },
         {
          "clicks": 38,
          "ctr": 0.2602739726027397,
          "impressions": 146,
          "position": 1.958904109589041
         },
         {
          "clicks": 38,
          "ctr": 0.2585034013605442,
          "impressions": 147,
          "position": 3.578231292517007
         },
         {
          "clicks": 38,
          "ctr": 0.23170731707317074,
          "impressions": 164,
          "position": 4.6951219512195115
         },
         {
          "clicks": 38,
          "ctr": 0.3114754098360656,
          "impressions": 122,
          "position": 2.9262295081967213
         },
         {
          "clicks": 37,
          "ctr": 0.00509922822491731,
          "impressions": 7256,
          "position": 1.0898566703417858
         },
         {
          "clicks": 37,
          "ctr": 0.013157894736842105,
          "impressions": 2812,
          "position": 4.661806543385492
         },
         {
          "clicks": 37,
          "ctr": 0.05196629213483146,
          "impressions": 712,
          "position": 6.012640449438202
         },
         {
          "clicks": 37,
          "ctr": 0.04143337066069429,
          "impressions": 893,
          "position": 4.718924972004481
         },
         {
          "clicks": 37,
          "ctr": 0.025412087912087912,
          "impressions": 1456,
          "position": 8.167582417582418
         },
         {
          "clicks": 37,
          "ctr": 0.09090909090909093,
          "impressions": 407,
          "position": 3.4938574938574933
         },
         {
          "clicks": 37,
          "ctr": 0.3557692307692308,
          "impressions": 104,
          "position": 2.3653846153846154
         },
         {
          "clicks": 37,
          "ctr": 0.18226600985221675,
          "impressions": 203,
          "position": 7.931034482758621
         },
         {
          "clicks": 37,
          "ctr": 0.013328530259365994,
          "impressions": 2776,
          "position": 5.647334293948128
         },
         {
          "clicks": 37,
          "ctr": 0.26811594202898553,
          "impressions": 138,
          "position": 8.673913043478262
         },
         {
          "clicks": 37,
          "ctr": 0.04143337066069429,
          "impressions": 893,
          "position": 2.9977603583426653
         },
         {
          "clicks": 37,
          "ctr": 0.0891566265060241,
          "impressions": 415,
          "position": 4.669879518072289
         },
         {
          "clicks": 37,
          "ctr": 0.010114816839803172,
          "impressions": 3658,
          "position": 5.073810825587753
         },
         {
          "clicks": 37,
          "ctr": 0.013153217205830077,
          "impressions": 2813,
          "position": 8.574831141130467
         },
         {
          "clicks": 36,
          "ctr": 0.13382899628252787,
          "impressions": 269,
          "position": 4.111524163568774
         },
         {
          "clicks": 36,
          "ctr": 0.00914169629253428,
          "impressions": 3938,
          "position": 3.694007110208228
         },
         {
          "clicks": 36,
          "ctr": 0.3333333333333333,
          "impressions": 108,
          "position": 2.5462962962962963
         },
         {
          "clicks": 36,
          "ctr": 0.0207492795389049,
          "impressions": 1735,
          "position": 2.9371757925072046
         },
         {
          "clicks": 36,
          "ctr": 0.1111111111111111,
          "impressions": 324,
          "position": 6.435185185185184
         },
         {
          "clicks": 36,
          "ctr": 0.034220532319391636,
          "impressions": 1052,
          "position": 4.100760456273765
         },
         {
          "clicks": 36,
          "ctr": 0.18461538461538465,
          "impressions": 195,
          "position": 3.6769230769230767
         },
         {
          "clicks": 36,
          "ctr": 0.014018691588785048,
          "impressions": 2568,
          "position": 7.825545171339563
         },
         {
          "clicks": 36,
          "ctr": 0.1153846153846154,
          "impressions": 312,
          "position": 4.977564102564102
         },
         {
          "clicks": 36,
          "ctr": 0.33962264150943394,
          "impressions": 106,
          "position": 7.150943396226416
         },
         {
          "clicks": 36,
          "ctr": 0.017569546120058566,
          "impressions": 2049,
          "position": 6.345534407027818
         },
         {
          "clicks": 36,
          "ctr": 0.2975206611570248,
          "impressions": 121,
          "position": 1.9504132231404958
         },
         {
          "clicks": 36,
          "ctr": 0.06923076923076922,
          "impressions": 520,
          "position": 2.907692307692308
         },
         {
          "clicks": 36,
          "ctr": 0.03308823529411765,
          "impressions": 1088,
          "position": 6.1994485294117645
         },
         {
          "clicks": 36,
          "ctr": 0.20809248554913296,
          "impressions": 173,
          "position": 5.479768786127168
         },
         {
          "clicks": 36,
          "ctr": 0.08294930875576037,
          "impressions": 434,
          "position": 3.2580645161290325
         },
         {
          "clicks": 35,
          "ctr": 0.2413793103448276,
          "impressions": 145,
          "position": 3.703448275862069
         },
         {
          "clicks": 35,
          "ctr": 0.3365384615384616,
          "impressions": 104,
          "position": 1.8846153846153848
         },
         {
          "clicks": 35,
          "ctr": 0.0054255154239652775,
          "impressions": 6451,
          "position": 5.1161060300728565
         },
         {
          "clicks": 35,
          "ctr": 0.002881369885568453,
          "impressions": 12147,
          "position": 9.640405038281056
         },
         {
          "clicks": 35,
          "ctr": 0.002578458818329159,
          "impressions": 13574,
          "position": 5.634595550316782
         },
         {
          "clicks": 35,
          "ctr": 0.02304147465437788,
          "impressions": 1519,
          "position": 5.593153390388414
         },
         {
          "clicks": 35,
          "ctr": 0.2215189873417721,
          "impressions": 158,
          "position": 5.278481012658228
         },
         {
          "clicks": 35,
          "ctr": 0.3181818181818182,
          "impressions": 110,
          "position": 1.3
         },
         {
          "clicks": 35,
          "ctr": 0.02003434459072696,
          "impressions": 1747,
          "position": 2.109902690326273
         },
         {
          "clicks": 35,
          "ctr": 0.06294964028776978,
          "impressions": 556,
          "position": 4.5503597122302155
         },
         {
          "clicks": 35,
          "ctr": 0.2554744525547445,
          "impressions": 137,
          "position": 3.9270072992700733
         },
         {
          "clicks": 35,
          "ctr": 0.1715686274509804,
          "impressions": 204,
          "position": 3.127450980392157
         },
         {
          "clicks": 35,
          "ctr": 0.03954802259887006,
          "impressions": 885,
          "position": 2.135593220338983
         },
         {
          "clicks": 35,
          "ctr": 0.03941441441441442,
          "impressions": 888,
          "position": 9.079954954954957
         },
         {
          "clicks": 35,
          "ctr": 0.034619188921859535,
          "impressions": 1011,
          "position": 6.770524233432245
         },
         {
          "clicks": 35,
          "ctr": 0.09043927648578813,
          "impressions": 387,
          "position": 3.214470284237726
         },
         {
          "clicks": 35,
          "ctr": 0.19886363636363635,
          "impressions": 176,
          "position": 4.443181818181818
         },
         {
          "clicks": 35,
          "ctr": 0.06944444444444445,
          "impressions": 504,
          "position": 6.583333333333332
         },
         {
          "clicks": 35,
          "ctr": 0.01407884151246983,
          "impressions": 2486,
          "position": 5.080048270313757
         },
         {
          "clicks": 35,
          "ctr": 0.25735294117647056,
          "impressions": 136,
          "position": 3.7205882352941178
         },
         {
          "clicks": 35,
          "ctr": 0.1206896551724138,
          "impressions": 290,
          "position": 3.6206896551724137
         },
         {
          "clicks": 35,
          "ctr": 0.2364864864864865,
          "impressions": 148,
          "position": 2.3108108108108105
         },
         {
          "clicks": 35,
          "ctr": 0.09536784741144416,
          "impressions": 367,
          "position": 4.514986376021799
         },
         {
          "clicks": 35,
          "ctr": 0.11589403973509932,
          "impressions": 302,
          "position": 4.831125827814568
         },
         {
          "clicks": 35,
          "ctr": 0.09562841530054644,
          "impressions": 366,
          "position": 4.286885245901638
         },
         {
          "clicks": 35,
          "ctr": 0.3181818181818182,
          "impressions": 110,
          "position": 2.1
         },
         {
          "clicks": 34,
          "ctr": 0.1452991452991453,
          "impressions": 234,
          "position": 2.8974358974358974
         },
         {
          "clicks": 34,
          "ctr": 0.017391304347826087,
          "impressions": 1955,
          "position": 9.371355498721227
         },
         {
          "clicks": 34,
          "ctr": 0.13026819923371644,
          "impressions": 261,
          "position": 3.747126436781609
         },
         {
          "clicks": 34,
          "ctr": 0.3063063063063063,
          "impressions": 111,
          "position": 1.5675675675675675
         },
         {
          "clicks": 34,
          "ctr": 0.032882011605415866,
          "impressions": 1034,
          "position": 7.651837524177949
         },
         {
          "clicks": 34,
          "ctr": 0.04683195592286502,
          "impressions": 726,
          "position": 5.6707988980716255
         },
         {
          "clicks": 34,
          "ctr": 0.09018567639257294,
          "impressions": 377,
          "position": 5.1936339522546415
         },
         {
          "clicks": 34,
          "ctr": 0.03204524033930255,
          "impressions": 1061,
          "position": 1.7360980207351555
         },
         {
          "clicks": 34,
          "ctr": 0.022193211488250653,
          "impressions": 1532,
          "position": 2.8642297650130546
         },
         {
          "clicks": 34,
          "ctr": 0.019428571428571427,
          "impressions": 1750,
          "position": 1.621142857142857
         },
         {
          "clicks": 34,
          "ctr": 0.08877284595300261,
          "impressions": 383,
          "position": 3.185378590078329
         },
         {
          "clicks": 34,
          "ctr": 0.16748768472906406,
          "impressions": 203,
          "position": 3.3054187192118225
         },
         {
          "clicks": 34,
          "ctr": 0.13026819923371644,
          "impressions": 261,
          "position": 3.888888888888889
         },
         {
          "clicks": 34,
          "ctr": 0.0356020942408377,
          "impressions": 955,
          "position": 6.139267015706806
         },
         {
          "clicks": 34,
          "ctr": 0.2251655629139073,
          "impressions": 151,
          "position": 5.543046357615894
         },
         {
          "clicks": 34,
          "ctr": 0.024337866857551897,
          "impressions": 1397,
          "position": 6.0651395848246255
         },
         {
          "clicks": 34,
          "ctr": 0.24817518248175185,
          "impressions": 137,
          "position": 2.554744525547445
         },
         {
          "clicks": 34,
          "ctr": 0.2236842105263158,
          "impressions": 152,
          "position": 3.907894736842105
         },
         {
          "clicks": 34,
          "ctr": 0.013276064037485356,
          "impressions": 2561,
          "position": 2.5349472862163216
         },
         {
          "clicks": 34,
          "ctr": 0.3207547169811321,
          "impressions": 106,
          "position": 1.5
         },
         {
          "clicks": 34,
          "ctr": 0.2446043165467626,
          "impressions": 139,
          "position": 4.9208633093525185
         },
         {
          "clicks": 34,
          "ctr": 0.02426837972876517,
          "impressions": 1401,
          "position": 3.0014275517487508
         },
         {
          "clicks": 34,
          "ctr": 0.3333333333333333,
          "impressions": 102,
          "position": 1.715686274509804
         },
         {
          "clicks": 34,
          "ctr": 0.0011507090398348394,
          "impressions": 29547,
          "position": 2.1524689477781163
         },
         {
          "clicks": 34,
          "ctr": 0.14847161572052406,
          "impressions": 229,
          "position": 7.4410480349344965
         },
         {
          "clicks": 34,
          "ctr": 0.1122112211221122,
          "impressions": 303,
          "position": 3.99009900990099
         },
         {
          "clicks": 33,
          "ctr": 0.09428571428571428,
          "impressions": 350,
          "position": 2.7457142857142856
         },
         {
          "clicks": 33,
          "ctr": 0.14285714285714285,
          "impressions": 231,
          "position": 4.329004329004329
         },
         {
          "clicks": 33,
          "ctr": 0.01739588824459673,
          "impressions": 1897,
          "position": 4.338956246705323
         },
         {
          "clicks": 33,
          "ctr": 0.02782462057335582,
          "impressions": 1186,
          "position": 4.1214165261382805
         },
         {
          "clicks": 33,
          "ctr": 0.23404255319148934,
          "impressions": 141,
          "position": 1.0212765957446808
         },
         {
          "clicks": 33,
          "ctr": 0.11870503597122302,
          "impressions": 278,
          "position": 1.7482014388489209
         },
         {
          "clicks": 33,
          "ctr": 0.12087912087912088,
          "impressions": 273,
          "position": 4.835164835164836
         },
         {
          "clicks": 33,
          "ctr": 0.06903765690376569,
          "impressions": 478,
          "position": 2.1276150627615062
         },
         {
          "clicks": 33,
          "ctr": 0.125,
          "impressions": 264,
          "position": 2.7727272727272725
         },
         {
          "clicks": 33,
          "ctr": 0.2307692307692308,
          "impressions": 143,
          "position": 2.867132867132867
         },
         {
          "clicks": 33,
          "ctr": 0.015102974828375287,
          "impressions": 2185,
          "position": 8.620594965675057
         },
         {
          "clicks": 33,
          "ctr": 0.2578125,
          "impressions": 128,
          "position": 4.609375
         },
         {
          "clicks": 33,
          "ctr": 0.2894736842105263,
          "impressions": 114,
          "position": 3.4473684210526314
         },
         {
          "clicks": 33,
          "ctr": 0.226027397260274,
          "impressions": 146,
          "position": 3.3356164383561633
         },
         {
          "clicks": 33,
          "ctr": 0.25384615384615383,
          "impressions": 130,
          "position": 5.592307692307692
         },
         {
          "clicks": 33,
          "ctr": 0.08068459657701711,
          "impressions": 409,
          "position": 9.193154034229831
         },
         {
          "clicks": 33,
          "ctr": 0.015144561725562184,
          "impressions": 2179,
          "position": 5.5631023405231765
         },
         {
          "clicks": 33,
          "ctr": 0.19186046511627908,
          "impressions": 172,
          "position": 2.6395348837209305
         },
         {
          "clicks": 33,
          "ctr": 0.17553191489361702,
          "impressions": 188,
          "position": 3.877659574468085
         },
         {
          "clicks": 33,
          "ctr": 0.32038834951456313,
          "impressions": 103,
          "position": 2.5728155339805827
         },
         {
          "clicks": 33,
          "ctr": 0.10576923076923077,
          "impressions": 312,
          "position": 3.301282051282051
         },
         {
          "clicks": 33,
          "ctr": 0.024535315985130108,
          "impressions": 1345,
          "position": 3.7903345724907065
         },
         {
          "clicks": 33,
          "ctr": 0.01110363391655451,
          "impressions": 2972,
          "position": 9.314939434724092
         },
         {
          "clicks": 33,
          "ctr": 0.2426470588235294,
          "impressions": 136,
          "position": 1.3014705882352942
         },
         {
          "clicks": 33,
          "ctr": 0.21428571428571427,
          "impressions": 154,
          "position": 4.5649350649350655
         },
         {
          "clicks": 33,
          "ctr": 0.03775743707093822,
          "impressions": 874,
          "position": 1.9221967963386728
         },
         {
          "clicks": 33,
          "ctr": 0.15942028985507245,
          "impressions": 207,
          "position": 5.9178743961352644
         },
         {
          "clicks": 33,
          "ctr": 0.10377358490566037,
          "impressions": 318,
          "position": 4.773584905660377
         },
         {
          "clicks": 33,
          "ctr": 0.011410788381742738,
          "impressions": 2892,
          "position": 4.150069156293222
         },
         {
          "clicks": 33,
          "ctr": 0.013301088270858524,
          "impressions": 2481,
          "position": 7.577589681580008
         },
         {
          "clicks": 33,
          "ctr": 0.125,
          "impressions": 264,
          "position": 6.162878787878787
         },
         {
          "clicks": 32,
          "ctr": 0.016632016632016633,
          "impressions": 1924,
          "position": 5.191268191268192
         },
         {
          "clicks": 32,
          "ctr": 0.05237315875613748,
          "impressions": 611,
          "position": 6.945990180032733
         },
         {
          "clicks": 32,
          "ctr": 0.01455206912232833,
          "impressions": 2199,
          "position": 6.772169167803547
         },
         {
          "clicks": 32,
          "ctr": 0.031714568880079286,
          "impressions": 1009,
          "position": 4.061446977205153
         },
         {
          "clicks": 32,
          "ctr": 0.07289293849658314,
          "impressions": 439,
          "position": 5.995444191343965
         },
         {
          "clicks": 32,
          "ctr": 0.007457469121416919,
          "impressions": 4291,
          "position": 8.87415520857609
         },
         {
          "clicks": 32,
          "ctr": 0.22377622377622375,
          "impressions": 143,
          "position": 3.6713286713286712
         },
         {
          "clicks": 32,
          "ctr": 0.1015873015873016,
          "impressions": 315,
          "position": 4.996825396825397
         },
         {
          "clicks": 32,
          "ctr": 0.09302325581395347,
          "impressions": 344,
          "position": 6.593023255813954
         },
         {
          "clicks": 32,
          "ctr": 0.26229508196721313,
          "impressions": 122,
          "position": 3.565573770491804
         },
         {
          "clicks": 32,
          "ctr": 0.125,
          "impressions": 256,
          "position": 5.08203125
         },
         {
          "clicks": 32,
          "ctr": 0.15165876777251186,
          "impressions": 211,
          "position": 4.142180094786728
         },
         {
          "clicks": 32,
          "ctr": 0.012549019607843137,
          "impressions": 2550,
          "position": 3.491372549019608
         },
         {
          "clicks": 32,
          "ctr": 0.25806451612903225,
          "impressions": 124,
          "position": 1.8790322580645158
         },
         {
          "clicks": 32,
          "ctr": 0.03902439024390244,
          "impressions": 820,
          "position": 2.201219512195122
         },
         {
          "clicks": 31,
          "ctr": 0.1076388888888889,
          "impressions": 288,
          "position": 5.954861111111112
         },
         {
          "clicks": 31,
          "ctr": 0.015938303341902313,
          "impressions": 1945,
          "position": 9.901799485861183
         },
         {
          "clicks": 31,
          "ctr": 0.11231884057971014,
          "impressions": 276,
          "position": 4.173913043478262
         },
         {
          "clicks": 31,
          "ctr": 0.28703703703703703,
          "impressions": 108,
          "position": 1.2777777777777777
         },
         {
          "clicks": 31,
          "ctr": 0.03964194373401535,
          "impressions": 782,
          "position": 3.9309462915601023
         },
         {
          "clicks": 31,
          "ctr": 0.09627329192546584,
          "impressions": 322,
          "position": 5.155279503105589
         },
         {
          "clicks": 31,
          "ctr": 0.01988454137267479,
          "impressions": 1559,
          "position": 6.667735728030789
         },
         {
          "clicks": 31,
          "ctr": 0.035632183908045977,
          "impressions": 870,
          "position": 2.586206896551724
         },
         {
          "clicks": 31,
          "ctr": 0.055956678700361015,
          "impressions": 554,
          "position": 3.855595667870036
         },
         {
          "clicks": 31,
          "ctr": 0.13716814159292035,
          "impressions": 226,
          "position": 5.823008849557523
         },
         {
          "clicks": 31,
          "ctr": 0.056985294117647065,
          "impressions": 544,
          "position": 6.806985294117648
         },
         {
          "clicks": 31,
          "ctr": 0.16939890710382513,
          "impressions": 183,
          "position": 4.939890710382514
         },
         {
          "clicks": 31,
          "ctr": 0.05057096247960848,
          "impressions": 613,
          "position": 6.769983686786298
         },
         {
          "clicks": 31,
          "ctr": 0.12863070539419086,
          "impressions": 241,
          "position": 4.746887966804978
         },
         {
          "clicks": 31,
          "ctr": 0.16489361702127658,
          "impressions": 188,
          "position": 1.4893617021276595
         },
         {
          "clicks": 31,
          "ctr": 0.0047386120452461026,
          "impressions": 6542,
          "position": 8.465453989605624
         },
         {
          "clicks": 31,
          "ctr": 0.03681710213776722,
          "impressions": 842,
          "position": 9.112826603325416
         },
         {
          "clicks": 31,
          "ctr": 0.246031746031746,
          "impressions": 126,
          "position": 2.087301587301587
         },
         {
          "clicks": 31,
          "ctr": 0.015285996055226824,
          "impressions": 2028,
          "position": 6.666666666666668
         },
         {
          "clicks": 31,
          "ctr": 0.06326530612244897,
          "impressions": 490,
          "position": 8.93673469387755
         },
         {
          "clicks": 31,
          "ctr": 0.05183946488294314,
          "impressions": 598,
          "position": 9.643812709030101
         },
         {
          "clicks": 31,
          "ctr": 0.05984555984555984,
          "impressions": 518,
          "position": 3.3706563706563712
         },
         {
          "clicks": 31,
          "ctr": 0.0044412607449856745,
          "impressions": 6980,
          "position": 4.138538681948424
         },
         {
          "clicks": 31,
          "ctr": 0.2152777777777778,
          "impressions": 144,
          "position": 3.180555555555556
         },
         {
          "clicks": 31,
          "ctr": 0.08093994778067885,
          "impressions": 383,
          "position": 5.323759791122716
         },
         {
          "clicks": 31,
          "ctr": 0.02206405693950178,
          "impressions": 1405,
          "position": 8.437722419928825
         },
         {
          "clicks": 30,
          "ctr": 0.297029702970297,
          "impressions": 101,
          "position": 4.069306930693069
         },
         {
          "clicks": 30,
          "ctr": 0.14563106796116504,
          "impressions": 206,
          "position": 1
         },
         {
          "clicks": 30,
          "ctr": 0.037406483790523685,
          "impressions": 802,
          "position": 3.976309226932668
         },
         {
          "clicks": 30,
          "ctr": 0.12875536480686695,
          "impressions": 233,
          "position": 2.5193133047210297
         },
         {
          "clicks": 30,
          "ctr": 0.14354066985645933,
          "impressions": 209,
          "position": 4.0861244019138745
         },
         {
          "clicks": 30,
          "ctr": 0.16216216216216214,
          "impressions": 185,
          "position": 4.681081081081081
         },
         {
          "clicks": 30,
          "ctr": 0.08955223880597014,
          "impressions": 335,
          "position": 4.889552238805972
         },
         {
          "clicks": 30,
          "ctr": 0.04005340453938585,
          "impressions": 749,
          "position": 6.511348464619492
         },
         {
          "clicks": 30,
          "ctr": 0.17857142857142858,
          "impressions": 168,
          "position": 3.2142857142857144
         },
         {
          "clicks": 30,
          "ctr": 0.05607476635514018,
          "impressions": 535,
          "position": 3.0485981308411216
         },
         {
          "clicks": 30,
          "ctr": 0.06772009029345373,
          "impressions": 443,
          "position": 7.72686230248307
         },
         {
          "clicks": 30,
          "ctr": 0.07518796992481203,
          "impressions": 399,
          "position": 6.571428571428571
         },
         {
          "clicks": 30,
          "ctr": 0.026525198938992044,
          "impressions": 1131,
          "position": 3.2042440318302385
         },
         {
          "clicks": 30,
          "ctr": 0.20689655172413796,
          "impressions": 145,
          "position": 5.048275862068966
         },
         {
          "clicks": 30,
          "ctr": 0.1079136690647482,
          "impressions": 278,
          "position": 5.089928057553957
         },
         {
          "clicks": 30,
          "ctr": 0.2158273381294964,
          "impressions": 139,
          "position": 2.3812949640287773
         },
         {
          "clicks": 30,
          "ctr": 0.1973684210526316,
          "impressions": 152,
          "position": 4.302631578947368
         },
         {
          "clicks": 30,
          "ctr": 0.05309734513274336,
          "impressions": 565,
          "position": 1.9734513274336285
         },
         {
          "clicks": 30,
          "ctr": 0.1176470588235294,
          "impressions": 255,
          "position": 5.882352941176472
         },
         {
          "clicks": 30,
          "ctr": 0.11494252873563217,
          "impressions": 261,
          "position": 3.6398467432950192
         },
         {
          "clicks": 30,
          "ctr": 0.2255639097744361,
          "impressions": 133,
          "position": 5.496240601503758
         },
         {
          "clicks": 30,
          "ctr": 0.1056338028169014,
          "impressions": 284,
          "position": 5.295774647887324
         },
         {
          "clicks": 30,
          "ctr": 0.26548672566371684,
          "impressions": 113,
          "position": 2.601769911504425
         },
         {
          "clicks": 30,
          "ctr": 0.019404915912031046,
          "impressions": 1546,
          "position": 3.022639068564036
         },
         {
          "clicks": 30,
          "ctr": 0.14492753623188406,
          "impressions": 207,
          "position": 5.381642512077295
         },
         {
          "clicks": 30,
          "ctr": 0.1875,
          "impressions": 160,
          "position": 3.5625
         },
         {
          "clicks": 30,
          "ctr": 0.020746887966804982,
          "impressions": 1446,
          "position": 5.025587828492394
         },
         {
          "clicks": 30,
          "ctr": 0.01721170395869191,
          "impressions": 1743,
          "position": 5.818129661503155
         },
         {
          "clicks": 30,
          "ctr": 0.08086253369272238,
          "impressions": 371,
          "position": 6.579514824797844
         },
         {
          "clicks": 30,
          "ctr": 0.12605042016806722,
          "impressions": 238,
          "position": 6.3613445378151265
         },
         {
          "clicks": 29,
          "ctr": 0.010261854210898796,
          "impressions": 2826,
          "position": 7.3237791932059455
         },
         {
          "clicks": 29,
          "ctr": 0.17261904761904762,
          "impressions": 168,
          "position": 5.065476190476192
         },
         {
          "clicks": 29,
          "ctr": 0.054613935969868174,
          "impressions": 531,
          "position": 7.293785310734464
         },
         {
          "clicks": 29,
          "ctr": 0.03211517165005537,
          "impressions": 903,
          "position": 9.364341085271318
         },
         {
          "clicks": 29,
          "ctr": 0.023015873015873014,
          "impressions": 1260,
          "position": 8.436507936507939
         },
         {
          "clicks": 29,
          "ctr": 0.07213930348258707,
          "impressions": 402,
          "position": 5.106965174129353
         },
         {
          "clicks": 29,
          "ctr": 0.17682926829268292,
          "impressions": 164,
          "position": 1.6402439024390243
         },
         {
          "clicks": 29,
          "ctr": 0.017480409885473176,
          "impressions": 1659,
          "position": 5.657625075346594
         },
         {
          "clicks": 29,
          "ctr": 0.2416666666666667,
          "impressions": 120,
          "position": 1.025
         },
         {
          "clicks": 29,
          "ctr": 0.02482876712328767,
          "impressions": 1168,
          "position": 6.886130136986301
         },
         {
          "clicks": 29,
          "ctr": 0.25892857142857145,
          "impressions": 112,
          "position": 1.1428571428571428
         },
         {
          "clicks": 29,
          "ctr": 0.25892857142857145,
          "impressions": 112,
          "position": 1.1428571428571428
         },
         {
          "clicks": 29,
          "ctr": 0.07304785894206549,
          "impressions": 397,
          "position": 5.9496221662468525
         },
         {
          "clicks": 29,
          "ctr": 0.07512953367875648,
          "impressions": 386,
          "position": 7.484455958549223
         },
         {
          "clicks": 29,
          "ctr": 0.12946428571428573,
          "impressions": 224,
          "position": 5.7142857142857135
         },
         {
          "clicks": 29,
          "ctr": 0.0675990675990676,
          "impressions": 429,
          "position": 6.531468531468532
         },
         {
          "clicks": 29,
          "ctr": 0.049403747870528106,
          "impressions": 587,
          "position": 5.160136286201023
         },
         {
          "clicks": 29,
          "ctr": 0.0237315875613748,
          "impressions": 1222,
          "position": 7.842880523731588
         },
         {
          "clicks": 29,
          "ctr": 0.18238993710691825,
          "impressions": 159,
          "position": 2.9371069182389937
         },
         {
          "clicks": 29,
          "ctr": 0.2396694214876033,
          "impressions": 121,
          "position": 4.752066115702481
         },
         {
          "clicks": 29,
          "ctr": 0.2735849056603773,
          "impressions": 106,
          "position": 2.320754716981132
         },
         {
          "clicks": 29,
          "ctr": 0.0053843297437801705,
          "impressions": 5386,
          "position": 6.366505755662828
         },
         {
          "clicks": 29,
          "ctr": 0.08978328173374613,
          "impressions": 323,
          "position": 7.21671826625387
         },
         {
          "clicks": 29,
          "ctr": 0.20567375886524825,
          "impressions": 141,
          "position": 3.333333333333333
         },
         {
          "clicks": 29,
          "ctr": 0.09034267912772584,
          "impressions": 321,
          "position": 8.713395638629283
         },
         {
          "clicks": 28,
          "ctr": 0.18421052631578946,
          "impressions": 152,
          "position": 2.6578947368421053
         },
         {
          "clicks": 28,
          "ctr": 0.15384615384615385,
          "impressions": 182,
          "position": 1.2307692307692308
         },
         {
          "clicks": 28,
          "ctr": 0.15217391304347827,
          "impressions": 184,
          "position": 6.902173913043479
         },
         {
          "clicks": 28,
          "ctr": 0.2153846153846154,
          "impressions": 130,
          "position": 4.223076923076923
         },
         {
          "clicks": 28,
          "ctr": 0.052830188679245285,
          "impressions": 530,
          "position": 6.235849056603772
         },
         {
          "clicks": 28,
          "ctr": 0.01702127659574468,
          "impressions": 1645,
          "position": 8.217021276595744
         },
         {
          "clicks": 28,
          "ctr": 0.0989399293286219,
          "impressions": 283,
          "position": 5.685512367491167
         },
         {
          "clicks": 28,
          "ctr": 0.07526881720430108,
          "impressions": 372,
          "position": 5.018817204301075
         },
         {
          "clicks": 28,
          "ctr": 0.07368421052631577,
          "impressions": 380,
          "position": 7.718421052631579
         },
         {
          "clicks": 28,
          "ctr": 0.012516763522574878,
          "impressions": 2237,
          "position": 8.518104604380866
         },
         {
          "clicks": 28,
          "ctr": 0.1564245810055866,
          "impressions": 179,
          "position": 4.815642458100559
         },
         {
          "clicks": 28,
          "ctr": 0.04301075268817205,
          "impressions": 651,
          "position": 7.439324116743473
         },
         {
          "clicks": 28,
          "ctr": 0.02626641651031895,
          "impressions": 1066,
          "position": 1.4418386491557222
         },
         {
          "clicks": 28,
          "ctr": 0.12334801762114538,
          "impressions": 227,
          "position": 4.7004405286343625
         },
         {
          "clicks": 28,
          "ctr": 0.0302049622437972,
          "impressions": 927,
          "position": 8.527508090614887
         },
         {
          "clicks": 28,
          "ctr": 0.10894941634241244,
          "impressions": 257,
          "position": 3.8949416342412455
         },
         {
          "clicks": 28,
          "ctr": 0.007639836289222373,
          "impressions": 3665,
          "position": 5.548158253751705
         },
         {
          "clicks": 28,
          "ctr": 0.25225225225225223,
          "impressions": 111,
          "position": 2.918918918918919
         },
         {
          "clicks": 28,
          "ctr": 0.03361344537815126,
          "impressions": 833,
          "position": 3.4453781512605044
         },
         {
          "clicks": 28,
          "ctr": 0.008615384615384615,
          "impressions": 3250,
          "position": 5.243384615384615
         },
         {
          "clicks": 28,
          "ctr": 0.014568158168574404,
          "impressions": 1922,
          "position": 9.171696149843912
         },
         {
          "clicks": 28,
          "ctr": 0.13930348258706468,
          "impressions": 201,
          "position": 3.2636815920398017
         },
         {
          "clicks": 28,
          "ctr": 0.02938090241343127,
          "impressions": 953,
          "position": 6.094438614900316
         },
         {
          "clicks": 28,
          "ctr": 0.2413793103448276,
          "impressions": 116,
          "position": 2.7931034482758617
         },
         {
          "clicks": 28,
          "ctr": 0.04674457429048414,
          "impressions": 599,
          "position": 5.185308848080132
         },
         {
          "clicks": 28,
          "ctr": 0.18791946308724836,
          "impressions": 149,
          "position": 3.657718120805369
         },
         {
          "clicks": 27,
          "ctr": 0.225,
          "impressions": 120,
          "position": 4.55
         },
         {
          "clicks": 27,
          "ctr": 0.014508328855454056,
          "impressions": 1861,
          "position": 8.216550241805482
         },
         {
          "clicks": 27,
          "ctr": 0.19708029197080293,
          "impressions": 137,
          "position": 5.613138686131387
         },
         {
          "clicks": 27,
          "ctr": 0.25961538461538464,
          "impressions": 104,
          "position": 2.8461538461538463
         },
         {
          "clicks": 27,
          "ctr": 0.08307692307692308,
          "impressions": 325,
          "position": 5.403076923076923
         },
         {
          "clicks": 27,
          "ctr": 0.009186798230690709,
          "impressions": 2939,
          "position": 8.238176250425315
         },
         {
          "clicks": 27,
          "ctr": 0.006903605216057275,
          "impressions": 3911,
          "position": 9.070058808488877
         },
         {
          "clicks": 27,
          "ctr": 0.19708029197080293,
          "impressions": 137,
          "position": 4.781021897810219
         },
         {
          "clicks": 27,
          "ctr": 0.16265060240963855,
          "impressions": 166,
          "position": 4.855421686746988
         },
         {
          "clicks": 27,
          "ctr": 0.13106796116504854,
          "impressions": 206,
          "position": 5.131067961165049
         },
         {
          "clicks": 27,
          "ctr": 0.10384615384615384,
          "impressions": 260,
          "position": 4.346153846153847
         },
         {
          "clicks": 27,
          "ctr": 0.15517241379310345,
          "impressions": 174,
          "position": 4.172413793103448
         },
         {
          "clicks": 27,
          "ctr": 0.1812080536912752,
          "impressions": 149,
          "position": 3.3959731543624163
         },
         {
          "clicks": 27,
          "ctr": 0.1134453781512605,
          "impressions": 238,
          "position": 3.6722689075630246
         },
         {
          "clicks": 27,
          "ctr": 0.21428571428571427,
          "impressions": 126,
          "position": 3.0476190476190474
         },
         {
          "clicks": 27,
          "ctr": 0.008294930875576038,
          "impressions": 3255,
          "position": 5.775115207373272
         },
         {
          "clicks": 27,
          "ctr": 0.2076923076923077,
          "impressions": 130,
          "position": 1.4615384615384617
         },
         {
          "clicks": 27,
          "ctr": 0.11637931034482757,
          "impressions": 232,
          "position": 2.5258620689655173
         },
         {
          "clicks": 27,
          "ctr": 0.2327586206896552,
          "impressions": 116,
          "position": 6.310344827586207
         },
         {
          "clicks": 27,
          "ctr": 0.01393188854489164,
          "impressions": 1938,
          "position": 7.702786377708978
         },
         {
          "clicks": 27,
          "ctr": 0.02741116751269036,
          "impressions": 985,
          "position": 1
         },
         {
          "clicks": 27,
          "ctr": 0.25961538461538464,
          "impressions": 104,
          "position": 3.1634615384615383
         },
         {
          "clicks": 27,
          "ctr": 0.023978685612788632,
          "impressions": 1126,
          "position": 5.847246891651865
         },
         {
          "clicks": 27,
          "ctr": 0.01731879409878127,
          "impressions": 1559,
          "position": 4.253367543296985
         },
         {
          "clicks": 27,
          "ctr": 0.135,
          "impressions": 200,
          "position": 3.855
         },
         {
          "clicks": 27,
          "ctr": 0.016938519447929738,
          "impressions": 1594,
          "position": 6.953575909661231
         },
         {
          "clicks": 26,
          "ctr": 0.17687074829931973,
          "impressions": 147,
          "position": 1.9795918367346936
         },
         {
          "clicks": 26,
          "ctr": 0.008974801518812565,
          "impressions": 2897,
          "position": 1.2744218156713842
         },
         {
          "clicks": 26,
          "ctr": 0.04311774461028192,
          "impressions": 603,
          "position": 3.487562189054726
         },
         {
          "clicks": 26,
          "ctr": 0.09352517985611512,
          "impressions": 278,
          "position": 6.014388489208633
         },
         {
          "clicks": 26,
          "ctr": 0.11206896551724138,
          "impressions": 232,
          "position": 1.012931034482759
         },
         {
          "clicks": 26,
          "ctr": 0.12935323383084574,
          "impressions": 201,
          "position": 5.2039800995024885
         },
         {
          "clicks": 26,
          "ctr": 0.18705035971223025,
          "impressions": 139,
          "position": 4.669064748201438
         },
         {
          "clicks": 26,
          "ctr": 0.25,
          "impressions": 104,
          "position": 1.1923076923076923
         },
         {
          "clicks": 26,
          "ctr": 0.0068583487206541815,
          "impressions": 3791,
          "position": 8.386441572144552
         },
         {
          "clicks": 26,
          "ctr": 0.19548872180451127,
          "impressions": 133,
          "position": 3.0902255639097747
         },
         {
          "clicks": 26,
          "ctr": 0.0187997107736804,
          "impressions": 1383,
          "position": 4.945770065075922
         },
         {
          "clicks": 26,
          "ctr": 0.05869074492099322,
          "impressions": 443,
          "position": 6.496613995485327
         },
         {
          "clicks": 26,
          "ctr": 0.09454545454545454,
          "impressions": 275,
          "position": 6.96
         },
         {
          "clicks": 26,
          "ctr": 0.19117647058823528,
          "impressions": 136,
          "position": 6.316176470588236
         },
         {
          "clicks": 26,
          "ctr": 0.05263157894736842,
          "impressions": 494,
          "position": 5.625506072874494
         },
         {
          "clicks": 26,
          "ctr": 0.06483790523690773,
          "impressions": 401,
          "position": 7.3017456359102235
         },
         {
          "clicks": 26,
          "ctr": 0.08724832214765099,
          "impressions": 298,
          "position": 2.25503355704698
         },
         {
          "clicks": 26,
          "ctr": 0.12560386473429952,
          "impressions": 207,
          "position": 2.42512077294686
         },
         {
          "clicks": 26,
          "ctr": 0.04340567612687813,
          "impressions": 599,
          "position": 8.065108514190317
         },
         {
          "clicks": 26,
          "ctr": 0.004042288557213929,
          "impressions": 6432,
          "position": 7.112251243781095
         },
         {
          "clicks": 26,
          "ctr": 0.10833333333333334,
          "impressions": 240,
          "position": 1
         },
         {
          "clicks": 26,
          "ctr": 0.1111111111111111,
          "impressions": 234,
          "position": 5.44871794871795
         },
         {
          "clicks": 26,
          "ctr": 0.04506065857885616,
          "impressions": 577,
          "position": 4.708838821490468
         },
         {
          "clicks": 26,
          "ctr": 0.004124365482233503,
          "impressions": 6304,
          "position": 1.710501269035533
         },
         {
          "clicks": 26,
          "ctr": 0.10400000000000001,
          "impressions": 250,
          "position": 5.356
         },
         {
          "clicks": 26,
          "ctr": 0.20800000000000002,
          "impressions": 125,
          "position": 4.848
         },
         {
          "clicks": 26,
          "ctr": 0.07761194029850746,
          "impressions": 335,
          "position": 7.035820895522388
         },
         {
          "clicks": 26,
          "ctr": 0.12935323383084574,
          "impressions": 201,
          "position": 6.945273631840797
         },
         {
          "clicks": 26,
          "ctr": 0.1306532663316583,
          "impressions": 199,
          "position": 3.190954773869347
         },
         {
          "clicks": 26,
          "ctr": 0.018505338078291814,
          "impressions": 1405,
          "position": 7.581494661921707
         },
         {
          "clicks": 26,
          "ctr": 0.022413793103448282,
          "impressions": 1160,
          "position": 7.225862068965517
         },
         {
          "clicks": 26,
          "ctr": 0.03874813710879285,
          "impressions": 671,
          "position": 7.35618479880775
         },
         {
          "clicks": 26,
          "ctr": 0.12264150943396225,
          "impressions": 212,
          "position": 1.8679245283018868
         },
         {
          "clicks": 26,
          "ctr": 0.0654911838790932,
          "impressions": 397,
          "position": 2.3400503778337534
         },
         {
          "clicks": 26,
          "ctr": 0.1390374331550802,
          "impressions": 187,
          "position": 3.6256684491978617
         },
         {
          "clicks": 26,
          "ctr": 0.1187214611872146,
          "impressions": 219,
          "position": 6.703196347031962
         },
         {
          "clicks": 26,
          "ctr": 0.06860158311345646,
          "impressions": 379,
          "position": 7.741424802110817
         },
         {
          "clicks": 26,
          "ctr": 0.2184873949579832,
          "impressions": 119,
          "position": 4.310924369747899
         },
         {
          "clicks": 25,
          "ctr": 0.01128158844765343,
          "impressions": 2216,
          "position": 9.639891696750905
         },
         {
          "clicks": 25,
          "ctr": 0.0505050505050505,
          "impressions": 495,
          "position": 3.511111111111111
         },
         {
          "clicks": 25,
          "ctr": 0.10683760683760683,
          "impressions": 234,
          "position": 3.4743589743589745
         },
         {
          "clicks": 25,
          "ctr": 0.10121457489878542,
          "impressions": 247,
          "position": 4.967611336032389
         },
         {
          "clicks": 25,
          "ctr": 0.1937984496124031,
          "impressions": 129,
          "position": 1
         },
         {
          "clicks": 25,
          "ctr": 0.018839487565938208,
          "impressions": 1327,
          "position": 9.131876412961569
         },
         {
          "clicks": 25,
          "ctr": 0.035868005738880916,
          "impressions": 697,
          "position": 4.4103299856527975
         },
         {
          "clicks": 25,
          "ctr": 0.18248175182481752,
          "impressions": 137,
          "position": 5.569343065693432
         },
         {
          "clicks": 25,
          "ctr": 0.07692307692307693,
          "impressions": 325,
          "position": 4.1230769230769235
         },
         {
          "clicks": 25,
          "ctr": 0.06265664160401002,
          "impressions": 399,
          "position": 7.030075187969924
         },
         {
          "clicks": 25,
          "ctr": 0.018642803877703208,
          "impressions": 1341,
          "position": 8.568232662192392
         },
         {
          "clicks": 25,
          "ctr": 0.09090909090909093,
          "impressions": 275,
          "position": 1
         },
         {
          "clicks": 25,
          "ctr": 0.12886597938144329,
          "impressions": 194,
          "position": 7.6701030927835046
         },
         {
          "clicks": 25,
          "ctr": 0.031685678073510776,
          "impressions": 789,
          "position": 8.70722433460076
         },
         {
          "clicks": 25,
          "ctr": 0.15625,
          "impressions": 160,
          "position": 4.50625
         },
         {
          "clicks": 25,
          "ctr": 0.03834355828220859,
          "impressions": 652,
          "position": 6.964723926380367
         },
         {
          "clicks": 25,
          "ctr": 0.12254901960784312,
          "impressions": 204,
          "position": 5.769607843137255
         },
         {
          "clicks": 25,
          "ctr": 0.05040322580645161,
          "impressions": 496,
          "position": 4.028225806451613
         },
         {
          "clicks": 25,
          "ctr": 0.12953367875647667,
          "impressions": 193,
          "position": 2.8652849740932638
         },
         {
          "clicks": 25,
          "ctr": 0.05980861244019139,
          "impressions": 418,
          "position": 5.239234449760765
         },
         {
          "clicks": 25,
          "ctr": 0.013157894736842105,
          "impressions": 1900,
          "position": 4.561052631578948
         },
         {
          "clicks": 25,
          "ctr": 0.03561253561253561,
          "impressions": 702,
          "position": 7.136752136752138
         },
         {
          "clicks": 25,
          "ctr": 0.05112474437627812,
          "impressions": 489,
          "position": 6.9427402862985685
         },
         {
          "clicks": 25,
          "ctr": 0.10460251046025104,
          "impressions": 239,
          "position": 3.6610878661087862
         },
         {
          "clicks": 25,
          "ctr": 0.011096316023080338,
          "impressions": 2253,
          "position": 2.7265867731913005
         },
         {
          "clicks": 25,
          "ctr": 0.2,
          "impressions": 125,
          "position": 1
         },
         {
          "clicks": 25,
          "ctr": 0.12953367875647667,
          "impressions": 193,
          "position": 5.3160621761658025
         },
         {
          "clicks": 25,
          "ctr": 0.2427184466019417,
          "impressions": 103,
          "position": 2.41747572815534
         },
         {
          "clicks": 25,
          "ctr": 0.045372050816696916,
          "impressions": 551,
          "position": 4.94010889292196
         },
         {
          "clicks": 25,
          "ctr": 0.01425313568985177,
          "impressions": 1754,
          "position": 9.23261117445838
         },
         {
          "clicks": 25,
          "ctr": 0.17857142857142858,
          "impressions": 140,
          "position": 4.085714285714285
         },
         {
          "clicks": 25,
          "ctr": 0.06596306068601583,
          "impressions": 379,
          "position": 4.965699208443271
         },
         {
          "clicks": 25,
          "ctr": 0.0038825904643578204,
          "impressions": 6439,
          "position": 7.800900760987731
         }
        ]
       },
       "height": 300,
       "layer": [
        {
         "data": {
          "name": "data-c1b2a677962be895723f7b3607bc6e40"
         },
         "encoding": {
          "x": {
           "field": "position",
           "scale": {
            "zero": false
           },
           "title": "Search Results Position",
           "type": "quantitative"
          },
          "y": {
           "axis": {
            "format": ".0%"
           },
           "field": "ctr",
           "title": null,
           "type": "quantitative"
          }
         },
         "mark": {
          "opacity": 0.3,
          "type": "circle"
         }
        },
        {
         "data": {
          "name": "data-991f457d461c11966050656cb9d9b78e"
         },
         "encoding": {
          "x": {
           "field": "position",
           "scale": {
            "zero": false
           },
           "type": "quantitative"
          },
          "y": {
           "field": "avg_ctr",
           "title": "Based on Search Results Position",
           "type": "quantitative"
          }
         },
         "mark": {
          "color": "darkred",
          "size": 4,
          "type": "line"
         }
        }
       ],
       "title": "Click-Through Rates",
       "width": 400
      },
      "image/png": "[encoded data removed]",
      "text/plain": [
       "<VegaLite 3 object>\n",
       "\n",
       "If you see this message, it means the renderer has not been properly enabled\n",
       "for the frontend that you are using. For more information, see\n",
       "https://altair-viz.github.io/user_guide/troubleshooting.html\n"
      ]
     },
     "execution_count": 12,
     "metadata": {},
     "output_type": "execute_result"
    }
   ],
   "source": [
    "base = alt.Chart(filtered).encode(\n",
    "x=alt.X('position', title='Search Results Position', scale=alt.Scale(zero=False)),\n",
    "y=alt.Y('ctr', title=None, axis=alt.Axis(format='.0%')))\n",
    "\n",
    "points = base.mark_circle(opacity=.3)\n",
    "\n",
    "line = alt.Chart(line_df).mark_line(size=4, color='darkred').encode(\n",
    "x=alt.X('position', scale=alt.Scale(zero=False)),\n",
    "y=alt.Y('avg_ctr', title='Based on Search Results Position'))\n",
    "\n",
    "points_line = (points + line).properties(title='Click-Through Rates', width=400)\n",
    "points_line"
   ]
  },
  {
   "cell_type": "code",
   "execution_count": 13,
   "metadata": {},
   "outputs": [],
   "source": [
    "points_line.save('scatter_line.png', scale_factor=3)"
   ]
  },
  {
   "cell_type": "markdown",
   "metadata": {},
   "source": [
    "---"
   ]
  },
  {
   "cell_type": "markdown",
   "metadata": {},
   "source": [
    "#### Box & Whisker Plot:"
   ]
  },
  {
   "cell_type": "code",
   "execution_count": 14,
   "metadata": {},
   "outputs": [
    {
     "name": "stderr",
     "output_type": "stream",
     "text": [
      "C:\\Users\\Mahmoud\\Miniconda3\\envs\\data_analysis\\lib\\site-packages\\ipykernel_launcher.py:4: SettingWithCopyWarning: \n",
      "A value is trying to be set on a copy of a slice from a DataFrame.\n",
      "Try using .loc[row_indexer,col_indexer] = value instead\n",
      "\n",
      "See the caveats in the documentation: http://pandas.pydata.org/pandas-docs/stable/user_guide/indexing.html#returning-a-view-versus-a-copy\n",
      "  after removing the cwd from sys.path.\n"
     ]
    }
   ],
   "source": [
    "combined = pd.DataFrame()\n",
    "for i in range(2,11):\n",
    "    df = filtered[(filtered.position < i) & (filtered.position >= i-1)]\n",
    "    df['Bin'] = np.full(len(df), i-1)\n",
    "    combined = pd.concat([combined, df])"
   ]
  },
  {
   "cell_type": "code",
   "execution_count": 15,
   "metadata": {},
   "outputs": [
    {
     "data": {
      "text/html": [
       "<div>\n",
       "<style scoped>\n",
       "    .dataframe tbody tr th:only-of-type {\n",
       "        vertical-align: middle;\n",
       "    }\n",
       "\n",
       "    .dataframe tbody tr th {\n",
       "        vertical-align: top;\n",
       "    }\n",
       "\n",
       "    .dataframe thead th {\n",
       "        text-align: right;\n",
       "    }\n",
       "</style>\n",
       "<table border=\"1\" class=\"dataframe\">\n",
       "  <thead>\n",
       "    <tr style=\"text-align: right;\">\n",
       "      <th></th>\n",
       "      <th>clicks</th>\n",
       "      <th>impressions</th>\n",
       "      <th>ctr</th>\n",
       "      <th>position</th>\n",
       "      <th>Bin</th>\n",
       "    </tr>\n",
       "  </thead>\n",
       "  <tbody>\n",
       "    <tr>\n",
       "      <th>0</th>\n",
       "      <td>23577</td>\n",
       "      <td>34451</td>\n",
       "      <td>0.684363</td>\n",
       "      <td>1.002641</td>\n",
       "      <td>1</td>\n",
       "    </tr>\n",
       "    <tr>\n",
       "      <th>7</th>\n",
       "      <td>4974</td>\n",
       "      <td>26812</td>\n",
       "      <td>0.185514</td>\n",
       "      <td>1.789833</td>\n",
       "      <td>1</td>\n",
       "    </tr>\n",
       "    <tr>\n",
       "      <th>9</th>\n",
       "      <td>4707</td>\n",
       "      <td>11014</td>\n",
       "      <td>0.427365</td>\n",
       "      <td>1.042037</td>\n",
       "      <td>1</td>\n",
       "    </tr>\n",
       "    <tr>\n",
       "      <th>14</th>\n",
       "      <td>3827</td>\n",
       "      <td>32282</td>\n",
       "      <td>0.118549</td>\n",
       "      <td>1.002974</td>\n",
       "      <td>1</td>\n",
       "    </tr>\n",
       "    <tr>\n",
       "      <th>16</th>\n",
       "      <td>3621</td>\n",
       "      <td>9636</td>\n",
       "      <td>0.375778</td>\n",
       "      <td>1.501142</td>\n",
       "      <td>1</td>\n",
       "    </tr>\n",
       "  </tbody>\n",
       "</table>\n",
       "</div>"
      ],
      "text/plain": [
       "    clicks  impressions       ctr  position  Bin\n",
       "0    23577        34451  0.684363  1.002641    1\n",
       "7     4974        26812  0.185514  1.789833    1\n",
       "9     4707        11014  0.427365  1.042037    1\n",
       "14    3827        32282  0.118549  1.002974    1\n",
       "16    3621         9636  0.375778  1.501142    1"
      ]
     },
     "execution_count": 15,
     "metadata": {},
     "output_type": "execute_result"
    }
   ],
   "source": [
    "combined.head()"
   ]
  },
  {
   "cell_type": "code",
   "execution_count": 16,
   "metadata": {},
   "outputs": [
    {
     "data": {
      "application/vnd.vegalite.v3+json": {
       "$schema": "https://vega.github.io/schema/vega-lite/v3.4.0.json",
       "background": "white",
       "config": {
        "axisX": {
         "grid": false,
         "labelAngle": 0,
         "labelFont": "Lato",
         "labelFontSize": 13,
         "labelFontWeight": "bold",
         "ticks": false,
         "titleFont": "Lato",
         "titleFontSize": 13,
         "titleY": 20
        },
        "axisY": {
         "domainWidth": 0,
         "labelAlign": "left",
         "labelFont": "Lato",
         "labelFontSize": 13,
         "labelLimit": 100,
         "labelPadding": 30,
         "ticks": false,
         "titleAlign": "left",
         "titleAngle": 0,
         "titleFont": "Lato",
         "titleFontSize": 13,
         "titleX": -30,
         "titleY": -20
        },
        "title": {
         "anchor": "start",
         "font": "Lato",
         "fontSize": 20,
         "offset": 5
        },
        "view": {
         "strokeOpacity": 0
        }
       },
       "data": {
        "name": "data-3c1a9b705722cb8e4f48b768b4fcabff"
       },
       "datasets": {
        "data-3c1a9b705722cb8e4f48b768b4fcabff": [
         {
          "Bin": 1,
          "clicks": 23577,
          "ctr": 0.6843632985980088,
          "impressions": 34451,
          "position": 1.0026414327595716
         },
         {
          "Bin": 1,
          "clicks": 4974,
          "ctr": 0.18551394897806955,
          "impressions": 26812,
          "position": 1.7898329106370283
         },
         {
          "Bin": 1,
          "clicks": 4707,
          "ctr": 0.4273651715997821,
          "impressions": 11014,
          "position": 1.042037406936626
         },
         {
          "Bin": 1,
          "clicks": 3827,
          "ctr": 0.1185490366148318,
          "impressions": 32282,
          "position": 1.0029737934452636
         },
         {
          "Bin": 1,
          "clicks": 3621,
          "ctr": 0.3757783312577833,
          "impressions": 9636,
          "position": 1.5011415525114156
         },
         {
          "Bin": 1,
          "clicks": 2921,
          "ctr": 0.3141535814153581,
          "impressions": 9298,
          "position": 1.4321359432135945
         },
         {
          "Bin": 1,
          "clicks": 2619,
          "ctr": 0.30467659376454165,
          "impressions": 8596,
          "position": 1.8591205211726385
         },
         {
          "Bin": 1,
          "clicks": 2543,
          "ctr": 0.7512555391432791,
          "impressions": 3385,
          "position": 1.0144756277695717
         },
         {
          "Bin": 1,
          "clicks": 1768,
          "ctr": 0.2473073157084907,
          "impressions": 7149,
          "position": 1.2554203385088822
         },
         {
          "Bin": 1,
          "clicks": 1760,
          "ctr": 0.3848677017275312,
          "impressions": 4573,
          "position": 1.8657336540564182
         },
         {
          "Bin": 1,
          "clicks": 1580,
          "ctr": 0.15998379910895097,
          "impressions": 9876,
          "position": 1.1009518023491291
         },
         {
          "Bin": 1,
          "clicks": 1171,
          "ctr": 0.30470986208691125,
          "impressions": 3843,
          "position": 1.9084048920114491
         },
         {
          "Bin": 1,
          "clicks": 1104,
          "ctr": 0.16228134646479495,
          "impressions": 6803,
          "position": 1.6591209760399823
         },
         {
          "Bin": 1,
          "clicks": 1072,
          "ctr": 0.2952354723216745,
          "impressions": 3631,
          "position": 1.6422473147893142
         },
         {
          "Bin": 1,
          "clicks": 1068,
          "ctr": 0.37939609236234456,
          "impressions": 2815,
          "position": 1.1911190053285967
         },
         {
          "Bin": 1,
          "clicks": 1062,
          "ctr": 0.4449099287808965,
          "impressions": 2387,
          "position": 1.4281524926686218
         },
         {
          "Bin": 1,
          "clicks": 952,
          "ctr": 0.27277936962750715,
          "impressions": 3490,
          "position": 1.3315186246418338
         },
         {
          "Bin": 1,
          "clicks": 937,
          "ctr": 0.5956770502225047,
          "impressions": 1573,
          "position": 1.4335664335664335
         },
         {
          "Bin": 1,
          "clicks": 854,
          "ctr": 0.3674698795180723,
          "impressions": 2324,
          "position": 1.8253012048192767
         },
         {
          "Bin": 1,
          "clicks": 823,
          "ctr": 0.2672945761610913,
          "impressions": 3079,
          "position": 1.3825917505683665
         },
         {
          "Bin": 1,
          "clicks": 761,
          "ctr": 0.07540626238604836,
          "impressions": 10092,
          "position": 1.0618311533888227
         },
         {
          "Bin": 1,
          "clicks": 758,
          "ctr": 0.3877237851662404,
          "impressions": 1955,
          "position": 1.1606138107416881
         },
         {
          "Bin": 1,
          "clicks": 683,
          "ctr": 0.3117298037425833,
          "impressions": 2191,
          "position": 1.848014605203104
         },
         {
          "Bin": 1,
          "clicks": 662,
          "ctr": 0.07750848846739257,
          "impressions": 8541,
          "position": 1.9330289193302888
         },
         {
          "Bin": 1,
          "clicks": 630,
          "ctr": 0.5722070844686649,
          "impressions": 1101,
          "position": 1.008174386920981
         },
         {
          "Bin": 1,
          "clicks": 630,
          "ctr": 0.41365725541694026,
          "impressions": 1523,
          "position": 1.9586342744583056
         },
         {
          "Bin": 1,
          "clicks": 628,
          "ctr": 0.8103225806451613,
          "impressions": 775,
          "position": 1.0167741935483872
         },
         {
          "Bin": 1,
          "clicks": 624,
          "ctr": 0.5527015057573074,
          "impressions": 1129,
          "position": 1.1275465013286097
         },
         {
          "Bin": 1,
          "clicks": 618,
          "ctr": 0.492822966507177,
          "impressions": 1254,
          "position": 1.5893141945773523
         },
         {
          "Bin": 1,
          "clicks": 495,
          "ctr": 0.2203918076580588,
          "impressions": 2246,
          "position": 1.1438112199465718
         },
         {
          "Bin": 1,
          "clicks": 475,
          "ctr": 0.8574007220216606,
          "impressions": 554,
          "position": 1.0036101083032491
         },
         {
          "Bin": 1,
          "clicks": 464,
          "ctr": 0.8640595903165735,
          "impressions": 537,
          "position": 1
         },
         {
          "Bin": 1,
          "clicks": 456,
          "ctr": 0.7715736040609137,
          "impressions": 591,
          "position": 1
         },
         {
          "Bin": 1,
          "clicks": 432,
          "ctr": 0.015006252605252188,
          "impressions": 28788,
          "position": 1.0047589273308324
         },
         {
          "Bin": 1,
          "clicks": 429,
          "ctr": 0.017121647509578543,
          "impressions": 25056,
          "position": 1.0059466794380587
         },
         {
          "Bin": 1,
          "clicks": 415,
          "ctr": 0.19177449168207025,
          "impressions": 2164,
          "position": 1.1529574861367835
         },
         {
          "Bin": 1,
          "clicks": 414,
          "ctr": 0.7327433628318584,
          "impressions": 565,
          "position": 1
         },
         {
          "Bin": 1,
          "clicks": 410,
          "ctr": 0.5678670360110804,
          "impressions": 722,
          "position": 1.2257617728531855
         },
         {
          "Bin": 1,
          "clicks": 405,
          "ctr": 0.5532786885245902,
          "impressions": 732,
          "position": 1.151639344262295
         },
         {
          "Bin": 1,
          "clicks": 397,
          "ctr": 0.08130247798484537,
          "impressions": 4883,
          "position": 1.4226909686668032
         },
         {
          "Bin": 1,
          "clicks": 396,
          "ctr": 0.7360594795539034,
          "impressions": 538,
          "position": 1
         },
         {
          "Bin": 1,
          "clicks": 391,
          "ctr": 0.2975646879756469,
          "impressions": 1314,
          "position": 1.5806697108066972
         },
         {
          "Bin": 1,
          "clicks": 387,
          "ctr": 0.3682207421503329,
          "impressions": 1051,
          "position": 1.8001902949571835
         },
         {
          "Bin": 1,
          "clicks": 387,
          "ctr": 0.6526138279932546,
          "impressions": 593,
          "position": 1.0033726812816188
         },
         {
          "Bin": 1,
          "clicks": 377,
          "ctr": 0.6867030965391621,
          "impressions": 549,
          "position": 1.0455373406193078
         },
         {
          "Bin": 1,
          "clicks": 364,
          "ctr": 0.386411889596603,
          "impressions": 942,
          "position": 1.461783439490446
         },
         {
          "Bin": 1,
          "clicks": 363,
          "ctr": 0.2402382528127068,
          "impressions": 1511,
          "position": 1.0185307743216412
         },
         {
          "Bin": 1,
          "clicks": 362,
          "ctr": 0.383881230116649,
          "impressions": 943,
          "position": 1.7794273594909862
         },
         {
          "Bin": 1,
          "clicks": 355,
          "ctr": 0.4166666666666667,
          "impressions": 852,
          "position": 1.4107981220657275
         },
         {
          "Bin": 1,
          "clicks": 336,
          "ctr": 0.3758389261744967,
          "impressions": 894,
          "position": 1.046979865771812
         },
         {
          "Bin": 1,
          "clicks": 332,
          "ctr": 0.5389610389610391,
          "impressions": 616,
          "position": 1.0081168831168832
         },
         {
          "Bin": 1,
          "clicks": 316,
          "ctr": 0.3166332665330661,
          "impressions": 998,
          "position": 1.6763527054108216
         },
         {
          "Bin": 1,
          "clicks": 300,
          "ctr": 0.06030150753768844,
          "impressions": 4975,
          "position": 1.4739698492462312
         },
         {
          "Bin": 1,
          "clicks": 299,
          "ctr": 0.6348195329087049,
          "impressions": 471,
          "position": 1.9766454352441611
         },
         {
          "Bin": 1,
          "clicks": 299,
          "ctr": 0.3555291319857313,
          "impressions": 841,
          "position": 1.8430439952437572
         },
         {
          "Bin": 1,
          "clicks": 290,
          "ctr": 0.2388797364085667,
          "impressions": 1214,
          "position": 1.7907742998352554
         },
         {
          "Bin": 1,
          "clicks": 289,
          "ctr": 0.4358974358974359,
          "impressions": 663,
          "position": 1.7722473604826543
         },
         {
          "Bin": 1,
          "clicks": 277,
          "ctr": 0.2832310838445808,
          "impressions": 978,
          "position": 1.8916155419222904
         },
         {
          "Bin": 1,
          "clicks": 272,
          "ctr": 0.406576980568012,
          "impressions": 669,
          "position": 1.844544095665172
         },
         {
          "Bin": 1,
          "clicks": 268,
          "ctr": 0.2231473771856786,
          "impressions": 1201,
          "position": 1.5462114904246462
         },
         {
          "Bin": 1,
          "clicks": 262,
          "ctr": 0.8881355932203391,
          "impressions": 295,
          "position": 1.5694915254237287
         },
         {
          "Bin": 1,
          "clicks": 261,
          "ctr": 0.9094076655052264,
          "impressions": 287,
          "position": 1.0034843205574913
         },
         {
          "Bin": 1,
          "clicks": 261,
          "ctr": 0.6574307304785895,
          "impressions": 397,
          "position": 1.057934508816121
         },
         {
          "Bin": 1,
          "clicks": 253,
          "ctr": 0.012644310060472787,
          "impressions": 20009,
          "position": 1.0044479984007195
         },
         {
          "Bin": 1,
          "clicks": 253,
          "ctr": 0.20111287758346585,
          "impressions": 1258,
          "position": 1.3879173290937996
         },
         {
          "Bin": 1,
          "clicks": 252,
          "ctr": 0.016327588441104057,
          "impressions": 15434,
          "position": 1.253855125048594
         },
         {
          "Bin": 1,
          "clicks": 252,
          "ctr": 0.7138810198300283,
          "impressions": 353,
          "position": 1.0141643059490084
         },
         {
          "Bin": 1,
          "clicks": 247,
          "ctr": 0.33651226158038144,
          "impressions": 734,
          "position": 1.7520435967302452
         },
         {
          "Bin": 1,
          "clicks": 246,
          "ctr": 0.8395904436860068,
          "impressions": 293,
          "position": 1
         },
         {
          "Bin": 1,
          "clicks": 245,
          "ctr": 0.26952695269526955,
          "impressions": 909,
          "position": 1.2376237623762376
         },
         {
          "Bin": 1,
          "clicks": 241,
          "ctr": 0.1114708603145236,
          "impressions": 2162,
          "position": 1.1433857539315448
         },
         {
          "Bin": 1,
          "clicks": 240,
          "ctr": 0.7817589576547231,
          "impressions": 307,
          "position": 1
         },
         {
          "Bin": 1,
          "clicks": 240,
          "ctr": 0.583941605839416,
          "impressions": 411,
          "position": 1.094890510948905
         },
         {
          "Bin": 1,
          "clicks": 238,
          "ctr": 0.9049429657794676,
          "impressions": 263,
          "position": 1
         },
         {
          "Bin": 1,
          "clicks": 237,
          "ctr": 0.4610894941634242,
          "impressions": 514,
          "position": 1.4105058365758754
         },
         {
          "Bin": 1,
          "clicks": 231,
          "ctr": 0.8339350180505415,
          "impressions": 277,
          "position": 1
         },
         {
          "Bin": 1,
          "clicks": 230,
          "ctr": 0.5569007263922519,
          "impressions": 413,
          "position": 1.2687651331719128
         },
         {
          "Bin": 1,
          "clicks": 227,
          "ctr": 0.9153225806451613,
          "impressions": 248,
          "position": 1
         },
         {
          "Bin": 1,
          "clicks": 222,
          "ctr": 0.683076923076923,
          "impressions": 325,
          "position": 1.003076923076923
         },
         {
          "Bin": 1,
          "clicks": 221,
          "ctr": 0.014715674523904647,
          "impressions": 15018,
          "position": 1.0051937674790252
         },
         {
          "Bin": 1,
          "clicks": 216,
          "ctr": 0.526829268292683,
          "impressions": 410,
          "position": 1.6829268292682928
         },
         {
          "Bin": 1,
          "clicks": 215,
          "ctr": 0.6073446327683616,
          "impressions": 354,
          "position": 1.03954802259887
         },
         {
          "Bin": 1,
          "clicks": 212,
          "ctr": 0.9592760180995475,
          "impressions": 221,
          "position": 1
         },
         {
          "Bin": 1,
          "clicks": 209,
          "ctr": 0.023331100692118776,
          "impressions": 8958,
          "position": 1.005023442732753
         },
         {
          "Bin": 1,
          "clicks": 204,
          "ctr": 0.4340425531914894,
          "impressions": 470,
          "position": 1.6957446808510641
         },
         {
          "Bin": 1,
          "clicks": 204,
          "ctr": 0.4055666003976143,
          "impressions": 503,
          "position": 1.2107355864811131
         },
         {
          "Bin": 1,
          "clicks": 203,
          "ctr": 0.4776470588235294,
          "impressions": 425,
          "position": 1.9223529411764704
         },
         {
          "Bin": 1,
          "clicks": 195,
          "ctr": 0.7647058823529411,
          "impressions": 255,
          "position": 1.007843137254902
         },
         {
          "Bin": 1,
          "clicks": 195,
          "ctr": 0.5025773195876289,
          "impressions": 388,
          "position": 1.3402061855670104
         },
         {
          "Bin": 1,
          "clicks": 193,
          "ctr": 0.8464912280701754,
          "impressions": 228,
          "position": 1.4912280701754386
         },
         {
          "Bin": 1,
          "clicks": 192,
          "ctr": 0.9320388349514565,
          "impressions": 206,
          "position": 1
         },
         {
          "Bin": 1,
          "clicks": 192,
          "ctr": 0.9099526066350709,
          "impressions": 211,
          "position": 1.1895734597156398
         },
         {
          "Bin": 1,
          "clicks": 192,
          "ctr": 0.029762827468609518,
          "impressions": 6451,
          "position": 1.1238567663928074
         },
         {
          "Bin": 1,
          "clicks": 191,
          "ctr": 0.4910025706940874,
          "impressions": 389,
          "position": 1.3444730077120823
         },
         {
          "Bin": 1,
          "clicks": 190,
          "ctr": 0.33687943262411346,
          "impressions": 564,
          "position": 1.3634751773049645
         },
         {
          "Bin": 1,
          "clicks": 189,
          "ctr": 0.3423913043478261,
          "impressions": 552,
          "position": 1
         },
         {
          "Bin": 1,
          "clicks": 189,
          "ctr": 0.1903323262839879,
          "impressions": 993,
          "position": 1.9647532729103725
         },
         {
          "Bin": 1,
          "clicks": 183,
          "ctr": 0.3567251461988304,
          "impressions": 513,
          "position": 1.9571150097465888
         },
         {
          "Bin": 1,
          "clicks": 181,
          "ctr": 0.8701923076923077,
          "impressions": 208,
          "position": 1
         },
         {
          "Bin": 1,
          "clicks": 175,
          "ctr": 0.4691689008042895,
          "impressions": 373,
          "position": 1.8337801608579087
         },
         {
          "Bin": 1,
          "clicks": 172,
          "ctr": 0.2536873156342183,
          "impressions": 678,
          "position": 1.0132743362831858
         },
         {
          "Bin": 1,
          "clicks": 171,
          "ctr": 0.4150485436893204,
          "impressions": 412,
          "position": 1.3762135922330097
         },
         {
          "Bin": 1,
          "clicks": 169,
          "ctr": 0.8492462311557789,
          "impressions": 199,
          "position": 1
         },
         {
          "Bin": 1,
          "clicks": 168,
          "ctr": 0.9081081081081082,
          "impressions": 185,
          "position": 1
         },
         {
          "Bin": 1,
          "clicks": 168,
          "ctr": 0.5813148788927336,
          "impressions": 289,
          "position": 1.4325259515570934
         },
         {
          "Bin": 1,
          "clicks": 167,
          "ctr": 0.8789473684210526,
          "impressions": 190,
          "position": 1
         },
         {
          "Bin": 1,
          "clicks": 167,
          "ctr": 0.3591397849462365,
          "impressions": 465,
          "position": 1.5806451612903225
         },
         {
          "Bin": 1,
          "clicks": 164,
          "ctr": 0.3858823529411765,
          "impressions": 425,
          "position": 1.6894117647058824
         },
         {
          "Bin": 1,
          "clicks": 163,
          "ctr": 0.5582191780821918,
          "impressions": 292,
          "position": 1.5513698630136985
         },
         {
          "Bin": 1,
          "clicks": 159,
          "ctr": 0.940828402366864,
          "impressions": 169,
          "position": 1.017751479289941
         },
         {
          "Bin": 1,
          "clicks": 159,
          "ctr": 0.5145631067961165,
          "impressions": 309,
          "position": 1.6990291262135924
         },
         {
          "Bin": 1,
          "clicks": 159,
          "ctr": 0.3916256157635468,
          "impressions": 406,
          "position": 1.91871921182266
         },
         {
          "Bin": 1,
          "clicks": 157,
          "ctr": 0.31781376518218624,
          "impressions": 494,
          "position": 1.508097165991903
         },
         {
          "Bin": 1,
          "clicks": 154,
          "ctr": 0.5724907063197026,
          "impressions": 269,
          "position": 1.0408921933085502
         },
         {
          "Bin": 1,
          "clicks": 150,
          "ctr": 0.8823529411764706,
          "impressions": 170,
          "position": 1.1941176470588235
         },
         {
          "Bin": 1,
          "clicks": 149,
          "ctr": 0.004642467674092539,
          "impressions": 32095,
          "position": 1.0032403801215142
         },
         {
          "Bin": 1,
          "clicks": 148,
          "ctr": 0.4457831325301205,
          "impressions": 332,
          "position": 1.3072289156626506
         },
         {
          "Bin": 1,
          "clicks": 147,
          "ctr": 0.8909090909090909,
          "impressions": 165,
          "position": 1.0060606060606059
         },
         {
          "Bin": 1,
          "clicks": 144,
          "ctr": 0.602510460251046,
          "impressions": 239,
          "position": 1.2426778242677825
         },
         {
          "Bin": 1,
          "clicks": 141,
          "ctr": 0.17300613496932515,
          "impressions": 815,
          "position": 1.8098159509202452
         },
         {
          "Bin": 1,
          "clicks": 139,
          "ctr": 0.7988505747126436,
          "impressions": 174,
          "position": 1.132183908045977
         },
         {
          "Bin": 1,
          "clicks": 139,
          "ctr": 0.9391891891891893,
          "impressions": 148,
          "position": 1
         },
         {
          "Bin": 1,
          "clicks": 138,
          "ctr": 0.6330275229357798,
          "impressions": 218,
          "position": 1.68348623853211
         },
         {
          "Bin": 1,
          "clicks": 137,
          "ctr": 0.3682795698924731,
          "impressions": 372,
          "position": 1.9408602150537635
         },
         {
          "Bin": 1,
          "clicks": 136,
          "ctr": 0.5811965811965812,
          "impressions": 234,
          "position": 1.0128205128205128
         },
         {
          "Bin": 1,
          "clicks": 136,
          "ctr": 0.4822695035460993,
          "impressions": 282,
          "position": 1.574468085106383
         },
         {
          "Bin": 1,
          "clicks": 136,
          "ctr": 0.7010309278350515,
          "impressions": 194,
          "position": 1.0412371134020622
         },
         {
          "Bin": 1,
          "clicks": 136,
          "ctr": 0.5551020408163265,
          "impressions": 245,
          "position": 1.9183673469387756
         },
         {
          "Bin": 1,
          "clicks": 135,
          "ctr": 0.4485049833887043,
          "impressions": 301,
          "position": 1.0066445182724253
         },
         {
          "Bin": 1,
          "clicks": 134,
          "ctr": 0.5877192982456141,
          "impressions": 228,
          "position": 1.1535087719298245
         },
         {
          "Bin": 1,
          "clicks": 134,
          "ctr": 0.475177304964539,
          "impressions": 282,
          "position": 1.9361702127659572
         },
         {
          "Bin": 1,
          "clicks": 131,
          "ctr": 0.6064814814814815,
          "impressions": 216,
          "position": 1.425925925925926
         },
         {
          "Bin": 1,
          "clicks": 129,
          "ctr": 0.3146341463414634,
          "impressions": 410,
          "position": 1.148780487804878
         },
         {
          "Bin": 1,
          "clicks": 129,
          "ctr": 0.01319693094629156,
          "impressions": 9775,
          "position": 1.1025063938618926
         },
         {
          "Bin": 1,
          "clicks": 129,
          "ctr": 0.7818181818181819,
          "impressions": 165,
          "position": 1
         },
         {
          "Bin": 1,
          "clicks": 128,
          "ctr": 0.64,
          "impressions": 200,
          "position": 1.8
         },
         {
          "Bin": 1,
          "clicks": 127,
          "ctr": 0.3702623906705539,
          "impressions": 343,
          "position": 1.1895043731778423
         },
         {
          "Bin": 1,
          "clicks": 126,
          "ctr": 0.875,
          "impressions": 144,
          "position": 1
         },
         {
          "Bin": 1,
          "clicks": 126,
          "ctr": 0.6702127659574468,
          "impressions": 188,
          "position": 1.904255319148936
         },
         {
          "Bin": 1,
          "clicks": 124,
          "ctr": 0.492063492063492,
          "impressions": 252,
          "position": 1.6825396825396826
         },
         {
          "Bin": 1,
          "clicks": 120,
          "ctr": 0.5504587155963303,
          "impressions": 218,
          "position": 1.743119266055046
         },
         {
          "Bin": 1,
          "clicks": 120,
          "ctr": 0.055788005578800565,
          "impressions": 2151,
          "position": 1.0227801022780103
         },
         {
          "Bin": 1,
          "clicks": 120,
          "ctr": 0.29411764705882354,
          "impressions": 408,
          "position": 1.5049019607843137
         },
         {
          "Bin": 1,
          "clicks": 120,
          "ctr": 0.4240282685512368,
          "impressions": 283,
          "position": 1.8197879858657244
         },
         {
          "Bin": 1,
          "clicks": 119,
          "ctr": 0.38263665594855306,
          "impressions": 311,
          "position": 1.0739549839228295
         },
         {
          "Bin": 1,
          "clicks": 118,
          "ctr": 0.450381679389313,
          "impressions": 262,
          "position": 1.7938931297709924
         },
         {
          "Bin": 1,
          "clicks": 117,
          "ctr": 0.508695652173913,
          "impressions": 230,
          "position": 1.8608695652173912
         },
         {
          "Bin": 1,
          "clicks": 115,
          "ctr": 0.4771784232365146,
          "impressions": 241,
          "position": 1.1784232365145229
         },
         {
          "Bin": 1,
          "clicks": 114,
          "ctr": 0.7169811320754716,
          "impressions": 159,
          "position": 1.3584905660377358
         },
         {
          "Bin": 1,
          "clicks": 113,
          "ctr": 0.8897637795275591,
          "impressions": 127,
          "position": 1.1181102362204725
         },
         {
          "Bin": 1,
          "clicks": 113,
          "ctr": 0.1006233303650935,
          "impressions": 1123,
          "position": 1.9510240427426535
         },
         {
          "Bin": 1,
          "clicks": 112,
          "ctr": 0.12829324169530354,
          "impressions": 873,
          "position": 1.009163802978236
         },
         {
          "Bin": 1,
          "clicks": 112,
          "ctr": 0.10676835081029552,
          "impressions": 1049,
          "position": 1.51954242135367
         },
         {
          "Bin": 1,
          "clicks": 112,
          "ctr": 0.41791044776119396,
          "impressions": 268,
          "position": 1.7089552238805972
         },
         {
          "Bin": 1,
          "clicks": 110,
          "ctr": 0.03685092127303183,
          "impressions": 2985,
          "position": 1.4676716917922947
         },
         {
          "Bin": 1,
          "clicks": 109,
          "ctr": 0.3011049723756906,
          "impressions": 362,
          "position": 1.5883977900552486
         },
         {
          "Bin": 1,
          "clicks": 108,
          "ctr": 0.8709677419354839,
          "impressions": 124,
          "position": 1.0806451612903225
         },
         {
          "Bin": 1,
          "clicks": 108,
          "ctr": 0.4426229508196721,
          "impressions": 244,
          "position": 1.5081967213114753
         },
         {
          "Bin": 1,
          "clicks": 108,
          "ctr": 0.54,
          "impressions": 200,
          "position": 1.445
         },
         {
          "Bin": 1,
          "clicks": 108,
          "ctr": 0.003245679939894816,
          "impressions": 33275,
          "position": 1.999038317054846
         },
         {
          "Bin": 1,
          "clicks": 106,
          "ctr": 0.7969924812030075,
          "impressions": 133,
          "position": 1.5939849624060152
         },
         {
          "Bin": 1,
          "clicks": 106,
          "ctr": 0.3063583815028902,
          "impressions": 346,
          "position": 1.3583815028901731
         },
         {
          "Bin": 1,
          "clicks": 102,
          "ctr": 0.4615384615384616,
          "impressions": 221,
          "position": 1.972850678733032
         },
         {
          "Bin": 1,
          "clicks": 101,
          "ctr": 0.4122448979591837,
          "impressions": 245,
          "position": 1.6367346938775509
         },
         {
          "Bin": 1,
          "clicks": 97,
          "ctr": 0.9065420560747663,
          "impressions": 107,
          "position": 1
         },
         {
          "Bin": 1,
          "clicks": 97,
          "ctr": 0.04186447993094519,
          "impressions": 2317,
          "position": 1.5321536469572723
         },
         {
          "Bin": 1,
          "clicks": 97,
          "ctr": 0.38645418326693226,
          "impressions": 251,
          "position": 1.6733067729083664
         },
         {
          "Bin": 1,
          "clicks": 97,
          "ctr": 0.06501340482573728,
          "impressions": 1492,
          "position": 1.8739946380697048
         },
         {
          "Bin": 1,
          "clicks": 96,
          "ctr": 0.8421052631578947,
          "impressions": 114,
          "position": 1
         },
         {
          "Bin": 1,
          "clicks": 96,
          "ctr": 0.035437430786267994,
          "impressions": 2709,
          "position": 1.7914359542266518
         },
         {
          "Bin": 1,
          "clicks": 96,
          "ctr": 0.3764705882352941,
          "impressions": 255,
          "position": 1.3411764705882354
         },
         {
          "Bin": 1,
          "clicks": 96,
          "ctr": 0.2546419098143236,
          "impressions": 377,
          "position": 1.9204244031830242
         },
         {
          "Bin": 1,
          "clicks": 96,
          "ctr": 0.4383561643835616,
          "impressions": 219,
          "position": 1.1004566210045663
         },
         {
          "Bin": 1,
          "clicks": 95,
          "ctr": 0.42035398230088494,
          "impressions": 226,
          "position": 1.5265486725663715
         },
         {
          "Bin": 1,
          "clicks": 95,
          "ctr": 0.8715596330275229,
          "impressions": 109,
          "position": 1
         },
         {
          "Bin": 1,
          "clicks": 94,
          "ctr": 0.6266666666666667,
          "impressions": 150,
          "position": 1.92
         },
         {
          "Bin": 1,
          "clicks": 94,
          "ctr": 0.4895833333333333,
          "impressions": 192,
          "position": 1.34375
         },
         {
          "Bin": 1,
          "clicks": 93,
          "ctr": 0.5375722543352601,
          "impressions": 173,
          "position": 1.0751445086705202
         },
         {
          "Bin": 1,
          "clicks": 92,
          "ctr": 0.4816753926701571,
          "impressions": 191,
          "position": 1.3612565445026177
         },
         {
          "Bin": 1,
          "clicks": 92,
          "ctr": 0.5476190476190477,
          "impressions": 168,
          "position": 1.0654761904761905
         },
         {
          "Bin": 1,
          "clicks": 91,
          "ctr": 0.7459016393442623,
          "impressions": 122,
          "position": 1.0163934426229508
         },
         {
          "Bin": 1,
          "clicks": 90,
          "ctr": 0.8256880733944955,
          "impressions": 109,
          "position": 1.688073394495413
         },
         {
          "Bin": 1,
          "clicks": 89,
          "ctr": 0.3836206896551724,
          "impressions": 232,
          "position": 1.5689655172413794
         },
         {
          "Bin": 1,
          "clicks": 89,
          "ctr": 0.7542372881355932,
          "impressions": 118,
          "position": 1
         },
         {
          "Bin": 1,
          "clicks": 88,
          "ctr": 0.4170616113744076,
          "impressions": 211,
          "position": 1.5213270142180095
         },
         {
          "Bin": 1,
          "clicks": 88,
          "ctr": 0.5827814569536424,
          "impressions": 151,
          "position": 1.5629139072847682
         },
         {
          "Bin": 1,
          "clicks": 88,
          "ctr": 0.3928571428571429,
          "impressions": 224,
          "position": 1.8660714285714288
         },
         {
          "Bin": 1,
          "clicks": 87,
          "ctr": 0.08317399617590822,
          "impressions": 1046,
          "position": 1.3202676864244742
         },
         {
          "Bin": 1,
          "clicks": 87,
          "ctr": 0.5918367346938775,
          "impressions": 147,
          "position": 1.4693877551020411
         },
         {
          "Bin": 1,
          "clicks": 85,
          "ctr": 0.6589147286821705,
          "impressions": 129,
          "position": 1.2248062015503876
         },
         {
          "Bin": 1,
          "clicks": 85,
          "ctr": 0.4941860465116279,
          "impressions": 172,
          "position": 1.0290697674418603
         },
         {
          "Bin": 1,
          "clicks": 85,
          "ctr": 0.1868131868131868,
          "impressions": 455,
          "position": 1.2483516483516484
         },
         {
          "Bin": 1,
          "clicks": 84,
          "ctr": 0.4827586206896552,
          "impressions": 174,
          "position": 1.3045977011494254
         },
         {
          "Bin": 1,
          "clicks": 83,
          "ctr": 0.4585635359116022,
          "impressions": 181,
          "position": 1.4143646408839778
         },
         {
          "Bin": 1,
          "clicks": 83,
          "ctr": 0.50920245398773,
          "impressions": 163,
          "position": 1.177914110429448
         },
         {
          "Bin": 1,
          "clicks": 82,
          "ctr": 0.7884615384615384,
          "impressions": 104,
          "position": 1.0865384615384617
         },
         {
          "Bin": 1,
          "clicks": 81,
          "ctr": 0.4909090909090909,
          "impressions": 165,
          "position": 1.1333333333333333
         },
         {
          "Bin": 1,
          "clicks": 81,
          "ctr": 0.4090909090909091,
          "impressions": 198,
          "position": 1.5353535353535357
         },
         {
          "Bin": 1,
          "clicks": 80,
          "ctr": 0.6896551724137931,
          "impressions": 116,
          "position": 1.2672413793103448
         },
         {
          "Bin": 1,
          "clicks": 80,
          "ctr": 0.4519774011299435,
          "impressions": 177,
          "position": 1.6779661016949152
         },
         {
          "Bin": 1,
          "clicks": 79,
          "ctr": 0.6694915254237288,
          "impressions": 118,
          "position": 1.889830508474576
         },
         {
          "Bin": 1,
          "clicks": 79,
          "ctr": 0.5197368421052632,
          "impressions": 152,
          "position": 1.5197368421052633
         },
         {
          "Bin": 1,
          "clicks": 79,
          "ctr": 0.37264150943396224,
          "impressions": 212,
          "position": 1.9339622641509435
         },
         {
          "Bin": 1,
          "clicks": 79,
          "ctr": 0.7181818181818181,
          "impressions": 110,
          "position": 1.3090909090909093
         },
         {
          "Bin": 1,
          "clicks": 79,
          "ctr": 0.4702380952380952,
          "impressions": 168,
          "position": 1.6964285714285714
         },
         {
          "Bin": 1,
          "clicks": 78,
          "ctr": 0.7090909090909091,
          "impressions": 110,
          "position": 1.7545454545454544
         },
         {
          "Bin": 1,
          "clicks": 78,
          "ctr": 0.6554621848739496,
          "impressions": 119,
          "position": 1.0672268907563025
         },
         {
          "Bin": 1,
          "clicks": 78,
          "ctr": 0.6610169491525424,
          "impressions": 118,
          "position": 1.1271186440677967
         },
         {
          "Bin": 1,
          "clicks": 78,
          "ctr": 0.5864661654135338,
          "impressions": 133,
          "position": 1.9473684210526316
         },
         {
          "Bin": 1,
          "clicks": 77,
          "ctr": 0.6936936936936937,
          "impressions": 111,
          "position": 1
         },
         {
          "Bin": 1,
          "clicks": 75,
          "ctr": 0.6410256410256411,
          "impressions": 117,
          "position": 1
         },
         {
          "Bin": 1,
          "clicks": 75,
          "ctr": 0.3926701570680629,
          "impressions": 191,
          "position": 1.9528795811518325
         },
         {
          "Bin": 1,
          "clicks": 75,
          "ctr": 0.6048387096774194,
          "impressions": 124,
          "position": 1.1048387096774193
         },
         {
          "Bin": 1,
          "clicks": 74,
          "ctr": 0.4539877300613497,
          "impressions": 163,
          "position": 1.0368098159509205
         },
         {
          "Bin": 1,
          "clicks": 73,
          "ctr": 0.553030303030303,
          "impressions": 132,
          "position": 1.7575757575757576
         },
         {
          "Bin": 1,
          "clicks": 72,
          "ctr": 0.048,
          "impressions": 1500,
          "position": 1.034
         },
         {
          "Bin": 1,
          "clicks": 71,
          "ctr": 0.4355828220858896,
          "impressions": 163,
          "position": 1.8650306748466257
         },
         {
          "Bin": 1,
          "clicks": 70,
          "ctr": 0.6422018348623854,
          "impressions": 109,
          "position": 1.256880733944954
         },
         {
          "Bin": 1,
          "clicks": 69,
          "ctr": 0.5897435897435898,
          "impressions": 117,
          "position": 1.3846153846153846
         },
         {
          "Bin": 1,
          "clicks": 69,
          "ctr": 0.6634615384615384,
          "impressions": 104,
          "position": 1.4807692307692308
         },
         {
          "Bin": 1,
          "clicks": 68,
          "ctr": 0.591304347826087,
          "impressions": 115,
          "position": 1.252173913043478
         },
         {
          "Bin": 1,
          "clicks": 68,
          "ctr": 0.3655913978494624,
          "impressions": 186,
          "position": 1.0161290322580645
         },
         {
          "Bin": 1,
          "clicks": 68,
          "ctr": 0.4146341463414634,
          "impressions": 164,
          "position": 1.9878048780487805
         },
         {
          "Bin": 1,
          "clicks": 68,
          "ctr": 0.5619834710743802,
          "impressions": 121,
          "position": 1.7520661157024793
         },
         {
          "Bin": 1,
          "clicks": 67,
          "ctr": 0.03027564392227745,
          "impressions": 2213,
          "position": 1.2693176683235428
         },
         {
          "Bin": 1,
          "clicks": 67,
          "ctr": 0.4011976047904192,
          "impressions": 167,
          "position": 1.9461077844311376
         },
         {
          "Bin": 1,
          "clicks": 66,
          "ctr": 0.02643171806167401,
          "impressions": 2497,
          "position": 1.142971565879055
         },
         {
          "Bin": 1,
          "clicks": 66,
          "ctr": 0.04094292803970223,
          "impressions": 1612,
          "position": 1.7847394540942931
         },
         {
          "Bin": 1,
          "clicks": 65,
          "ctr": 0.5508474576271186,
          "impressions": 118,
          "position": 1.8813559322033897
         },
         {
          "Bin": 1,
          "clicks": 65,
          "ctr": 0.3186274509803921,
          "impressions": 204,
          "position": 1.5098039215686274
         },
         {
          "Bin": 1,
          "clicks": 65,
          "ctr": 0.04935459377372817,
          "impressions": 1317,
          "position": 1.2930903568716778
         },
         {
          "Bin": 1,
          "clicks": 64,
          "ctr": 0.03177755710029792,
          "impressions": 2014,
          "position": 1.6251241310824232
         },
         {
          "Bin": 1,
          "clicks": 64,
          "ctr": 0.5818181818181818,
          "impressions": 110,
          "position": 1.0818181818181818
         },
         {
          "Bin": 1,
          "clicks": 64,
          "ctr": 0.4050632911392405,
          "impressions": 158,
          "position": 1.3860759493670889
         },
         {
          "Bin": 1,
          "clicks": 63,
          "ctr": 0.08701657458563536,
          "impressions": 724,
          "position": 1.8798342541436464
         },
         {
          "Bin": 1,
          "clicks": 63,
          "ctr": 0.22419928825622776,
          "impressions": 281,
          "position": 1.6619217081850532
         },
         {
          "Bin": 1,
          "clicks": 63,
          "ctr": 0.014935988620199146,
          "impressions": 4218,
          "position": 1.5862968231389285
         },
         {
          "Bin": 1,
          "clicks": 62,
          "ctr": 0.23220973782771534,
          "impressions": 267,
          "position": 1.9775280898876404
         },
         {
          "Bin": 1,
          "clicks": 61,
          "ctr": 0.5,
          "impressions": 122,
          "position": 1.8852459016393444
         },
         {
          "Bin": 1,
          "clicks": 61,
          "ctr": 0.3160621761658031,
          "impressions": 193,
          "position": 1.9067357512953367
         },
         {
          "Bin": 1,
          "clicks": 61,
          "ctr": 0.5545454545454546,
          "impressions": 110,
          "position": 1.9545454545454544
         },
         {
          "Bin": 1,
          "clicks": 60,
          "ctr": 0.04291845493562232,
          "impressions": 1398,
          "position": 1.5915593705293276
         },
         {
          "Bin": 1,
          "clicks": 60,
          "ctr": 0.4,
          "impressions": 150,
          "position": 1.7733333333333334
         },
         {
          "Bin": 1,
          "clicks": 59,
          "ctr": 0.5086206896551724,
          "impressions": 116,
          "position": 1.7672413793103448
         },
         {
          "Bin": 1,
          "clicks": 59,
          "ctr": 0.20701754385964916,
          "impressions": 285,
          "position": 1.1052631578947367
         },
         {
          "Bin": 1,
          "clicks": 59,
          "ctr": 0.07239263803680981,
          "impressions": 815,
          "position": 1.2527607361963191
         },
         {
          "Bin": 1,
          "clicks": 59,
          "ctr": 0.5462962962962963,
          "impressions": 108,
          "position": 1.3888888888888888
         },
         {
          "Bin": 1,
          "clicks": 59,
          "ctr": 0.4244604316546763,
          "impressions": 139,
          "position": 1.3525179856115108
         },
         {
          "Bin": 1,
          "clicks": 58,
          "ctr": 0.03988995873452544,
          "impressions": 1454,
          "position": 1.9656121045392023
         },
         {
          "Bin": 1,
          "clicks": 58,
          "ctr": 0.5631067961165048,
          "impressions": 103,
          "position": 1.8737864077669903
         },
         {
          "Bin": 1,
          "clicks": 58,
          "ctr": 0.3118279569892473,
          "impressions": 186,
          "position": 1.1612903225806452
         },
         {
          "Bin": 1,
          "clicks": 58,
          "ctr": 0.3945578231292517,
          "impressions": 147,
          "position": 1.0816326530612246
         },
         {
          "Bin": 1,
          "clicks": 57,
          "ctr": 0.3131868131868132,
          "impressions": 182,
          "position": 1.9670329670329672
         },
         {
          "Bin": 1,
          "clicks": 57,
          "ctr": 0.4253731343283582,
          "impressions": 134,
          "position": 1.537313432835821
         },
         {
          "Bin": 1,
          "clicks": 57,
          "ctr": 0.4351145038167939,
          "impressions": 131,
          "position": 1.6946564885496185
         },
         {
          "Bin": 1,
          "clicks": 57,
          "ctr": 0.3851351351351352,
          "impressions": 148,
          "position": 1.3175675675675675
         },
         {
          "Bin": 1,
          "clicks": 56,
          "ctr": 0.4028776978417266,
          "impressions": 139,
          "position": 1.8417266187050358
         },
         {
          "Bin": 1,
          "clicks": 56,
          "ctr": 0.4057971014492754,
          "impressions": 138,
          "position": 1.4782608695652173
         },
         {
          "Bin": 1,
          "clicks": 55,
          "ctr": 0.027390438247011952,
          "impressions": 2008,
          "position": 1.406374501992032
         },
         {
          "Bin": 1,
          "clicks": 55,
          "ctr": 0.5092592592592593,
          "impressions": 108,
          "position": 1.4166666666666667
         },
         {
          "Bin": 1,
          "clicks": 54,
          "ctr": 0.12080536912751677,
          "impressions": 447,
          "position": 1.046979865771812
         },
         {
          "Bin": 1,
          "clicks": 54,
          "ctr": 0.13075060532687652,
          "impressions": 413,
          "position": 1.5714285714285714
         },
         {
          "Bin": 1,
          "clicks": 54,
          "ctr": 0.03052572074618428,
          "impressions": 1769,
          "position": 1.7738835500282646
         },
         {
          "Bin": 1,
          "clicks": 52,
          "ctr": 0.16455696202531644,
          "impressions": 316,
          "position": 1.4651898734177216
         },
         {
          "Bin": 1,
          "clicks": 52,
          "ctr": 0.35135135135135137,
          "impressions": 148,
          "position": 1.2905405405405406
         },
         {
          "Bin": 1,
          "clicks": 52,
          "ctr": 0.3076923076923077,
          "impressions": 169,
          "position": 1.5502958579881656
         },
         {
          "Bin": 1,
          "clicks": 50,
          "ctr": 0.16722408026755853,
          "impressions": 299,
          "position": 1.4414715719063544
         },
         {
          "Bin": 1,
          "clicks": 50,
          "ctr": 0.0015039855617386072,
          "impressions": 33245,
          "position": 1.001052789893217
         },
         {
          "Bin": 1,
          "clicks": 50,
          "ctr": 0.4901960784313725,
          "impressions": 102,
          "position": 1.7745098039215683
         },
         {
          "Bin": 1,
          "clicks": 49,
          "ctr": 0.1856060606060606,
          "impressions": 264,
          "position": 1.0037878787878791
         },
         {
          "Bin": 1,
          "clicks": 49,
          "ctr": 0.2149122807017544,
          "impressions": 228,
          "position": 1.6578947368421053
         },
         {
          "Bin": 1,
          "clicks": 49,
          "ctr": 0.2552083333333333,
          "impressions": 192,
          "position": 1.53125
         },
         {
          "Bin": 1,
          "clicks": 48,
          "ctr": 0.42105263157894735,
          "impressions": 114,
          "position": 1.9912280701754383
         },
         {
          "Bin": 1,
          "clicks": 47,
          "ctr": 0.03666146645865834,
          "impressions": 1282,
          "position": 1.931357254290172
         },
         {
          "Bin": 1,
          "clicks": 47,
          "ctr": 0.28484848484848485,
          "impressions": 165,
          "position": 1.8909090909090909
         },
         {
          "Bin": 1,
          "clicks": 45,
          "ctr": 0.09414225941422594,
          "impressions": 478,
          "position": 1.49163179916318
         },
         {
          "Bin": 1,
          "clicks": 45,
          "ctr": 0.4326923076923077,
          "impressions": 104,
          "position": 1.9038461538461535
         },
         {
          "Bin": 1,
          "clicks": 45,
          "ctr": 0.3543307086614173,
          "impressions": 127,
          "position": 1.748031496062992
         },
         {
          "Bin": 1,
          "clicks": 44,
          "ctr": 0.06043956043956044,
          "impressions": 728,
          "position": 1.370879120879121
         },
         {
          "Bin": 1,
          "clicks": 44,
          "ctr": 0.23783783783783785,
          "impressions": 185,
          "position": 1.2702702702702702
         },
         {
          "Bin": 1,
          "clicks": 44,
          "ctr": 0.19298245614035087,
          "impressions": 228,
          "position": 1.3552631578947367
         },
         {
          "Bin": 1,
          "clicks": 43,
          "ctr": 0.25,
          "impressions": 172,
          "position": 1.6918604651162792
         },
         {
          "Bin": 1,
          "clicks": 43,
          "ctr": 0.12684365781710916,
          "impressions": 339,
          "position": 1.0029498525073746
         },
         {
          "Bin": 1,
          "clicks": 43,
          "ctr": 0.044885177453027135,
          "impressions": 958,
          "position": 1.9832985386221296
         },
         {
          "Bin": 1,
          "clicks": 42,
          "ctr": 0.4,
          "impressions": 105,
          "position": 1.2571428571428571
         },
         {
          "Bin": 1,
          "clicks": 42,
          "ctr": 0.4158415841584158,
          "impressions": 101,
          "position": 1.1683168316831682
         },
         {
          "Bin": 1,
          "clicks": 41,
          "ctr": 0.405940594059406,
          "impressions": 101,
          "position": 1.4851485148514851
         },
         {
          "Bin": 1,
          "clicks": 41,
          "ctr": 0.3727272727272728,
          "impressions": 110,
          "position": 1.9545454545454544
         },
         {
          "Bin": 1,
          "clicks": 40,
          "ctr": 0.37735849056603776,
          "impressions": 106,
          "position": 1.169811320754717
         },
         {
          "Bin": 1,
          "clicks": 40,
          "ctr": 0.3883495145631068,
          "impressions": 103,
          "position": 1
         },
         {
          "Bin": 1,
          "clicks": 40,
          "ctr": 0.010875475802066341,
          "impressions": 3678,
          "position": 1.4741707449700925
         },
         {
          "Bin": 1,
          "clicks": 40,
          "ctr": 0.3883495145631068,
          "impressions": 103,
          "position": 1.6116504854368932
         },
         {
          "Bin": 1,
          "clicks": 39,
          "ctr": 0.01989795918367347,
          "impressions": 1960,
          "position": 1.4428571428571428
         },
         {
          "Bin": 1,
          "clicks": 39,
          "ctr": 0.08764044943820225,
          "impressions": 445,
          "position": 1.838202247191011
         },
         {
          "Bin": 1,
          "clicks": 38,
          "ctr": 0.005023132848645076,
          "impressions": 7565,
          "position": 1.1988103106411103
         },
         {
          "Bin": 1,
          "clicks": 38,
          "ctr": 0.06050955414012739,
          "impressions": 628,
          "position": 1.4394904458598727
         },
         {
          "Bin": 1,
          "clicks": 38,
          "ctr": 0.2345679012345679,
          "impressions": 162,
          "position": 1.6913580246913582
         },
         {
          "Bin": 1,
          "clicks": 38,
          "ctr": 0.2602739726027397,
          "impressions": 146,
          "position": 1.958904109589041
         },
         {
          "Bin": 1,
          "clicks": 37,
          "ctr": 0.00509922822491731,
          "impressions": 7256,
          "position": 1.0898566703417858
         },
         {
          "Bin": 1,
          "clicks": 36,
          "ctr": 0.2975206611570248,
          "impressions": 121,
          "position": 1.9504132231404958
         },
         {
          "Bin": 1,
          "clicks": 35,
          "ctr": 0.3365384615384616,
          "impressions": 104,
          "position": 1.8846153846153848
         },
         {
          "Bin": 1,
          "clicks": 35,
          "ctr": 0.3181818181818182,
          "impressions": 110,
          "position": 1.3
         },
         {
          "Bin": 1,
          "clicks": 34,
          "ctr": 0.3063063063063063,
          "impressions": 111,
          "position": 1.5675675675675675
         },
         {
          "Bin": 1,
          "clicks": 34,
          "ctr": 0.03204524033930255,
          "impressions": 1061,
          "position": 1.7360980207351555
         },
         {
          "Bin": 1,
          "clicks": 34,
          "ctr": 0.019428571428571427,
          "impressions": 1750,
          "position": 1.621142857142857
         },
         {
          "Bin": 1,
          "clicks": 34,
          "ctr": 0.3207547169811321,
          "impressions": 106,
          "position": 1.5
         },
         {
          "Bin": 1,
          "clicks": 34,
          "ctr": 0.3333333333333333,
          "impressions": 102,
          "position": 1.715686274509804
         },
         {
          "Bin": 1,
          "clicks": 33,
          "ctr": 0.23404255319148934,
          "impressions": 141,
          "position": 1.0212765957446808
         },
         {
          "Bin": 1,
          "clicks": 33,
          "ctr": 0.11870503597122302,
          "impressions": 278,
          "position": 1.7482014388489209
         },
         {
          "Bin": 1,
          "clicks": 33,
          "ctr": 0.2426470588235294,
          "impressions": 136,
          "position": 1.3014705882352942
         },
         {
          "Bin": 1,
          "clicks": 33,
          "ctr": 0.03775743707093822,
          "impressions": 874,
          "position": 1.9221967963386728
         },
         {
          "Bin": 1,
          "clicks": 32,
          "ctr": 0.25806451612903225,
          "impressions": 124,
          "position": 1.8790322580645158
         },
         {
          "Bin": 1,
          "clicks": 31,
          "ctr": 0.28703703703703703,
          "impressions": 108,
          "position": 1.2777777777777777
         },
         {
          "Bin": 1,
          "clicks": 31,
          "ctr": 0.16489361702127658,
          "impressions": 188,
          "position": 1.4893617021276595
         },
         {
          "Bin": 1,
          "clicks": 30,
          "ctr": 0.14563106796116504,
          "impressions": 206,
          "position": 1
         },
         {
          "Bin": 1,
          "clicks": 30,
          "ctr": 0.05309734513274336,
          "impressions": 565,
          "position": 1.9734513274336285
         },
         {
          "Bin": 1,
          "clicks": 29,
          "ctr": 0.17682926829268292,
          "impressions": 164,
          "position": 1.6402439024390243
         },
         {
          "Bin": 1,
          "clicks": 29,
          "ctr": 0.2416666666666667,
          "impressions": 120,
          "position": 1.025
         },
         {
          "Bin": 1,
          "clicks": 29,
          "ctr": 0.25892857142857145,
          "impressions": 112,
          "position": 1.1428571428571428
         },
         {
          "Bin": 1,
          "clicks": 29,
          "ctr": 0.25892857142857145,
          "impressions": 112,
          "position": 1.1428571428571428
         },
         {
          "Bin": 1,
          "clicks": 28,
          "ctr": 0.15384615384615385,
          "impressions": 182,
          "position": 1.2307692307692308
         },
         {
          "Bin": 1,
          "clicks": 28,
          "ctr": 0.02626641651031895,
          "impressions": 1066,
          "position": 1.4418386491557222
         },
         {
          "Bin": 1,
          "clicks": 27,
          "ctr": 0.2076923076923077,
          "impressions": 130,
          "position": 1.4615384615384617
         },
         {
          "Bin": 1,
          "clicks": 27,
          "ctr": 0.02741116751269036,
          "impressions": 985,
          "position": 1
         },
         {
          "Bin": 1,
          "clicks": 26,
          "ctr": 0.17687074829931973,
          "impressions": 147,
          "position": 1.9795918367346936
         },
         {
          "Bin": 1,
          "clicks": 26,
          "ctr": 0.008974801518812565,
          "impressions": 2897,
          "position": 1.2744218156713842
         },
         {
          "Bin": 1,
          "clicks": 26,
          "ctr": 0.11206896551724138,
          "impressions": 232,
          "position": 1.012931034482759
         },
         {
          "Bin": 1,
          "clicks": 26,
          "ctr": 0.25,
          "impressions": 104,
          "position": 1.1923076923076923
         },
         {
          "Bin": 1,
          "clicks": 26,
          "ctr": 0.10833333333333334,
          "impressions": 240,
          "position": 1
         },
         {
          "Bin": 1,
          "clicks": 26,
          "ctr": 0.004124365482233503,
          "impressions": 6304,
          "position": 1.710501269035533
         },
         {
          "Bin": 1,
          "clicks": 26,
          "ctr": 0.12264150943396225,
          "impressions": 212,
          "position": 1.8679245283018868
         },
         {
          "Bin": 1,
          "clicks": 25,
          "ctr": 0.1937984496124031,
          "impressions": 129,
          "position": 1
         },
         {
          "Bin": 1,
          "clicks": 25,
          "ctr": 0.09090909090909093,
          "impressions": 275,
          "position": 1
         },
         {
          "Bin": 1,
          "clicks": 25,
          "ctr": 0.2,
          "impressions": 125,
          "position": 1
         },
         {
          "Bin": 2,
          "clicks": 8763,
          "ctr": 0.2325883851788937,
          "impressions": 37676,
          "position": 2.349320522348445
         },
         {
          "Bin": 2,
          "clicks": 6834,
          "ctr": 0.13291323881206604,
          "impressions": 51417,
          "position": 2.7953595114456307
         },
         {
          "Bin": 2,
          "clicks": 4517,
          "ctr": 0.21379212419538052,
          "impressions": 21128,
          "position": 2.044206739871261
         },
         {
          "Bin": 2,
          "clicks": 3493,
          "ctr": 0.08412813102119461,
          "impressions": 41520,
          "position": 2.5981454720616566
         },
         {
          "Bin": 2,
          "clicks": 2784,
          "ctr": 0.2781496653012289,
          "impressions": 10009,
          "position": 2.278849035867719
         },
         {
          "Bin": 2,
          "clicks": 1973,
          "ctr": 0.3784042961258151,
          "impressions": 5214,
          "position": 2.00939777522056
         },
         {
          "Bin": 2,
          "clicks": 1886,
          "ctr": 0.18931941377233488,
          "impressions": 9962,
          "position": 2.5371411363180085
         },
         {
          "Bin": 2,
          "clicks": 1468,
          "ctr": 0.2662797025213133,
          "impressions": 5513,
          "position": 2.3192454199165606
         },
         {
          "Bin": 2,
          "clicks": 1260,
          "ctr": 0.07747171667486473,
          "impressions": 16264,
          "position": 2.837555336940482
         },
         {
          "Bin": 2,
          "clicks": 1069,
          "ctr": 0.2016981132075472,
          "impressions": 5300,
          "position": 2.4679245283018867
         },
         {
          "Bin": 2,
          "clicks": 1063,
          "ctr": 0.24186575654152445,
          "impressions": 4395,
          "position": 2.240500568828214
         },
         {
          "Bin": 2,
          "clicks": 1028,
          "ctr": 0.11768746422438466,
          "impressions": 8735,
          "position": 2.7748139668002287
         },
         {
          "Bin": 2,
          "clicks": 1002,
          "ctr": 0.34197952218430033,
          "impressions": 2930,
          "position": 2.745051194539249
         },
         {
          "Bin": 2,
          "clicks": 888,
          "ctr": 0.10802919708029196,
          "impressions": 8220,
          "position": 2.7669099756691002
         },
         {
          "Bin": 2,
          "clicks": 827,
          "ctr": 0.30997001499250376,
          "impressions": 2668,
          "position": 2.9872563718140928
         },
         {
          "Bin": 2,
          "clicks": 677,
          "ctr": 0.1517256835499776,
          "impressions": 4462,
          "position": 2.798072613177947
         },
         {
          "Bin": 2,
          "clicks": 667,
          "ctr": 0.2110759493670886,
          "impressions": 3160,
          "position": 2.3765822784810124
         },
         {
          "Bin": 2,
          "clicks": 660,
          "ctr": 0.21568627450980396,
          "impressions": 3060,
          "position": 2.491503267973856
         },
         {
          "Bin": 2,
          "clicks": 596,
          "ctr": 0.2082459818308875,
          "impressions": 2862,
          "position": 2.7092941998602376
         },
         {
          "Bin": 2,
          "clicks": 584,
          "ctr": 0.13333333333333333,
          "impressions": 4380,
          "position": 2.386986301369863
         },
         {
          "Bin": 2,
          "clicks": 444,
          "ctr": 0.13413897280966766,
          "impressions": 3310,
          "position": 2.976737160120846
         },
         {
          "Bin": 2,
          "clicks": 362,
          "ctr": 0.11580294305822135,
          "impressions": 3126,
          "position": 2.706653870761357
         },
         {
          "Bin": 2,
          "clicks": 358,
          "ctr": 0.2314156431803491,
          "impressions": 1547,
          "position": 2.8312863606981247
         },
         {
          "Bin": 2,
          "clicks": 356,
          "ctr": 0.12322602976808585,
          "impressions": 2889,
          "position": 2.6036690896503982
         },
         {
          "Bin": 2,
          "clicks": 345,
          "ctr": 0.3125,
          "impressions": 1104,
          "position": 2.3596014492753623
         },
         {
          "Bin": 2,
          "clicks": 330,
          "ctr": 0.3384615384615385,
          "impressions": 975,
          "position": 2.0164102564102557
         },
         {
          "Bin": 2,
          "clicks": 326,
          "ctr": 0.3090047393364929,
          "impressions": 1055,
          "position": 2.2398104265402843
         },
         {
          "Bin": 2,
          "clicks": 286,
          "ctr": 0.053789731051344734,
          "impressions": 5317,
          "position": 2.925333834869287
         },
         {
          "Bin": 2,
          "clicks": 284,
          "ctr": 0.2551662174303684,
          "impressions": 1113,
          "position": 2.3189577717879604
         },
         {
          "Bin": 2,
          "clicks": 282,
          "ctr": 0.010898971940944578,
          "impressions": 25874,
          "position": 2.288552214578341
         },
         {
          "Bin": 2,
          "clicks": 277,
          "ctr": 0.2598499061913696,
          "impressions": 1066,
          "position": 2.7420262664165103
         },
         {
          "Bin": 2,
          "clicks": 276,
          "ctr": 0.26640926640926643,
          "impressions": 1036,
          "position": 2.937258687258687
         },
         {
          "Bin": 2,
          "clicks": 244,
          "ctr": 0.3794712286158631,
          "impressions": 643,
          "position": 2.1632970451010887
         },
         {
          "Bin": 2,
          "clicks": 241,
          "ctr": 0.2583065380493033,
          "impressions": 933,
          "position": 2.139335476956056
         },
         {
          "Bin": 2,
          "clicks": 235,
          "ctr": 0.28519417475728154,
          "impressions": 824,
          "position": 2.5861650485436893
         },
         {
          "Bin": 2,
          "clicks": 223,
          "ctr": 0.04467147435897436,
          "impressions": 4992,
          "position": 2.7441907051282053
         },
         {
          "Bin": 2,
          "clicks": 209,
          "ctr": 0.3572649572649573,
          "impressions": 585,
          "position": 2.034188034188034
         },
         {
          "Bin": 2,
          "clicks": 208,
          "ctr": 0.2363636363636364,
          "impressions": 880,
          "position": 2.995454545454545
         },
         {
          "Bin": 2,
          "clicks": 208,
          "ctr": 0.12121212121212123,
          "impressions": 1716,
          "position": 2.7954545454545454
         },
         {
          "Bin": 2,
          "clicks": 202,
          "ctr": 0.2763337893296854,
          "impressions": 731,
          "position": 2.8331053351573185
         },
         {
          "Bin": 2,
          "clicks": 198,
          "ctr": 0.09806835066864784,
          "impressions": 2019,
          "position": 2.822684497275879
         },
         {
          "Bin": 2,
          "clicks": 186,
          "ctr": 0.03762135922330097,
          "impressions": 4944,
          "position": 2.682443365695793
         },
         {
          "Bin": 2,
          "clicks": 181,
          "ctr": 0.19032597266035756,
          "impressions": 951,
          "position": 2.95478443743428
         },
         {
          "Bin": 2,
          "clicks": 178,
          "ctr": 0.3242258652094718,
          "impressions": 549,
          "position": 2.9398907103825134
         },
         {
          "Bin": 2,
          "clicks": 177,
          "ctr": 0.3443579766536965,
          "impressions": 514,
          "position": 2.3229571984435795
         },
         {
          "Bin": 2,
          "clicks": 176,
          "ctr": 0.1164021164021164,
          "impressions": 1512,
          "position": 2.098544973544973
         },
         {
          "Bin": 2,
          "clicks": 173,
          "ctr": 0.5242424242424243,
          "impressions": 330,
          "position": 2.2212121212121207
         },
         {
          "Bin": 2,
          "clicks": 168,
          "ctr": 0.4732394366197183,
          "impressions": 355,
          "position": 2.36056338028169
         },
         {
          "Bin": 2,
          "clicks": 166,
          "ctr": 0.4345549738219896,
          "impressions": 382,
          "position": 2.1073298429319367
         },
         {
          "Bin": 2,
          "clicks": 165,
          "ctr": 0.3160919540229885,
          "impressions": 522,
          "position": 2.220306513409961
         },
         {
          "Bin": 2,
          "clicks": 164,
          "ctr": 0.4767441860465117,
          "impressions": 344,
          "position": 2.828488372093023
         },
         {
          "Bin": 2,
          "clicks": 161,
          "ctr": 0.7488372093023256,
          "impressions": 215,
          "position": 2.3488372093023253
         },
         {
          "Bin": 2,
          "clicks": 157,
          "ctr": 0.04373259052924791,
          "impressions": 3590,
          "position": 2.402228412256268
         },
         {
          "Bin": 2,
          "clicks": 156,
          "ctr": 0.037311647931116965,
          "impressions": 4181,
          "position": 2.3343697679980866
         },
         {
          "Bin": 2,
          "clicks": 156,
          "ctr": 0.3880597014925373,
          "impressions": 402,
          "position": 2.8980099502487566
         },
         {
          "Bin": 2,
          "clicks": 154,
          "ctr": 0.3384615384615385,
          "impressions": 455,
          "position": 2.221978021978022
         },
         {
          "Bin": 2,
          "clicks": 140,
          "ctr": 0.249554367201426,
          "impressions": 561,
          "position": 2.975044563279857
         },
         {
          "Bin": 2,
          "clicks": 137,
          "ctr": 0.049156799425905985,
          "impressions": 2787,
          "position": 2.5016146393972014
         },
         {
          "Bin": 2,
          "clicks": 135,
          "ctr": 0.3543307086614173,
          "impressions": 381,
          "position": 2.4514435695538057
         },
         {
          "Bin": 2,
          "clicks": 135,
          "ctr": 0.3221957040572792,
          "impressions": 419,
          "position": 2.7875894988066827
         },
         {
          "Bin": 2,
          "clicks": 134,
          "ctr": 0.4768683274021353,
          "impressions": 281,
          "position": 2.245551601423488
         },
         {
          "Bin": 2,
          "clicks": 133,
          "ctr": 0.26814516129032256,
          "impressions": 496,
          "position": 2.026209677419355
         },
         {
          "Bin": 2,
          "clicks": 129,
          "ctr": 0.004365925474667479,
          "impressions": 29547,
          "position": 2.152367414627543
         },
         {
          "Bin": 2,
          "clicks": 126,
          "ctr": 0.2641509433962264,
          "impressions": 477,
          "position": 2.5450733752620547
         },
         {
          "Bin": 2,
          "clicks": 124,
          "ctr": 0.3987138263665595,
          "impressions": 311,
          "position": 2.279742765273312
         },
         {
          "Bin": 2,
          "clicks": 124,
          "ctr": 0.038449612403100776,
          "impressions": 3225,
          "position": 2.1516279069767443
         },
         {
          "Bin": 2,
          "clicks": 124,
          "ctr": 0.3155216284987277,
          "impressions": 393,
          "position": 2.7913486005089054
         },
         {
          "Bin": 2,
          "clicks": 122,
          "ctr": 0.22344322344322345,
          "impressions": 546,
          "position": 2.9249084249084247
         },
         {
          "Bin": 2,
          "clicks": 119,
          "ctr": 0.1800302571860817,
          "impressions": 661,
          "position": 2.9803328290468984
         },
         {
          "Bin": 2,
          "clicks": 118,
          "ctr": 0.19471947194719472,
          "impressions": 606,
          "position": 2.841584158415841
         },
         {
          "Bin": 2,
          "clicks": 117,
          "ctr": 0.052678973435389465,
          "impressions": 2221,
          "position": 2.3102206213417382
         },
         {
          "Bin": 2,
          "clicks": 117,
          "ctr": 0.4624505928853755,
          "impressions": 253,
          "position": 2.292490118577075
         },
         {
          "Bin": 2,
          "clicks": 116,
          "ctr": 0.04489164086687306,
          "impressions": 2584,
          "position": 2.0390866873065017
         },
         {
          "Bin": 2,
          "clicks": 115,
          "ctr": 0.3709677419354839,
          "impressions": 310,
          "position": 2.2096774193548385
         },
         {
          "Bin": 2,
          "clicks": 114,
          "ctr": 0.18874172185430466,
          "impressions": 604,
          "position": 2.0364238410596025
         },
         {
          "Bin": 2,
          "clicks": 111,
          "ctr": 0.5285714285714286,
          "impressions": 210,
          "position": 2.9571428571428573
         },
         {
          "Bin": 2,
          "clicks": 110,
          "ctr": 0.44,
          "impressions": 250,
          "position": 2.468
         },
         {
          "Bin": 2,
          "clicks": 110,
          "ctr": 0.4198473282442748,
          "impressions": 262,
          "position": 2.65267175572519
         },
         {
          "Bin": 2,
          "clicks": 110,
          "ctr": 0.15873015873015872,
          "impressions": 693,
          "position": 2.923520923520924
         },
         {
          "Bin": 2,
          "clicks": 109,
          "ctr": 0.036601746138347886,
          "impressions": 2978,
          "position": 2.4395567494963064
         },
         {
          "Bin": 2,
          "clicks": 109,
          "ctr": 0.6089385474860335,
          "impressions": 179,
          "position": 2.044692737430168
         },
         {
          "Bin": 2,
          "clicks": 108,
          "ctr": 0.4595744680851064,
          "impressions": 235,
          "position": 2.6553191489361705
         },
         {
          "Bin": 2,
          "clicks": 108,
          "ctr": 0.45,
          "impressions": 240,
          "position": 2.425
         },
         {
          "Bin": 2,
          "clicks": 107,
          "ctr": 0.3977695167286245,
          "impressions": 269,
          "position": 2.2304832713754648
         },
         {
          "Bin": 2,
          "clicks": 106,
          "ctr": 0.3693379790940767,
          "impressions": 287,
          "position": 2.7909407665505226
         },
         {
          "Bin": 2,
          "clicks": 106,
          "ctr": 0.3202416918429003,
          "impressions": 331,
          "position": 2.9063444108761334
         },
         {
          "Bin": 2,
          "clicks": 105,
          "ctr": 0.18197573656845756,
          "impressions": 577,
          "position": 2.8890814558058926
         },
         {
          "Bin": 2,
          "clicks": 103,
          "ctr": 0.29178470254957506,
          "impressions": 353,
          "position": 2.951841359773371
         },
         {
          "Bin": 2,
          "clicks": 103,
          "ctr": 0.4007782101167315,
          "impressions": 257,
          "position": 2.6536964980544746
         },
         {
          "Bin": 2,
          "clicks": 103,
          "ctr": 0.4186991869918699,
          "impressions": 246,
          "position": 2.6463414634146343
         },
         {
          "Bin": 2,
          "clicks": 103,
          "ctr": 0.23732718894009214,
          "impressions": 434,
          "position": 2.9447004608294933
         },
         {
          "Bin": 2,
          "clicks": 102,
          "ctr": 0.2440191387559809,
          "impressions": 418,
          "position": 2.1650717703349285
         },
         {
          "Bin": 2,
          "clicks": 102,
          "ctr": 0.4377682403433477,
          "impressions": 233,
          "position": 2.133047210300429
         },
         {
          "Bin": 2,
          "clicks": 101,
          "ctr": 0.060226595110316035,
          "impressions": 1677,
          "position": 2.75968992248062
         },
         {
          "Bin": 2,
          "clicks": 100,
          "ctr": 0.04688232536333802,
          "impressions": 2133,
          "position": 2.191279887482419
         },
         {
          "Bin": 2,
          "clicks": 99,
          "ctr": 0.1542056074766355,
          "impressions": 642,
          "position": 2.451713395638629
         },
         {
          "Bin": 2,
          "clicks": 96,
          "ctr": 0.6808510638297872,
          "impressions": 141,
          "position": 2.0212765957446805
         },
         {
          "Bin": 2,
          "clicks": 95,
          "ctr": 0.2996845425867508,
          "impressions": 317,
          "position": 2.100946372239748
         },
         {
          "Bin": 2,
          "clicks": 95,
          "ctr": 0.5864197530864198,
          "impressions": 162,
          "position": 2.3271604938271606
         },
         {
          "Bin": 2,
          "clicks": 94,
          "ctr": 0.5433526011560693,
          "impressions": 173,
          "position": 2.1502890173410405
         },
         {
          "Bin": 2,
          "clicks": 93,
          "ctr": 0.25271739130434784,
          "impressions": 368,
          "position": 2.891304347826087
         },
         {
          "Bin": 2,
          "clicks": 93,
          "ctr": 0.11938382541720155,
          "impressions": 779,
          "position": 2.920410783055199
         },
         {
          "Bin": 2,
          "clicks": 93,
          "ctr": 0.19456066945606693,
          "impressions": 478,
          "position": 2.696652719665272
         },
         {
          "Bin": 2,
          "clicks": 92,
          "ctr": 0.03691813804173355,
          "impressions": 2492,
          "position": 2.2780898876404496
         },
         {
          "Bin": 2,
          "clicks": 91,
          "ctr": 0.245945945945946,
          "impressions": 370,
          "position": 2.6972972972972973
         },
         {
          "Bin": 2,
          "clicks": 91,
          "ctr": 0.2724550898203593,
          "impressions": 334,
          "position": 2.2005988023952097
         },
         {
          "Bin": 2,
          "clicks": 91,
          "ctr": 0.2964169381107492,
          "impressions": 307,
          "position": 2.283387622149837
         },
         {
          "Bin": 2,
          "clicks": 91,
          "ctr": 0.2898089171974522,
          "impressions": 314,
          "position": 2.4203821656050954
         },
         {
          "Bin": 2,
          "clicks": 88,
          "ctr": 0.002978305750160761,
          "impressions": 29547,
          "position": 2.1524689477781163
         },
         {
          "Bin": 2,
          "clicks": 86,
          "ctr": 0.4526315789473685,
          "impressions": 190,
          "position": 2.268421052631579
         },
         {
          "Bin": 2,
          "clicks": 85,
          "ctr": 0.5120481927710844,
          "impressions": 166,
          "position": 2.5120481927710845
         },
         {
          "Bin": 2,
          "clicks": 84,
          "ctr": 0.20388349514563106,
          "impressions": 412,
          "position": 2.2888349514563107
         },
         {
          "Bin": 2,
          "clicks": 84,
          "ctr": 0.20947630922693267,
          "impressions": 401,
          "position": 2.5910224438902745
         },
         {
          "Bin": 2,
          "clicks": 84,
          "ctr": 0.13228346456692913,
          "impressions": 635,
          "position": 2.6283464566929133
         },
         {
          "Bin": 2,
          "clicks": 84,
          "ctr": 0.029957203994293864,
          "impressions": 2804,
          "position": 2.491440798858773
         },
         {
          "Bin": 2,
          "clicks": 83,
          "ctr": 0.4345549738219896,
          "impressions": 191,
          "position": 2.8743455497382198
         },
         {
          "Bin": 2,
          "clicks": 82,
          "ctr": 0.4581005586592179,
          "impressions": 179,
          "position": 2.100558659217877
         },
         {
          "Bin": 2,
          "clicks": 82,
          "ctr": 0.5394736842105263,
          "impressions": 152,
          "position": 2.375
         },
         {
          "Bin": 2,
          "clicks": 81,
          "ctr": 0.17016806722689076,
          "impressions": 476,
          "position": 2.7857142857142856
         },
         {
          "Bin": 2,
          "clicks": 80,
          "ctr": 0.4166666666666667,
          "impressions": 192,
          "position": 2.130208333333333
         },
         {
          "Bin": 2,
          "clicks": 79,
          "ctr": 0.4072164948453608,
          "impressions": 194,
          "position": 2.2577319587628866
         },
         {
          "Bin": 2,
          "clicks": 79,
          "ctr": 0.3038461538461538,
          "impressions": 260,
          "position": 2.2076923076923083
         },
         {
          "Bin": 2,
          "clicks": 78,
          "ctr": 0.3107569721115538,
          "impressions": 251,
          "position": 2.3784860557768925
         },
         {
          "Bin": 2,
          "clicks": 78,
          "ctr": 0.34210526315789475,
          "impressions": 228,
          "position": 2.8070175438596485
         },
         {
          "Bin": 2,
          "clicks": 77,
          "ctr": 0.2972972972972973,
          "impressions": 259,
          "position": 2.0849420849420848
         },
         {
          "Bin": 2,
          "clicks": 77,
          "ctr": 0.4723926380368098,
          "impressions": 163,
          "position": 2.0674846625766867
         },
         {
          "Bin": 2,
          "clicks": 77,
          "ctr": 0.5833333333333334,
          "impressions": 132,
          "position": 2.25
         },
         {
          "Bin": 2,
          "clicks": 77,
          "ctr": 0.22318840579710145,
          "impressions": 345,
          "position": 2.8231884057971017
         },
         {
          "Bin": 2,
          "clicks": 77,
          "ctr": 0.4350282485875706,
          "impressions": 177,
          "position": 2.0112994350282483
         },
         {
          "Bin": 2,
          "clicks": 77,
          "ctr": 0.3392070484581498,
          "impressions": 227,
          "position": 2.8986784140969157
         },
         {
          "Bin": 2,
          "clicks": 76,
          "ctr": 0.15734989648033126,
          "impressions": 483,
          "position": 2.761904761904762
         },
         {
          "Bin": 2,
          "clicks": 76,
          "ctr": 0.25675675675675674,
          "impressions": 296,
          "position": 2.47972972972973
         },
         {
          "Bin": 2,
          "clicks": 76,
          "ctr": 0.2794117647058824,
          "impressions": 272,
          "position": 2.3198529411764706
         },
         {
          "Bin": 2,
          "clicks": 76,
          "ctr": 0.28044280442804426,
          "impressions": 271,
          "position": 2.1439114391143907
         },
         {
          "Bin": 2,
          "clicks": 76,
          "ctr": 0.02520729684908789,
          "impressions": 3015,
          "position": 2.6361525704809288
         },
         {
          "Bin": 2,
          "clicks": 76,
          "ctr": 0.3958333333333333,
          "impressions": 192,
          "position": 2.046875
         },
         {
          "Bin": 2,
          "clicks": 75,
          "ctr": 0.5725190839694656,
          "impressions": 131,
          "position": 2.381679389312977
         },
         {
          "Bin": 2,
          "clicks": 75,
          "ctr": 0.6880733944954128,
          "impressions": 109,
          "position": 2.0458715596330275
         },
         {
          "Bin": 2,
          "clicks": 74,
          "ctr": 0.4404761904761905,
          "impressions": 168,
          "position": 2.6845238095238093
         },
         {
          "Bin": 2,
          "clicks": 74,
          "ctr": 0.3045267489711934,
          "impressions": 243,
          "position": 2.835390946502057
         },
         {
          "Bin": 2,
          "clicks": 74,
          "ctr": 0.20670391061452514,
          "impressions": 358,
          "position": 2.3072625698324023
         },
         {
          "Bin": 2,
          "clicks": 74,
          "ctr": 0.4683544303797468,
          "impressions": 158,
          "position": 2.088607594936709
         },
         {
          "Bin": 2,
          "clicks": 73,
          "ctr": 0.14512922465208747,
          "impressions": 503,
          "position": 2.137176938369781
         },
         {
          "Bin": 2,
          "clicks": 71,
          "ctr": 0.5298507462686567,
          "impressions": 134,
          "position": 2.992537313432836
         },
         {
          "Bin": 2,
          "clicks": 71,
          "ctr": 0.14947368421052631,
          "impressions": 475,
          "position": 2.448421052631579
         },
         {
          "Bin": 2,
          "clicks": 71,
          "ctr": 0.2022792022792023,
          "impressions": 351,
          "position": 2.712250712250712
         },
         {
          "Bin": 2,
          "clicks": 70,
          "ctr": 0.3125,
          "impressions": 224,
          "position": 2.821428571428571
         },
         {
          "Bin": 2,
          "clicks": 70,
          "ctr": 0.3867403314917127,
          "impressions": 181,
          "position": 2.3093922651933703
         },
         {
          "Bin": 2,
          "clicks": 69,
          "ctr": 0.3538461538461539,
          "impressions": 195,
          "position": 2.2974358974358973
         },
         {
          "Bin": 2,
          "clicks": 68,
          "ctr": 0.19825072886297376,
          "impressions": 343,
          "position": 2.24198250728863
         },
         {
          "Bin": 2,
          "clicks": 68,
          "ctr": 0.021594156875198483,
          "impressions": 3149,
          "position": 2.538901238488409
         },
         {
          "Bin": 2,
          "clicks": 68,
          "ctr": 0.4625850340136055,
          "impressions": 147,
          "position": 2.020408163265306
         },
         {
          "Bin": 2,
          "clicks": 68,
          "ctr": 0.12903225806451613,
          "impressions": 527,
          "position": 2.5882352941176467
         },
         {
          "Bin": 2,
          "clicks": 66,
          "ctr": 0.033656297807241206,
          "impressions": 1961,
          "position": 2.103518612952575
         },
         {
          "Bin": 2,
          "clicks": 65,
          "ctr": 0.03364389233954451,
          "impressions": 1932,
          "position": 2.9213250517598337
         },
         {
          "Bin": 2,
          "clicks": 64,
          "ctr": 0.5203252032520326,
          "impressions": 123,
          "position": 2.341463414634146
         },
         {
          "Bin": 2,
          "clicks": 64,
          "ctr": 0.3855421686746988,
          "impressions": 166,
          "position": 2.427710843373494
         },
         {
          "Bin": 2,
          "clicks": 63,
          "ctr": 0.3,
          "impressions": 210,
          "position": 2.0428571428571427
         },
         {
          "Bin": 2,
          "clicks": 63,
          "ctr": 0.20655737704918034,
          "impressions": 305,
          "position": 2.3114754098360653
         },
         {
          "Bin": 2,
          "clicks": 63,
          "ctr": 0.5478260869565217,
          "impressions": 115,
          "position": 2.4260869565217393
         },
         {
          "Bin": 2,
          "clicks": 63,
          "ctr": 0.06752411575562701,
          "impressions": 933,
          "position": 2.7084673097534835
         },
         {
          "Bin": 2,
          "clicks": 62,
          "ctr": 0.3647058823529412,
          "impressions": 170,
          "position": 2.0176470588235293
         },
         {
          "Bin": 2,
          "clicks": 62,
          "ctr": 0.3425414364640884,
          "impressions": 181,
          "position": 2.9613259668508287
         },
         {
          "Bin": 2,
          "clicks": 61,
          "ctr": 0.25102880658436216,
          "impressions": 243,
          "position": 2.3456790123456788
         },
         {
          "Bin": 2,
          "clicks": 61,
          "ctr": 0.5126050420168067,
          "impressions": 119,
          "position": 2.4117647058823533
         },
         {
          "Bin": 2,
          "clicks": 61,
          "ctr": 0.12007874015748032,
          "impressions": 508,
          "position": 2.236220472440945
         },
         {
          "Bin": 2,
          "clicks": 61,
          "ctr": 0.2267657992565056,
          "impressions": 269,
          "position": 2.8141263940520447
         },
         {
          "Bin": 2,
          "clicks": 61,
          "ctr": 0.02245123297754877,
          "impressions": 2717,
          "position": 2.9543614280456385
         },
         {
          "Bin": 2,
          "clicks": 61,
          "ctr": 0.5495495495495496,
          "impressions": 111,
          "position": 2.0270270270270268
         },
         {
          "Bin": 2,
          "clicks": 61,
          "ctr": 0.19242902208201887,
          "impressions": 317,
          "position": 2.2618296529968456
         },
         {
          "Bin": 2,
          "clicks": 61,
          "ctr": 0.5495495495495496,
          "impressions": 111,
          "position": 2.756756756756757
         },
         {
          "Bin": 2,
          "clicks": 60,
          "ctr": 0.5084745762711864,
          "impressions": 118,
          "position": 2.1864406779661016
         },
         {
          "Bin": 2,
          "clicks": 60,
          "ctr": 0.3296703296703297,
          "impressions": 182,
          "position": 2.021978021978022
         },
         {
          "Bin": 2,
          "clicks": 60,
          "ctr": 0.594059405940594,
          "impressions": 101,
          "position": 2.504950495049505
         },
         {
          "Bin": 2,
          "clicks": 59,
          "ctr": 0.34502923976608185,
          "impressions": 171,
          "position": 2.982456140350877
         },
         {
          "Bin": 2,
          "clicks": 59,
          "ctr": 0.21851851851851853,
          "impressions": 270,
          "position": 2.7703703703703706
         },
         {
          "Bin": 2,
          "clicks": 59,
          "ctr": 0.329608938547486,
          "impressions": 179,
          "position": 2.88268156424581
         },
         {
          "Bin": 2,
          "clicks": 59,
          "ctr": 0.5412844036697247,
          "impressions": 109,
          "position": 2.5504587155963305
         },
         {
          "Bin": 2,
          "clicks": 58,
          "ctr": 0.09797297297297296,
          "impressions": 592,
          "position": 2.2179054054054053
         },
         {
          "Bin": 2,
          "clicks": 58,
          "ctr": 0.1039426523297491,
          "impressions": 558,
          "position": 2.666666666666667
         },
         {
          "Bin": 2,
          "clicks": 58,
          "ctr": 0.3717948717948718,
          "impressions": 156,
          "position": 2.269230769230769
         },
         {
          "Bin": 2,
          "clicks": 58,
          "ctr": 0.4142857142857143,
          "impressions": 140,
          "position": 2.6785714285714293
         },
         {
          "Bin": 2,
          "clicks": 58,
          "ctr": 0.16909620991253646,
          "impressions": 343,
          "position": 2.737609329446064
         },
         {
          "Bin": 2,
          "clicks": 57,
          "ctr": 0.36774193548387096,
          "impressions": 155,
          "position": 2.5290322580645164
         },
         {
          "Bin": 2,
          "clicks": 57,
          "ctr": 0.3081081081081081,
          "impressions": 185,
          "position": 2.3567567567567567
         },
         {
          "Bin": 2,
          "clicks": 56,
          "ctr": 0.2962962962962963,
          "impressions": 189,
          "position": 2.433862433862434
         },
         {
          "Bin": 2,
          "clicks": 56,
          "ctr": 0.3862068965517241,
          "impressions": 145,
          "position": 2.6344827586206896
         },
         {
          "Bin": 2,
          "clicks": 54,
          "ctr": 0.2583732057416268,
          "impressions": 209,
          "position": 2.8229665071770333
         },
         {
          "Bin": 2,
          "clicks": 53,
          "ctr": 0.4732142857142857,
          "impressions": 112,
          "position": 2.8303571428571432
         },
         {
          "Bin": 2,
          "clicks": 53,
          "ctr": 0.3192771084337349,
          "impressions": 166,
          "position": 2.0783132530120483
         },
         {
          "Bin": 2,
          "clicks": 53,
          "ctr": 0.07957957957957958,
          "impressions": 666,
          "position": 2.927927927927928
         },
         {
          "Bin": 2,
          "clicks": 52,
          "ctr": 0.13612565445026178,
          "impressions": 382,
          "position": 2.8769633507853403
         },
         {
          "Bin": 2,
          "clicks": 52,
          "ctr": 0.5048543689320388,
          "impressions": 103,
          "position": 2.8058252427184467
         },
         {
          "Bin": 2,
          "clicks": 52,
          "ctr": 0.21052631578947367,
          "impressions": 247,
          "position": 2.9676113360323884
         },
         {
          "Bin": 2,
          "clicks": 52,
          "ctr": 0.04297520661157025,
          "impressions": 1210,
          "position": 2.5892561983471074
         },
         {
          "Bin": 2,
          "clicks": 52,
          "ctr": 0.4,
          "impressions": 130,
          "position": 2.2461538461538457
         },
         {
          "Bin": 2,
          "clicks": 51,
          "ctr": 0.3017751479289941,
          "impressions": 169,
          "position": 2.8106508875739644
         },
         {
          "Bin": 2,
          "clicks": 51,
          "ctr": 0.37777777777777777,
          "impressions": 135,
          "position": 2.1185185185185187
         },
         {
          "Bin": 2,
          "clicks": 51,
          "ctr": 0.10944206008583693,
          "impressions": 466,
          "position": 2.8476394849785414
         },
         {
          "Bin": 2,
          "clicks": 50,
          "ctr": 0.2262443438914027,
          "impressions": 221,
          "position": 2.995475113122172
         },
         {
          "Bin": 2,
          "clicks": 49,
          "ctr": 0.26063829787234044,
          "impressions": 188,
          "position": 2.042553191489362
         },
         {
          "Bin": 2,
          "clicks": 49,
          "ctr": 0.11395348837209306,
          "impressions": 430,
          "position": 2.6488372093023256
         },
         {
          "Bin": 2,
          "clicks": 48,
          "ctr": 0.08839779005524863,
          "impressions": 543,
          "position": 2.05340699815838
         },
         {
          "Bin": 2,
          "clicks": 48,
          "ctr": 0.4705882352941176,
          "impressions": 102,
          "position": 2.284313725490196
         },
         {
          "Bin": 2,
          "clicks": 48,
          "ctr": 0.1959183673469388,
          "impressions": 245,
          "position": 2.9428571428571435
         },
         {
          "Bin": 2,
          "clicks": 47,
          "ctr": 0.027230590961761298,
          "impressions": 1726,
          "position": 2.044611819235226
         },
         {
          "Bin": 2,
          "clicks": 47,
          "ctr": 0.1010752688172043,
          "impressions": 465,
          "position": 2.6688172043010754
         },
         {
          "Bin": 2,
          "clicks": 47,
          "ctr": 0.16376306620209058,
          "impressions": 287,
          "position": 2.7909407665505226
         },
         {
          "Bin": 2,
          "clicks": 47,
          "ctr": 0.34057971014492755,
          "impressions": 138,
          "position": 2.181159420289855
         },
         {
          "Bin": 2,
          "clicks": 47,
          "ctr": 0.0865561694290976,
          "impressions": 543,
          "position": 2.720073664825046
         },
         {
          "Bin": 2,
          "clicks": 47,
          "ctr": 0.20434782608695654,
          "impressions": 230,
          "position": 2.356521739130435
         },
         {
          "Bin": 2,
          "clicks": 47,
          "ctr": 0.2764705882352941,
          "impressions": 170,
          "position": 2.494117647058824
         },
         {
          "Bin": 2,
          "clicks": 46,
          "ctr": 0.10952380952380952,
          "impressions": 420,
          "position": 2.307142857142857
         },
         {
          "Bin": 2,
          "clicks": 45,
          "ctr": 0.2631578947368421,
          "impressions": 171,
          "position": 2.064327485380117
         },
         {
          "Bin": 2,
          "clicks": 45,
          "ctr": 0.3435114503816794,
          "impressions": 131,
          "position": 2.4961832061068705
         },
         {
          "Bin": 2,
          "clicks": 45,
          "ctr": 0.021728633510381457,
          "impressions": 2071,
          "position": 2.4466441332689524
         },
         {
          "Bin": 2,
          "clicks": 44,
          "ctr": 0.07357859531772576,
          "impressions": 598,
          "position": 2.1254180602006687
         },
         {
          "Bin": 2,
          "clicks": 44,
          "ctr": 0.2933333333333333,
          "impressions": 150,
          "position": 2.24
         },
         {
          "Bin": 2,
          "clicks": 43,
          "ctr": 0.3706896551724138,
          "impressions": 116,
          "position": 2.9741379310344827
         },
         {
          "Bin": 2,
          "clicks": 43,
          "ctr": 0.21182266009852216,
          "impressions": 203,
          "position": 2.6157635467980294
         },
         {
          "Bin": 2,
          "clicks": 43,
          "ctr": 0.041626331074540175,
          "impressions": 1033,
          "position": 2.037754114230397
         },
         {
          "Bin": 2,
          "clicks": 43,
          "ctr": 0.0012988189808801765,
          "impressions": 33107,
          "position": 2.9973117467605035
         },
         {
          "Bin": 2,
          "clicks": 43,
          "ctr": 0.05341614906832298,
          "impressions": 805,
          "position": 2.987577639751553
         },
         {
          "Bin": 2,
          "clicks": 43,
          "ctr": 0.4257425742574257,
          "impressions": 101,
          "position": 2.6732673267326734
         },
         {
          "Bin": 2,
          "clicks": 41,
          "ctr": 0.08742004264392324,
          "impressions": 469,
          "position": 2.7100213219616203
         },
         {
          "Bin": 2,
          "clicks": 40,
          "ctr": 0.37383177570093457,
          "impressions": 107,
          "position": 2.2149532710280373
         },
         {
          "Bin": 2,
          "clicks": 40,
          "ctr": 0.21505376344086025,
          "impressions": 186,
          "position": 2.247311827956989
         },
         {
          "Bin": 2,
          "clicks": 40,
          "ctr": 0.19801980198019806,
          "impressions": 202,
          "position": 2.1782178217821784
         },
         {
          "Bin": 2,
          "clicks": 39,
          "ctr": 0.2215909090909091,
          "impressions": 176,
          "position": 2.5170454545454546
         },
         {
          "Bin": 2,
          "clicks": 39,
          "ctr": 0.375,
          "impressions": 104,
          "position": 2.105769230769231
         },
         {
          "Bin": 2,
          "clicks": 38,
          "ctr": 0.3114754098360656,
          "impressions": 122,
          "position": 2.9262295081967213
         },
         {
          "Bin": 2,
          "clicks": 37,
          "ctr": 0.3557692307692308,
          "impressions": 104,
          "position": 2.3653846153846154
         },
         {
          "Bin": 2,
          "clicks": 37,
          "ctr": 0.04143337066069429,
          "impressions": 893,
          "position": 2.9977603583426653
         },
         {
          "Bin": 2,
          "clicks": 36,
          "ctr": 0.3333333333333333,
          "impressions": 108,
          "position": 2.5462962962962963
         },
         {
          "Bin": 2,
          "clicks": 36,
          "ctr": 0.0207492795389049,
          "impressions": 1735,
          "position": 2.9371757925072046
         },
         {
          "Bin": 2,
          "clicks": 36,
          "ctr": 0.06923076923076922,
          "impressions": 520,
          "position": 2.907692307692308
         },
         {
          "Bin": 2,
          "clicks": 35,
          "ctr": 0.02003434459072696,
          "impressions": 1747,
          "position": 2.109902690326273
         },
         {
          "Bin": 2,
          "clicks": 35,
          "ctr": 0.03954802259887006,
          "impressions": 885,
          "position": 2.135593220338983
         },
         {
          "Bin": 2,
          "clicks": 35,
          "ctr": 0.2364864864864865,
          "impressions": 148,
          "position": 2.3108108108108105
         },
         {
          "Bin": 2,
          "clicks": 35,
          "ctr": 0.3181818181818182,
          "impressions": 110,
          "position": 2.1
         },
         {
          "Bin": 2,
          "clicks": 34,
          "ctr": 0.1452991452991453,
          "impressions": 234,
          "position": 2.8974358974358974
         },
         {
          "Bin": 2,
          "clicks": 34,
          "ctr": 0.022193211488250653,
          "impressions": 1532,
          "position": 2.8642297650130546
         },
         {
          "Bin": 2,
          "clicks": 34,
          "ctr": 0.24817518248175185,
          "impressions": 137,
          "position": 2.554744525547445
         },
         {
          "Bin": 2,
          "clicks": 34,
          "ctr": 0.013276064037485356,
          "impressions": 2561,
          "position": 2.5349472862163216
         },
         {
          "Bin": 2,
          "clicks": 34,
          "ctr": 0.0011507090398348394,
          "impressions": 29547,
          "position": 2.1524689477781163
         },
         {
          "Bin": 2,
          "clicks": 33,
          "ctr": 0.09428571428571428,
          "impressions": 350,
          "position": 2.7457142857142856
         },
         {
          "Bin": 2,
          "clicks": 33,
          "ctr": 0.06903765690376569,
          "impressions": 478,
          "position": 2.1276150627615062
         },
         {
          "Bin": 2,
          "clicks": 33,
          "ctr": 0.125,
          "impressions": 264,
          "position": 2.7727272727272725
         },
         {
          "Bin": 2,
          "clicks": 33,
          "ctr": 0.2307692307692308,
          "impressions": 143,
          "position": 2.867132867132867
         },
         {
          "Bin": 2,
          "clicks": 33,
          "ctr": 0.19186046511627908,
          "impressions": 172,
          "position": 2.6395348837209305
         },
         {
          "Bin": 2,
          "clicks": 33,
          "ctr": 0.32038834951456313,
          "impressions": 103,
          "position": 2.5728155339805827
         },
         {
          "Bin": 2,
          "clicks": 32,
          "ctr": 0.03902439024390244,
          "impressions": 820,
          "position": 2.201219512195122
         },
         {
          "Bin": 2,
          "clicks": 31,
          "ctr": 0.035632183908045977,
          "impressions": 870,
          "position": 2.586206896551724
         },
         {
          "Bin": 2,
          "clicks": 31,
          "ctr": 0.246031746031746,
          "impressions": 126,
          "position": 2.087301587301587
         },
         {
          "Bin": 2,
          "clicks": 30,
          "ctr": 0.12875536480686695,
          "impressions": 233,
          "position": 2.5193133047210297
         },
         {
          "Bin": 2,
          "clicks": 30,
          "ctr": 0.2158273381294964,
          "impressions": 139,
          "position": 2.3812949640287773
         },
         {
          "Bin": 2,
          "clicks": 30,
          "ctr": 0.26548672566371684,
          "impressions": 113,
          "position": 2.601769911504425
         },
         {
          "Bin": 2,
          "clicks": 29,
          "ctr": 0.18238993710691825,
          "impressions": 159,
          "position": 2.9371069182389937
         },
         {
          "Bin": 2,
          "clicks": 29,
          "ctr": 0.2735849056603773,
          "impressions": 106,
          "position": 2.320754716981132
         },
         {
          "Bin": 2,
          "clicks": 28,
          "ctr": 0.18421052631578946,
          "impressions": 152,
          "position": 2.6578947368421053
         },
         {
          "Bin": 2,
          "clicks": 28,
          "ctr": 0.25225225225225223,
          "impressions": 111,
          "position": 2.918918918918919
         },
         {
          "Bin": 2,
          "clicks": 28,
          "ctr": 0.2413793103448276,
          "impressions": 116,
          "position": 2.7931034482758617
         },
         {
          "Bin": 2,
          "clicks": 27,
          "ctr": 0.25961538461538464,
          "impressions": 104,
          "position": 2.8461538461538463
         },
         {
          "Bin": 2,
          "clicks": 27,
          "ctr": 0.11637931034482757,
          "impressions": 232,
          "position": 2.5258620689655173
         },
         {
          "Bin": 2,
          "clicks": 26,
          "ctr": 0.08724832214765099,
          "impressions": 298,
          "position": 2.25503355704698
         },
         {
          "Bin": 2,
          "clicks": 26,
          "ctr": 0.12560386473429952,
          "impressions": 207,
          "position": 2.42512077294686
         },
         {
          "Bin": 2,
          "clicks": 26,
          "ctr": 0.0654911838790932,
          "impressions": 397,
          "position": 2.3400503778337534
         },
         {
          "Bin": 2,
          "clicks": 25,
          "ctr": 0.12953367875647667,
          "impressions": 193,
          "position": 2.8652849740932638
         },
         {
          "Bin": 2,
          "clicks": 25,
          "ctr": 0.011096316023080338,
          "impressions": 2253,
          "position": 2.7265867731913005
         },
         {
          "Bin": 2,
          "clicks": 25,
          "ctr": 0.2427184466019417,
          "impressions": 103,
          "position": 2.41747572815534
         },
         {
          "Bin": 3,
          "clicks": 7548,
          "ctr": 0.20913801224682052,
          "impressions": 36091,
          "position": 3.4640769166828296
         },
         {
          "Bin": 3,
          "clicks": 5690,
          "ctr": 0.11191534558042564,
          "impressions": 50842,
          "position": 3.1785138271507813
         },
         {
          "Bin": 3,
          "clicks": 4279,
          "ctr": 0.16155094952240726,
          "impressions": 26487,
          "position": 3.124136368784687
         },
         {
          "Bin": 3,
          "clicks": 3649,
          "ctr": 0.23570828757832185,
          "impressions": 15481,
          "position": 3.813836315483496
         },
         {
          "Bin": 3,
          "clicks": 3399,
          "ctr": 0.2390127276562829,
          "impressions": 14221,
          "position": 3.6575486955910272
         },
         {
          "Bin": 3,
          "clicks": 1161,
          "ctr": 0.16545532278751604,
          "impressions": 7017,
          "position": 3.0380504489097904
         },
         {
          "Bin": 3,
          "clicks": 1126,
          "ctr": 0.08067636311528266,
          "impressions": 13957,
          "position": 3.1154259511356313
         },
         {
          "Bin": 3,
          "clicks": 421,
          "ctr": 0.06710232706407396,
          "impressions": 6274,
          "position": 3.5204016576346833
         },
         {
          "Bin": 3,
          "clicks": 398,
          "ctr": 0.3355817875210793,
          "impressions": 1186,
          "position": 3.3617200674536263
         },
         {
          "Bin": 3,
          "clicks": 387,
          "ctr": 0.17269076305220885,
          "impressions": 2241,
          "position": 3.209727800089246
         },
         {
          "Bin": 3,
          "clicks": 360,
          "ctr": 0.09685230024213076,
          "impressions": 3717,
          "position": 3.2429378531073447
         },
         {
          "Bin": 3,
          "clicks": 349,
          "ctr": 0.09032091097308488,
          "impressions": 3864,
          "position": 3.128623188405797
         },
         {
          "Bin": 3,
          "clicks": 320,
          "ctr": 0.21447721179624665,
          "impressions": 1492,
          "position": 3.051608579088472
         },
         {
          "Bin": 3,
          "clicks": 317,
          "ctr": 0.01819747416762342,
          "impressions": 17420,
          "position": 3.7392652123995407
         },
         {
          "Bin": 3,
          "clicks": 311,
          "ctr": 0.36761229314420796,
          "impressions": 846,
          "position": 3.0224586288416075
         },
         {
          "Bin": 3,
          "clicks": 304,
          "ctr": 0.08624113475177304,
          "impressions": 3525,
          "position": 3.735035460992908
         },
         {
          "Bin": 3,
          "clicks": 297,
          "ctr": 0.11194873727855258,
          "impressions": 2653,
          "position": 3.92687523558236
         },
         {
          "Bin": 3,
          "clicks": 283,
          "ctr": 0.13205786280914605,
          "impressions": 2143,
          "position": 3.321978534764349
         },
         {
          "Bin": 3,
          "clicks": 281,
          "ctr": 0.25545454545454543,
          "impressions": 1100,
          "position": 3.585454545454545
         },
         {
          "Bin": 3,
          "clicks": 249,
          "ctr": 0.04117744336034397,
          "impressions": 6047,
          "position": 3.2779890854969405
         },
         {
          "Bin": 3,
          "clicks": 241,
          "ctr": 0.047153198982586575,
          "impressions": 5111,
          "position": 3.62238309528468
         },
         {
          "Bin": 3,
          "clicks": 238,
          "ctr": 0.2556390977443609,
          "impressions": 931,
          "position": 3.2406015037593985
         },
         {
          "Bin": 3,
          "clicks": 238,
          "ctr": 0.09949832775919733,
          "impressions": 2392,
          "position": 3.1224916387959865
         },
         {
          "Bin": 3,
          "clicks": 229,
          "ctr": 0.1827613727055068,
          "impressions": 1253,
          "position": 3.597765363128492
         },
         {
          "Bin": 3,
          "clicks": 221,
          "ctr": 0.3646864686468647,
          "impressions": 606,
          "position": 3.0907590759075907
         },
         {
          "Bin": 3,
          "clicks": 216,
          "ctr": 0.03474903474903475,
          "impressions": 6216,
          "position": 3.2572393822393817
         },
         {
          "Bin": 3,
          "clicks": 206,
          "ctr": 0.0615476546160741,
          "impressions": 3347,
          "position": 3.8843740663280553
         },
         {
          "Bin": 3,
          "clicks": 200,
          "ctr": 0.2638522427440633,
          "impressions": 758,
          "position": 3.398416886543536
         },
         {
          "Bin": 3,
          "clicks": 199,
          "ctr": 0.08076298701298701,
          "impressions": 2464,
          "position": 3.166801948051948
         },
         {
          "Bin": 3,
          "clicks": 196,
          "ctr": 0.2135076252723312,
          "impressions": 918,
          "position": 3.351851851851852
         },
         {
          "Bin": 3,
          "clicks": 191,
          "ctr": 0.4125269978401728,
          "impressions": 463,
          "position": 3.2937365010799136
         },
         {
          "Bin": 3,
          "clicks": 186,
          "ctr": 0.11425061425061425,
          "impressions": 1628,
          "position": 3.82985257985258
         },
         {
          "Bin": 3,
          "clicks": 173,
          "ctr": 0.12339514978601995,
          "impressions": 1402,
          "position": 3.4422253922967188
         },
         {
          "Bin": 3,
          "clicks": 169,
          "ctr": 0.04409079050352205,
          "impressions": 3833,
          "position": 3.9639968692929823
         },
         {
          "Bin": 3,
          "clicks": 158,
          "ctr": 0.2867513611615245,
          "impressions": 551,
          "position": 3.8620689655172415
         },
         {
          "Bin": 3,
          "clicks": 156,
          "ctr": 0.3553530751708428,
          "impressions": 439,
          "position": 3.277904328018223
         },
         {
          "Bin": 3,
          "clicks": 156,
          "ctr": 0.0325678496868476,
          "impressions": 4790,
          "position": 3.64321503131524
         },
         {
          "Bin": 3,
          "clicks": 156,
          "ctr": 0.13220338983050847,
          "impressions": 1180,
          "position": 3.6915254237288138
         },
         {
          "Bin": 3,
          "clicks": 155,
          "ctr": 0.10580204778156996,
          "impressions": 1465,
          "position": 3.95358361774744
         },
         {
          "Bin": 3,
          "clicks": 142,
          "ctr": 0.11668036154478224,
          "impressions": 1217,
          "position": 3.1758422350041084
         },
         {
          "Bin": 3,
          "clicks": 141,
          "ctr": 0.11662531017369727,
          "impressions": 1209,
          "position": 3.832092638544252
         },
         {
          "Bin": 3,
          "clicks": 137,
          "ctr": 0.1721105527638191,
          "impressions": 796,
          "position": 3.5841708542713566
         },
         {
          "Bin": 3,
          "clicks": 136,
          "ctr": 0.056384742951907124,
          "impressions": 2412,
          "position": 3.511608623548922
         },
         {
          "Bin": 3,
          "clicks": 133,
          "ctr": 0.18811881188118806,
          "impressions": 707,
          "position": 3.1188118811881185
         },
         {
          "Bin": 3,
          "clicks": 133,
          "ctr": 0.2427007299270073,
          "impressions": 548,
          "position": 3.5875912408759123
         },
         {
          "Bin": 3,
          "clicks": 131,
          "ctr": 0.05125195618153365,
          "impressions": 2556,
          "position": 3.536776212832551
         },
         {
          "Bin": 3,
          "clicks": 128,
          "ctr": 0.2949308755760369,
          "impressions": 434,
          "position": 3.9539170506912433
         },
         {
          "Bin": 3,
          "clicks": 126,
          "ctr": 0.12268743914313535,
          "impressions": 1027,
          "position": 3.8412852969815
         },
         {
          "Bin": 3,
          "clicks": 122,
          "ctr": 0.057984790874524725,
          "impressions": 2104,
          "position": 3.2309885931558937
         },
         {
          "Bin": 3,
          "clicks": 121,
          "ctr": 0.08236895847515316,
          "impressions": 1469,
          "position": 3.578624914908101
         },
         {
          "Bin": 3,
          "clicks": 119,
          "ctr": 0.035554227666567066,
          "impressions": 3347,
          "position": 3.2811472960860466
         },
         {
          "Bin": 3,
          "clicks": 114,
          "ctr": 0.34545454545454546,
          "impressions": 330,
          "position": 3.463636363636364
         },
         {
          "Bin": 3,
          "clicks": 114,
          "ctr": 0.06138933764135704,
          "impressions": 1857,
          "position": 3.1141626278944536
         },
         {
          "Bin": 3,
          "clicks": 114,
          "ctr": 0.1884297520661157,
          "impressions": 605,
          "position": 3.1983471074380163
         },
         {
          "Bin": 3,
          "clicks": 108,
          "ctr": 0.19014084507042253,
          "impressions": 568,
          "position": 3.125
         },
         {
          "Bin": 3,
          "clicks": 106,
          "ctr": 0.3192771084337349,
          "impressions": 332,
          "position": 3.9246987951807233
         },
         {
          "Bin": 3,
          "clicks": 105,
          "ctr": 0.21875,
          "impressions": 480,
          "position": 3.38125
         },
         {
          "Bin": 3,
          "clicks": 105,
          "ctr": 0.03754022166607079,
          "impressions": 2797,
          "position": 3.5698963174830176
         },
         {
          "Bin": 3,
          "clicks": 103,
          "ctr": 0.1418732782369146,
          "impressions": 726,
          "position": 3.475206611570248
         },
         {
          "Bin": 3,
          "clicks": 103,
          "ctr": 0.02636293831584336,
          "impressions": 3907,
          "position": 3.6398771435884307
         },
         {
          "Bin": 3,
          "clicks": 102,
          "ctr": 0.3063063063063063,
          "impressions": 333,
          "position": 3.3213213213213213
         },
         {
          "Bin": 3,
          "clicks": 101,
          "ctr": 0.28450704225352114,
          "impressions": 355,
          "position": 3.4985915492957744
         },
         {
          "Bin": 3,
          "clicks": 99,
          "ctr": 0.3694029850746269,
          "impressions": 268,
          "position": 3.899253731343284
         },
         {
          "Bin": 3,
          "clicks": 97,
          "ctr": 0.2747875354107649,
          "impressions": 353,
          "position": 3.5155807365439093
         },
         {
          "Bin": 3,
          "clicks": 94,
          "ctr": 0.04307974335472044,
          "impressions": 2182,
          "position": 3.449587534372136
         },
         {
          "Bin": 3,
          "clicks": 93,
          "ctr": 0.07795473595976529,
          "impressions": 1193,
          "position": 3.0838222967309306
         },
         {
          "Bin": 3,
          "clicks": 93,
          "ctr": 0.12722298221614228,
          "impressions": 731,
          "position": 3.2845417236662113
         },
         {
          "Bin": 3,
          "clicks": 92,
          "ctr": 0.2266009852216749,
          "impressions": 406,
          "position": 3.5394088669950734
         },
         {
          "Bin": 3,
          "clicks": 89,
          "ctr": 0.24383561643835616,
          "impressions": 365,
          "position": 3.202739726027397
         },
         {
          "Bin": 3,
          "clicks": 86,
          "ctr": 0.4095238095238095,
          "impressions": 210,
          "position": 3.509523809523809
         },
         {
          "Bin": 3,
          "clicks": 86,
          "ctr": 0.2182741116751269,
          "impressions": 394,
          "position": 3.172588832487309
         },
         {
          "Bin": 3,
          "clicks": 85,
          "ctr": 0.09004237288135593,
          "impressions": 944,
          "position": 3.233050847457627
         },
         {
          "Bin": 3,
          "clicks": 84,
          "ctr": 0.3373493975903614,
          "impressions": 249,
          "position": 3.3694779116465865
         },
         {
          "Bin": 3,
          "clicks": 80,
          "ctr": 0.05843681519357195,
          "impressions": 1369,
          "position": 3.406135865595325
         },
         {
          "Bin": 3,
          "clicks": 80,
          "ctr": 0.0400200100050025,
          "impressions": 1999,
          "position": 3.165082541270636
         },
         {
          "Bin": 3,
          "clicks": 78,
          "ctr": 0.2698961937716263,
          "impressions": 289,
          "position": 3.833910034602076
         },
         {
          "Bin": 3,
          "clicks": 78,
          "ctr": 0.05833956619296934,
          "impressions": 1337,
          "position": 3.219147344801795
         },
         {
          "Bin": 3,
          "clicks": 78,
          "ctr": 0.06621392190152801,
          "impressions": 1178,
          "position": 3.5611205432937183
         },
         {
          "Bin": 3,
          "clicks": 76,
          "ctr": 0.2289156626506024,
          "impressions": 332,
          "position": 3.5030120481927716
         },
         {
          "Bin": 3,
          "clicks": 75,
          "ctr": 0.3275109170305677,
          "impressions": 229,
          "position": 3.0087336244541483
         },
         {
          "Bin": 3,
          "clicks": 74,
          "ctr": 0.1295971978984238,
          "impressions": 571,
          "position": 3.882661996497373
         },
         {
          "Bin": 3,
          "clicks": 74,
          "ctr": 0.08249721293199554,
          "impressions": 897,
          "position": 3.018952062430323
         },
         {
          "Bin": 3,
          "clicks": 73,
          "ctr": 0.15800865800865802,
          "impressions": 462,
          "position": 3.1666666666666665
         },
         {
          "Bin": 3,
          "clicks": 72,
          "ctr": 0.1565217391304348,
          "impressions": 460,
          "position": 3.343478260869565
         },
         {
          "Bin": 3,
          "clicks": 71,
          "ctr": 0.242320819112628,
          "impressions": 293,
          "position": 3.7679180887372015
         },
         {
          "Bin": 3,
          "clicks": 71,
          "ctr": 0.29098360655737704,
          "impressions": 244,
          "position": 3.7745901639344255
         },
         {
          "Bin": 3,
          "clicks": 69,
          "ctr": 0.4693877551020408,
          "impressions": 147,
          "position": 3.952380952380953
         },
         {
          "Bin": 3,
          "clicks": 69,
          "ctr": 0.21835443037974686,
          "impressions": 316,
          "position": 3.6677215189873418
         },
         {
          "Bin": 3,
          "clicks": 68,
          "ctr": 0.19428571428571428,
          "impressions": 350,
          "position": 3.5342857142857143
         },
         {
          "Bin": 3,
          "clicks": 67,
          "ctr": 0.3764044943820225,
          "impressions": 178,
          "position": 3.4831460674157304
         },
         {
          "Bin": 3,
          "clicks": 67,
          "ctr": 0.33668341708542715,
          "impressions": 199,
          "position": 3.768844221105528
         },
         {
          "Bin": 3,
          "clicks": 66,
          "ctr": 0.15172413793103448,
          "impressions": 435,
          "position": 3.3287356321839083
         },
         {
          "Bin": 3,
          "clicks": 66,
          "ctr": 0.264,
          "impressions": 250,
          "position": 3.3560000000000003
         },
         {
          "Bin": 3,
          "clicks": 65,
          "ctr": 0.025855210819411296,
          "impressions": 2514,
          "position": 3.8448687350835318
         },
         {
          "Bin": 3,
          "clicks": 64,
          "ctr": 0.20189274447949526,
          "impressions": 317,
          "position": 3.3659305993690847
         },
         {
          "Bin": 3,
          "clicks": 63,
          "ctr": 0.026470588235294117,
          "impressions": 2380,
          "position": 3.350420168067227
         },
         {
          "Bin": 3,
          "clicks": 63,
          "ctr": 0.15365853658536585,
          "impressions": 410,
          "position": 3.0390243902439025
         },
         {
          "Bin": 3,
          "clicks": 62,
          "ctr": 0.28440366972477066,
          "impressions": 218,
          "position": 3.0229357798165135
         },
         {
          "Bin": 3,
          "clicks": 62,
          "ctr": 0.31794871794871793,
          "impressions": 195,
          "position": 3.1384615384615384
         },
         {
          "Bin": 3,
          "clicks": 62,
          "ctr": 0.010127409343351846,
          "impressions": 6122,
          "position": 3.1871937275400195
         },
         {
          "Bin": 3,
          "clicks": 61,
          "ctr": 0.3034825870646766,
          "impressions": 201,
          "position": 3.0845771144278618
         },
         {
          "Bin": 3,
          "clicks": 60,
          "ctr": 0.4166666666666667,
          "impressions": 144,
          "position": 3.2569444444444446
         },
         {
          "Bin": 3,
          "clicks": 60,
          "ctr": 0.3045685279187817,
          "impressions": 197,
          "position": 3.1573604060913705
         },
         {
          "Bin": 3,
          "clicks": 60,
          "ctr": 0.3,
          "impressions": 200,
          "position": 3.745
         },
         {
          "Bin": 3,
          "clicks": 60,
          "ctr": 0.02916869227029655,
          "impressions": 2057,
          "position": 3.8376276130286815
         },
         {
          "Bin": 3,
          "clicks": 59,
          "ctr": 0.11346153846153845,
          "impressions": 520,
          "position": 3.3807692307692307
         },
         {
          "Bin": 3,
          "clicks": 58,
          "ctr": 0.4084507042253521,
          "impressions": 142,
          "position": 3.014084507042253
         },
         {
          "Bin": 3,
          "clicks": 57,
          "ctr": 0.5089285714285714,
          "impressions": 112,
          "position": 3.3482142857142856
         },
         {
          "Bin": 3,
          "clicks": 57,
          "ctr": 0.4710743801652893,
          "impressions": 121,
          "position": 3.049586776859504
         },
         {
          "Bin": 3,
          "clicks": 56,
          "ctr": 0.3373493975903614,
          "impressions": 166,
          "position": 3.6867469879518073
         },
         {
          "Bin": 3,
          "clicks": 56,
          "ctr": 0.4087591240875912,
          "impressions": 137,
          "position": 3.1824817518248176
         },
         {
          "Bin": 3,
          "clicks": 56,
          "ctr": 0.11570247933884298,
          "impressions": 484,
          "position": 3.347107438016529
         },
         {
          "Bin": 3,
          "clicks": 56,
          "ctr": 0.4628099173553719,
          "impressions": 121,
          "position": 3.5454545454545454
         },
         {
          "Bin": 3,
          "clicks": 55,
          "ctr": 0.25462962962962965,
          "impressions": 216,
          "position": 3.4027777777777777
         },
         {
          "Bin": 3,
          "clicks": 54,
          "ctr": 0.39416058394160586,
          "impressions": 137,
          "position": 3.2116788321167884
         },
         {
          "Bin": 3,
          "clicks": 53,
          "ctr": 0.4649122807017544,
          "impressions": 114,
          "position": 3.1754385964912277
         },
         {
          "Bin": 3,
          "clicks": 53,
          "ctr": 0.1,
          "impressions": 530,
          "position": 3.6339622641509433
         },
         {
          "Bin": 3,
          "clicks": 53,
          "ctr": 0.1620795107033639,
          "impressions": 327,
          "position": 3.5321100917431187
         },
         {
          "Bin": 3,
          "clicks": 52,
          "ctr": 0.2888888888888889,
          "impressions": 180,
          "position": 3.216666666666667
         },
         {
          "Bin": 3,
          "clicks": 52,
          "ctr": 0.16828478964401294,
          "impressions": 309,
          "position": 3.029126213592233
         },
         {
          "Bin": 3,
          "clicks": 52,
          "ctr": 0.06096131301289566,
          "impressions": 853,
          "position": 3.003516998827667
         },
         {
          "Bin": 3,
          "clicks": 52,
          "ctr": 0.04406779661016949,
          "impressions": 1180,
          "position": 3.8
         },
         {
          "Bin": 3,
          "clicks": 51,
          "ctr": 0.03606789250353607,
          "impressions": 1414,
          "position": 3.637906647807638
         },
         {
          "Bin": 3,
          "clicks": 51,
          "ctr": 0.14782608695652175,
          "impressions": 345,
          "position": 3.782608695652174
         },
         {
          "Bin": 3,
          "clicks": 51,
          "ctr": 0.42857142857142855,
          "impressions": 119,
          "position": 3.0504201680672267
         },
         {
          "Bin": 3,
          "clicks": 50,
          "ctr": 0.2403846153846154,
          "impressions": 208,
          "position": 3.4855769230769234
         },
         {
          "Bin": 3,
          "clicks": 50,
          "ctr": 0.35714285714285715,
          "impressions": 140,
          "position": 3.792857142857143
         },
         {
          "Bin": 3,
          "clicks": 47,
          "ctr": 0.1857707509881423,
          "impressions": 253,
          "position": 3.225296442687747
         },
         {
          "Bin": 3,
          "clicks": 47,
          "ctr": 0.2797619047619048,
          "impressions": 168,
          "position": 3.8928571428571432
         },
         {
          "Bin": 3,
          "clicks": 47,
          "ctr": 0.0120698510529019,
          "impressions": 3894,
          "position": 3.959938366718028
         },
         {
          "Bin": 3,
          "clicks": 47,
          "ctr": 0.015588723051409618,
          "impressions": 3015,
          "position": 3.860696517412936
         },
         {
          "Bin": 3,
          "clicks": 46,
          "ctr": 0.027479091995221028,
          "impressions": 1674,
          "position": 3.589605734767025
         },
         {
          "Bin": 3,
          "clicks": 46,
          "ctr": 0.06571428571428571,
          "impressions": 700,
          "position": 3.7257142857142855
         },
         {
          "Bin": 3,
          "clicks": 45,
          "ctr": 0.11904761904761905,
          "impressions": 378,
          "position": 3.3703703703703702
         },
         {
          "Bin": 3,
          "clicks": 45,
          "ctr": 0.371900826446281,
          "impressions": 121,
          "position": 3.115702479338843
         },
         {
          "Bin": 3,
          "clicks": 44,
          "ctr": 0.053855569155446766,
          "impressions": 817,
          "position": 3.3867809057527536
         },
         {
          "Bin": 3,
          "clicks": 44,
          "ctr": 0.17054263565891473,
          "impressions": 258,
          "position": 3.182170542635659
         },
         {
          "Bin": 3,
          "clicks": 43,
          "ctr": 0.14333333333333334,
          "impressions": 300,
          "position": 3.23
         },
         {
          "Bin": 3,
          "clicks": 43,
          "ctr": 0.012233285917496443,
          "impressions": 3515,
          "position": 3.5615931721194882
         },
         {
          "Bin": 3,
          "clicks": 43,
          "ctr": 0.24293785310734464,
          "impressions": 177,
          "position": 3.9491525423728815
         },
         {
          "Bin": 3,
          "clicks": 42,
          "ctr": 0.25925925925925924,
          "impressions": 162,
          "position": 3.1481481481481484
         },
         {
          "Bin": 3,
          "clicks": 42,
          "ctr": 0.013337567481740234,
          "impressions": 3149,
          "position": 3.3813909177516672
         },
         {
          "Bin": 3,
          "clicks": 41,
          "ctr": 0.2907801418439716,
          "impressions": 141,
          "position": 3.3900709219858154
         },
         {
          "Bin": 3,
          "clicks": 41,
          "ctr": 0.33064516129032256,
          "impressions": 124,
          "position": 3.620967741935484
         },
         {
          "Bin": 3,
          "clicks": 41,
          "ctr": 0.2928571428571429,
          "impressions": 140,
          "position": 3.3642857142857143
         },
         {
          "Bin": 3,
          "clicks": 41,
          "ctr": 0.25949367088607594,
          "impressions": 158,
          "position": 3.0379746835443036
         },
         {
          "Bin": 3,
          "clicks": 40,
          "ctr": 0.01763668430335097,
          "impressions": 2268,
          "position": 3.0308641975308643
         },
         {
          "Bin": 3,
          "clicks": 40,
          "ctr": 0.3636363636363637,
          "impressions": 110,
          "position": 3.527272727272728
         },
         {
          "Bin": 3,
          "clicks": 40,
          "ctr": 0.03656307129798903,
          "impressions": 1094,
          "position": 3.671846435100549
         },
         {
          "Bin": 3,
          "clicks": 40,
          "ctr": 0.24096385542168675,
          "impressions": 166,
          "position": 3.415662650602409
         },
         {
          "Bin": 3,
          "clicks": 40,
          "ctr": 0.3252032520325203,
          "impressions": 123,
          "position": 3.113821138211382
         },
         {
          "Bin": 3,
          "clicks": 40,
          "ctr": 0.32,
          "impressions": 125,
          "position": 3.096
         },
         {
          "Bin": 3,
          "clicks": 40,
          "ctr": 0.15625,
          "impressions": 256,
          "position": 3.5
         },
         {
          "Bin": 3,
          "clicks": 40,
          "ctr": 0.08264462809917356,
          "impressions": 484,
          "position": 3.363636363636364
         },
         {
          "Bin": 3,
          "clicks": 40,
          "ctr": 0.3603603603603603,
          "impressions": 111,
          "position": 3.63963963963964
         },
         {
          "Bin": 3,
          "clicks": 40,
          "ctr": 0.20304568527918784,
          "impressions": 197,
          "position": 3.0964467005076144
         },
         {
          "Bin": 3,
          "clicks": 39,
          "ctr": 0.12956810631229235,
          "impressions": 301,
          "position": 3.717607973421927
         },
         {
          "Bin": 3,
          "clicks": 39,
          "ctr": 0.05019305019305019,
          "impressions": 777,
          "position": 3.1583011583011578
         },
         {
          "Bin": 3,
          "clicks": 39,
          "ctr": 0.22285714285714286,
          "impressions": 175,
          "position": 3.32
         },
         {
          "Bin": 3,
          "clicks": 39,
          "ctr": 0.19796954314720813,
          "impressions": 197,
          "position": 3.7157360406091366
         },
         {
          "Bin": 3,
          "clicks": 38,
          "ctr": 0.027879677182685254,
          "impressions": 1363,
          "position": 3.2611885546588413
         },
         {
          "Bin": 3,
          "clicks": 38,
          "ctr": 0.2345679012345679,
          "impressions": 162,
          "position": 3.5246913580246915
         },
         {
          "Bin": 3,
          "clicks": 38,
          "ctr": 0.20320855614973266,
          "impressions": 187,
          "position": 3.5614973262032086
         },
         {
          "Bin": 3,
          "clicks": 38,
          "ctr": 0.06451612903225806,
          "impressions": 589,
          "position": 3.775891341256367
         },
         {
          "Bin": 3,
          "clicks": 38,
          "ctr": 0.2122905027932961,
          "impressions": 179,
          "position": 3.089385474860335
         },
         {
          "Bin": 3,
          "clicks": 38,
          "ctr": 0.10826210826210826,
          "impressions": 351,
          "position": 3.660968660968661
         },
         {
          "Bin": 3,
          "clicks": 38,
          "ctr": 0.3584905660377358,
          "impressions": 106,
          "position": 3.3679245283018866
         },
         {
          "Bin": 3,
          "clicks": 38,
          "ctr": 0.2585034013605442,
          "impressions": 147,
          "position": 3.578231292517007
         },
         {
          "Bin": 3,
          "clicks": 37,
          "ctr": 0.09090909090909093,
          "impressions": 407,
          "position": 3.4938574938574933
         },
         {
          "Bin": 3,
          "clicks": 36,
          "ctr": 0.00914169629253428,
          "impressions": 3938,
          "position": 3.694007110208228
         },
         {
          "Bin": 3,
          "clicks": 36,
          "ctr": 0.18461538461538465,
          "impressions": 195,
          "position": 3.6769230769230767
         },
         {
          "Bin": 3,
          "clicks": 36,
          "ctr": 0.08294930875576037,
          "impressions": 434,
          "position": 3.2580645161290325
         },
         {
          "Bin": 3,
          "clicks": 35,
          "ctr": 0.2413793103448276,
          "impressions": 145,
          "position": 3.703448275862069
         },
         {
          "Bin": 3,
          "clicks": 35,
          "ctr": 0.2554744525547445,
          "impressions": 137,
          "position": 3.9270072992700733
         },
         {
          "Bin": 3,
          "clicks": 35,
          "ctr": 0.1715686274509804,
          "impressions": 204,
          "position": 3.127450980392157
         },
         {
          "Bin": 3,
          "clicks": 35,
          "ctr": 0.09043927648578813,
          "impressions": 387,
          "position": 3.214470284237726
         },
         {
          "Bin": 3,
          "clicks": 35,
          "ctr": 0.25735294117647056,
          "impressions": 136,
          "position": 3.7205882352941178
         },
         {
          "Bin": 3,
          "clicks": 35,
          "ctr": 0.1206896551724138,
          "impressions": 290,
          "position": 3.6206896551724137
         },
         {
          "Bin": 3,
          "clicks": 34,
          "ctr": 0.13026819923371644,
          "impressions": 261,
          "position": 3.747126436781609
         },
         {
          "Bin": 3,
          "clicks": 34,
          "ctr": 0.08877284595300261,
          "impressions": 383,
          "position": 3.185378590078329
         },
         {
          "Bin": 3,
          "clicks": 34,
          "ctr": 0.16748768472906406,
          "impressions": 203,
          "position": 3.3054187192118225
         },
         {
          "Bin": 3,
          "clicks": 34,
          "ctr": 0.13026819923371644,
          "impressions": 261,
          "position": 3.888888888888889
         },
         {
          "Bin": 3,
          "clicks": 34,
          "ctr": 0.2236842105263158,
          "impressions": 152,
          "position": 3.907894736842105
         },
         {
          "Bin": 3,
          "clicks": 34,
          "ctr": 0.02426837972876517,
          "impressions": 1401,
          "position": 3.0014275517487508
         },
         {
          "Bin": 3,
          "clicks": 34,
          "ctr": 0.1122112211221122,
          "impressions": 303,
          "position": 3.99009900990099
         },
         {
          "Bin": 3,
          "clicks": 33,
          "ctr": 0.2894736842105263,
          "impressions": 114,
          "position": 3.4473684210526314
         },
         {
          "Bin": 3,
          "clicks": 33,
          "ctr": 0.226027397260274,
          "impressions": 146,
          "position": 3.3356164383561633
         },
         {
          "Bin": 3,
          "clicks": 33,
          "ctr": 0.17553191489361702,
          "impressions": 188,
          "position": 3.877659574468085
         },
         {
          "Bin": 3,
          "clicks": 33,
          "ctr": 0.10576923076923077,
          "impressions": 312,
          "position": 3.301282051282051
         },
         {
          "Bin": 3,
          "clicks": 33,
          "ctr": 0.024535315985130108,
          "impressions": 1345,
          "position": 3.7903345724907065
         },
         {
          "Bin": 3,
          "clicks": 32,
          "ctr": 0.22377622377622375,
          "impressions": 143,
          "position": 3.6713286713286712
         },
         {
          "Bin": 3,
          "clicks": 32,
          "ctr": 0.26229508196721313,
          "impressions": 122,
          "position": 3.565573770491804
         },
         {
          "Bin": 3,
          "clicks": 32,
          "ctr": 0.012549019607843137,
          "impressions": 2550,
          "position": 3.491372549019608
         },
         {
          "Bin": 3,
          "clicks": 31,
          "ctr": 0.03964194373401535,
          "impressions": 782,
          "position": 3.9309462915601023
         },
         {
          "Bin": 3,
          "clicks": 31,
          "ctr": 0.055956678700361015,
          "impressions": 554,
          "position": 3.855595667870036
         },
         {
          "Bin": 3,
          "clicks": 31,
          "ctr": 0.05984555984555984,
          "impressions": 518,
          "position": 3.3706563706563712
         },
         {
          "Bin": 3,
          "clicks": 31,
          "ctr": 0.2152777777777778,
          "impressions": 144,
          "position": 3.180555555555556
         },
         {
          "Bin": 3,
          "clicks": 30,
          "ctr": 0.037406483790523685,
          "impressions": 802,
          "position": 3.976309226932668
         },
         {
          "Bin": 3,
          "clicks": 30,
          "ctr": 0.17857142857142858,
          "impressions": 168,
          "position": 3.2142857142857144
         },
         {
          "Bin": 3,
          "clicks": 30,
          "ctr": 0.05607476635514018,
          "impressions": 535,
          "position": 3.0485981308411216
         },
         {
          "Bin": 3,
          "clicks": 30,
          "ctr": 0.026525198938992044,
          "impressions": 1131,
          "position": 3.2042440318302385
         },
         {
          "Bin": 3,
          "clicks": 30,
          "ctr": 0.11494252873563217,
          "impressions": 261,
          "position": 3.6398467432950192
         },
         {
          "Bin": 3,
          "clicks": 30,
          "ctr": 0.019404915912031046,
          "impressions": 1546,
          "position": 3.022639068564036
         },
         {
          "Bin": 3,
          "clicks": 30,
          "ctr": 0.1875,
          "impressions": 160,
          "position": 3.5625
         },
         {
          "Bin": 3,
          "clicks": 29,
          "ctr": 0.20567375886524825,
          "impressions": 141,
          "position": 3.333333333333333
         },
         {
          "Bin": 3,
          "clicks": 28,
          "ctr": 0.10894941634241244,
          "impressions": 257,
          "position": 3.8949416342412455
         },
         {
          "Bin": 3,
          "clicks": 28,
          "ctr": 0.03361344537815126,
          "impressions": 833,
          "position": 3.4453781512605044
         },
         {
          "Bin": 3,
          "clicks": 28,
          "ctr": 0.13930348258706468,
          "impressions": 201,
          "position": 3.2636815920398017
         },
         {
          "Bin": 3,
          "clicks": 28,
          "ctr": 0.18791946308724836,
          "impressions": 149,
          "position": 3.657718120805369
         },
         {
          "Bin": 3,
          "clicks": 27,
          "ctr": 0.1812080536912752,
          "impressions": 149,
          "position": 3.3959731543624163
         },
         {
          "Bin": 3,
          "clicks": 27,
          "ctr": 0.1134453781512605,
          "impressions": 238,
          "position": 3.6722689075630246
         },
         {
          "Bin": 3,
          "clicks": 27,
          "ctr": 0.21428571428571427,
          "impressions": 126,
          "position": 3.0476190476190474
         },
         {
          "Bin": 3,
          "clicks": 27,
          "ctr": 0.25961538461538464,
          "impressions": 104,
          "position": 3.1634615384615383
         },
         {
          "Bin": 3,
          "clicks": 27,
          "ctr": 0.135,
          "impressions": 200,
          "position": 3.855
         },
         {
          "Bin": 3,
          "clicks": 26,
          "ctr": 0.04311774461028192,
          "impressions": 603,
          "position": 3.487562189054726
         },
         {
          "Bin": 3,
          "clicks": 26,
          "ctr": 0.19548872180451127,
          "impressions": 133,
          "position": 3.0902255639097747
         },
         {
          "Bin": 3,
          "clicks": 26,
          "ctr": 0.1306532663316583,
          "impressions": 199,
          "position": 3.190954773869347
         },
         {
          "Bin": 3,
          "clicks": 26,
          "ctr": 0.1390374331550802,
          "impressions": 187,
          "position": 3.6256684491978617
         },
         {
          "Bin": 3,
          "clicks": 25,
          "ctr": 0.0505050505050505,
          "impressions": 495,
          "position": 3.511111111111111
         },
         {
          "Bin": 3,
          "clicks": 25,
          "ctr": 0.10683760683760683,
          "impressions": 234,
          "position": 3.4743589743589745
         },
         {
          "Bin": 3,
          "clicks": 25,
          "ctr": 0.10460251046025104,
          "impressions": 239,
          "position": 3.6610878661087862
         },
         {
          "Bin": 4,
          "clicks": 5885,
          "ctr": 0.0566181139481634,
          "impressions": 103942,
          "position": 4.191626099170692
         },
         {
          "Bin": 4,
          "clicks": 4785,
          "ctr": 0.05441457423580786,
          "impressions": 87936,
          "position": 4.88170942503639
         },
         {
          "Bin": 4,
          "clicks": 1526,
          "ctr": 0.07647589455748223,
          "impressions": 19954,
          "position": 4.096973037987371
         },
         {
          "Bin": 4,
          "clicks": 1464,
          "ctr": 0.0675339053418212,
          "impressions": 21678,
          "position": 4.466924993080543
         },
         {
          "Bin": 4,
          "clicks": 1412,
          "ctr": 0.03217720249760722,
          "impressions": 43882,
          "position": 4.386559409325009
         },
         {
          "Bin": 4,
          "clicks": 1292,
          "ctr": 0.09345388788426763,
          "impressions": 13825,
          "position": 4.788065099457505
         },
         {
          "Bin": 4,
          "clicks": 1123,
          "ctr": 0.09726312142733416,
          "impressions": 11546,
          "position": 4.907413822968993
         },
         {
          "Bin": 4,
          "clicks": 955,
          "ctr": 0.061474090762793684,
          "impressions": 15535,
          "position": 4.806115223688447
         },
         {
          "Bin": 4,
          "clicks": 951,
          "ctr": 0.0239891027419721,
          "impressions": 39643,
          "position": 4.8265015261206266
         },
         {
          "Bin": 4,
          "clicks": 699,
          "ctr": 0.14647946353730093,
          "impressions": 4772,
          "position": 4.797150041911149
         },
         {
          "Bin": 4,
          "clicks": 689,
          "ctr": 0.03131248863842938,
          "impressions": 22004,
          "position": 4.754680967096891
         },
         {
          "Bin": 4,
          "clicks": 599,
          "ctr": 0.062001863161163434,
          "impressions": 9661,
          "position": 4.9477279784701365
         },
         {
          "Bin": 4,
          "clicks": 589,
          "ctr": 0.1559438707969288,
          "impressions": 3777,
          "position": 4.084193804606831
         },
         {
          "Bin": 4,
          "clicks": 563,
          "ctr": 0.057696249231399876,
          "impressions": 9758,
          "position": 4.615904898544784
         },
         {
          "Bin": 4,
          "clicks": 541,
          "ctr": 0.03597552866072616,
          "impressions": 15038,
          "position": 4.970474797180477
         },
         {
          "Bin": 4,
          "clicks": 441,
          "ctr": 0.12152108018737945,
          "impressions": 3629,
          "position": 4.528795811518325
         },
         {
          "Bin": 4,
          "clicks": 412,
          "ctr": 0.07435480960115502,
          "impressions": 5541,
          "position": 4.061360765204837
         },
         {
          "Bin": 4,
          "clicks": 409,
          "ctr": 0.04805545764305017,
          "impressions": 8511,
          "position": 4.362237104923041
         },
         {
          "Bin": 4,
          "clicks": 395,
          "ctr": 0.05894642590658111,
          "impressions": 6701,
          "position": 4.391284882853306
         },
         {
          "Bin": 4,
          "clicks": 379,
          "ctr": 0.12112496005113454,
          "impressions": 3129,
          "position": 4.781399808245446
         },
         {
          "Bin": 4,
          "clicks": 354,
          "ctr": 0.2017094017094017,
          "impressions": 1755,
          "position": 4.6826210826210835
         },
         {
          "Bin": 4,
          "clicks": 337,
          "ctr": 0.05194204685573366,
          "impressions": 6488,
          "position": 4.542077681874229
         },
         {
          "Bin": 4,
          "clicks": 317,
          "ctr": 0.04581586934528111,
          "impressions": 6919,
          "position": 4.1057956352074
         },
         {
          "Bin": 4,
          "clicks": 276,
          "ctr": 0.228287841191067,
          "impressions": 1209,
          "position": 4.461538461538462
         },
         {
          "Bin": 4,
          "clicks": 267,
          "ctr": 0.14816870144284128,
          "impressions": 1802,
          "position": 4.053274139844619
         },
         {
          "Bin": 4,
          "clicks": 258,
          "ctr": 0.02795838751625488,
          "impressions": 9228,
          "position": 4.300065019505851
         },
         {
          "Bin": 4,
          "clicks": 240,
          "ctr": 0.10484927916120576,
          "impressions": 2289,
          "position": 4.798602009611184
         },
         {
          "Bin": 4,
          "clicks": 224,
          "ctr": 0.020717721050684423,
          "impressions": 10812,
          "position": 4.938771735109138
         },
         {
          "Bin": 4,
          "clicks": 201,
          "ctr": 0.08945260347129506,
          "impressions": 2247,
          "position": 4.33555852247441
         },
         {
          "Bin": 4,
          "clicks": 200,
          "ctr": 0.2478314745972739,
          "impressions": 807,
          "position": 4.346964064436183
         },
         {
          "Bin": 4,
          "clicks": 200,
          "ctr": 0.08741258741258741,
          "impressions": 2288,
          "position": 4.570367132867133
         },
         {
          "Bin": 4,
          "clicks": 198,
          "ctr": 0.12692307692307692,
          "impressions": 1560,
          "position": 4.911538461538461
         },
         {
          "Bin": 4,
          "clicks": 195,
          "ctr": 0.22860492379835876,
          "impressions": 853,
          "position": 4.825322391559204
         },
         {
          "Bin": 4,
          "clicks": 181,
          "ctr": 0.027574649603900058,
          "impressions": 6564,
          "position": 4.424283973187081
         },
         {
          "Bin": 4,
          "clicks": 165,
          "ctr": 0.06674757281553398,
          "impressions": 2472,
          "position": 4.6213592233009715
         },
         {
          "Bin": 4,
          "clicks": 159,
          "ctr": 0.07378190255220418,
          "impressions": 2155,
          "position": 4.4153132250580045
         },
         {
          "Bin": 4,
          "clicks": 155,
          "ctr": 0.2080536912751678,
          "impressions": 745,
          "position": 4.573154362416108
         },
         {
          "Bin": 4,
          "clicks": 154,
          "ctr": 0.1097647897362794,
          "impressions": 1403,
          "position": 4.398431931575196
         },
         {
          "Bin": 4,
          "clicks": 149,
          "ctr": 0.061417971970321526,
          "impressions": 2426,
          "position": 4.775762572135203
         },
         {
          "Bin": 4,
          "clicks": 149,
          "ctr": 0.04531630170316302,
          "impressions": 3288,
          "position": 4.016423357664234
         },
         {
          "Bin": 4,
          "clicks": 146,
          "ctr": 0.016189842537147926,
          "impressions": 9018,
          "position": 4.046019072965181
         },
         {
          "Bin": 4,
          "clicks": 139,
          "ctr": 0.027174975562072337,
          "impressions": 5115,
          "position": 4.345650048875855
         },
         {
          "Bin": 4,
          "clicks": 134,
          "ctr": 0.1572769953051643,
          "impressions": 852,
          "position": 4.399061032863849
         },
         {
          "Bin": 4,
          "clicks": 130,
          "ctr": 0.08977900552486189,
          "impressions": 1448,
          "position": 4.794198895027624
         },
         {
          "Bin": 4,
          "clicks": 129,
          "ctr": 0.003872478386167147,
          "impressions": 33312,
          "position": 4.575138088376561
         },
         {
          "Bin": 4,
          "clicks": 123,
          "ctr": 0.12628336755646818,
          "impressions": 974,
          "position": 4.8644763860369595
         },
         {
          "Bin": 4,
          "clicks": 122,
          "ctr": 0.2230347349177331,
          "impressions": 547,
          "position": 4.435100548446068
         },
         {
          "Bin": 4,
          "clicks": 116,
          "ctr": 0.16642754662840745,
          "impressions": 697,
          "position": 4.8048780487804885
         },
         {
          "Bin": 4,
          "clicks": 115,
          "ctr": 0.05079505300353357,
          "impressions": 2264,
          "position": 4.1660777385159005
         },
         {
          "Bin": 4,
          "clicks": 114,
          "ctr": 0.2446351931330472,
          "impressions": 466,
          "position": 4.521459227467812
         },
         {
          "Bin": 4,
          "clicks": 113,
          "ctr": 0.11154985192497532,
          "impressions": 1013,
          "position": 4.0414610069101675
         },
         {
          "Bin": 4,
          "clicks": 111,
          "ctr": 0.0967741935483871,
          "impressions": 1147,
          "position": 4.8343504795117695
         },
         {
          "Bin": 4,
          "clicks": 102,
          "ctr": 0.020656136087484813,
          "impressions": 4938,
          "position": 4.947144592952613
         },
         {
          "Bin": 4,
          "clicks": 101,
          "ctr": 0.09148550724637683,
          "impressions": 1104,
          "position": 4.898550724637682
         },
         {
          "Bin": 4,
          "clicks": 100,
          "ctr": 0.2331002331002331,
          "impressions": 429,
          "position": 4.627039627039627
         },
         {
          "Bin": 4,
          "clicks": 100,
          "ctr": 0.11013215859030837,
          "impressions": 908,
          "position": 4.438325991189426
         },
         {
          "Bin": 4,
          "clicks": 99,
          "ctr": 0.14864864864864866,
          "impressions": 666,
          "position": 4.127627627627628
         },
         {
          "Bin": 4,
          "clicks": 93,
          "ctr": 0.203056768558952,
          "impressions": 458,
          "position": 4.207423580786026
         },
         {
          "Bin": 4,
          "clicks": 90,
          "ctr": 0.03907946157186279,
          "impressions": 2303,
          "position": 4.959617889709075
         },
         {
          "Bin": 4,
          "clicks": 88,
          "ctr": 0.22448979591836732,
          "impressions": 392,
          "position": 4.566326530612245
         },
         {
          "Bin": 4,
          "clicks": 87,
          "ctr": 0.15992647058823528,
          "impressions": 544,
          "position": 4.851102941176472
         },
         {
          "Bin": 4,
          "clicks": 84,
          "ctr": 0.34567901234567894,
          "impressions": 243,
          "position": 4.378600823045268
         },
         {
          "Bin": 4,
          "clicks": 84,
          "ctr": 0.08936170212765958,
          "impressions": 940,
          "position": 4.36063829787234
         },
         {
          "Bin": 4,
          "clicks": 83,
          "ctr": 0.15930902111324374,
          "impressions": 521,
          "position": 4.222648752399232
         },
         {
          "Bin": 4,
          "clicks": 81,
          "ctr": 0.15728155339805824,
          "impressions": 515,
          "position": 4.388349514563107
         },
         {
          "Bin": 4,
          "clicks": 78,
          "ctr": 0.2921348314606741,
          "impressions": 267,
          "position": 4.535580524344568
         },
         {
          "Bin": 4,
          "clicks": 74,
          "ctr": 0.1143740340030912,
          "impressions": 647,
          "position": 4.938176197836167
         },
         {
          "Bin": 4,
          "clicks": 74,
          "ctr": 0.2144927536231884,
          "impressions": 345,
          "position": 4.046376811594203
         },
         {
          "Bin": 4,
          "clicks": 71,
          "ctr": 0.031415929203539826,
          "impressions": 2260,
          "position": 4.303097345132743
         },
         {
          "Bin": 4,
          "clicks": 70,
          "ctr": 0.20895522388059698,
          "impressions": 335,
          "position": 4.438805970149255
         },
         {
          "Bin": 4,
          "clicks": 68,
          "ctr": 0.19883040935672516,
          "impressions": 342,
          "position": 4.108187134502924
         },
         {
          "Bin": 4,
          "clicks": 64,
          "ctr": 0.2549800796812749,
          "impressions": 251,
          "position": 4.0159362549800806
         },
         {
          "Bin": 4,
          "clicks": 64,
          "ctr": 0.007115063924402446,
          "impressions": 8995,
          "position": 4.1081712062256805
         },
         {
          "Bin": 4,
          "clicks": 63,
          "ctr": 0.245136186770428,
          "impressions": 257,
          "position": 4.116731517509727
         },
         {
          "Bin": 4,
          "clicks": 63,
          "ctr": 0.04751131221719457,
          "impressions": 1326,
          "position": 4.340874811463046
         },
         {
          "Bin": 4,
          "clicks": 61,
          "ctr": 0.01972833117723156,
          "impressions": 3092,
          "position": 4.658150064683053
         },
         {
          "Bin": 4,
          "clicks": 61,
          "ctr": 0.23282442748091606,
          "impressions": 262,
          "position": 4.232824427480916
         },
         {
          "Bin": 4,
          "clicks": 60,
          "ctr": 0.3296703296703297,
          "impressions": 182,
          "position": 4.115384615384615
         },
         {
          "Bin": 4,
          "clicks": 58,
          "ctr": 0.2020905923344948,
          "impressions": 287,
          "position": 4.536585365853659
         },
         {
          "Bin": 4,
          "clicks": 58,
          "ctr": 0.05708661417322835,
          "impressions": 1016,
          "position": 4.015748031496063
         },
         {
          "Bin": 4,
          "clicks": 56,
          "ctr": 0.25,
          "impressions": 224,
          "position": 4.616071428571429
         },
         {
          "Bin": 4,
          "clicks": 56,
          "ctr": 0.1978798586572438,
          "impressions": 283,
          "position": 4.826855123674912
         },
         {
          "Bin": 4,
          "clicks": 56,
          "ctr": 0.27450980392156865,
          "impressions": 204,
          "position": 4.96078431372549
         },
         {
          "Bin": 4,
          "clicks": 56,
          "ctr": 0.16716417910447762,
          "impressions": 335,
          "position": 4.8507462686567155
         },
         {
          "Bin": 4,
          "clicks": 54,
          "ctr": 0.05654450261780105,
          "impressions": 955,
          "position": 4.7591623036649215
         },
         {
          "Bin": 4,
          "clicks": 53,
          "ctr": 0.167192429022082,
          "impressions": 317,
          "position": 4.55205047318612
         },
         {
          "Bin": 4,
          "clicks": 52,
          "ctr": 0.40625,
          "impressions": 128,
          "position": 4.4375
         },
         {
          "Bin": 4,
          "clicks": 52,
          "ctr": 0.029562251279135875,
          "impressions": 1759,
          "position": 4.789084707220012
         },
         {
          "Bin": 4,
          "clicks": 52,
          "ctr": 0.09701492537313433,
          "impressions": 536,
          "position": 4.585820895522389
         },
         {
          "Bin": 4,
          "clicks": 52,
          "ctr": 0.2047244094488189,
          "impressions": 254,
          "position": 4.740157480314961
         },
         {
          "Bin": 4,
          "clicks": 51,
          "ctr": 0.022039757994814176,
          "impressions": 2314,
          "position": 4.5233362143474505
         },
         {
          "Bin": 4,
          "clicks": 50,
          "ctr": 0.25,
          "impressions": 200,
          "position": 4.2
         },
         {
          "Bin": 4,
          "clicks": 50,
          "ctr": 0.028604118993135013,
          "impressions": 1748,
          "position": 4.775743707093822
         },
         {
          "Bin": 4,
          "clicks": 50,
          "ctr": 0.176678445229682,
          "impressions": 283,
          "position": 4.699646643109539
         },
         {
          "Bin": 4,
          "clicks": 49,
          "ctr": 0.3223684210526316,
          "impressions": 152,
          "position": 4.046052631578947
         },
         {
          "Bin": 4,
          "clicks": 49,
          "ctr": 0.1225,
          "impressions": 400,
          "position": 4.5975
         },
         {
          "Bin": 4,
          "clicks": 49,
          "ctr": 0.19367588932806326,
          "impressions": 253,
          "position": 4.442687747035573
         },
         {
          "Bin": 4,
          "clicks": 48,
          "ctr": 0.12467532467532468,
          "impressions": 385,
          "position": 4.176623376623377
         },
         {
          "Bin": 4,
          "clicks": 48,
          "ctr": 0.034139402560455195,
          "impressions": 1406,
          "position": 4.6678520625889055
         },
         {
          "Bin": 4,
          "clicks": 48,
          "ctr": 0.14457831325301204,
          "impressions": 332,
          "position": 4.6656626506024095
         },
         {
          "Bin": 4,
          "clicks": 47,
          "ctr": 0.020982142857142852,
          "impressions": 2240,
          "position": 4.047321428571428
         },
         {
          "Bin": 4,
          "clicks": 47,
          "ctr": 0.040517241379310336,
          "impressions": 1160,
          "position": 4.551724137931036
         },
         {
          "Bin": 4,
          "clicks": 46,
          "ctr": 0.1885245901639344,
          "impressions": 244,
          "position": 4.418032786885246
         },
         {
          "Bin": 4,
          "clicks": 45,
          "ctr": 0.17509727626459146,
          "impressions": 257,
          "position": 4.085603112840467
         },
         {
          "Bin": 4,
          "clicks": 45,
          "ctr": 0.11194029850746268,
          "impressions": 402,
          "position": 4.291044776119403
         },
         {
          "Bin": 4,
          "clicks": 45,
          "ctr": 0.12893982808022922,
          "impressions": 349,
          "position": 4.206303724928366
         },
         {
          "Bin": 4,
          "clicks": 45,
          "ctr": 0.08620689655172414,
          "impressions": 522,
          "position": 4.773946360153257
         },
         {
          "Bin": 4,
          "clicks": 45,
          "ctr": 0.07853403141361257,
          "impressions": 573,
          "position": 4.015706806282722
         },
         {
          "Bin": 4,
          "clicks": 45,
          "ctr": 0.014231499051233398,
          "impressions": 3162,
          "position": 4.345983554712207
         },
         {
          "Bin": 4,
          "clicks": 44,
          "ctr": 0.016871165644171782,
          "impressions": 2608,
          "position": 4.757668711656442
         },
         {
          "Bin": 4,
          "clicks": 43,
          "ctr": 0.1,
          "impressions": 430,
          "position": 4.681395348837209
         },
         {
          "Bin": 4,
          "clicks": 42,
          "ctr": 0.02048780487804878,
          "impressions": 2050,
          "position": 4.246829268292683
         },
         {
          "Bin": 4,
          "clicks": 42,
          "ctr": 0.19004524886877827,
          "impressions": 221,
          "position": 4.018099547511312
         },
         {
          "Bin": 4,
          "clicks": 41,
          "ctr": 0.13183279742765272,
          "impressions": 311,
          "position": 4.527331189710611
         },
         {
          "Bin": 4,
          "clicks": 41,
          "ctr": 0.1806167400881057,
          "impressions": 227,
          "position": 4.889867841409692
         },
         {
          "Bin": 4,
          "clicks": 41,
          "ctr": 0.0296028880866426,
          "impressions": 1385,
          "position": 4.8447653429602875
         },
         {
          "Bin": 4,
          "clicks": 41,
          "ctr": 0.16334661354581673,
          "impressions": 251,
          "position": 4.848605577689243
         },
         {
          "Bin": 4,
          "clicks": 40,
          "ctr": 0.110803324099723,
          "impressions": 361,
          "position": 4.969529085872576
         },
         {
          "Bin": 4,
          "clicks": 40,
          "ctr": 0.113314447592068,
          "impressions": 353,
          "position": 4.424929178470255
         },
         {
          "Bin": 4,
          "clicks": 40,
          "ctr": 0.3539823008849557,
          "impressions": 113,
          "position": 4.1946902654867255
         },
         {
          "Bin": 4,
          "clicks": 39,
          "ctr": 0.06782608695652173,
          "impressions": 575,
          "position": 4.328695652173913
         },
         {
          "Bin": 4,
          "clicks": 39,
          "ctr": 0.17727272727272728,
          "impressions": 220,
          "position": 4.363636363636363
         },
         {
          "Bin": 4,
          "clicks": 39,
          "ctr": 0.2977099236641221,
          "impressions": 131,
          "position": 4.679389312977099
         },
         {
          "Bin": 4,
          "clicks": 39,
          "ctr": 0.17410714285714285,
          "impressions": 224,
          "position": 4.598214285714286
         },
         {
          "Bin": 4,
          "clicks": 38,
          "ctr": 0.03865717192268565,
          "impressions": 983,
          "position": 4.6581892166836205
         },
         {
          "Bin": 4,
          "clicks": 38,
          "ctr": 0.23170731707317074,
          "impressions": 164,
          "position": 4.6951219512195115
         },
         {
          "Bin": 4,
          "clicks": 37,
          "ctr": 0.013157894736842105,
          "impressions": 2812,
          "position": 4.661806543385492
         },
         {
          "Bin": 4,
          "clicks": 37,
          "ctr": 0.04143337066069429,
          "impressions": 893,
          "position": 4.718924972004481
         },
         {
          "Bin": 4,
          "clicks": 37,
          "ctr": 0.0891566265060241,
          "impressions": 415,
          "position": 4.669879518072289
         },
         {
          "Bin": 4,
          "clicks": 36,
          "ctr": 0.13382899628252787,
          "impressions": 269,
          "position": 4.111524163568774
         },
         {
          "Bin": 4,
          "clicks": 36,
          "ctr": 0.034220532319391636,
          "impressions": 1052,
          "position": 4.100760456273765
         },
         {
          "Bin": 4,
          "clicks": 36,
          "ctr": 0.1153846153846154,
          "impressions": 312,
          "position": 4.977564102564102
         },
         {
          "Bin": 4,
          "clicks": 35,
          "ctr": 0.06294964028776978,
          "impressions": 556,
          "position": 4.5503597122302155
         },
         {
          "Bin": 4,
          "clicks": 35,
          "ctr": 0.19886363636363635,
          "impressions": 176,
          "position": 4.443181818181818
         },
         {
          "Bin": 4,
          "clicks": 35,
          "ctr": 0.09536784741144416,
          "impressions": 367,
          "position": 4.514986376021799
         },
         {
          "Bin": 4,
          "clicks": 35,
          "ctr": 0.11589403973509932,
          "impressions": 302,
          "position": 4.831125827814568
         },
         {
          "Bin": 4,
          "clicks": 35,
          "ctr": 0.09562841530054644,
          "impressions": 366,
          "position": 4.286885245901638
         },
         {
          "Bin": 4,
          "clicks": 34,
          "ctr": 0.2446043165467626,
          "impressions": 139,
          "position": 4.9208633093525185
         },
         {
          "Bin": 4,
          "clicks": 33,
          "ctr": 0.14285714285714285,
          "impressions": 231,
          "position": 4.329004329004329
         },
         {
          "Bin": 4,
          "clicks": 33,
          "ctr": 0.01739588824459673,
          "impressions": 1897,
          "position": 4.338956246705323
         },
         {
          "Bin": 4,
          "clicks": 33,
          "ctr": 0.02782462057335582,
          "impressions": 1186,
          "position": 4.1214165261382805
         },
         {
          "Bin": 4,
          "clicks": 33,
          "ctr": 0.12087912087912088,
          "impressions": 273,
          "position": 4.835164835164836
         },
         {
          "Bin": 4,
          "clicks": 33,
          "ctr": 0.2578125,
          "impressions": 128,
          "position": 4.609375
         },
         {
          "Bin": 4,
          "clicks": 33,
          "ctr": 0.21428571428571427,
          "impressions": 154,
          "position": 4.5649350649350655
         },
         {
          "Bin": 4,
          "clicks": 33,
          "ctr": 0.10377358490566037,
          "impressions": 318,
          "position": 4.773584905660377
         },
         {
          "Bin": 4,
          "clicks": 33,
          "ctr": 0.011410788381742738,
          "impressions": 2892,
          "position": 4.150069156293222
         },
         {
          "Bin": 4,
          "clicks": 32,
          "ctr": 0.031714568880079286,
          "impressions": 1009,
          "position": 4.061446977205153
         },
         {
          "Bin": 4,
          "clicks": 32,
          "ctr": 0.1015873015873016,
          "impressions": 315,
          "position": 4.996825396825397
         },
         {
          "Bin": 4,
          "clicks": 32,
          "ctr": 0.15165876777251186,
          "impressions": 211,
          "position": 4.142180094786728
         },
         {
          "Bin": 4,
          "clicks": 31,
          "ctr": 0.11231884057971014,
          "impressions": 276,
          "position": 4.173913043478262
         },
         {
          "Bin": 4,
          "clicks": 31,
          "ctr": 0.16939890710382513,
          "impressions": 183,
          "position": 4.939890710382514
         },
         {
          "Bin": 4,
          "clicks": 31,
          "ctr": 0.12863070539419086,
          "impressions": 241,
          "position": 4.746887966804978
         },
         {
          "Bin": 4,
          "clicks": 31,
          "ctr": 0.0044412607449856745,
          "impressions": 6980,
          "position": 4.138538681948424
         },
         {
          "Bin": 4,
          "clicks": 30,
          "ctr": 0.297029702970297,
          "impressions": 101,
          "position": 4.069306930693069
         },
         {
          "Bin": 4,
          "clicks": 30,
          "ctr": 0.14354066985645933,
          "impressions": 209,
          "position": 4.0861244019138745
         },
         {
          "Bin": 4,
          "clicks": 30,
          "ctr": 0.16216216216216214,
          "impressions": 185,
          "position": 4.681081081081081
         },
         {
          "Bin": 4,
          "clicks": 30,
          "ctr": 0.08955223880597014,
          "impressions": 335,
          "position": 4.889552238805972
         },
         {
          "Bin": 4,
          "clicks": 30,
          "ctr": 0.1973684210526316,
          "impressions": 152,
          "position": 4.302631578947368
         },
         {
          "Bin": 4,
          "clicks": 29,
          "ctr": 0.2396694214876033,
          "impressions": 121,
          "position": 4.752066115702481
         },
         {
          "Bin": 4,
          "clicks": 28,
          "ctr": 0.2153846153846154,
          "impressions": 130,
          "position": 4.223076923076923
         },
         {
          "Bin": 4,
          "clicks": 28,
          "ctr": 0.1564245810055866,
          "impressions": 179,
          "position": 4.815642458100559
         },
         {
          "Bin": 4,
          "clicks": 28,
          "ctr": 0.12334801762114538,
          "impressions": 227,
          "position": 4.7004405286343625
         },
         {
          "Bin": 4,
          "clicks": 27,
          "ctr": 0.225,
          "impressions": 120,
          "position": 4.55
         },
         {
          "Bin": 4,
          "clicks": 27,
          "ctr": 0.19708029197080293,
          "impressions": 137,
          "position": 4.781021897810219
         },
         {
          "Bin": 4,
          "clicks": 27,
          "ctr": 0.16265060240963855,
          "impressions": 166,
          "position": 4.855421686746988
         },
         {
          "Bin": 4,
          "clicks": 27,
          "ctr": 0.10384615384615384,
          "impressions": 260,
          "position": 4.346153846153847
         },
         {
          "Bin": 4,
          "clicks": 27,
          "ctr": 0.15517241379310345,
          "impressions": 174,
          "position": 4.172413793103448
         },
         {
          "Bin": 4,
          "clicks": 27,
          "ctr": 0.01731879409878127,
          "impressions": 1559,
          "position": 4.253367543296985
         },
         {
          "Bin": 4,
          "clicks": 26,
          "ctr": 0.18705035971223025,
          "impressions": 139,
          "position": 4.669064748201438
         },
         {
          "Bin": 4,
          "clicks": 26,
          "ctr": 0.0187997107736804,
          "impressions": 1383,
          "position": 4.945770065075922
         },
         {
          "Bin": 4,
          "clicks": 26,
          "ctr": 0.04506065857885616,
          "impressions": 577,
          "position": 4.708838821490468
         },
         {
          "Bin": 4,
          "clicks": 26,
          "ctr": 0.20800000000000002,
          "impressions": 125,
          "position": 4.848
         },
         {
          "Bin": 4,
          "clicks": 26,
          "ctr": 0.2184873949579832,
          "impressions": 119,
          "position": 4.310924369747899
         },
         {
          "Bin": 4,
          "clicks": 25,
          "ctr": 0.10121457489878542,
          "impressions": 247,
          "position": 4.967611336032389
         },
         {
          "Bin": 4,
          "clicks": 25,
          "ctr": 0.035868005738880916,
          "impressions": 697,
          "position": 4.4103299856527975
         },
         {
          "Bin": 4,
          "clicks": 25,
          "ctr": 0.07692307692307693,
          "impressions": 325,
          "position": 4.1230769230769235
         },
         {
          "Bin": 4,
          "clicks": 25,
          "ctr": 0.15625,
          "impressions": 160,
          "position": 4.50625
         },
         {
          "Bin": 4,
          "clicks": 25,
          "ctr": 0.05040322580645161,
          "impressions": 496,
          "position": 4.028225806451613
         },
         {
          "Bin": 4,
          "clicks": 25,
          "ctr": 0.013157894736842105,
          "impressions": 1900,
          "position": 4.561052631578948
         },
         {
          "Bin": 4,
          "clicks": 25,
          "ctr": 0.045372050816696916,
          "impressions": 551,
          "position": 4.94010889292196
         },
         {
          "Bin": 4,
          "clicks": 25,
          "ctr": 0.17857142857142858,
          "impressions": 140,
          "position": 4.085714285714285
         },
         {
          "Bin": 4,
          "clicks": 25,
          "ctr": 0.06596306068601583,
          "impressions": 379,
          "position": 4.965699208443271
         },
         {
          "Bin": 5,
          "clicks": 3009,
          "ctr": 0.02645879497731349,
          "impressions": 113724,
          "position": 5.024040659843129
         },
         {
          "Bin": 5,
          "clicks": 1962,
          "ctr": 0.27432885906040266,
          "impressions": 7152,
          "position": 5.165687919463087
         },
         {
          "Bin": 5,
          "clicks": 1868,
          "ctr": 0.14136521870743152,
          "impressions": 13214,
          "position": 5.060012108369912
         },
         {
          "Bin": 5,
          "clicks": 1739,
          "ctr": 0.014075501019846538,
          "impressions": 123548,
          "position": 5.894405413280668
         },
         {
          "Bin": 5,
          "clicks": 1272,
          "ctr": 0.036982119494112516,
          "impressions": 34395,
          "position": 5.647128943160343
         },
         {
          "Bin": 5,
          "clicks": 977,
          "ctr": 0.061690976826419136,
          "impressions": 15837,
          "position": 5.975310980615015
         },
         {
          "Bin": 5,
          "clicks": 859,
          "ctr": 0.09870159715040792,
          "impressions": 8703,
          "position": 5.177869700103413
         },
         {
          "Bin": 5,
          "clicks": 825,
          "ctr": 0.045966124359260084,
          "impressions": 17948,
          "position": 5.416536661466457
         },
         {
          "Bin": 5,
          "clicks": 689,
          "ctr": 0.06015891032917139,
          "impressions": 11453,
          "position": 5.4081899938880635
         },
         {
          "Bin": 5,
          "clicks": 676,
          "ctr": 0.07591240875912407,
          "impressions": 8905,
          "position": 5.578214486243684
         },
         {
          "Bin": 5,
          "clicks": 586,
          "ctr": 0.06665150136487716,
          "impressions": 8792,
          "position": 5.4613284804367614
         },
         {
          "Bin": 5,
          "clicks": 475,
          "ctr": 0.11696626446688008,
          "impressions": 4061,
          "position": 5.276286628909135
         },
         {
          "Bin": 5,
          "clicks": 457,
          "ctr": 0.01976045314999784,
          "impressions": 23127,
          "position": 5.879232066415877
         },
         {
          "Bin": 5,
          "clicks": 438,
          "ctr": 0.10909090909090907,
          "impressions": 4015,
          "position": 5.300124533001245
         },
         {
          "Bin": 5,
          "clicks": 420,
          "ctr": 0.0390806736763748,
          "impressions": 10747,
          "position": 5.2897552805434085
         },
         {
          "Bin": 5,
          "clicks": 402,
          "ctr": 0.03670562454346238,
          "impressions": 10952,
          "position": 5.952063550036522
         },
         {
          "Bin": 5,
          "clicks": 380,
          "ctr": 0.023704073357869133,
          "impressions": 16031,
          "position": 5.912606824277963
         },
         {
          "Bin": 5,
          "clicks": 368,
          "ctr": 0.0699619771863118,
          "impressions": 5260,
          "position": 5.097528517110267
         },
         {
          "Bin": 5,
          "clicks": 355,
          "ctr": 0.07751091703056769,
          "impressions": 4580,
          "position": 5.857423580786027
         },
         {
          "Bin": 5,
          "clicks": 329,
          "ctr": 0.09850299401197604,
          "impressions": 3340,
          "position": 5.20748502994012
         },
         {
          "Bin": 5,
          "clicks": 303,
          "ctr": 0.032056707575116375,
          "impressions": 9452,
          "position": 5.465933135844265
         },
         {
          "Bin": 5,
          "clicks": 294,
          "ctr": 0.1389413988657845,
          "impressions": 2116,
          "position": 5.275992438563328
         },
         {
          "Bin": 5,
          "clicks": 289,
          "ctr": 0.02466501664248528,
          "impressions": 11717,
          "position": 5.632243748399762
         },
         {
          "Bin": 5,
          "clicks": 283,
          "ctr": 0.001500840576789474,
          "impressions": 188561,
          "position": 5.8546252936715435
         },
         {
          "Bin": 5,
          "clicks": 275,
          "ctr": 0.04954062331111511,
          "impressions": 5551,
          "position": 5.512520266618627
         },
         {
          "Bin": 5,
          "clicks": 227,
          "ctr": 0.013631996156617823,
          "impressions": 16652,
          "position": 5.426435263031467
         },
         {
          "Bin": 5,
          "clicks": 217,
          "ctr": 0.09442993907745864,
          "impressions": 2298,
          "position": 5.8842471714534375
         },
         {
          "Bin": 5,
          "clicks": 205,
          "ctr": 0.09822712026832776,
          "impressions": 2087,
          "position": 5.184954480114998
         },
         {
          "Bin": 5,
          "clicks": 202,
          "ctr": 0.1573208722741433,
          "impressions": 1284,
          "position": 5.4478193146417455
         },
         {
          "Bin": 5,
          "clicks": 196,
          "ctr": 0.07515337423312883,
          "impressions": 2608,
          "position": 5.491180981595091
         },
         {
          "Bin": 5,
          "clicks": 190,
          "ctr": 0.015636573121553782,
          "impressions": 12151,
          "position": 5.209530079828822
         },
         {
          "Bin": 5,
          "clicks": 170,
          "ctr": 0.0206511175898931,
          "impressions": 8232,
          "position": 5.62184159378037
         },
         {
          "Bin": 5,
          "clicks": 164,
          "ctr": 0.02164445031014913,
          "impressions": 7577,
          "position": 5.962386168668338
         },
         {
          "Bin": 5,
          "clicks": 160,
          "ctr": 0.07901234567901234,
          "impressions": 2025,
          "position": 5.9995061728395065
         },
         {
          "Bin": 5,
          "clicks": 154,
          "ctr": 0.1068702290076336,
          "impressions": 1441,
          "position": 5.163775156141568
         },
         {
          "Bin": 5,
          "clicks": 153,
          "ctr": 0.08181818181818183,
          "impressions": 1870,
          "position": 5.0973262032085564
         },
         {
          "Bin": 5,
          "clicks": 147,
          "ctr": 0.027338664682908687,
          "impressions": 5377,
          "position": 5.907011344615957
         },
         {
          "Bin": 5,
          "clicks": 146,
          "ctr": 0.19235836627140976,
          "impressions": 759,
          "position": 5.4229249011857705
         },
         {
          "Bin": 5,
          "clicks": 141,
          "ctr": 0.026115947397666237,
          "impressions": 5399,
          "position": 5.3208001481755876
         },
         {
          "Bin": 5,
          "clicks": 134,
          "ctr": 0.057191634656423386,
          "impressions": 2343,
          "position": 5.66880068288519
         },
         {
          "Bin": 5,
          "clicks": 128,
          "ctr": 0.03173816017852715,
          "impressions": 4033,
          "position": 5.246962558889164
         },
         {
          "Bin": 5,
          "clicks": 128,
          "ctr": 0.07678464307138573,
          "impressions": 1667,
          "position": 5.58248350329934
         },
         {
          "Bin": 5,
          "clicks": 118,
          "ctr": 0.015170995114425304,
          "impressions": 7778,
          "position": 5.646181537670352
         },
         {
          "Bin": 5,
          "clicks": 115,
          "ctr": 0.015473627556512378,
          "impressions": 7432,
          "position": 5.997847147470398
         },
         {
          "Bin": 5,
          "clicks": 114,
          "ctr": 0.049159120310478664,
          "impressions": 2319,
          "position": 5.348857266062958
         },
         {
          "Bin": 5,
          "clicks": 112,
          "ctr": 0.42911877394636017,
          "impressions": 261,
          "position": 5.237547892720307
         },
         {
          "Bin": 5,
          "clicks": 108,
          "ctr": 0.11088295687885012,
          "impressions": 974,
          "position": 5.197125256673512
         },
         {
          "Bin": 5,
          "clicks": 102,
          "ctr": 0.08777969018932874,
          "impressions": 1162,
          "position": 5.5129087779690185
         },
         {
          "Bin": 5,
          "clicks": 99,
          "ctr": 0.1430635838150289,
          "impressions": 692,
          "position": 5.15606936416185
         },
         {
          "Bin": 5,
          "clicks": 97,
          "ctr": 0.13179347826086954,
          "impressions": 736,
          "position": 5.380434782608695
         },
         {
          "Bin": 5,
          "clicks": 89,
          "ctr": 0.038763066202090586,
          "impressions": 2296,
          "position": 5.9033101045296155
         },
         {
          "Bin": 5,
          "clicks": 88,
          "ctr": 0.056482670089858786,
          "impressions": 1558,
          "position": 5.953145057766367
         },
         {
          "Bin": 5,
          "clicks": 87,
          "ctr": 0.1403225806451613,
          "impressions": 620,
          "position": 5.101612903225806
         },
         {
          "Bin": 5,
          "clicks": 87,
          "ctr": 0.0954994511525796,
          "impressions": 911,
          "position": 5.200878155872667
         },
         {
          "Bin": 5,
          "clicks": 86,
          "ctr": 0.06957928802588997,
          "impressions": 1236,
          "position": 5.765372168284791
         },
         {
          "Bin": 5,
          "clicks": 76,
          "ctr": 0.12709030100334448,
          "impressions": 598,
          "position": 5.173913043478262
         },
         {
          "Bin": 5,
          "clicks": 74,
          "ctr": 0.06554472984942426,
          "impressions": 1129,
          "position": 5.368467670504872
         },
         {
          "Bin": 5,
          "clicks": 74,
          "ctr": 0.05863708399366085,
          "impressions": 1262,
          "position": 5.916006339144214
         },
         {
          "Bin": 5,
          "clicks": 74,
          "ctr": 0.07283464566929132,
          "impressions": 1016,
          "position": 5.479330708661418
         },
         {
          "Bin": 5,
          "clicks": 68,
          "ctr": 0.06302131603336422,
          "impressions": 1079,
          "position": 5.907321594068582
         },
         {
          "Bin": 5,
          "clicks": 67,
          "ctr": 0.030790441176470586,
          "impressions": 2176,
          "position": 5.946231617647059
         },
         {
          "Bin": 5,
          "clicks": 66,
          "ctr": 0.14864864864864866,
          "impressions": 444,
          "position": 5.86036036036036
         },
         {
          "Bin": 5,
          "clicks": 65,
          "ctr": 0.10317460317460317,
          "impressions": 630,
          "position": 5.412698412698413
         },
         {
          "Bin": 5,
          "clicks": 64,
          "ctr": 0.2277580071174377,
          "impressions": 281,
          "position": 5.683274021352313
         },
         {
          "Bin": 5,
          "clicks": 62,
          "ctr": 0.0668103448275862,
          "impressions": 928,
          "position": 5.092672413793104
         },
         {
          "Bin": 5,
          "clicks": 62,
          "ctr": 0.08959537572254335,
          "impressions": 692,
          "position": 5.57514450867052
         },
         {
          "Bin": 5,
          "clicks": 62,
          "ctr": 0.1169811320754717,
          "impressions": 530,
          "position": 5.339622641509433
         },
         {
          "Bin": 5,
          "clicks": 62,
          "ctr": 0.08378378378378379,
          "impressions": 740,
          "position": 5.85
         },
         {
          "Bin": 5,
          "clicks": 60,
          "ctr": 0.3468208092485549,
          "impressions": 173,
          "position": 5.6531791907514455
         },
         {
          "Bin": 5,
          "clicks": 60,
          "ctr": 0.2510460251046025,
          "impressions": 239,
          "position": 5.451882845188284
         },
         {
          "Bin": 5,
          "clicks": 58,
          "ctr": 0.16477272727272727,
          "impressions": 352,
          "position": 5.795454545454546
         },
         {
          "Bin": 5,
          "clicks": 58,
          "ctr": 0.08055555555555556,
          "impressions": 720,
          "position": 5.484722222222223
         },
         {
          "Bin": 5,
          "clicks": 57,
          "ctr": 0.10035211267605634,
          "impressions": 568,
          "position": 5.223591549295775
         },
         {
          "Bin": 5,
          "clicks": 57,
          "ctr": 0.12666666666666668,
          "impressions": 450,
          "position": 5.8244444444444445
         },
         {
          "Bin": 5,
          "clicks": 57,
          "ctr": 0.10160427807486633,
          "impressions": 561,
          "position": 5.691622103386809
         },
         {
          "Bin": 5,
          "clicks": 56,
          "ctr": 0.0016965070132388136,
          "impressions": 33009,
          "position": 5.575873246690296
         },
         {
          "Bin": 5,
          "clicks": 55,
          "ctr": 0.03937007874015748,
          "impressions": 1397,
          "position": 5.5912670007158205
         },
         {
          "Bin": 5,
          "clicks": 55,
          "ctr": 0.12702078521939955,
          "impressions": 433,
          "position": 5.558891454965359
         },
         {
          "Bin": 5,
          "clicks": 54,
          "ctr": 0.03375,
          "impressions": 1600,
          "position": 5.958125
         },
         {
          "Bin": 5,
          "clicks": 54,
          "ctr": 0.03680981595092025,
          "impressions": 1467,
          "position": 5.7914110429447865
         },
         {
          "Bin": 5,
          "clicks": 54,
          "ctr": 0.06835443037974684,
          "impressions": 790,
          "position": 5.70632911392405
         },
         {
          "Bin": 5,
          "clicks": 53,
          "ctr": 0.09464285714285714,
          "impressions": 560,
          "position": 5.9
         },
         {
          "Bin": 5,
          "clicks": 52,
          "ctr": 0.10633946830265847,
          "impressions": 489,
          "position": 5.541922290388548
         },
         {
          "Bin": 5,
          "clicks": 51,
          "ctr": 0.17586206896551726,
          "impressions": 290,
          "position": 5.006896551724138
         },
         {
          "Bin": 5,
          "clicks": 51,
          "ctr": 0.08614864864864864,
          "impressions": 592,
          "position": 5.5641891891891895
         },
         {
          "Bin": 5,
          "clicks": 51,
          "ctr": 0.2116182572614108,
          "impressions": 241,
          "position": 5.315352697095436
         },
         {
          "Bin": 5,
          "clicks": 51,
          "ctr": 0.02265659706796979,
          "impressions": 2251,
          "position": 5.886717014660151
         },
         {
          "Bin": 5,
          "clicks": 51,
          "ctr": 0.06390977443609022,
          "impressions": 798,
          "position": 5.783208020050125
         },
         {
          "Bin": 5,
          "clicks": 50,
          "ctr": 0.06648936170212766,
          "impressions": 752,
          "position": 5.888297872340425
         },
         {
          "Bin": 5,
          "clicks": 50,
          "ctr": 0.0509683995922528,
          "impressions": 981,
          "position": 5.7859327217125385
         },
         {
          "Bin": 5,
          "clicks": 49,
          "ctr": 0.10986547085201794,
          "impressions": 446,
          "position": 5.441704035874438
         },
         {
          "Bin": 5,
          "clicks": 49,
          "ctr": 0.09333333333333334,
          "impressions": 525,
          "position": 5.626666666666668
         },
         {
          "Bin": 5,
          "clicks": 48,
          "ctr": 0.11162790697674417,
          "impressions": 430,
          "position": 5.6
         },
         {
          "Bin": 5,
          "clicks": 47,
          "ctr": 0.037964458804523434,
          "impressions": 1238,
          "position": 5.453957996768981
         },
         {
          "Bin": 5,
          "clicks": 47,
          "ctr": 0.08545454545454545,
          "impressions": 550,
          "position": 5.092727272727274
         },
         {
          "Bin": 5,
          "clicks": 45,
          "ctr": 0.07880910683012259,
          "impressions": 571,
          "position": 5.833625218914187
         },
         {
          "Bin": 5,
          "clicks": 44,
          "ctr": 0.031907179115300936,
          "impressions": 1379,
          "position": 5.733865119651923
         },
         {
          "Bin": 5,
          "clicks": 44,
          "ctr": 0.01570867547304534,
          "impressions": 2801,
          "position": 5.660121385219566
         },
         {
          "Bin": 5,
          "clicks": 43,
          "ctr": 0.03216155572176515,
          "impressions": 1337,
          "position": 5.039640987284966
         },
         {
          "Bin": 5,
          "clicks": 42,
          "ctr": 0.24277456647398846,
          "impressions": 173,
          "position": 5.872832369942198
         },
         {
          "Bin": 5,
          "clicks": 42,
          "ctr": 0.2222222222222222,
          "impressions": 189,
          "position": 5.211640211640212
         },
         {
          "Bin": 5,
          "clicks": 40,
          "ctr": 0.03330557868442964,
          "impressions": 1201,
          "position": 5.0141548709408825
         },
         {
          "Bin": 5,
          "clicks": 40,
          "ctr": 0.0408997955010225,
          "impressions": 978,
          "position": 5.777096114519428
         },
         {
          "Bin": 5,
          "clicks": 40,
          "ctr": 0.08791208791208792,
          "impressions": 455,
          "position": 5.558241758241758
         },
         {
          "Bin": 5,
          "clicks": 40,
          "ctr": 0.0020178580436866268,
          "impressions": 19823,
          "position": 5.687232003228573
         },
         {
          "Bin": 5,
          "clicks": 39,
          "ctr": 0.3023255813953488,
          "impressions": 129,
          "position": 5.054263565891473
         },
         {
          "Bin": 5,
          "clicks": 39,
          "ctr": 0.0924170616113744,
          "impressions": 422,
          "position": 5.876777251184834
         },
         {
          "Bin": 5,
          "clicks": 39,
          "ctr": 0.14391143911439114,
          "impressions": 271,
          "position": 5.4464944649446485
         },
         {
          "Bin": 5,
          "clicks": 39,
          "ctr": 0.22285714285714286,
          "impressions": 175,
          "position": 5.1657142857142855
         },
         {
          "Bin": 5,
          "clicks": 38,
          "ctr": 0.07063197026022305,
          "impressions": 538,
          "position": 5.1133828996282515
         },
         {
          "Bin": 5,
          "clicks": 37,
          "ctr": 0.013328530259365994,
          "impressions": 2776,
          "position": 5.647334293948128
         },
         {
          "Bin": 5,
          "clicks": 37,
          "ctr": 0.010114816839803172,
          "impressions": 3658,
          "position": 5.073810825587753
         },
         {
          "Bin": 5,
          "clicks": 36,
          "ctr": 0.20809248554913296,
          "impressions": 173,
          "position": 5.479768786127168
         },
         {
          "Bin": 5,
          "clicks": 35,
          "ctr": 0.0054255154239652775,
          "impressions": 6451,
          "position": 5.1161060300728565
         },
         {
          "Bin": 5,
          "clicks": 35,
          "ctr": 0.002578458818329159,
          "impressions": 13574,
          "position": 5.634595550316782
         },
         {
          "Bin": 5,
          "clicks": 35,
          "ctr": 0.02304147465437788,
          "impressions": 1519,
          "position": 5.593153390388414
         },
         {
          "Bin": 5,
          "clicks": 35,
          "ctr": 0.2215189873417721,
          "impressions": 158,
          "position": 5.278481012658228
         },
         {
          "Bin": 5,
          "clicks": 35,
          "ctr": 0.01407884151246983,
          "impressions": 2486,
          "position": 5.080048270313757
         },
         {
          "Bin": 5,
          "clicks": 34,
          "ctr": 0.04683195592286502,
          "impressions": 726,
          "position": 5.6707988980716255
         },
         {
          "Bin": 5,
          "clicks": 34,
          "ctr": 0.09018567639257294,
          "impressions": 377,
          "position": 5.1936339522546415
         },
         {
          "Bin": 5,
          "clicks": 34,
          "ctr": 0.2251655629139073,
          "impressions": 151,
          "position": 5.543046357615894
         },
         {
          "Bin": 5,
          "clicks": 33,
          "ctr": 0.25384615384615383,
          "impressions": 130,
          "position": 5.592307692307692
         },
         {
          "Bin": 5,
          "clicks": 33,
          "ctr": 0.015144561725562184,
          "impressions": 2179,
          "position": 5.5631023405231765
         },
         {
          "Bin": 5,
          "clicks": 33,
          "ctr": 0.15942028985507245,
          "impressions": 207,
          "position": 5.9178743961352644
         },
         {
          "Bin": 5,
          "clicks": 32,
          "ctr": 0.016632016632016633,
          "impressions": 1924,
          "position": 5.191268191268192
         },
         {
          "Bin": 5,
          "clicks": 32,
          "ctr": 0.07289293849658314,
          "impressions": 439,
          "position": 5.995444191343965
         },
         {
          "Bin": 5,
          "clicks": 32,
          "ctr": 0.125,
          "impressions": 256,
          "position": 5.08203125
         },
         {
          "Bin": 5,
          "clicks": 31,
          "ctr": 0.1076388888888889,
          "impressions": 288,
          "position": 5.954861111111112
         },
         {
          "Bin": 5,
          "clicks": 31,
          "ctr": 0.09627329192546584,
          "impressions": 322,
          "position": 5.155279503105589
         },
         {
          "Bin": 5,
          "clicks": 31,
          "ctr": 0.13716814159292035,
          "impressions": 226,
          "position": 5.823008849557523
         },
         {
          "Bin": 5,
          "clicks": 31,
          "ctr": 0.08093994778067885,
          "impressions": 383,
          "position": 5.323759791122716
         },
         {
          "Bin": 5,
          "clicks": 30,
          "ctr": 0.20689655172413796,
          "impressions": 145,
          "position": 5.048275862068966
         },
         {
          "Bin": 5,
          "clicks": 30,
          "ctr": 0.1079136690647482,
          "impressions": 278,
          "position": 5.089928057553957
         },
         {
          "Bin": 5,
          "clicks": 30,
          "ctr": 0.1176470588235294,
          "impressions": 255,
          "position": 5.882352941176472
         },
         {
          "Bin": 5,
          "clicks": 30,
          "ctr": 0.2255639097744361,
          "impressions": 133,
          "position": 5.496240601503758
         },
         {
          "Bin": 5,
          "clicks": 30,
          "ctr": 0.1056338028169014,
          "impressions": 284,
          "position": 5.295774647887324
         },
         {
          "Bin": 5,
          "clicks": 30,
          "ctr": 0.14492753623188406,
          "impressions": 207,
          "position": 5.381642512077295
         },
         {
          "Bin": 5,
          "clicks": 30,
          "ctr": 0.020746887966804982,
          "impressions": 1446,
          "position": 5.025587828492394
         },
         {
          "Bin": 5,
          "clicks": 30,
          "ctr": 0.01721170395869191,
          "impressions": 1743,
          "position": 5.818129661503155
         },
         {
          "Bin": 5,
          "clicks": 29,
          "ctr": 0.17261904761904762,
          "impressions": 168,
          "position": 5.065476190476192
         },
         {
          "Bin": 5,
          "clicks": 29,
          "ctr": 0.07213930348258707,
          "impressions": 402,
          "position": 5.106965174129353
         },
         {
          "Bin": 5,
          "clicks": 29,
          "ctr": 0.017480409885473176,
          "impressions": 1659,
          "position": 5.657625075346594
         },
         {
          "Bin": 5,
          "clicks": 29,
          "ctr": 0.07304785894206549,
          "impressions": 397,
          "position": 5.9496221662468525
         },
         {
          "Bin": 5,
          "clicks": 29,
          "ctr": 0.12946428571428573,
          "impressions": 224,
          "position": 5.7142857142857135
         },
         {
          "Bin": 5,
          "clicks": 29,
          "ctr": 0.049403747870528106,
          "impressions": 587,
          "position": 5.160136286201023
         },
         {
          "Bin": 5,
          "clicks": 28,
          "ctr": 0.0989399293286219,
          "impressions": 283,
          "position": 5.685512367491167
         },
         {
          "Bin": 5,
          "clicks": 28,
          "ctr": 0.07526881720430108,
          "impressions": 372,
          "position": 5.018817204301075
         },
         {
          "Bin": 5,
          "clicks": 28,
          "ctr": 0.007639836289222373,
          "impressions": 3665,
          "position": 5.548158253751705
         },
         {
          "Bin": 5,
          "clicks": 28,
          "ctr": 0.008615384615384615,
          "impressions": 3250,
          "position": 5.243384615384615
         },
         {
          "Bin": 5,
          "clicks": 28,
          "ctr": 0.04674457429048414,
          "impressions": 599,
          "position": 5.185308848080132
         },
         {
          "Bin": 5,
          "clicks": 27,
          "ctr": 0.19708029197080293,
          "impressions": 137,
          "position": 5.613138686131387
         },
         {
          "Bin": 5,
          "clicks": 27,
          "ctr": 0.08307692307692308,
          "impressions": 325,
          "position": 5.403076923076923
         },
         {
          "Bin": 5,
          "clicks": 27,
          "ctr": 0.13106796116504854,
          "impressions": 206,
          "position": 5.131067961165049
         },
         {
          "Bin": 5,
          "clicks": 27,
          "ctr": 0.008294930875576038,
          "impressions": 3255,
          "position": 5.775115207373272
         },
         {
          "Bin": 5,
          "clicks": 27,
          "ctr": 0.023978685612788632,
          "impressions": 1126,
          "position": 5.847246891651865
         },
         {
          "Bin": 5,
          "clicks": 26,
          "ctr": 0.12935323383084574,
          "impressions": 201,
          "position": 5.2039800995024885
         },
         {
          "Bin": 5,
          "clicks": 26,
          "ctr": 0.05263157894736842,
          "impressions": 494,
          "position": 5.625506072874494
         },
         {
          "Bin": 5,
          "clicks": 26,
          "ctr": 0.1111111111111111,
          "impressions": 234,
          "position": 5.44871794871795
         },
         {
          "Bin": 5,
          "clicks": 26,
          "ctr": 0.10400000000000001,
          "impressions": 250,
          "position": 5.356
         },
         {
          "Bin": 5,
          "clicks": 25,
          "ctr": 0.18248175182481752,
          "impressions": 137,
          "position": 5.569343065693432
         },
         {
          "Bin": 5,
          "clicks": 25,
          "ctr": 0.12254901960784312,
          "impressions": 204,
          "position": 5.769607843137255
         },
         {
          "Bin": 5,
          "clicks": 25,
          "ctr": 0.05980861244019139,
          "impressions": 418,
          "position": 5.239234449760765
         },
         {
          "Bin": 5,
          "clicks": 25,
          "ctr": 0.12953367875647667,
          "impressions": 193,
          "position": 5.3160621761658025
         },
         {
          "Bin": 6,
          "clicks": 10834,
          "ctr": 0.0762158017291715,
          "impressions": 142149,
          "position": 6.119156659561446
         },
         {
          "Bin": 6,
          "clicks": 4654,
          "ctr": 0.007872177754923916,
          "impressions": 591196,
          "position": 6.933206584618299
         },
         {
          "Bin": 6,
          "clicks": 4002,
          "ctr": 0.023436813717739244,
          "impressions": 170757,
          "position": 6.44934029058838
         },
         {
          "Bin": 6,
          "clicks": 1455,
          "ctr": 0.08434293664135413,
          "impressions": 17251,
          "position": 6.334531331517012
         },
         {
          "Bin": 6,
          "clicks": 1096,
          "ctr": 0.08159618820726622,
          "impressions": 13432,
          "position": 6.365321620011913
         },
         {
          "Bin": 6,
          "clicks": 1040,
          "ctr": 0.04417636564438026,
          "impressions": 23542,
          "position": 6.560572593662392
         },
         {
          "Bin": 6,
          "clicks": 1032,
          "ctr": 0.04206407434580582,
          "impressions": 24534,
          "position": 6.348210646449826
         },
         {
          "Bin": 6,
          "clicks": 787,
          "ctr": 0.03364254264096097,
          "impressions": 23393,
          "position": 6.0739109990168
         },
         {
          "Bin": 6,
          "clicks": 680,
          "ctr": 0.03012448500420857,
          "impressions": 22573,
          "position": 6.656758073804988
         },
         {
          "Bin": 6,
          "clicks": 496,
          "ctr": 0.052531243380639685,
          "impressions": 9442,
          "position": 6.797288710019064
         },
         {
          "Bin": 6,
          "clicks": 452,
          "ctr": 0.02289998986726112,
          "impressions": 19738,
          "position": 6.852872631472287
         },
         {
          "Bin": 6,
          "clicks": 389,
          "ctr": 0.05244708103006607,
          "impressions": 7417,
          "position": 6.871376567345287
         },
         {
          "Bin": 6,
          "clicks": 308,
          "ctr": 0.031775508098627885,
          "impressions": 9693,
          "position": 6.849479005467862
         },
         {
          "Bin": 6,
          "clicks": 279,
          "ctr": 0.01491181186531267,
          "impressions": 18710,
          "position": 6.933832175307323
         },
         {
          "Bin": 6,
          "clicks": 277,
          "ctr": 0.05206766917293233,
          "impressions": 5320,
          "position": 6.6001879699248125
         },
         {
          "Bin": 6,
          "clicks": 274,
          "ctr": 0.020561308719795886,
          "impressions": 13326,
          "position": 6.844664565511031
         },
         {
          "Bin": 6,
          "clicks": 195,
          "ctr": 0.013120710536939846,
          "impressions": 14862,
          "position": 6.536065132552818
         },
         {
          "Bin": 6,
          "clicks": 193,
          "ctr": 0.12961719274680994,
          "impressions": 1489,
          "position": 6.563465413028879
         },
         {
          "Bin": 6,
          "clicks": 182,
          "ctr": 0.03190184049079755,
          "impressions": 5705,
          "position": 6.297984224364593
         },
         {
          "Bin": 6,
          "clicks": 177,
          "ctr": 0.01655288506499579,
          "impressions": 10693,
          "position": 6.122884129804545
         },
         {
          "Bin": 6,
          "clicks": 166,
          "ctr": 0.007799652304656298,
          "impressions": 21283,
          "position": 6.355588967720716
         },
         {
          "Bin": 6,
          "clicks": 161,
          "ctr": 0.007969507969507971,
          "impressions": 20202,
          "position": 6.452529452529451
         },
         {
          "Bin": 6,
          "clicks": 149,
          "ctr": 0.009144470357186695,
          "impressions": 16294,
          "position": 6.407880201301093
         },
         {
          "Bin": 6,
          "clicks": 140,
          "ctr": 0.0516414607156031,
          "impressions": 2711,
          "position": 6.0335669494651425
         },
         {
          "Bin": 6,
          "clicks": 132,
          "ctr": 0.12966601178781925,
          "impressions": 1018,
          "position": 6.240667976424361
         },
         {
          "Bin": 6,
          "clicks": 131,
          "ctr": 0.0861842105263158,
          "impressions": 1520,
          "position": 6.010526315789473
         },
         {
          "Bin": 6,
          "clicks": 117,
          "ctr": 0.04513888888888889,
          "impressions": 2592,
          "position": 6.967592592592593
         },
         {
          "Bin": 6,
          "clicks": 113,
          "ctr": 0.019758699073264555,
          "impressions": 5719,
          "position": 6.893512851897185
         },
         {
          "Bin": 6,
          "clicks": 106,
          "ctr": 0.03704998252359315,
          "impressions": 2861,
          "position": 6.369451240824887
         },
         {
          "Bin": 6,
          "clicks": 103,
          "ctr": 0.4904761904761905,
          "impressions": 210,
          "position": 6.033333333333332
         },
         {
          "Bin": 6,
          "clicks": 100,
          "ctr": 0.0449438202247191,
          "impressions": 2225,
          "position": 6.326741573033707
         },
         {
          "Bin": 6,
          "clicks": 99,
          "ctr": 0.10227272727272728,
          "impressions": 968,
          "position": 6.8698347107438025
         },
         {
          "Bin": 6,
          "clicks": 88,
          "ctr": 0.04317958783120707,
          "impressions": 2038,
          "position": 6.574092247301277
         },
         {
          "Bin": 6,
          "clicks": 86,
          "ctr": 0.025679307255897284,
          "impressions": 3349,
          "position": 6.568826515377724
         },
         {
          "Bin": 6,
          "clicks": 83,
          "ctr": 0.02147477360931436,
          "impressions": 3865,
          "position": 6.1754204398447605
         },
         {
          "Bin": 6,
          "clicks": 81,
          "ctr": 0.07555970149253731,
          "impressions": 1072,
          "position": 6.755597014925373
         },
         {
          "Bin": 6,
          "clicks": 81,
          "ctr": 0.052941176470588235,
          "impressions": 1530,
          "position": 6.688235294117647
         },
         {
          "Bin": 6,
          "clicks": 81,
          "ctr": 0.08059701492537312,
          "impressions": 1005,
          "position": 6.0756218905472625
         },
         {
          "Bin": 6,
          "clicks": 80,
          "ctr": 0.03134796238244514,
          "impressions": 2552,
          "position": 6.329937304075235
         },
         {
          "Bin": 6,
          "clicks": 80,
          "ctr": 0.013809770412566893,
          "impressions": 5793,
          "position": 6.109960296910063
         },
         {
          "Bin": 6,
          "clicks": 75,
          "ctr": 0.024933510638297872,
          "impressions": 3008,
          "position": 6.68218085106383
         },
         {
          "Bin": 6,
          "clicks": 72,
          "ctr": 0.040955631399317405,
          "impressions": 1758,
          "position": 6.950511945392491
         },
         {
          "Bin": 6,
          "clicks": 69,
          "ctr": 0.06301369863013699,
          "impressions": 1095,
          "position": 6.625570776255708
         },
         {
          "Bin": 6,
          "clicks": 68,
          "ctr": 0.04613297150610583,
          "impressions": 1474,
          "position": 6.9579375848032585
         },
         {
          "Bin": 6,
          "clicks": 67,
          "ctr": 0.03665207877461707,
          "impressions": 1828,
          "position": 6.406455142231947
         },
         {
          "Bin": 6,
          "clicks": 66,
          "ctr": 0.051643192488262914,
          "impressions": 1278,
          "position": 6.190140845070423
         },
         {
          "Bin": 6,
          "clicks": 66,
          "ctr": 0.08375634517766498,
          "impressions": 788,
          "position": 6.9238578680203045
         },
         {
          "Bin": 6,
          "clicks": 57,
          "ctr": 0.10270270270270272,
          "impressions": 555,
          "position": 6.077477477477478
         },
         {
          "Bin": 6,
          "clicks": 56,
          "ctr": 0.009009009009009007,
          "impressions": 6216,
          "position": 6.687580437580437
         },
         {
          "Bin": 6,
          "clicks": 55,
          "ctr": 0.04680851063829787,
          "impressions": 1175,
          "position": 6.036595744680851
         },
         {
          "Bin": 6,
          "clicks": 54,
          "ctr": 0.0133630289532294,
          "impressions": 4041,
          "position": 6.99752536500866
         },
         {
          "Bin": 6,
          "clicks": 53,
          "ctr": 0.0279831045406547,
          "impressions": 1894,
          "position": 6.353748680042238
         },
         {
          "Bin": 6,
          "clicks": 50,
          "ctr": 0.10504201680672268,
          "impressions": 476,
          "position": 6.155462184873951
         },
         {
          "Bin": 6,
          "clicks": 49,
          "ctr": 0.03295225285810356,
          "impressions": 1487,
          "position": 6.498991257565567
         },
         {
          "Bin": 6,
          "clicks": 49,
          "ctr": 0.03640416047548292,
          "impressions": 1346,
          "position": 6.389301634472512
         },
         {
          "Bin": 6,
          "clicks": 49,
          "ctr": 0.11694510739856802,
          "impressions": 419,
          "position": 6.145584725536993
         },
         {
          "Bin": 6,
          "clicks": 48,
          "ctr": 0.0867992766726944,
          "impressions": 553,
          "position": 6.054249547920433
         },
         {
          "Bin": 6,
          "clicks": 47,
          "ctr": 0.012583668005354752,
          "impressions": 3735,
          "position": 6.451405622489959
         },
         {
          "Bin": 6,
          "clicks": 45,
          "ctr": 0.025951557093425604,
          "impressions": 1734,
          "position": 6.28316032295271
         },
         {
          "Bin": 6,
          "clicks": 45,
          "ctr": 0.05434782608695652,
          "impressions": 828,
          "position": 6.233091787439613
         },
         {
          "Bin": 6,
          "clicks": 44,
          "ctr": 0.07177814029363784,
          "impressions": 613,
          "position": 6.112561174551388
         },
         {
          "Bin": 6,
          "clicks": 44,
          "ctr": 0.05929919137466307,
          "impressions": 742,
          "position": 6.351752021563343
         },
         {
          "Bin": 6,
          "clicks": 44,
          "ctr": 0.04178537511870845,
          "impressions": 1053,
          "position": 6.2241215574548905
         },
         {
          "Bin": 6,
          "clicks": 44,
          "ctr": 0.0013402784123792988,
          "impressions": 32829,
          "position": 6.5751317432757626
         },
         {
          "Bin": 6,
          "clicks": 43,
          "ctr": 0.11286089238845146,
          "impressions": 381,
          "position": 6.15748031496063
         },
         {
          "Bin": 6,
          "clicks": 43,
          "ctr": 0.03194650817236255,
          "impressions": 1346,
          "position": 6.579494799405646
         },
         {
          "Bin": 6,
          "clicks": 43,
          "ctr": 0.044885177453027135,
          "impressions": 958,
          "position": 6.6471816283924845
         },
         {
          "Bin": 6,
          "clicks": 42,
          "ctr": 0.0711864406779661,
          "impressions": 590,
          "position": 6.079661016949152
         },
         {
          "Bin": 6,
          "clicks": 41,
          "ctr": 0.03912213740458016,
          "impressions": 1048,
          "position": 6.513358778625954
         },
         {
          "Bin": 6,
          "clicks": 41,
          "ctr": 0.11081081081081083,
          "impressions": 370,
          "position": 6.010810810810812
         },
         {
          "Bin": 6,
          "clicks": 40,
          "ctr": 0.1932367149758454,
          "impressions": 207,
          "position": 6.415458937198068
         },
         {
          "Bin": 6,
          "clicks": 39,
          "ctr": 0.09307875894988067,
          "impressions": 419,
          "position": 6.1026252983293565
         },
         {
          "Bin": 6,
          "clicks": 38,
          "ctr": 0.024967148488830485,
          "impressions": 1522,
          "position": 6.351511169513798
         },
         {
          "Bin": 6,
          "clicks": 37,
          "ctr": 0.05196629213483146,
          "impressions": 712,
          "position": 6.012640449438202
         },
         {
          "Bin": 6,
          "clicks": 36,
          "ctr": 0.1111111111111111,
          "impressions": 324,
          "position": 6.435185185185184
         },
         {
          "Bin": 6,
          "clicks": 36,
          "ctr": 0.017569546120058566,
          "impressions": 2049,
          "position": 6.345534407027818
         },
         {
          "Bin": 6,
          "clicks": 36,
          "ctr": 0.03308823529411765,
          "impressions": 1088,
          "position": 6.1994485294117645
         },
         {
          "Bin": 6,
          "clicks": 35,
          "ctr": 0.034619188921859535,
          "impressions": 1011,
          "position": 6.770524233432245
         },
         {
          "Bin": 6,
          "clicks": 35,
          "ctr": 0.06944444444444445,
          "impressions": 504,
          "position": 6.583333333333332
         },
         {
          "Bin": 6,
          "clicks": 34,
          "ctr": 0.0356020942408377,
          "impressions": 955,
          "position": 6.139267015706806
         },
         {
          "Bin": 6,
          "clicks": 34,
          "ctr": 0.024337866857551897,
          "impressions": 1397,
          "position": 6.0651395848246255
         },
         {
          "Bin": 6,
          "clicks": 33,
          "ctr": 0.125,
          "impressions": 264,
          "position": 6.162878787878787
         },
         {
          "Bin": 6,
          "clicks": 32,
          "ctr": 0.05237315875613748,
          "impressions": 611,
          "position": 6.945990180032733
         },
         {
          "Bin": 6,
          "clicks": 32,
          "ctr": 0.01455206912232833,
          "impressions": 2199,
          "position": 6.772169167803547
         },
         {
          "Bin": 6,
          "clicks": 32,
          "ctr": 0.09302325581395347,
          "impressions": 344,
          "position": 6.593023255813954
         },
         {
          "Bin": 6,
          "clicks": 31,
          "ctr": 0.01988454137267479,
          "impressions": 1559,
          "position": 6.667735728030789
         },
         {
          "Bin": 6,
          "clicks": 31,
          "ctr": 0.056985294117647065,
          "impressions": 544,
          "position": 6.806985294117648
         },
         {
          "Bin": 6,
          "clicks": 31,
          "ctr": 0.05057096247960848,
          "impressions": 613,
          "position": 6.769983686786298
         },
         {
          "Bin": 6,
          "clicks": 31,
          "ctr": 0.015285996055226824,
          "impressions": 2028,
          "position": 6.666666666666668
         },
         {
          "Bin": 6,
          "clicks": 30,
          "ctr": 0.04005340453938585,
          "impressions": 749,
          "position": 6.511348464619492
         },
         {
          "Bin": 6,
          "clicks": 30,
          "ctr": 0.07518796992481203,
          "impressions": 399,
          "position": 6.571428571428571
         },
         {
          "Bin": 6,
          "clicks": 30,
          "ctr": 0.08086253369272238,
          "impressions": 371,
          "position": 6.579514824797844
         },
         {
          "Bin": 6,
          "clicks": 30,
          "ctr": 0.12605042016806722,
          "impressions": 238,
          "position": 6.3613445378151265
         },
         {
          "Bin": 6,
          "clicks": 29,
          "ctr": 0.02482876712328767,
          "impressions": 1168,
          "position": 6.886130136986301
         },
         {
          "Bin": 6,
          "clicks": 29,
          "ctr": 0.0675990675990676,
          "impressions": 429,
          "position": 6.531468531468532
         },
         {
          "Bin": 6,
          "clicks": 29,
          "ctr": 0.0053843297437801705,
          "impressions": 5386,
          "position": 6.366505755662828
         },
         {
          "Bin": 6,
          "clicks": 28,
          "ctr": 0.15217391304347827,
          "impressions": 184,
          "position": 6.902173913043479
         },
         {
          "Bin": 6,
          "clicks": 28,
          "ctr": 0.052830188679245285,
          "impressions": 530,
          "position": 6.235849056603772
         },
         {
          "Bin": 6,
          "clicks": 28,
          "ctr": 0.02938090241343127,
          "impressions": 953,
          "position": 6.094438614900316
         },
         {
          "Bin": 6,
          "clicks": 27,
          "ctr": 0.2327586206896552,
          "impressions": 116,
          "position": 6.310344827586207
         },
         {
          "Bin": 6,
          "clicks": 27,
          "ctr": 0.016938519447929738,
          "impressions": 1594,
          "position": 6.953575909661231
         },
         {
          "Bin": 6,
          "clicks": 26,
          "ctr": 0.09352517985611512,
          "impressions": 278,
          "position": 6.014388489208633
         },
         {
          "Bin": 6,
          "clicks": 26,
          "ctr": 0.05869074492099322,
          "impressions": 443,
          "position": 6.496613995485327
         },
         {
          "Bin": 6,
          "clicks": 26,
          "ctr": 0.09454545454545454,
          "impressions": 275,
          "position": 6.96
         },
         {
          "Bin": 6,
          "clicks": 26,
          "ctr": 0.19117647058823528,
          "impressions": 136,
          "position": 6.316176470588236
         },
         {
          "Bin": 6,
          "clicks": 26,
          "ctr": 0.12935323383084574,
          "impressions": 201,
          "position": 6.945273631840797
         },
         {
          "Bin": 6,
          "clicks": 26,
          "ctr": 0.1187214611872146,
          "impressions": 219,
          "position": 6.703196347031962
         },
         {
          "Bin": 6,
          "clicks": 25,
          "ctr": 0.03834355828220859,
          "impressions": 652,
          "position": 6.964723926380367
         },
         {
          "Bin": 6,
          "clicks": 25,
          "ctr": 0.05112474437627812,
          "impressions": 489,
          "position": 6.9427402862985685
         },
         {
          "Bin": 7,
          "clicks": 2306,
          "ctr": 0.0010012556944789391,
          "impressions": 2303108,
          "position": 7.508991762435803
         },
         {
          "Bin": 7,
          "clicks": 1862,
          "ctr": 0.030473135525260625,
          "impressions": 61103,
          "position": 7.7551675040505375
         },
         {
          "Bin": 7,
          "clicks": 757,
          "ctr": 0.036471381769126995,
          "impressions": 20756,
          "position": 7.70654268645211
         },
         {
          "Bin": 7,
          "clicks": 640,
          "ctr": 0.026023665270605456,
          "impressions": 24593,
          "position": 7.053592485666653
         },
         {
          "Bin": 7,
          "clicks": 529,
          "ctr": 0.03190975992278924,
          "impressions": 16578,
          "position": 7.1250452406804206
         },
         {
          "Bin": 7,
          "clicks": 488,
          "ctr": 0.01959681953256766,
          "impressions": 24902,
          "position": 7.407075736888603
         },
         {
          "Bin": 7,
          "clicks": 430,
          "ctr": 0.021203155818540438,
          "impressions": 20280,
          "position": 7.395660749506903
         },
         {
          "Bin": 7,
          "clicks": 355,
          "ctr": 0.04598445595854922,
          "impressions": 7720,
          "position": 7.322150259067357
         },
         {
          "Bin": 7,
          "clicks": 299,
          "ctr": 0.032592108131676484,
          "impressions": 9174,
          "position": 7.797689121430127
         },
         {
          "Bin": 7,
          "clicks": 273,
          "ctr": 0.01327175498298493,
          "impressions": 20570,
          "position": 7.429314535731647
         },
         {
          "Bin": 7,
          "clicks": 257,
          "ctr": 0.01750442718975616,
          "impressions": 14682,
          "position": 7.866639422422013
         },
         {
          "Bin": 7,
          "clicks": 177,
          "ctr": 0.17788944723618091,
          "impressions": 995,
          "position": 7.125628140703517
         },
         {
          "Bin": 7,
          "clicks": 172,
          "ctr": 0.05984690327070285,
          "impressions": 2874,
          "position": 7.413013221990258
         },
         {
          "Bin": 7,
          "clicks": 156,
          "ctr": 0.04060385216033316,
          "impressions": 3842,
          "position": 7.195471108797501
         },
         {
          "Bin": 7,
          "clicks": 154,
          "ctr": 0.005258844420161181,
          "impressions": 29284,
          "position": 7.588922278377272
         },
         {
          "Bin": 7,
          "clicks": 133,
          "ctr": 0.0497754491017964,
          "impressions": 2672,
          "position": 7.148203592814372
         },
         {
          "Bin": 7,
          "clicks": 126,
          "ctr": 0.04231027535258563,
          "impressions": 2978,
          "position": 7.171255876427133
         },
         {
          "Bin": 7,
          "clicks": 125,
          "ctr": 0.016050333846944015,
          "impressions": 7788,
          "position": 7.220210580380073
         },
         {
          "Bin": 7,
          "clicks": 124,
          "ctr": 0.02298850574712644,
          "impressions": 5394,
          "position": 7.1357063403781975
         },
         {
          "Bin": 7,
          "clicks": 122,
          "ctr": 0.02216167120799273,
          "impressions": 5505,
          "position": 7.026521344232516
         },
         {
          "Bin": 7,
          "clicks": 120,
          "ctr": 0.061318344404701075,
          "impressions": 1957,
          "position": 7.535002554931017
         },
         {
          "Bin": 7,
          "clicks": 115,
          "ctr": 0.06364139457664637,
          "impressions": 1807,
          "position": 7.944659656889873
         },
         {
          "Bin": 7,
          "clicks": 107,
          "ctr": 0.01980014803849001,
          "impressions": 5404,
          "position": 7.043671354552183
         },
         {
          "Bin": 7,
          "clicks": 102,
          "ctr": 0.01606046291922532,
          "impressions": 6351,
          "position": 7.620059833097151
         },
         {
          "Bin": 7,
          "clicks": 101,
          "ctr": 0.03749072011878248,
          "impressions": 2694,
          "position": 7.223088344469191
         },
         {
          "Bin": 7,
          "clicks": 94,
          "ctr": 0.0817391304347826,
          "impressions": 1150,
          "position": 7.2608695652173925
         },
         {
          "Bin": 7,
          "clicks": 90,
          "ctr": 0.015154066341134871,
          "impressions": 5939,
          "position": 7.418252231015322
         },
         {
          "Bin": 7,
          "clicks": 90,
          "ctr": 0.0616860863605209,
          "impressions": 1459,
          "position": 7.453050034270048
         },
         {
          "Bin": 7,
          "clicks": 87,
          "ctr": 0.016319639842431063,
          "impressions": 5331,
          "position": 7.635528043519041
         },
         {
          "Bin": 7,
          "clicks": 83,
          "ctr": 0.03322658126501201,
          "impressions": 2498,
          "position": 7.82906325060048
         },
         {
          "Bin": 7,
          "clicks": 82,
          "ctr": 0.04128902316213495,
          "impressions": 1986,
          "position": 7.2532729103726075
         },
         {
          "Bin": 7,
          "clicks": 82,
          "ctr": 0.004904306220095694,
          "impressions": 16720,
          "position": 7.97188995215311
         },
         {
          "Bin": 7,
          "clicks": 78,
          "ctr": 0.02667578659370725,
          "impressions": 2924,
          "position": 7.261969904240766
         },
         {
          "Bin": 7,
          "clicks": 72,
          "ctr": 0.058919803600654665,
          "impressions": 1222,
          "position": 7.171031096563011
         },
         {
          "Bin": 7,
          "clicks": 68,
          "ctr": 0.0191765369430344,
          "impressions": 3546,
          "position": 7
         },
         {
          "Bin": 7,
          "clicks": 67,
          "ctr": 0.04789135096497498,
          "impressions": 1399,
          "position": 7.561829878484633
         },
         {
          "Bin": 7,
          "clicks": 66,
          "ctr": 0.07104413347685684,
          "impressions": 929,
          "position": 7.08719052744887
         },
         {
          "Bin": 7,
          "clicks": 64,
          "ctr": 0.09078014184397164,
          "impressions": 705,
          "position": 7.421276595744682
         },
         {
          "Bin": 7,
          "clicks": 62,
          "ctr": 0.015282228247473504,
          "impressions": 4057,
          "position": 7.081587379837318
         },
         {
          "Bin": 7,
          "clicks": 60,
          "ctr": 0.05097706032285471,
          "impressions": 1177,
          "position": 7.917587085811385
         },
         {
          "Bin": 7,
          "clicks": 57,
          "ctr": 0.01595298068849706,
          "impressions": 3573,
          "position": 7.277637839350685
         },
         {
          "Bin": 7,
          "clicks": 57,
          "ctr": 0.017204950196196802,
          "impressions": 3313,
          "position": 7.064895864775129
         },
         {
          "Bin": 7,
          "clicks": 55,
          "ctr": 0.06358381502890173,
          "impressions": 865,
          "position": 7.865895953757224
         },
         {
          "Bin": 7,
          "clicks": 54,
          "ctr": 0.026799007444168736,
          "impressions": 2015,
          "position": 7.811414392059554
         },
         {
          "Bin": 7,
          "clicks": 52,
          "ctr": 0.028872848417545807,
          "impressions": 1801,
          "position": 7.1910049972237635
         },
         {
          "Bin": 7,
          "clicks": 51,
          "ctr": 0.07391304347826087,
          "impressions": 690,
          "position": 7.4101449275362326
         },
         {
          "Bin": 7,
          "clicks": 50,
          "ctr": 0.01212415130940834,
          "impressions": 4124,
          "position": 7.939136760426769
         },
         {
          "Bin": 7,
          "clicks": 48,
          "ctr": 0.13636363636363635,
          "impressions": 352,
          "position": 7.0369318181818175
         },
         {
          "Bin": 7,
          "clicks": 48,
          "ctr": 0.2364532019704433,
          "impressions": 203,
          "position": 7.862068965517241
         },
         {
          "Bin": 7,
          "clicks": 48,
          "ctr": 0.003971537315902697,
          "impressions": 12086,
          "position": 7.0806718517292735
         },
         {
          "Bin": 7,
          "clicks": 47,
          "ctr": 0.04658077304261645,
          "impressions": 1009,
          "position": 7.349851337958374
         },
         {
          "Bin": 7,
          "clicks": 45,
          "ctr": 0.03548895899053628,
          "impressions": 1268,
          "position": 7.08359621451104
         },
         {
          "Bin": 7,
          "clicks": 44,
          "ctr": 0.03228173147468818,
          "impressions": 1363,
          "position": 7.0315480557593535
         },
         {
          "Bin": 7,
          "clicks": 43,
          "ctr": 0.038053097345132736,
          "impressions": 1130,
          "position": 7.811504424778762
         },
         {
          "Bin": 7,
          "clicks": 41,
          "ctr": 0.07056798623063683,
          "impressions": 581,
          "position": 7.139414802065406
         },
         {
          "Bin": 7,
          "clicks": 41,
          "ctr": 0.012685643564356437,
          "impressions": 3232,
          "position": 7.599009900990099
         },
         {
          "Bin": 7,
          "clicks": 40,
          "ctr": 0.07722007722007722,
          "impressions": 518,
          "position": 7.086872586872588
         },
         {
          "Bin": 7,
          "clicks": 40,
          "ctr": 0.008828073273008165,
          "impressions": 4531,
          "position": 7.4425071728095356
         },
         {
          "Bin": 7,
          "clicks": 39,
          "ctr": 0.017719218537028625,
          "impressions": 2201,
          "position": 7.986369831894593
         },
         {
          "Bin": 7,
          "clicks": 37,
          "ctr": 0.18226600985221675,
          "impressions": 203,
          "position": 7.931034482758621
         },
         {
          "Bin": 7,
          "clicks": 36,
          "ctr": 0.014018691588785048,
          "impressions": 2568,
          "position": 7.825545171339563
         },
         {
          "Bin": 7,
          "clicks": 36,
          "ctr": 0.33962264150943394,
          "impressions": 106,
          "position": 7.150943396226416
         },
         {
          "Bin": 7,
          "clicks": 34,
          "ctr": 0.032882011605415866,
          "impressions": 1034,
          "position": 7.651837524177949
         },
         {
          "Bin": 7,
          "clicks": 34,
          "ctr": 0.14847161572052406,
          "impressions": 229,
          "position": 7.4410480349344965
         },
         {
          "Bin": 7,
          "clicks": 33,
          "ctr": 0.013301088270858524,
          "impressions": 2481,
          "position": 7.577589681580008
         },
         {
          "Bin": 7,
          "clicks": 30,
          "ctr": 0.06772009029345373,
          "impressions": 443,
          "position": 7.72686230248307
         },
         {
          "Bin": 7,
          "clicks": 29,
          "ctr": 0.010261854210898796,
          "impressions": 2826,
          "position": 7.3237791932059455
         },
         {
          "Bin": 7,
          "clicks": 29,
          "ctr": 0.054613935969868174,
          "impressions": 531,
          "position": 7.293785310734464
         },
         {
          "Bin": 7,
          "clicks": 29,
          "ctr": 0.07512953367875648,
          "impressions": 386,
          "position": 7.484455958549223
         },
         {
          "Bin": 7,
          "clicks": 29,
          "ctr": 0.0237315875613748,
          "impressions": 1222,
          "position": 7.842880523731588
         },
         {
          "Bin": 7,
          "clicks": 29,
          "ctr": 0.08978328173374613,
          "impressions": 323,
          "position": 7.21671826625387
         },
         {
          "Bin": 7,
          "clicks": 28,
          "ctr": 0.07368421052631577,
          "impressions": 380,
          "position": 7.718421052631579
         },
         {
          "Bin": 7,
          "clicks": 28,
          "ctr": 0.04301075268817205,
          "impressions": 651,
          "position": 7.439324116743473
         },
         {
          "Bin": 7,
          "clicks": 27,
          "ctr": 0.01393188854489164,
          "impressions": 1938,
          "position": 7.702786377708978
         },
         {
          "Bin": 7,
          "clicks": 26,
          "ctr": 0.06483790523690773,
          "impressions": 401,
          "position": 7.3017456359102235
         },
         {
          "Bin": 7,
          "clicks": 26,
          "ctr": 0.004042288557213929,
          "impressions": 6432,
          "position": 7.112251243781095
         },
         {
          "Bin": 7,
          "clicks": 26,
          "ctr": 0.07761194029850746,
          "impressions": 335,
          "position": 7.035820895522388
         },
         {
          "Bin": 7,
          "clicks": 26,
          "ctr": 0.018505338078291814,
          "impressions": 1405,
          "position": 7.581494661921707
         },
         {
          "Bin": 7,
          "clicks": 26,
          "ctr": 0.022413793103448282,
          "impressions": 1160,
          "position": 7.225862068965517
         },
         {
          "Bin": 7,
          "clicks": 26,
          "ctr": 0.03874813710879285,
          "impressions": 671,
          "position": 7.35618479880775
         },
         {
          "Bin": 7,
          "clicks": 26,
          "ctr": 0.06860158311345646,
          "impressions": 379,
          "position": 7.741424802110817
         },
         {
          "Bin": 7,
          "clicks": 25,
          "ctr": 0.06265664160401002,
          "impressions": 399,
          "position": 7.030075187969924
         },
         {
          "Bin": 7,
          "clicks": 25,
          "ctr": 0.12886597938144329,
          "impressions": 194,
          "position": 7.6701030927835046
         },
         {
          "Bin": 7,
          "clicks": 25,
          "ctr": 0.03561253561253561,
          "impressions": 702,
          "position": 7.136752136752138
         },
         {
          "Bin": 7,
          "clicks": 25,
          "ctr": 0.0038825904643578204,
          "impressions": 6439,
          "position": 7.800900760987731
         },
         {
          "Bin": 8,
          "clicks": 3020,
          "ctr": 0.004755508595345586,
          "impressions": 635053,
          "position": 8.214404152094392
         },
         {
          "Bin": 8,
          "clicks": 1670,
          "ctr": 0.0314536482465062,
          "impressions": 53094,
          "position": 8.535973933024447
         },
         {
          "Bin": 8,
          "clicks": 1581,
          "ctr": 0.036161112508863016,
          "impressions": 43721,
          "position": 8.636330367557925
         },
         {
          "Bin": 8,
          "clicks": 1374,
          "ctr": 0.0029884442472448247,
          "impressions": 459771,
          "position": 8.166000030449942
         },
         {
          "Bin": 8,
          "clicks": 1252,
          "ctr": 0.03091892425851382,
          "impressions": 40493,
          "position": 8.044032301879337
         },
         {
          "Bin": 8,
          "clicks": 946,
          "ctr": 0.027940220922677058,
          "impressions": 33858,
          "position": 8.612587866973831
         },
         {
          "Bin": 8,
          "clicks": 601,
          "ctr": 0.012842703592110606,
          "impressions": 46797,
          "position": 8.112443105327266
         },
         {
          "Bin": 8,
          "clicks": 545,
          "ctr": 0.017675293507167414,
          "impressions": 30834,
          "position": 8.390705065836414
         },
         {
          "Bin": 8,
          "clicks": 478,
          "ctr": 0.007843137254901959,
          "impressions": 60945,
          "position": 8.210386413979819
         },
         {
          "Bin": 8,
          "clicks": 449,
          "ctr": 0.03021127708249226,
          "impressions": 14862,
          "position": 8.281590633831247
         },
         {
          "Bin": 8,
          "clicks": 276,
          "ctr": 0.040058055152394766,
          "impressions": 6890,
          "position": 8.618722786647314
         },
         {
          "Bin": 8,
          "clicks": 266,
          "ctr": 0.018660119256401264,
          "impressions": 14255,
          "position": 8.360154331813398
         },
         {
          "Bin": 8,
          "clicks": 250,
          "ctr": 0.0186039589224587,
          "impressions": 13438,
          "position": 8.163640422681947
         },
         {
          "Bin": 8,
          "clicks": 230,
          "ctr": 0.03333816495144224,
          "impressions": 6899,
          "position": 8.810262356863314
         },
         {
          "Bin": 8,
          "clicks": 196,
          "ctr": 0.004523320486487735,
          "impressions": 43331,
          "position": 8.428723085089196
         },
         {
          "Bin": 8,
          "clicks": 190,
          "ctr": 0.0026762071102597327,
          "impressions": 70996,
          "position": 8.129598850639471
         },
         {
          "Bin": 8,
          "clicks": 188,
          "ctr": 0.10603496897913142,
          "impressions": 1773,
          "position": 8.199661590524535
         },
         {
          "Bin": 8,
          "clicks": 165,
          "ctr": 0.004789411047574816,
          "impressions": 34451,
          "position": 8.319206989637456
         },
         {
          "Bin": 8,
          "clicks": 142,
          "ctr": 0.006156247290384114,
          "impressions": 23066,
          "position": 8.371846007110031
         },
         {
          "Bin": 8,
          "clicks": 134,
          "ctr": 0.02558716822608364,
          "impressions": 5237,
          "position": 8.455604353637579
         },
         {
          "Bin": 8,
          "clicks": 121,
          "ctr": 0.013186573670444636,
          "impressions": 9176,
          "position": 8.383391455972102
         },
         {
          "Bin": 8,
          "clicks": 119,
          "ctr": 0.019751037344398342,
          "impressions": 6025,
          "position": 8.578423236514523
         },
         {
          "Bin": 8,
          "clicks": 114,
          "ctr": 0.005783572624422911,
          "impressions": 19711,
          "position": 8.76657703820202
         },
         {
          "Bin": 8,
          "clicks": 114,
          "ctr": 0.03611023123218245,
          "impressions": 3157,
          "position": 8.302502375673107
         },
         {
          "Bin": 8,
          "clicks": 100,
          "ctr": 0.04775549188156638,
          "impressions": 2094,
          "position": 8.792263610315185
         },
         {
          "Bin": 8,
          "clicks": 91,
          "ctr": 0.007630387388898206,
          "impressions": 11926,
          "position": 8.552658058024484
         },
         {
          "Bin": 8,
          "clicks": 85,
          "ctr": 0.003416124105779278,
          "impressions": 24882,
          "position": 8.890362511052167
         },
         {
          "Bin": 8,
          "clicks": 75,
          "ctr": 0.014869151467089609,
          "impressions": 5044,
          "position": 8.295202220459952
         },
         {
          "Bin": 8,
          "clicks": 71,
          "ctr": 0.003605708191559596,
          "impressions": 19691,
          "position": 8.17642577827434
         },
         {
          "Bin": 8,
          "clicks": 71,
          "ctr": 0.009844703272323905,
          "impressions": 7212,
          "position": 8.706045479755963
         },
         {
          "Bin": 8,
          "clicks": 68,
          "ctr": 0.0034447821681864235,
          "impressions": 19740,
          "position": 8.171732522796352
         },
         {
          "Bin": 8,
          "clicks": 62,
          "ctr": 0.031031031031031032,
          "impressions": 1998,
          "position": 8.884384384384385
         },
         {
          "Bin": 8,
          "clicks": 60,
          "ctr": 0.02884615384615385,
          "impressions": 2080,
          "position": 8.111057692307693
         },
         {
          "Bin": 8,
          "clicks": 59,
          "ctr": 0.005380756953944368,
          "impressions": 10965,
          "position": 8.983766529867761
         },
         {
          "Bin": 8,
          "clicks": 59,
          "ctr": 0.0960912052117264,
          "impressions": 614,
          "position": 8.965798045602606
         },
         {
          "Bin": 8,
          "clicks": 58,
          "ctr": 0.03409758965314521,
          "impressions": 1701,
          "position": 8.216931216931219
         },
         {
          "Bin": 8,
          "clicks": 56,
          "ctr": 0.014694305956441878,
          "impressions": 3811,
          "position": 8.26292311729205
         },
         {
          "Bin": 8,
          "clicks": 55,
          "ctr": 0.027610441767068276,
          "impressions": 1992,
          "position": 8.373995983935743
         },
         {
          "Bin": 8,
          "clicks": 55,
          "ctr": 0.06650544135429262,
          "impressions": 827,
          "position": 8.275695284159614
         },
         {
          "Bin": 8,
          "clicks": 50,
          "ctr": 0.0015270439483248328,
          "impressions": 32743,
          "position": 8.627645603640474
         },
         {
          "Bin": 8,
          "clicks": 49,
          "ctr": 0.01240506329113924,
          "impressions": 3950,
          "position": 8.804050632911393
         },
         {
          "Bin": 8,
          "clicks": 49,
          "ctr": 0.050411522633744855,
          "impressions": 972,
          "position": 8.854938271604937
         },
         {
          "Bin": 8,
          "clicks": 47,
          "ctr": 0.007083647324792766,
          "impressions": 6635,
          "position": 8.179201205727201
         },
         {
          "Bin": 8,
          "clicks": 47,
          "ctr": 0.044131455399061034,
          "impressions": 1065,
          "position": 8.227230046948359
         },
         {
          "Bin": 8,
          "clicks": 43,
          "ctr": 0.09492273730684328,
          "impressions": 453,
          "position": 8.32008830022075
         },
         {
          "Bin": 8,
          "clicks": 41,
          "ctr": 0.11452513966480447,
          "impressions": 358,
          "position": 8.879888268156424
         },
         {
          "Bin": 8,
          "clicks": 41,
          "ctr": 0.030303030303030307,
          "impressions": 1353,
          "position": 8.52919438285292
         },
         {
          "Bin": 8,
          "clicks": 41,
          "ctr": 0.00786344457230533,
          "impressions": 5214,
          "position": 8.900652090525508
         },
         {
          "Bin": 8,
          "clicks": 40,
          "ctr": 0.02686366689053056,
          "impressions": 1489,
          "position": 8.144392209536601
         },
         {
          "Bin": 8,
          "clicks": 40,
          "ctr": 0.02053388090349076,
          "impressions": 1948,
          "position": 8.382956878850102
         },
         {
          "Bin": 8,
          "clicks": 39,
          "ctr": 0.025913621262458476,
          "impressions": 1505,
          "position": 8.316279069767443
         },
         {
          "Bin": 8,
          "clicks": 38,
          "ctr": 0.03270223752151463,
          "impressions": 1162,
          "position": 8.1144578313253
         },
         {
          "Bin": 8,
          "clicks": 37,
          "ctr": 0.025412087912087912,
          "impressions": 1456,
          "position": 8.167582417582418
         },
         {
          "Bin": 8,
          "clicks": 37,
          "ctr": 0.26811594202898553,
          "impressions": 138,
          "position": 8.673913043478262
         },
         {
          "Bin": 8,
          "clicks": 37,
          "ctr": 0.013153217205830077,
          "impressions": 2813,
          "position": 8.574831141130467
         },
         {
          "Bin": 8,
          "clicks": 33,
          "ctr": 0.015102974828375287,
          "impressions": 2185,
          "position": 8.620594965675057
         },
         {
          "Bin": 8,
          "clicks": 32,
          "ctr": 0.007457469121416919,
          "impressions": 4291,
          "position": 8.87415520857609
         },
         {
          "Bin": 8,
          "clicks": 31,
          "ctr": 0.0047386120452461026,
          "impressions": 6542,
          "position": 8.465453989605624
         },
         {
          "Bin": 8,
          "clicks": 31,
          "ctr": 0.06326530612244897,
          "impressions": 490,
          "position": 8.93673469387755
         },
         {
          "Bin": 8,
          "clicks": 31,
          "ctr": 0.02206405693950178,
          "impressions": 1405,
          "position": 8.437722419928825
         },
         {
          "Bin": 8,
          "clicks": 29,
          "ctr": 0.023015873015873014,
          "impressions": 1260,
          "position": 8.436507936507939
         },
         {
          "Bin": 8,
          "clicks": 29,
          "ctr": 0.09034267912772584,
          "impressions": 321,
          "position": 8.713395638629283
         },
         {
          "Bin": 8,
          "clicks": 28,
          "ctr": 0.01702127659574468,
          "impressions": 1645,
          "position": 8.217021276595744
         },
         {
          "Bin": 8,
          "clicks": 28,
          "ctr": 0.012516763522574878,
          "impressions": 2237,
          "position": 8.518104604380866
         },
         {
          "Bin": 8,
          "clicks": 28,
          "ctr": 0.0302049622437972,
          "impressions": 927,
          "position": 8.527508090614887
         },
         {
          "Bin": 8,
          "clicks": 27,
          "ctr": 0.014508328855454056,
          "impressions": 1861,
          "position": 8.216550241805482
         },
         {
          "Bin": 8,
          "clicks": 27,
          "ctr": 0.009186798230690709,
          "impressions": 2939,
          "position": 8.238176250425315
         },
         {
          "Bin": 8,
          "clicks": 26,
          "ctr": 0.0068583487206541815,
          "impressions": 3791,
          "position": 8.386441572144552
         },
         {
          "Bin": 8,
          "clicks": 26,
          "ctr": 0.04340567612687813,
          "impressions": 599,
          "position": 8.065108514190317
         },
         {
          "Bin": 8,
          "clicks": 25,
          "ctr": 0.018642803877703208,
          "impressions": 1341,
          "position": 8.568232662192392
         },
         {
          "Bin": 8,
          "clicks": 25,
          "ctr": 0.031685678073510776,
          "impressions": 789,
          "position": 8.70722433460076
         },
         {
          "Bin": 9,
          "clicks": 967,
          "ctr": 0.09303444294785453,
          "impressions": 10394,
          "position": 9.257071387338849
         },
         {
          "Bin": 9,
          "clicks": 761,
          "ctr": 0.010737516402579262,
          "impressions": 70873,
          "position": 9.454376137598238
         },
         {
          "Bin": 9,
          "clicks": 559,
          "ctr": 0.008171678337012295,
          "impressions": 68407,
          "position": 9.534799070270589
         },
         {
          "Bin": 9,
          "clicks": 328,
          "ctr": 0.0002676626764798767,
          "impressions": 1225423,
          "position": 9.453050089642515
         },
         {
          "Bin": 9,
          "clicks": 248,
          "ctr": 0.02069425901201602,
          "impressions": 11984,
          "position": 9.01059746328438
         },
         {
          "Bin": 9,
          "clicks": 221,
          "ctr": 0.0722930978083088,
          "impressions": 3057,
          "position": 9.454039908406935
         },
         {
          "Bin": 9,
          "clicks": 203,
          "ctr": 0.009342353536748123,
          "impressions": 21729,
          "position": 9.898614754475586
         },
         {
          "Bin": 9,
          "clicks": 191,
          "ctr": 0.007041215070412152,
          "impressions": 27126,
          "position": 9.735235567352357
         },
         {
          "Bin": 9,
          "clicks": 176,
          "ctr": 0.045349136820407115,
          "impressions": 3881,
          "position": 9.116464828652411
         },
         {
          "Bin": 9,
          "clicks": 171,
          "ctr": 0.006725928256765261,
          "impressions": 25424,
          "position": 9.615245437381999
         },
         {
          "Bin": 9,
          "clicks": 170,
          "ctr": 0.00996483001172333,
          "impressions": 17060,
          "position": 9.09337631887456
         },
         {
          "Bin": 9,
          "clicks": 165,
          "ctr": 0.00216438859301624,
          "impressions": 76234,
          "position": 9.3074481202613
         },
         {
          "Bin": 9,
          "clicks": 141,
          "ctr": 0.0011318028576015411,
          "impressions": 124580,
          "position": 9.691258628993419
         },
         {
          "Bin": 9,
          "clicks": 134,
          "ctr": 0.006736037802241994,
          "impressions": 19893,
          "position": 9.355652742170612
         },
         {
          "Bin": 9,
          "clicks": 117,
          "ctr": 0.0972568578553616,
          "impressions": 1203,
          "position": 9.377389858686618
         },
         {
          "Bin": 9,
          "clicks": 114,
          "ctr": 0.06563039723661486,
          "impressions": 1737,
          "position": 9.51986183074266
         },
         {
          "Bin": 9,
          "clicks": 111,
          "ctr": 0.007453165916873699,
          "impressions": 14893,
          "position": 9.863157187940644
         },
         {
          "Bin": 9,
          "clicks": 89,
          "ctr": 0.014462138446538838,
          "impressions": 6154,
          "position": 9.967175820604485
         },
         {
          "Bin": 9,
          "clicks": 86,
          "ctr": 0.0020607687146554205,
          "impressions": 41732,
          "position": 9.363054730183071
         },
         {
          "Bin": 9,
          "clicks": 83,
          "ctr": 0.03341384863123994,
          "impressions": 2484,
          "position": 9.370772946859905
         },
         {
          "Bin": 9,
          "clicks": 71,
          "ctr": 0.021443672606463304,
          "impressions": 3311,
          "position": 9.464512231954092
         },
         {
          "Bin": 9,
          "clicks": 69,
          "ctr": 0.013287117273252456,
          "impressions": 5193,
          "position": 9.058732909686118
         },
         {
          "Bin": 9,
          "clicks": 68,
          "ctr": 0.019149535342157138,
          "impressions": 3551,
          "position": 9.124471979724019
         },
         {
          "Bin": 9,
          "clicks": 61,
          "ctr": 0.01869445295740117,
          "impressions": 3263,
          "position": 9.452957401164571
         },
         {
          "Bin": 9,
          "clicks": 60,
          "ctr": 0.0009235315847801996,
          "impressions": 64968,
          "position": 9.1762560029553
         },
         {
          "Bin": 9,
          "clicks": 59,
          "ctr": 0.018408736349453975,
          "impressions": 3205,
          "position": 9.058346333853354
         },
         {
          "Bin": 9,
          "clicks": 59,
          "ctr": 0.0019225129525237054,
          "impressions": 30689,
          "position": 9.546743132718564
         },
         {
          "Bin": 9,
          "clicks": 56,
          "ctr": 0.012213740458015269,
          "impressions": 4585,
          "position": 9.332824427480915
         },
         {
          "Bin": 9,
          "clicks": 54,
          "ctr": 0.03169014084507042,
          "impressions": 1704,
          "position": 9.371478873239434
         },
         {
          "Bin": 9,
          "clicks": 53,
          "ctr": 0.011988237955213752,
          "impressions": 4421,
          "position": 9.38000452386338
         },
         {
          "Bin": 9,
          "clicks": 52,
          "ctr": 0.004567413263065437,
          "impressions": 11385,
          "position": 9.916644707949057
         },
         {
          "Bin": 9,
          "clicks": 51,
          "ctr": 0.0048190494188793355,
          "impressions": 10583,
          "position": 9.332514409902672
         },
         {
          "Bin": 9,
          "clicks": 49,
          "ctr": 0.07040229885057471,
          "impressions": 696,
          "position": 9.317528735632184
         },
         {
          "Bin": 9,
          "clicks": 44,
          "ctr": 0.023109243697478996,
          "impressions": 1904,
          "position": 9.665441176470589
         },
         {
          "Bin": 9,
          "clicks": 44,
          "ctr": 0.0854368932038835,
          "impressions": 515,
          "position": 9.264077669902912
         },
         {
          "Bin": 9,
          "clicks": 43,
          "ctr": 0.0649546827794562,
          "impressions": 662,
          "position": 9.717522658610273
         },
         {
          "Bin": 9,
          "clicks": 42,
          "ctr": 0.0052783712454442635,
          "impressions": 7957,
          "position": 9.04210129445771
         },
         {
          "Bin": 9,
          "clicks": 42,
          "ctr": 0.035175879396984924,
          "impressions": 1194,
          "position": 9.715242881072026
         },
         {
          "Bin": 9,
          "clicks": 35,
          "ctr": 0.002881369885568453,
          "impressions": 12147,
          "position": 9.640405038281056
         },
         {
          "Bin": 9,
          "clicks": 35,
          "ctr": 0.03941441441441442,
          "impressions": 888,
          "position": 9.079954954954957
         },
         {
          "Bin": 9,
          "clicks": 34,
          "ctr": 0.017391304347826087,
          "impressions": 1955,
          "position": 9.371355498721227
         },
         {
          "Bin": 9,
          "clicks": 33,
          "ctr": 0.08068459657701711,
          "impressions": 409,
          "position": 9.193154034229831
         },
         {
          "Bin": 9,
          "clicks": 33,
          "ctr": 0.01110363391655451,
          "impressions": 2972,
          "position": 9.314939434724092
         },
         {
          "Bin": 9,
          "clicks": 31,
          "ctr": 0.015938303341902313,
          "impressions": 1945,
          "position": 9.901799485861183
         },
         {
          "Bin": 9,
          "clicks": 31,
          "ctr": 0.03681710213776722,
          "impressions": 842,
          "position": 9.112826603325416
         },
         {
          "Bin": 9,
          "clicks": 31,
          "ctr": 0.05183946488294314,
          "impressions": 598,
          "position": 9.643812709030101
         },
         {
          "Bin": 9,
          "clicks": 29,
          "ctr": 0.03211517165005537,
          "impressions": 903,
          "position": 9.364341085271318
         },
         {
          "Bin": 9,
          "clicks": 28,
          "ctr": 0.014568158168574404,
          "impressions": 1922,
          "position": 9.171696149843912
         },
         {
          "Bin": 9,
          "clicks": 27,
          "ctr": 0.006903605216057275,
          "impressions": 3911,
          "position": 9.070058808488877
         },
         {
          "Bin": 9,
          "clicks": 25,
          "ctr": 0.01128158844765343,
          "impressions": 2216,
          "position": 9.639891696750905
         },
         {
          "Bin": 9,
          "clicks": 25,
          "ctr": 0.018839487565938208,
          "impressions": 1327,
          "position": 9.131876412961569
         },
         {
          "Bin": 9,
          "clicks": 25,
          "ctr": 0.01425313568985177,
          "impressions": 1754,
          "position": 9.23261117445838
         }
        ]
       },
       "encoding": {
        "x": {
         "field": "Bin",
         "title": "Search Results Position",
         "type": "ordinal"
        },
        "y": {
         "axis": {
          "format": ".0%"
         },
         "field": "ctr",
         "title": "Based on Search Results Position",
         "type": "quantitative"
        }
       },
       "height": 300,
       "mark": "boxplot",
       "title": "Click-Through Rates",
       "width": 350
      },
      "image/png": "[encoded data removed]",
      "text/plain": [
       "<VegaLite 3 object>\n",
       "\n",
       "If you see this message, it means the renderer has not been properly enabled\n",
       "for the frontend that you are using. For more information, see\n",
       "https://altair-viz.github.io/user_guide/troubleshooting.html\n"
      ]
     },
     "execution_count": 16,
     "metadata": {},
     "output_type": "execute_result"
    }
   ],
   "source": [
    "box = alt.Chart(combined).mark_boxplot().encode(\n",
    "    x=alt.X('Bin:O', title='Search Results Position'),\n",
    "    y=alt.Y('ctr:Q', axis=alt.Axis(format='.0%'), title='Based on Search Results Position')\n",
    ").properties(title='Click-Through Rates', width=350)\n",
    "\n",
    "box"
   ]
  },
  {
   "cell_type": "code",
   "execution_count": 17,
   "metadata": {},
   "outputs": [],
   "source": [
    "box.save('box.png', scale_factor=3)"
   ]
  },
  {
   "cell_type": "markdown",
   "metadata": {},
   "source": [
    "---"
   ]
  },
  {
   "cell_type": "markdown",
   "metadata": {},
   "source": [
    "#### Confidence Interval:"
   ]
  },
  {
   "cell_type": "code",
   "execution_count": 18,
   "metadata": {},
   "outputs": [
    {
     "data": {
      "application/vnd.vegalite.v3+json": {
       "$schema": "https://vega.github.io/schema/vega-lite/v3.4.0.json",
       "background": "white",
       "config": {
        "axisX": {
         "grid": false,
         "labelAngle": 0,
         "labelFont": "Lato",
         "labelFontSize": 13,
         "labelFontWeight": "bold",
         "ticks": false,
         "titleFont": "Lato",
         "titleFontSize": 13,
         "titleY": 20
        },
        "axisY": {
         "domainWidth": 0,
         "labelAlign": "left",
         "labelFont": "Lato",
         "labelFontSize": 13,
         "labelLimit": 100,
         "labelPadding": 30,
         "ticks": false,
         "titleAlign": "left",
         "titleAngle": 0,
         "titleFont": "Lato",
         "titleFontSize": 13,
         "titleX": -30,
         "titleY": -20
        },
        "title": {
         "anchor": "start",
         "font": "Lato",
         "fontSize": 20,
         "offset": 5
        },
        "view": {
         "strokeOpacity": 0
        }
       },
       "data": {
        "name": "data-3c1a9b705722cb8e4f48b768b4fcabff"
       },
       "datasets": {
        "data-3c1a9b705722cb8e4f48b768b4fcabff": [
         {
          "Bin": 1,
          "clicks": 23577,
          "ctr": 0.6843632985980088,
          "impressions": 34451,
          "position": 1.0026414327595716
         },
         {
          "Bin": 1,
          "clicks": 4974,
          "ctr": 0.18551394897806955,
          "impressions": 26812,
          "position": 1.7898329106370283
         },
         {
          "Bin": 1,
          "clicks": 4707,
          "ctr": 0.4273651715997821,
          "impressions": 11014,
          "position": 1.042037406936626
         },
         {
          "Bin": 1,
          "clicks": 3827,
          "ctr": 0.1185490366148318,
          "impressions": 32282,
          "position": 1.0029737934452636
         },
         {
          "Bin": 1,
          "clicks": 3621,
          "ctr": 0.3757783312577833,
          "impressions": 9636,
          "position": 1.5011415525114156
         },
         {
          "Bin": 1,
          "clicks": 2921,
          "ctr": 0.3141535814153581,
          "impressions": 9298,
          "position": 1.4321359432135945
         },
         {
          "Bin": 1,
          "clicks": 2619,
          "ctr": 0.30467659376454165,
          "impressions": 8596,
          "position": 1.8591205211726385
         },
         {
          "Bin": 1,
          "clicks": 2543,
          "ctr": 0.7512555391432791,
          "impressions": 3385,
          "position": 1.0144756277695717
         },
         {
          "Bin": 1,
          "clicks": 1768,
          "ctr": 0.2473073157084907,
          "impressions": 7149,
          "position": 1.2554203385088822
         },
         {
          "Bin": 1,
          "clicks": 1760,
          "ctr": 0.3848677017275312,
          "impressions": 4573,
          "position": 1.8657336540564182
         },
         {
          "Bin": 1,
          "clicks": 1580,
          "ctr": 0.15998379910895097,
          "impressions": 9876,
          "position": 1.1009518023491291
         },
         {
          "Bin": 1,
          "clicks": 1171,
          "ctr": 0.30470986208691125,
          "impressions": 3843,
          "position": 1.9084048920114491
         },
         {
          "Bin": 1,
          "clicks": 1104,
          "ctr": 0.16228134646479495,
          "impressions": 6803,
          "position": 1.6591209760399823
         },
         {
          "Bin": 1,
          "clicks": 1072,
          "ctr": 0.2952354723216745,
          "impressions": 3631,
          "position": 1.6422473147893142
         },
         {
          "Bin": 1,
          "clicks": 1068,
          "ctr": 0.37939609236234456,
          "impressions": 2815,
          "position": 1.1911190053285967
         },
         {
          "Bin": 1,
          "clicks": 1062,
          "ctr": 0.4449099287808965,
          "impressions": 2387,
          "position": 1.4281524926686218
         },
         {
          "Bin": 1,
          "clicks": 952,
          "ctr": 0.27277936962750715,
          "impressions": 3490,
          "position": 1.3315186246418338
         },
         {
          "Bin": 1,
          "clicks": 937,
          "ctr": 0.5956770502225047,
          "impressions": 1573,
          "position": 1.4335664335664335
         },
         {
          "Bin": 1,
          "clicks": 854,
          "ctr": 0.3674698795180723,
          "impressions": 2324,
          "position": 1.8253012048192767
         },
         {
          "Bin": 1,
          "clicks": 823,
          "ctr": 0.2672945761610913,
          "impressions": 3079,
          "position": 1.3825917505683665
         },
         {
          "Bin": 1,
          "clicks": 761,
          "ctr": 0.07540626238604836,
          "impressions": 10092,
          "position": 1.0618311533888227
         },
         {
          "Bin": 1,
          "clicks": 758,
          "ctr": 0.3877237851662404,
          "impressions": 1955,
          "position": 1.1606138107416881
         },
         {
          "Bin": 1,
          "clicks": 683,
          "ctr": 0.3117298037425833,
          "impressions": 2191,
          "position": 1.848014605203104
         },
         {
          "Bin": 1,
          "clicks": 662,
          "ctr": 0.07750848846739257,
          "impressions": 8541,
          "position": 1.9330289193302888
         },
         {
          "Bin": 1,
          "clicks": 630,
          "ctr": 0.5722070844686649,
          "impressions": 1101,
          "position": 1.008174386920981
         },
         {
          "Bin": 1,
          "clicks": 630,
          "ctr": 0.41365725541694026,
          "impressions": 1523,
          "position": 1.9586342744583056
         },
         {
          "Bin": 1,
          "clicks": 628,
          "ctr": 0.8103225806451613,
          "impressions": 775,
          "position": 1.0167741935483872
         },
         {
          "Bin": 1,
          "clicks": 624,
          "ctr": 0.5527015057573074,
          "impressions": 1129,
          "position": 1.1275465013286097
         },
         {
          "Bin": 1,
          "clicks": 618,
          "ctr": 0.492822966507177,
          "impressions": 1254,
          "position": 1.5893141945773523
         },
         {
          "Bin": 1,
          "clicks": 495,
          "ctr": 0.2203918076580588,
          "impressions": 2246,
          "position": 1.1438112199465718
         },
         {
          "Bin": 1,
          "clicks": 475,
          "ctr": 0.8574007220216606,
          "impressions": 554,
          "position": 1.0036101083032491
         },
         {
          "Bin": 1,
          "clicks": 464,
          "ctr": 0.8640595903165735,
          "impressions": 537,
          "position": 1
         },
         {
          "Bin": 1,
          "clicks": 456,
          "ctr": 0.7715736040609137,
          "impressions": 591,
          "position": 1
         },
         {
          "Bin": 1,
          "clicks": 432,
          "ctr": 0.015006252605252188,
          "impressions": 28788,
          "position": 1.0047589273308324
         },
         {
          "Bin": 1,
          "clicks": 429,
          "ctr": 0.017121647509578543,
          "impressions": 25056,
          "position": 1.0059466794380587
         },
         {
          "Bin": 1,
          "clicks": 415,
          "ctr": 0.19177449168207025,
          "impressions": 2164,
          "position": 1.1529574861367835
         },
         {
          "Bin": 1,
          "clicks": 414,
          "ctr": 0.7327433628318584,
          "impressions": 565,
          "position": 1
         },
         {
          "Bin": 1,
          "clicks": 410,
          "ctr": 0.5678670360110804,
          "impressions": 722,
          "position": 1.2257617728531855
         },
         {
          "Bin": 1,
          "clicks": 405,
          "ctr": 0.5532786885245902,
          "impressions": 732,
          "position": 1.151639344262295
         },
         {
          "Bin": 1,
          "clicks": 397,
          "ctr": 0.08130247798484537,
          "impressions": 4883,
          "position": 1.4226909686668032
         },
         {
          "Bin": 1,
          "clicks": 396,
          "ctr": 0.7360594795539034,
          "impressions": 538,
          "position": 1
         },
         {
          "Bin": 1,
          "clicks": 391,
          "ctr": 0.2975646879756469,
          "impressions": 1314,
          "position": 1.5806697108066972
         },
         {
          "Bin": 1,
          "clicks": 387,
          "ctr": 0.3682207421503329,
          "impressions": 1051,
          "position": 1.8001902949571835
         },
         {
          "Bin": 1,
          "clicks": 387,
          "ctr": 0.6526138279932546,
          "impressions": 593,
          "position": 1.0033726812816188
         },
         {
          "Bin": 1,
          "clicks": 377,
          "ctr": 0.6867030965391621,
          "impressions": 549,
          "position": 1.0455373406193078
         },
         {
          "Bin": 1,
          "clicks": 364,
          "ctr": 0.386411889596603,
          "impressions": 942,
          "position": 1.461783439490446
         },
         {
          "Bin": 1,
          "clicks": 363,
          "ctr": 0.2402382528127068,
          "impressions": 1511,
          "position": 1.0185307743216412
         },
         {
          "Bin": 1,
          "clicks": 362,
          "ctr": 0.383881230116649,
          "impressions": 943,
          "position": 1.7794273594909862
         },
         {
          "Bin": 1,
          "clicks": 355,
          "ctr": 0.4166666666666667,
          "impressions": 852,
          "position": 1.4107981220657275
         },
         {
          "Bin": 1,
          "clicks": 336,
          "ctr": 0.3758389261744967,
          "impressions": 894,
          "position": 1.046979865771812
         },
         {
          "Bin": 1,
          "clicks": 332,
          "ctr": 0.5389610389610391,
          "impressions": 616,
          "position": 1.0081168831168832
         },
         {
          "Bin": 1,
          "clicks": 316,
          "ctr": 0.3166332665330661,
          "impressions": 998,
          "position": 1.6763527054108216
         },
         {
          "Bin": 1,
          "clicks": 300,
          "ctr": 0.06030150753768844,
          "impressions": 4975,
          "position": 1.4739698492462312
         },
         {
          "Bin": 1,
          "clicks": 299,
          "ctr": 0.6348195329087049,
          "impressions": 471,
          "position": 1.9766454352441611
         },
         {
          "Bin": 1,
          "clicks": 299,
          "ctr": 0.3555291319857313,
          "impressions": 841,
          "position": 1.8430439952437572
         },
         {
          "Bin": 1,
          "clicks": 290,
          "ctr": 0.2388797364085667,
          "impressions": 1214,
          "position": 1.7907742998352554
         },
         {
          "Bin": 1,
          "clicks": 289,
          "ctr": 0.4358974358974359,
          "impressions": 663,
          "position": 1.7722473604826543
         },
         {
          "Bin": 1,
          "clicks": 277,
          "ctr": 0.2832310838445808,
          "impressions": 978,
          "position": 1.8916155419222904
         },
         {
          "Bin": 1,
          "clicks": 272,
          "ctr": 0.406576980568012,
          "impressions": 669,
          "position": 1.844544095665172
         },
         {
          "Bin": 1,
          "clicks": 268,
          "ctr": 0.2231473771856786,
          "impressions": 1201,
          "position": 1.5462114904246462
         },
         {
          "Bin": 1,
          "clicks": 262,
          "ctr": 0.8881355932203391,
          "impressions": 295,
          "position": 1.5694915254237287
         },
         {
          "Bin": 1,
          "clicks": 261,
          "ctr": 0.9094076655052264,
          "impressions": 287,
          "position": 1.0034843205574913
         },
         {
          "Bin": 1,
          "clicks": 261,
          "ctr": 0.6574307304785895,
          "impressions": 397,
          "position": 1.057934508816121
         },
         {
          "Bin": 1,
          "clicks": 253,
          "ctr": 0.012644310060472787,
          "impressions": 20009,
          "position": 1.0044479984007195
         },
         {
          "Bin": 1,
          "clicks": 253,
          "ctr": 0.20111287758346585,
          "impressions": 1258,
          "position": 1.3879173290937996
         },
         {
          "Bin": 1,
          "clicks": 252,
          "ctr": 0.016327588441104057,
          "impressions": 15434,
          "position": 1.253855125048594
         },
         {
          "Bin": 1,
          "clicks": 252,
          "ctr": 0.7138810198300283,
          "impressions": 353,
          "position": 1.0141643059490084
         },
         {
          "Bin": 1,
          "clicks": 247,
          "ctr": 0.33651226158038144,
          "impressions": 734,
          "position": 1.7520435967302452
         },
         {
          "Bin": 1,
          "clicks": 246,
          "ctr": 0.8395904436860068,
          "impressions": 293,
          "position": 1
         },
         {
          "Bin": 1,
          "clicks": 245,
          "ctr": 0.26952695269526955,
          "impressions": 909,
          "position": 1.2376237623762376
         },
         {
          "Bin": 1,
          "clicks": 241,
          "ctr": 0.1114708603145236,
          "impressions": 2162,
          "position": 1.1433857539315448
         },
         {
          "Bin": 1,
          "clicks": 240,
          "ctr": 0.7817589576547231,
          "impressions": 307,
          "position": 1
         },
         {
          "Bin": 1,
          "clicks": 240,
          "ctr": 0.583941605839416,
          "impressions": 411,
          "position": 1.094890510948905
         },
         {
          "Bin": 1,
          "clicks": 238,
          "ctr": 0.9049429657794676,
          "impressions": 263,
          "position": 1
         },
         {
          "Bin": 1,
          "clicks": 237,
          "ctr": 0.4610894941634242,
          "impressions": 514,
          "position": 1.4105058365758754
         },
         {
          "Bin": 1,
          "clicks": 231,
          "ctr": 0.8339350180505415,
          "impressions": 277,
          "position": 1
         },
         {
          "Bin": 1,
          "clicks": 230,
          "ctr": 0.5569007263922519,
          "impressions": 413,
          "position": 1.2687651331719128
         },
         {
          "Bin": 1,
          "clicks": 227,
          "ctr": 0.9153225806451613,
          "impressions": 248,
          "position": 1
         },
         {
          "Bin": 1,
          "clicks": 222,
          "ctr": 0.683076923076923,
          "impressions": 325,
          "position": 1.003076923076923
         },
         {
          "Bin": 1,
          "clicks": 221,
          "ctr": 0.014715674523904647,
          "impressions": 15018,
          "position": 1.0051937674790252
         },
         {
          "Bin": 1,
          "clicks": 216,
          "ctr": 0.526829268292683,
          "impressions": 410,
          "position": 1.6829268292682928
         },
         {
          "Bin": 1,
          "clicks": 215,
          "ctr": 0.6073446327683616,
          "impressions": 354,
          "position": 1.03954802259887
         },
         {
          "Bin": 1,
          "clicks": 212,
          "ctr": 0.9592760180995475,
          "impressions": 221,
          "position": 1
         },
         {
          "Bin": 1,
          "clicks": 209,
          "ctr": 0.023331100692118776,
          "impressions": 8958,
          "position": 1.005023442732753
         },
         {
          "Bin": 1,
          "clicks": 204,
          "ctr": 0.4340425531914894,
          "impressions": 470,
          "position": 1.6957446808510641
         },
         {
          "Bin": 1,
          "clicks": 204,
          "ctr": 0.4055666003976143,
          "impressions": 503,
          "position": 1.2107355864811131
         },
         {
          "Bin": 1,
          "clicks": 203,
          "ctr": 0.4776470588235294,
          "impressions": 425,
          "position": 1.9223529411764704
         },
         {
          "Bin": 1,
          "clicks": 195,
          "ctr": 0.7647058823529411,
          "impressions": 255,
          "position": 1.007843137254902
         },
         {
          "Bin": 1,
          "clicks": 195,
          "ctr": 0.5025773195876289,
          "impressions": 388,
          "position": 1.3402061855670104
         },
         {
          "Bin": 1,
          "clicks": 193,
          "ctr": 0.8464912280701754,
          "impressions": 228,
          "position": 1.4912280701754386
         },
         {
          "Bin": 1,
          "clicks": 192,
          "ctr": 0.9320388349514565,
          "impressions": 206,
          "position": 1
         },
         {
          "Bin": 1,
          "clicks": 192,
          "ctr": 0.9099526066350709,
          "impressions": 211,
          "position": 1.1895734597156398
         },
         {
          "Bin": 1,
          "clicks": 192,
          "ctr": 0.029762827468609518,
          "impressions": 6451,
          "position": 1.1238567663928074
         },
         {
          "Bin": 1,
          "clicks": 191,
          "ctr": 0.4910025706940874,
          "impressions": 389,
          "position": 1.3444730077120823
         },
         {
          "Bin": 1,
          "clicks": 190,
          "ctr": 0.33687943262411346,
          "impressions": 564,
          "position": 1.3634751773049645
         },
         {
          "Bin": 1,
          "clicks": 189,
          "ctr": 0.3423913043478261,
          "impressions": 552,
          "position": 1
         },
         {
          "Bin": 1,
          "clicks": 189,
          "ctr": 0.1903323262839879,
          "impressions": 993,
          "position": 1.9647532729103725
         },
         {
          "Bin": 1,
          "clicks": 183,
          "ctr": 0.3567251461988304,
          "impressions": 513,
          "position": 1.9571150097465888
         },
         {
          "Bin": 1,
          "clicks": 181,
          "ctr": 0.8701923076923077,
          "impressions": 208,
          "position": 1
         },
         {
          "Bin": 1,
          "clicks": 175,
          "ctr": 0.4691689008042895,
          "impressions": 373,
          "position": 1.8337801608579087
         },
         {
          "Bin": 1,
          "clicks": 172,
          "ctr": 0.2536873156342183,
          "impressions": 678,
          "position": 1.0132743362831858
         },
         {
          "Bin": 1,
          "clicks": 171,
          "ctr": 0.4150485436893204,
          "impressions": 412,
          "position": 1.3762135922330097
         },
         {
          "Bin": 1,
          "clicks": 169,
          "ctr": 0.8492462311557789,
          "impressions": 199,
          "position": 1
         },
         {
          "Bin": 1,
          "clicks": 168,
          "ctr": 0.9081081081081082,
          "impressions": 185,
          "position": 1
         },
         {
          "Bin": 1,
          "clicks": 168,
          "ctr": 0.5813148788927336,
          "impressions": 289,
          "position": 1.4325259515570934
         },
         {
          "Bin": 1,
          "clicks": 167,
          "ctr": 0.8789473684210526,
          "impressions": 190,
          "position": 1
         },
         {
          "Bin": 1,
          "clicks": 167,
          "ctr": 0.3591397849462365,
          "impressions": 465,
          "position": 1.5806451612903225
         },
         {
          "Bin": 1,
          "clicks": 164,
          "ctr": 0.3858823529411765,
          "impressions": 425,
          "position": 1.6894117647058824
         },
         {
          "Bin": 1,
          "clicks": 163,
          "ctr": 0.5582191780821918,
          "impressions": 292,
          "position": 1.5513698630136985
         },
         {
          "Bin": 1,
          "clicks": 159,
          "ctr": 0.940828402366864,
          "impressions": 169,
          "position": 1.017751479289941
         },
         {
          "Bin": 1,
          "clicks": 159,
          "ctr": 0.5145631067961165,
          "impressions": 309,
          "position": 1.6990291262135924
         },
         {
          "Bin": 1,
          "clicks": 159,
          "ctr": 0.3916256157635468,
          "impressions": 406,
          "position": 1.91871921182266
         },
         {
          "Bin": 1,
          "clicks": 157,
          "ctr": 0.31781376518218624,
          "impressions": 494,
          "position": 1.508097165991903
         },
         {
          "Bin": 1,
          "clicks": 154,
          "ctr": 0.5724907063197026,
          "impressions": 269,
          "position": 1.0408921933085502
         },
         {
          "Bin": 1,
          "clicks": 150,
          "ctr": 0.8823529411764706,
          "impressions": 170,
          "position": 1.1941176470588235
         },
         {
          "Bin": 1,
          "clicks": 149,
          "ctr": 0.004642467674092539,
          "impressions": 32095,
          "position": 1.0032403801215142
         },
         {
          "Bin": 1,
          "clicks": 148,
          "ctr": 0.4457831325301205,
          "impressions": 332,
          "position": 1.3072289156626506
         },
         {
          "Bin": 1,
          "clicks": 147,
          "ctr": 0.8909090909090909,
          "impressions": 165,
          "position": 1.0060606060606059
         },
         {
          "Bin": 1,
          "clicks": 144,
          "ctr": 0.602510460251046,
          "impressions": 239,
          "position": 1.2426778242677825
         },
         {
          "Bin": 1,
          "clicks": 141,
          "ctr": 0.17300613496932515,
          "impressions": 815,
          "position": 1.8098159509202452
         },
         {
          "Bin": 1,
          "clicks": 139,
          "ctr": 0.7988505747126436,
          "impressions": 174,
          "position": 1.132183908045977
         },
         {
          "Bin": 1,
          "clicks": 139,
          "ctr": 0.9391891891891893,
          "impressions": 148,
          "position": 1
         },
         {
          "Bin": 1,
          "clicks": 138,
          "ctr": 0.6330275229357798,
          "impressions": 218,
          "position": 1.68348623853211
         },
         {
          "Bin": 1,
          "clicks": 137,
          "ctr": 0.3682795698924731,
          "impressions": 372,
          "position": 1.9408602150537635
         },
         {
          "Bin": 1,
          "clicks": 136,
          "ctr": 0.5811965811965812,
          "impressions": 234,
          "position": 1.0128205128205128
         },
         {
          "Bin": 1,
          "clicks": 136,
          "ctr": 0.4822695035460993,
          "impressions": 282,
          "position": 1.574468085106383
         },
         {
          "Bin": 1,
          "clicks": 136,
          "ctr": 0.7010309278350515,
          "impressions": 194,
          "position": 1.0412371134020622
         },
         {
          "Bin": 1,
          "clicks": 136,
          "ctr": 0.5551020408163265,
          "impressions": 245,
          "position": 1.9183673469387756
         },
         {
          "Bin": 1,
          "clicks": 135,
          "ctr": 0.4485049833887043,
          "impressions": 301,
          "position": 1.0066445182724253
         },
         {
          "Bin": 1,
          "clicks": 134,
          "ctr": 0.5877192982456141,
          "impressions": 228,
          "position": 1.1535087719298245
         },
         {
          "Bin": 1,
          "clicks": 134,
          "ctr": 0.475177304964539,
          "impressions": 282,
          "position": 1.9361702127659572
         },
         {
          "Bin": 1,
          "clicks": 131,
          "ctr": 0.6064814814814815,
          "impressions": 216,
          "position": 1.425925925925926
         },
         {
          "Bin": 1,
          "clicks": 129,
          "ctr": 0.3146341463414634,
          "impressions": 410,
          "position": 1.148780487804878
         },
         {
          "Bin": 1,
          "clicks": 129,
          "ctr": 0.01319693094629156,
          "impressions": 9775,
          "position": 1.1025063938618926
         },
         {
          "Bin": 1,
          "clicks": 129,
          "ctr": 0.7818181818181819,
          "impressions": 165,
          "position": 1
         },
         {
          "Bin": 1,
          "clicks": 128,
          "ctr": 0.64,
          "impressions": 200,
          "position": 1.8
         },
         {
          "Bin": 1,
          "clicks": 127,
          "ctr": 0.3702623906705539,
          "impressions": 343,
          "position": 1.1895043731778423
         },
         {
          "Bin": 1,
          "clicks": 126,
          "ctr": 0.875,
          "impressions": 144,
          "position": 1
         },
         {
          "Bin": 1,
          "clicks": 126,
          "ctr": 0.6702127659574468,
          "impressions": 188,
          "position": 1.904255319148936
         },
         {
          "Bin": 1,
          "clicks": 124,
          "ctr": 0.492063492063492,
          "impressions": 252,
          "position": 1.6825396825396826
         },
         {
          "Bin": 1,
          "clicks": 120,
          "ctr": 0.5504587155963303,
          "impressions": 218,
          "position": 1.743119266055046
         },
         {
          "Bin": 1,
          "clicks": 120,
          "ctr": 0.055788005578800565,
          "impressions": 2151,
          "position": 1.0227801022780103
         },
         {
          "Bin": 1,
          "clicks": 120,
          "ctr": 0.29411764705882354,
          "impressions": 408,
          "position": 1.5049019607843137
         },
         {
          "Bin": 1,
          "clicks": 120,
          "ctr": 0.4240282685512368,
          "impressions": 283,
          "position": 1.8197879858657244
         },
         {
          "Bin": 1,
          "clicks": 119,
          "ctr": 0.38263665594855306,
          "impressions": 311,
          "position": 1.0739549839228295
         },
         {
          "Bin": 1,
          "clicks": 118,
          "ctr": 0.450381679389313,
          "impressions": 262,
          "position": 1.7938931297709924
         },
         {
          "Bin": 1,
          "clicks": 117,
          "ctr": 0.508695652173913,
          "impressions": 230,
          "position": 1.8608695652173912
         },
         {
          "Bin": 1,
          "clicks": 115,
          "ctr": 0.4771784232365146,
          "impressions": 241,
          "position": 1.1784232365145229
         },
         {
          "Bin": 1,
          "clicks": 114,
          "ctr": 0.7169811320754716,
          "impressions": 159,
          "position": 1.3584905660377358
         },
         {
          "Bin": 1,
          "clicks": 113,
          "ctr": 0.8897637795275591,
          "impressions": 127,
          "position": 1.1181102362204725
         },
         {
          "Bin": 1,
          "clicks": 113,
          "ctr": 0.1006233303650935,
          "impressions": 1123,
          "position": 1.9510240427426535
         },
         {
          "Bin": 1,
          "clicks": 112,
          "ctr": 0.12829324169530354,
          "impressions": 873,
          "position": 1.009163802978236
         },
         {
          "Bin": 1,
          "clicks": 112,
          "ctr": 0.10676835081029552,
          "impressions": 1049,
          "position": 1.51954242135367
         },
         {
          "Bin": 1,
          "clicks": 112,
          "ctr": 0.41791044776119396,
          "impressions": 268,
          "position": 1.7089552238805972
         },
         {
          "Bin": 1,
          "clicks": 110,
          "ctr": 0.03685092127303183,
          "impressions": 2985,
          "position": 1.4676716917922947
         },
         {
          "Bin": 1,
          "clicks": 109,
          "ctr": 0.3011049723756906,
          "impressions": 362,
          "position": 1.5883977900552486
         },
         {
          "Bin": 1,
          "clicks": 108,
          "ctr": 0.8709677419354839,
          "impressions": 124,
          "position": 1.0806451612903225
         },
         {
          "Bin": 1,
          "clicks": 108,
          "ctr": 0.4426229508196721,
          "impressions": 244,
          "position": 1.5081967213114753
         },
         {
          "Bin": 1,
          "clicks": 108,
          "ctr": 0.54,
          "impressions": 200,
          "position": 1.445
         },
         {
          "Bin": 1,
          "clicks": 108,
          "ctr": 0.003245679939894816,
          "impressions": 33275,
          "position": 1.999038317054846
         },
         {
          "Bin": 1,
          "clicks": 106,
          "ctr": 0.7969924812030075,
          "impressions": 133,
          "position": 1.5939849624060152
         },
         {
          "Bin": 1,
          "clicks": 106,
          "ctr": 0.3063583815028902,
          "impressions": 346,
          "position": 1.3583815028901731
         },
         {
          "Bin": 1,
          "clicks": 102,
          "ctr": 0.4615384615384616,
          "impressions": 221,
          "position": 1.972850678733032
         },
         {
          "Bin": 1,
          "clicks": 101,
          "ctr": 0.4122448979591837,
          "impressions": 245,
          "position": 1.6367346938775509
         },
         {
          "Bin": 1,
          "clicks": 97,
          "ctr": 0.9065420560747663,
          "impressions": 107,
          "position": 1
         },
         {
          "Bin": 1,
          "clicks": 97,
          "ctr": 0.04186447993094519,
          "impressions": 2317,
          "position": 1.5321536469572723
         },
         {
          "Bin": 1,
          "clicks": 97,
          "ctr": 0.38645418326693226,
          "impressions": 251,
          "position": 1.6733067729083664
         },
         {
          "Bin": 1,
          "clicks": 97,
          "ctr": 0.06501340482573728,
          "impressions": 1492,
          "position": 1.8739946380697048
         },
         {
          "Bin": 1,
          "clicks": 96,
          "ctr": 0.8421052631578947,
          "impressions": 114,
          "position": 1
         },
         {
          "Bin": 1,
          "clicks": 96,
          "ctr": 0.035437430786267994,
          "impressions": 2709,
          "position": 1.7914359542266518
         },
         {
          "Bin": 1,
          "clicks": 96,
          "ctr": 0.3764705882352941,
          "impressions": 255,
          "position": 1.3411764705882354
         },
         {
          "Bin": 1,
          "clicks": 96,
          "ctr": 0.2546419098143236,
          "impressions": 377,
          "position": 1.9204244031830242
         },
         {
          "Bin": 1,
          "clicks": 96,
          "ctr": 0.4383561643835616,
          "impressions": 219,
          "position": 1.1004566210045663
         },
         {
          "Bin": 1,
          "clicks": 95,
          "ctr": 0.42035398230088494,
          "impressions": 226,
          "position": 1.5265486725663715
         },
         {
          "Bin": 1,
          "clicks": 95,
          "ctr": 0.8715596330275229,
          "impressions": 109,
          "position": 1
         },
         {
          "Bin": 1,
          "clicks": 94,
          "ctr": 0.6266666666666667,
          "impressions": 150,
          "position": 1.92
         },
         {
          "Bin": 1,
          "clicks": 94,
          "ctr": 0.4895833333333333,
          "impressions": 192,
          "position": 1.34375
         },
         {
          "Bin": 1,
          "clicks": 93,
          "ctr": 0.5375722543352601,
          "impressions": 173,
          "position": 1.0751445086705202
         },
         {
          "Bin": 1,
          "clicks": 92,
          "ctr": 0.4816753926701571,
          "impressions": 191,
          "position": 1.3612565445026177
         },
         {
          "Bin": 1,
          "clicks": 92,
          "ctr": 0.5476190476190477,
          "impressions": 168,
          "position": 1.0654761904761905
         },
         {
          "Bin": 1,
          "clicks": 91,
          "ctr": 0.7459016393442623,
          "impressions": 122,
          "position": 1.0163934426229508
         },
         {
          "Bin": 1,
          "clicks": 90,
          "ctr": 0.8256880733944955,
          "impressions": 109,
          "position": 1.688073394495413
         },
         {
          "Bin": 1,
          "clicks": 89,
          "ctr": 0.3836206896551724,
          "impressions": 232,
          "position": 1.5689655172413794
         },
         {
          "Bin": 1,
          "clicks": 89,
          "ctr": 0.7542372881355932,
          "impressions": 118,
          "position": 1
         },
         {
          "Bin": 1,
          "clicks": 88,
          "ctr": 0.4170616113744076,
          "impressions": 211,
          "position": 1.5213270142180095
         },
         {
          "Bin": 1,
          "clicks": 88,
          "ctr": 0.5827814569536424,
          "impressions": 151,
          "position": 1.5629139072847682
         },
         {
          "Bin": 1,
          "clicks": 88,
          "ctr": 0.3928571428571429,
          "impressions": 224,
          "position": 1.8660714285714288
         },
         {
          "Bin": 1,
          "clicks": 87,
          "ctr": 0.08317399617590822,
          "impressions": 1046,
          "position": 1.3202676864244742
         },
         {
          "Bin": 1,
          "clicks": 87,
          "ctr": 0.5918367346938775,
          "impressions": 147,
          "position": 1.4693877551020411
         },
         {
          "Bin": 1,
          "clicks": 85,
          "ctr": 0.6589147286821705,
          "impressions": 129,
          "position": 1.2248062015503876
         },
         {
          "Bin": 1,
          "clicks": 85,
          "ctr": 0.4941860465116279,
          "impressions": 172,
          "position": 1.0290697674418603
         },
         {
          "Bin": 1,
          "clicks": 85,
          "ctr": 0.1868131868131868,
          "impressions": 455,
          "position": 1.2483516483516484
         },
         {
          "Bin": 1,
          "clicks": 84,
          "ctr": 0.4827586206896552,
          "impressions": 174,
          "position": 1.3045977011494254
         },
         {
          "Bin": 1,
          "clicks": 83,
          "ctr": 0.4585635359116022,
          "impressions": 181,
          "position": 1.4143646408839778
         },
         {
          "Bin": 1,
          "clicks": 83,
          "ctr": 0.50920245398773,
          "impressions": 163,
          "position": 1.177914110429448
         },
         {
          "Bin": 1,
          "clicks": 82,
          "ctr": 0.7884615384615384,
          "impressions": 104,
          "position": 1.0865384615384617
         },
         {
          "Bin": 1,
          "clicks": 81,
          "ctr": 0.4909090909090909,
          "impressions": 165,
          "position": 1.1333333333333333
         },
         {
          "Bin": 1,
          "clicks": 81,
          "ctr": 0.4090909090909091,
          "impressions": 198,
          "position": 1.5353535353535357
         },
         {
          "Bin": 1,
          "clicks": 80,
          "ctr": 0.6896551724137931,
          "impressions": 116,
          "position": 1.2672413793103448
         },
         {
          "Bin": 1,
          "clicks": 80,
          "ctr": 0.4519774011299435,
          "impressions": 177,
          "position": 1.6779661016949152
         },
         {
          "Bin": 1,
          "clicks": 79,
          "ctr": 0.6694915254237288,
          "impressions": 118,
          "position": 1.889830508474576
         },
         {
          "Bin": 1,
          "clicks": 79,
          "ctr": 0.5197368421052632,
          "impressions": 152,
          "position": 1.5197368421052633
         },
         {
          "Bin": 1,
          "clicks": 79,
          "ctr": 0.37264150943396224,
          "impressions": 212,
          "position": 1.9339622641509435
         },
         {
          "Bin": 1,
          "clicks": 79,
          "ctr": 0.7181818181818181,
          "impressions": 110,
          "position": 1.3090909090909093
         },
         {
          "Bin": 1,
          "clicks": 79,
          "ctr": 0.4702380952380952,
          "impressions": 168,
          "position": 1.6964285714285714
         },
         {
          "Bin": 1,
          "clicks": 78,
          "ctr": 0.7090909090909091,
          "impressions": 110,
          "position": 1.7545454545454544
         },
         {
          "Bin": 1,
          "clicks": 78,
          "ctr": 0.6554621848739496,
          "impressions": 119,
          "position": 1.0672268907563025
         },
         {
          "Bin": 1,
          "clicks": 78,
          "ctr": 0.6610169491525424,
          "impressions": 118,
          "position": 1.1271186440677967
         },
         {
          "Bin": 1,
          "clicks": 78,
          "ctr": 0.5864661654135338,
          "impressions": 133,
          "position": 1.9473684210526316
         },
         {
          "Bin": 1,
          "clicks": 77,
          "ctr": 0.6936936936936937,
          "impressions": 111,
          "position": 1
         },
         {
          "Bin": 1,
          "clicks": 75,
          "ctr": 0.6410256410256411,
          "impressions": 117,
          "position": 1
         },
         {
          "Bin": 1,
          "clicks": 75,
          "ctr": 0.3926701570680629,
          "impressions": 191,
          "position": 1.9528795811518325
         },
         {
          "Bin": 1,
          "clicks": 75,
          "ctr": 0.6048387096774194,
          "impressions": 124,
          "position": 1.1048387096774193
         },
         {
          "Bin": 1,
          "clicks": 74,
          "ctr": 0.4539877300613497,
          "impressions": 163,
          "position": 1.0368098159509205
         },
         {
          "Bin": 1,
          "clicks": 73,
          "ctr": 0.553030303030303,
          "impressions": 132,
          "position": 1.7575757575757576
         },
         {
          "Bin": 1,
          "clicks": 72,
          "ctr": 0.048,
          "impressions": 1500,
          "position": 1.034
         },
         {
          "Bin": 1,
          "clicks": 71,
          "ctr": 0.4355828220858896,
          "impressions": 163,
          "position": 1.8650306748466257
         },
         {
          "Bin": 1,
          "clicks": 70,
          "ctr": 0.6422018348623854,
          "impressions": 109,
          "position": 1.256880733944954
         },
         {
          "Bin": 1,
          "clicks": 69,
          "ctr": 0.5897435897435898,
          "impressions": 117,
          "position": 1.3846153846153846
         },
         {
          "Bin": 1,
          "clicks": 69,
          "ctr": 0.6634615384615384,
          "impressions": 104,
          "position": 1.4807692307692308
         },
         {
          "Bin": 1,
          "clicks": 68,
          "ctr": 0.591304347826087,
          "impressions": 115,
          "position": 1.252173913043478
         },
         {
          "Bin": 1,
          "clicks": 68,
          "ctr": 0.3655913978494624,
          "impressions": 186,
          "position": 1.0161290322580645
         },
         {
          "Bin": 1,
          "clicks": 68,
          "ctr": 0.4146341463414634,
          "impressions": 164,
          "position": 1.9878048780487805
         },
         {
          "Bin": 1,
          "clicks": 68,
          "ctr": 0.5619834710743802,
          "impressions": 121,
          "position": 1.7520661157024793
         },
         {
          "Bin": 1,
          "clicks": 67,
          "ctr": 0.03027564392227745,
          "impressions": 2213,
          "position": 1.2693176683235428
         },
         {
          "Bin": 1,
          "clicks": 67,
          "ctr": 0.4011976047904192,
          "impressions": 167,
          "position": 1.9461077844311376
         },
         {
          "Bin": 1,
          "clicks": 66,
          "ctr": 0.02643171806167401,
          "impressions": 2497,
          "position": 1.142971565879055
         },
         {
          "Bin": 1,
          "clicks": 66,
          "ctr": 0.04094292803970223,
          "impressions": 1612,
          "position": 1.7847394540942931
         },
         {
          "Bin": 1,
          "clicks": 65,
          "ctr": 0.5508474576271186,
          "impressions": 118,
          "position": 1.8813559322033897
         },
         {
          "Bin": 1,
          "clicks": 65,
          "ctr": 0.3186274509803921,
          "impressions": 204,
          "position": 1.5098039215686274
         },
         {
          "Bin": 1,
          "clicks": 65,
          "ctr": 0.04935459377372817,
          "impressions": 1317,
          "position": 1.2930903568716778
         },
         {
          "Bin": 1,
          "clicks": 64,
          "ctr": 0.03177755710029792,
          "impressions": 2014,
          "position": 1.6251241310824232
         },
         {
          "Bin": 1,
          "clicks": 64,
          "ctr": 0.5818181818181818,
          "impressions": 110,
          "position": 1.0818181818181818
         },
         {
          "Bin": 1,
          "clicks": 64,
          "ctr": 0.4050632911392405,
          "impressions": 158,
          "position": 1.3860759493670889
         },
         {
          "Bin": 1,
          "clicks": 63,
          "ctr": 0.08701657458563536,
          "impressions": 724,
          "position": 1.8798342541436464
         },
         {
          "Bin": 1,
          "clicks": 63,
          "ctr": 0.22419928825622776,
          "impressions": 281,
          "position": 1.6619217081850532
         },
         {
          "Bin": 1,
          "clicks": 63,
          "ctr": 0.014935988620199146,
          "impressions": 4218,
          "position": 1.5862968231389285
         },
         {
          "Bin": 1,
          "clicks": 62,
          "ctr": 0.23220973782771534,
          "impressions": 267,
          "position": 1.9775280898876404
         },
         {
          "Bin": 1,
          "clicks": 61,
          "ctr": 0.5,
          "impressions": 122,
          "position": 1.8852459016393444
         },
         {
          "Bin": 1,
          "clicks": 61,
          "ctr": 0.3160621761658031,
          "impressions": 193,
          "position": 1.9067357512953367
         },
         {
          "Bin": 1,
          "clicks": 61,
          "ctr": 0.5545454545454546,
          "impressions": 110,
          "position": 1.9545454545454544
         },
         {
          "Bin": 1,
          "clicks": 60,
          "ctr": 0.04291845493562232,
          "impressions": 1398,
          "position": 1.5915593705293276
         },
         {
          "Bin": 1,
          "clicks": 60,
          "ctr": 0.4,
          "impressions": 150,
          "position": 1.7733333333333334
         },
         {
          "Bin": 1,
          "clicks": 59,
          "ctr": 0.5086206896551724,
          "impressions": 116,
          "position": 1.7672413793103448
         },
         {
          "Bin": 1,
          "clicks": 59,
          "ctr": 0.20701754385964916,
          "impressions": 285,
          "position": 1.1052631578947367
         },
         {
          "Bin": 1,
          "clicks": 59,
          "ctr": 0.07239263803680981,
          "impressions": 815,
          "position": 1.2527607361963191
         },
         {
          "Bin": 1,
          "clicks": 59,
          "ctr": 0.5462962962962963,
          "impressions": 108,
          "position": 1.3888888888888888
         },
         {
          "Bin": 1,
          "clicks": 59,
          "ctr": 0.4244604316546763,
          "impressions": 139,
          "position": 1.3525179856115108
         },
         {
          "Bin": 1,
          "clicks": 58,
          "ctr": 0.03988995873452544,
          "impressions": 1454,
          "position": 1.9656121045392023
         },
         {
          "Bin": 1,
          "clicks": 58,
          "ctr": 0.5631067961165048,
          "impressions": 103,
          "position": 1.8737864077669903
         },
         {
          "Bin": 1,
          "clicks": 58,
          "ctr": 0.3118279569892473,
          "impressions": 186,
          "position": 1.1612903225806452
         },
         {
          "Bin": 1,
          "clicks": 58,
          "ctr": 0.3945578231292517,
          "impressions": 147,
          "position": 1.0816326530612246
         },
         {
          "Bin": 1,
          "clicks": 57,
          "ctr": 0.3131868131868132,
          "impressions": 182,
          "position": 1.9670329670329672
         },
         {
          "Bin": 1,
          "clicks": 57,
          "ctr": 0.4253731343283582,
          "impressions": 134,
          "position": 1.537313432835821
         },
         {
          "Bin": 1,
          "clicks": 57,
          "ctr": 0.4351145038167939,
          "impressions": 131,
          "position": 1.6946564885496185
         },
         {
          "Bin": 1,
          "clicks": 57,
          "ctr": 0.3851351351351352,
          "impressions": 148,
          "position": 1.3175675675675675
         },
         {
          "Bin": 1,
          "clicks": 56,
          "ctr": 0.4028776978417266,
          "impressions": 139,
          "position": 1.8417266187050358
         },
         {
          "Bin": 1,
          "clicks": 56,
          "ctr": 0.4057971014492754,
          "impressions": 138,
          "position": 1.4782608695652173
         },
         {
          "Bin": 1,
          "clicks": 55,
          "ctr": 0.027390438247011952,
          "impressions": 2008,
          "position": 1.406374501992032
         },
         {
          "Bin": 1,
          "clicks": 55,
          "ctr": 0.5092592592592593,
          "impressions": 108,
          "position": 1.4166666666666667
         },
         {
          "Bin": 1,
          "clicks": 54,
          "ctr": 0.12080536912751677,
          "impressions": 447,
          "position": 1.046979865771812
         },
         {
          "Bin": 1,
          "clicks": 54,
          "ctr": 0.13075060532687652,
          "impressions": 413,
          "position": 1.5714285714285714
         },
         {
          "Bin": 1,
          "clicks": 54,
          "ctr": 0.03052572074618428,
          "impressions": 1769,
          "position": 1.7738835500282646
         },
         {
          "Bin": 1,
          "clicks": 52,
          "ctr": 0.16455696202531644,
          "impressions": 316,
          "position": 1.4651898734177216
         },
         {
          "Bin": 1,
          "clicks": 52,
          "ctr": 0.35135135135135137,
          "impressions": 148,
          "position": 1.2905405405405406
         },
         {
          "Bin": 1,
          "clicks": 52,
          "ctr": 0.3076923076923077,
          "impressions": 169,
          "position": 1.5502958579881656
         },
         {
          "Bin": 1,
          "clicks": 50,
          "ctr": 0.16722408026755853,
          "impressions": 299,
          "position": 1.4414715719063544
         },
         {
          "Bin": 1,
          "clicks": 50,
          "ctr": 0.0015039855617386072,
          "impressions": 33245,
          "position": 1.001052789893217
         },
         {
          "Bin": 1,
          "clicks": 50,
          "ctr": 0.4901960784313725,
          "impressions": 102,
          "position": 1.7745098039215683
         },
         {
          "Bin": 1,
          "clicks": 49,
          "ctr": 0.1856060606060606,
          "impressions": 264,
          "position": 1.0037878787878791
         },
         {
          "Bin": 1,
          "clicks": 49,
          "ctr": 0.2149122807017544,
          "impressions": 228,
          "position": 1.6578947368421053
         },
         {
          "Bin": 1,
          "clicks": 49,
          "ctr": 0.2552083333333333,
          "impressions": 192,
          "position": 1.53125
         },
         {
          "Bin": 1,
          "clicks": 48,
          "ctr": 0.42105263157894735,
          "impressions": 114,
          "position": 1.9912280701754383
         },
         {
          "Bin": 1,
          "clicks": 47,
          "ctr": 0.03666146645865834,
          "impressions": 1282,
          "position": 1.931357254290172
         },
         {
          "Bin": 1,
          "clicks": 47,
          "ctr": 0.28484848484848485,
          "impressions": 165,
          "position": 1.8909090909090909
         },
         {
          "Bin": 1,
          "clicks": 45,
          "ctr": 0.09414225941422594,
          "impressions": 478,
          "position": 1.49163179916318
         },
         {
          "Bin": 1,
          "clicks": 45,
          "ctr": 0.4326923076923077,
          "impressions": 104,
          "position": 1.9038461538461535
         },
         {
          "Bin": 1,
          "clicks": 45,
          "ctr": 0.3543307086614173,
          "impressions": 127,
          "position": 1.748031496062992
         },
         {
          "Bin": 1,
          "clicks": 44,
          "ctr": 0.06043956043956044,
          "impressions": 728,
          "position": 1.370879120879121
         },
         {
          "Bin": 1,
          "clicks": 44,
          "ctr": 0.23783783783783785,
          "impressions": 185,
          "position": 1.2702702702702702
         },
         {
          "Bin": 1,
          "clicks": 44,
          "ctr": 0.19298245614035087,
          "impressions": 228,
          "position": 1.3552631578947367
         },
         {
          "Bin": 1,
          "clicks": 43,
          "ctr": 0.25,
          "impressions": 172,
          "position": 1.6918604651162792
         },
         {
          "Bin": 1,
          "clicks": 43,
          "ctr": 0.12684365781710916,
          "impressions": 339,
          "position": 1.0029498525073746
         },
         {
          "Bin": 1,
          "clicks": 43,
          "ctr": 0.044885177453027135,
          "impressions": 958,
          "position": 1.9832985386221296
         },
         {
          "Bin": 1,
          "clicks": 42,
          "ctr": 0.4,
          "impressions": 105,
          "position": 1.2571428571428571
         },
         {
          "Bin": 1,
          "clicks": 42,
          "ctr": 0.4158415841584158,
          "impressions": 101,
          "position": 1.1683168316831682
         },
         {
          "Bin": 1,
          "clicks": 41,
          "ctr": 0.405940594059406,
          "impressions": 101,
          "position": 1.4851485148514851
         },
         {
          "Bin": 1,
          "clicks": 41,
          "ctr": 0.3727272727272728,
          "impressions": 110,
          "position": 1.9545454545454544
         },
         {
          "Bin": 1,
          "clicks": 40,
          "ctr": 0.37735849056603776,
          "impressions": 106,
          "position": 1.169811320754717
         },
         {
          "Bin": 1,
          "clicks": 40,
          "ctr": 0.3883495145631068,
          "impressions": 103,
          "position": 1
         },
         {
          "Bin": 1,
          "clicks": 40,
          "ctr": 0.010875475802066341,
          "impressions": 3678,
          "position": 1.4741707449700925
         },
         {
          "Bin": 1,
          "clicks": 40,
          "ctr": 0.3883495145631068,
          "impressions": 103,
          "position": 1.6116504854368932
         },
         {
          "Bin": 1,
          "clicks": 39,
          "ctr": 0.01989795918367347,
          "impressions": 1960,
          "position": 1.4428571428571428
         },
         {
          "Bin": 1,
          "clicks": 39,
          "ctr": 0.08764044943820225,
          "impressions": 445,
          "position": 1.838202247191011
         },
         {
          "Bin": 1,
          "clicks": 38,
          "ctr": 0.005023132848645076,
          "impressions": 7565,
          "position": 1.1988103106411103
         },
         {
          "Bin": 1,
          "clicks": 38,
          "ctr": 0.06050955414012739,
          "impressions": 628,
          "position": 1.4394904458598727
         },
         {
          "Bin": 1,
          "clicks": 38,
          "ctr": 0.2345679012345679,
          "impressions": 162,
          "position": 1.6913580246913582
         },
         {
          "Bin": 1,
          "clicks": 38,
          "ctr": 0.2602739726027397,
          "impressions": 146,
          "position": 1.958904109589041
         },
         {
          "Bin": 1,
          "clicks": 37,
          "ctr": 0.00509922822491731,
          "impressions": 7256,
          "position": 1.0898566703417858
         },
         {
          "Bin": 1,
          "clicks": 36,
          "ctr": 0.2975206611570248,
          "impressions": 121,
          "position": 1.9504132231404958
         },
         {
          "Bin": 1,
          "clicks": 35,
          "ctr": 0.3365384615384616,
          "impressions": 104,
          "position": 1.8846153846153848
         },
         {
          "Bin": 1,
          "clicks": 35,
          "ctr": 0.3181818181818182,
          "impressions": 110,
          "position": 1.3
         },
         {
          "Bin": 1,
          "clicks": 34,
          "ctr": 0.3063063063063063,
          "impressions": 111,
          "position": 1.5675675675675675
         },
         {
          "Bin": 1,
          "clicks": 34,
          "ctr": 0.03204524033930255,
          "impressions": 1061,
          "position": 1.7360980207351555
         },
         {
          "Bin": 1,
          "clicks": 34,
          "ctr": 0.019428571428571427,
          "impressions": 1750,
          "position": 1.621142857142857
         },
         {
          "Bin": 1,
          "clicks": 34,
          "ctr": 0.3207547169811321,
          "impressions": 106,
          "position": 1.5
         },
         {
          "Bin": 1,
          "clicks": 34,
          "ctr": 0.3333333333333333,
          "impressions": 102,
          "position": 1.715686274509804
         },
         {
          "Bin": 1,
          "clicks": 33,
          "ctr": 0.23404255319148934,
          "impressions": 141,
          "position": 1.0212765957446808
         },
         {
          "Bin": 1,
          "clicks": 33,
          "ctr": 0.11870503597122302,
          "impressions": 278,
          "position": 1.7482014388489209
         },
         {
          "Bin": 1,
          "clicks": 33,
          "ctr": 0.2426470588235294,
          "impressions": 136,
          "position": 1.3014705882352942
         },
         {
          "Bin": 1,
          "clicks": 33,
          "ctr": 0.03775743707093822,
          "impressions": 874,
          "position": 1.9221967963386728
         },
         {
          "Bin": 1,
          "clicks": 32,
          "ctr": 0.25806451612903225,
          "impressions": 124,
          "position": 1.8790322580645158
         },
         {
          "Bin": 1,
          "clicks": 31,
          "ctr": 0.28703703703703703,
          "impressions": 108,
          "position": 1.2777777777777777
         },
         {
          "Bin": 1,
          "clicks": 31,
          "ctr": 0.16489361702127658,
          "impressions": 188,
          "position": 1.4893617021276595
         },
         {
          "Bin": 1,
          "clicks": 30,
          "ctr": 0.14563106796116504,
          "impressions": 206,
          "position": 1
         },
         {
          "Bin": 1,
          "clicks": 30,
          "ctr": 0.05309734513274336,
          "impressions": 565,
          "position": 1.9734513274336285
         },
         {
          "Bin": 1,
          "clicks": 29,
          "ctr": 0.17682926829268292,
          "impressions": 164,
          "position": 1.6402439024390243
         },
         {
          "Bin": 1,
          "clicks": 29,
          "ctr": 0.2416666666666667,
          "impressions": 120,
          "position": 1.025
         },
         {
          "Bin": 1,
          "clicks": 29,
          "ctr": 0.25892857142857145,
          "impressions": 112,
          "position": 1.1428571428571428
         },
         {
          "Bin": 1,
          "clicks": 29,
          "ctr": 0.25892857142857145,
          "impressions": 112,
          "position": 1.1428571428571428
         },
         {
          "Bin": 1,
          "clicks": 28,
          "ctr": 0.15384615384615385,
          "impressions": 182,
          "position": 1.2307692307692308
         },
         {
          "Bin": 1,
          "clicks": 28,
          "ctr": 0.02626641651031895,
          "impressions": 1066,
          "position": 1.4418386491557222
         },
         {
          "Bin": 1,
          "clicks": 27,
          "ctr": 0.2076923076923077,
          "impressions": 130,
          "position": 1.4615384615384617
         },
         {
          "Bin": 1,
          "clicks": 27,
          "ctr": 0.02741116751269036,
          "impressions": 985,
          "position": 1
         },
         {
          "Bin": 1,
          "clicks": 26,
          "ctr": 0.17687074829931973,
          "impressions": 147,
          "position": 1.9795918367346936
         },
         {
          "Bin": 1,
          "clicks": 26,
          "ctr": 0.008974801518812565,
          "impressions": 2897,
          "position": 1.2744218156713842
         },
         {
          "Bin": 1,
          "clicks": 26,
          "ctr": 0.11206896551724138,
          "impressions": 232,
          "position": 1.012931034482759
         },
         {
          "Bin": 1,
          "clicks": 26,
          "ctr": 0.25,
          "impressions": 104,
          "position": 1.1923076923076923
         },
         {
          "Bin": 1,
          "clicks": 26,
          "ctr": 0.10833333333333334,
          "impressions": 240,
          "position": 1
         },
         {
          "Bin": 1,
          "clicks": 26,
          "ctr": 0.004124365482233503,
          "impressions": 6304,
          "position": 1.710501269035533
         },
         {
          "Bin": 1,
          "clicks": 26,
          "ctr": 0.12264150943396225,
          "impressions": 212,
          "position": 1.8679245283018868
         },
         {
          "Bin": 1,
          "clicks": 25,
          "ctr": 0.1937984496124031,
          "impressions": 129,
          "position": 1
         },
         {
          "Bin": 1,
          "clicks": 25,
          "ctr": 0.09090909090909093,
          "impressions": 275,
          "position": 1
         },
         {
          "Bin": 1,
          "clicks": 25,
          "ctr": 0.2,
          "impressions": 125,
          "position": 1
         },
         {
          "Bin": 2,
          "clicks": 8763,
          "ctr": 0.2325883851788937,
          "impressions": 37676,
          "position": 2.349320522348445
         },
         {
          "Bin": 2,
          "clicks": 6834,
          "ctr": 0.13291323881206604,
          "impressions": 51417,
          "position": 2.7953595114456307
         },
         {
          "Bin": 2,
          "clicks": 4517,
          "ctr": 0.21379212419538052,
          "impressions": 21128,
          "position": 2.044206739871261
         },
         {
          "Bin": 2,
          "clicks": 3493,
          "ctr": 0.08412813102119461,
          "impressions": 41520,
          "position": 2.5981454720616566
         },
         {
          "Bin": 2,
          "clicks": 2784,
          "ctr": 0.2781496653012289,
          "impressions": 10009,
          "position": 2.278849035867719
         },
         {
          "Bin": 2,
          "clicks": 1973,
          "ctr": 0.3784042961258151,
          "impressions": 5214,
          "position": 2.00939777522056
         },
         {
          "Bin": 2,
          "clicks": 1886,
          "ctr": 0.18931941377233488,
          "impressions": 9962,
          "position": 2.5371411363180085
         },
         {
          "Bin": 2,
          "clicks": 1468,
          "ctr": 0.2662797025213133,
          "impressions": 5513,
          "position": 2.3192454199165606
         },
         {
          "Bin": 2,
          "clicks": 1260,
          "ctr": 0.07747171667486473,
          "impressions": 16264,
          "position": 2.837555336940482
         },
         {
          "Bin": 2,
          "clicks": 1069,
          "ctr": 0.2016981132075472,
          "impressions": 5300,
          "position": 2.4679245283018867
         },
         {
          "Bin": 2,
          "clicks": 1063,
          "ctr": 0.24186575654152445,
          "impressions": 4395,
          "position": 2.240500568828214
         },
         {
          "Bin": 2,
          "clicks": 1028,
          "ctr": 0.11768746422438466,
          "impressions": 8735,
          "position": 2.7748139668002287
         },
         {
          "Bin": 2,
          "clicks": 1002,
          "ctr": 0.34197952218430033,
          "impressions": 2930,
          "position": 2.745051194539249
         },
         {
          "Bin": 2,
          "clicks": 888,
          "ctr": 0.10802919708029196,
          "impressions": 8220,
          "position": 2.7669099756691002
         },
         {
          "Bin": 2,
          "clicks": 827,
          "ctr": 0.30997001499250376,
          "impressions": 2668,
          "position": 2.9872563718140928
         },
         {
          "Bin": 2,
          "clicks": 677,
          "ctr": 0.1517256835499776,
          "impressions": 4462,
          "position": 2.798072613177947
         },
         {
          "Bin": 2,
          "clicks": 667,
          "ctr": 0.2110759493670886,
          "impressions": 3160,
          "position": 2.3765822784810124
         },
         {
          "Bin": 2,
          "clicks": 660,
          "ctr": 0.21568627450980396,
          "impressions": 3060,
          "position": 2.491503267973856
         },
         {
          "Bin": 2,
          "clicks": 596,
          "ctr": 0.2082459818308875,
          "impressions": 2862,
          "position": 2.7092941998602376
         },
         {
          "Bin": 2,
          "clicks": 584,
          "ctr": 0.13333333333333333,
          "impressions": 4380,
          "position": 2.386986301369863
         },
         {
          "Bin": 2,
          "clicks": 444,
          "ctr": 0.13413897280966766,
          "impressions": 3310,
          "position": 2.976737160120846
         },
         {
          "Bin": 2,
          "clicks": 362,
          "ctr": 0.11580294305822135,
          "impressions": 3126,
          "position": 2.706653870761357
         },
         {
          "Bin": 2,
          "clicks": 358,
          "ctr": 0.2314156431803491,
          "impressions": 1547,
          "position": 2.8312863606981247
         },
         {
          "Bin": 2,
          "clicks": 356,
          "ctr": 0.12322602976808585,
          "impressions": 2889,
          "position": 2.6036690896503982
         },
         {
          "Bin": 2,
          "clicks": 345,
          "ctr": 0.3125,
          "impressions": 1104,
          "position": 2.3596014492753623
         },
         {
          "Bin": 2,
          "clicks": 330,
          "ctr": 0.3384615384615385,
          "impressions": 975,
          "position": 2.0164102564102557
         },
         {
          "Bin": 2,
          "clicks": 326,
          "ctr": 0.3090047393364929,
          "impressions": 1055,
          "position": 2.2398104265402843
         },
         {
          "Bin": 2,
          "clicks": 286,
          "ctr": 0.053789731051344734,
          "impressions": 5317,
          "position": 2.925333834869287
         },
         {
          "Bin": 2,
          "clicks": 284,
          "ctr": 0.2551662174303684,
          "impressions": 1113,
          "position": 2.3189577717879604
         },
         {
          "Bin": 2,
          "clicks": 282,
          "ctr": 0.010898971940944578,
          "impressions": 25874,
          "position": 2.288552214578341
         },
         {
          "Bin": 2,
          "clicks": 277,
          "ctr": 0.2598499061913696,
          "impressions": 1066,
          "position": 2.7420262664165103
         },
         {
          "Bin": 2,
          "clicks": 276,
          "ctr": 0.26640926640926643,
          "impressions": 1036,
          "position": 2.937258687258687
         },
         {
          "Bin": 2,
          "clicks": 244,
          "ctr": 0.3794712286158631,
          "impressions": 643,
          "position": 2.1632970451010887
         },
         {
          "Bin": 2,
          "clicks": 241,
          "ctr": 0.2583065380493033,
          "impressions": 933,
          "position": 2.139335476956056
         },
         {
          "Bin": 2,
          "clicks": 235,
          "ctr": 0.28519417475728154,
          "impressions": 824,
          "position": 2.5861650485436893
         },
         {
          "Bin": 2,
          "clicks": 223,
          "ctr": 0.04467147435897436,
          "impressions": 4992,
          "position": 2.7441907051282053
         },
         {
          "Bin": 2,
          "clicks": 209,
          "ctr": 0.3572649572649573,
          "impressions": 585,
          "position": 2.034188034188034
         },
         {
          "Bin": 2,
          "clicks": 208,
          "ctr": 0.2363636363636364,
          "impressions": 880,
          "position": 2.995454545454545
         },
         {
          "Bin": 2,
          "clicks": 208,
          "ctr": 0.12121212121212123,
          "impressions": 1716,
          "position": 2.7954545454545454
         },
         {
          "Bin": 2,
          "clicks": 202,
          "ctr": 0.2763337893296854,
          "impressions": 731,
          "position": 2.8331053351573185
         },
         {
          "Bin": 2,
          "clicks": 198,
          "ctr": 0.09806835066864784,
          "impressions": 2019,
          "position": 2.822684497275879
         },
         {
          "Bin": 2,
          "clicks": 186,
          "ctr": 0.03762135922330097,
          "impressions": 4944,
          "position": 2.682443365695793
         },
         {
          "Bin": 2,
          "clicks": 181,
          "ctr": 0.19032597266035756,
          "impressions": 951,
          "position": 2.95478443743428
         },
         {
          "Bin": 2,
          "clicks": 178,
          "ctr": 0.3242258652094718,
          "impressions": 549,
          "position": 2.9398907103825134
         },
         {
          "Bin": 2,
          "clicks": 177,
          "ctr": 0.3443579766536965,
          "impressions": 514,
          "position": 2.3229571984435795
         },
         {
          "Bin": 2,
          "clicks": 176,
          "ctr": 0.1164021164021164,
          "impressions": 1512,
          "position": 2.098544973544973
         },
         {
          "Bin": 2,
          "clicks": 173,
          "ctr": 0.5242424242424243,
          "impressions": 330,
          "position": 2.2212121212121207
         },
         {
          "Bin": 2,
          "clicks": 168,
          "ctr": 0.4732394366197183,
          "impressions": 355,
          "position": 2.36056338028169
         },
         {
          "Bin": 2,
          "clicks": 166,
          "ctr": 0.4345549738219896,
          "impressions": 382,
          "position": 2.1073298429319367
         },
         {
          "Bin": 2,
          "clicks": 165,
          "ctr": 0.3160919540229885,
          "impressions": 522,
          "position": 2.220306513409961
         },
         {
          "Bin": 2,
          "clicks": 164,
          "ctr": 0.4767441860465117,
          "impressions": 344,
          "position": 2.828488372093023
         },
         {
          "Bin": 2,
          "clicks": 161,
          "ctr": 0.7488372093023256,
          "impressions": 215,
          "position": 2.3488372093023253
         },
         {
          "Bin": 2,
          "clicks": 157,
          "ctr": 0.04373259052924791,
          "impressions": 3590,
          "position": 2.402228412256268
         },
         {
          "Bin": 2,
          "clicks": 156,
          "ctr": 0.037311647931116965,
          "impressions": 4181,
          "position": 2.3343697679980866
         },
         {
          "Bin": 2,
          "clicks": 156,
          "ctr": 0.3880597014925373,
          "impressions": 402,
          "position": 2.8980099502487566
         },
         {
          "Bin": 2,
          "clicks": 154,
          "ctr": 0.3384615384615385,
          "impressions": 455,
          "position": 2.221978021978022
         },
         {
          "Bin": 2,
          "clicks": 140,
          "ctr": 0.249554367201426,
          "impressions": 561,
          "position": 2.975044563279857
         },
         {
          "Bin": 2,
          "clicks": 137,
          "ctr": 0.049156799425905985,
          "impressions": 2787,
          "position": 2.5016146393972014
         },
         {
          "Bin": 2,
          "clicks": 135,
          "ctr": 0.3543307086614173,
          "impressions": 381,
          "position": 2.4514435695538057
         },
         {
          "Bin": 2,
          "clicks": 135,
          "ctr": 0.3221957040572792,
          "impressions": 419,
          "position": 2.7875894988066827
         },
         {
          "Bin": 2,
          "clicks": 134,
          "ctr": 0.4768683274021353,
          "impressions": 281,
          "position": 2.245551601423488
         },
         {
          "Bin": 2,
          "clicks": 133,
          "ctr": 0.26814516129032256,
          "impressions": 496,
          "position": 2.026209677419355
         },
         {
          "Bin": 2,
          "clicks": 129,
          "ctr": 0.004365925474667479,
          "impressions": 29547,
          "position": 2.152367414627543
         },
         {
          "Bin": 2,
          "clicks": 126,
          "ctr": 0.2641509433962264,
          "impressions": 477,
          "position": 2.5450733752620547
         },
         {
          "Bin": 2,
          "clicks": 124,
          "ctr": 0.3987138263665595,
          "impressions": 311,
          "position": 2.279742765273312
         },
         {
          "Bin": 2,
          "clicks": 124,
          "ctr": 0.038449612403100776,
          "impressions": 3225,
          "position": 2.1516279069767443
         },
         {
          "Bin": 2,
          "clicks": 124,
          "ctr": 0.3155216284987277,
          "impressions": 393,
          "position": 2.7913486005089054
         },
         {
          "Bin": 2,
          "clicks": 122,
          "ctr": 0.22344322344322345,
          "impressions": 546,
          "position": 2.9249084249084247
         },
         {
          "Bin": 2,
          "clicks": 119,
          "ctr": 0.1800302571860817,
          "impressions": 661,
          "position": 2.9803328290468984
         },
         {
          "Bin": 2,
          "clicks": 118,
          "ctr": 0.19471947194719472,
          "impressions": 606,
          "position": 2.841584158415841
         },
         {
          "Bin": 2,
          "clicks": 117,
          "ctr": 0.052678973435389465,
          "impressions": 2221,
          "position": 2.3102206213417382
         },
         {
          "Bin": 2,
          "clicks": 117,
          "ctr": 0.4624505928853755,
          "impressions": 253,
          "position": 2.292490118577075
         },
         {
          "Bin": 2,
          "clicks": 116,
          "ctr": 0.04489164086687306,
          "impressions": 2584,
          "position": 2.0390866873065017
         },
         {
          "Bin": 2,
          "clicks": 115,
          "ctr": 0.3709677419354839,
          "impressions": 310,
          "position": 2.2096774193548385
         },
         {
          "Bin": 2,
          "clicks": 114,
          "ctr": 0.18874172185430466,
          "impressions": 604,
          "position": 2.0364238410596025
         },
         {
          "Bin": 2,
          "clicks": 111,
          "ctr": 0.5285714285714286,
          "impressions": 210,
          "position": 2.9571428571428573
         },
         {
          "Bin": 2,
          "clicks": 110,
          "ctr": 0.44,
          "impressions": 250,
          "position": 2.468
         },
         {
          "Bin": 2,
          "clicks": 110,
          "ctr": 0.4198473282442748,
          "impressions": 262,
          "position": 2.65267175572519
         },
         {
          "Bin": 2,
          "clicks": 110,
          "ctr": 0.15873015873015872,
          "impressions": 693,
          "position": 2.923520923520924
         },
         {
          "Bin": 2,
          "clicks": 109,
          "ctr": 0.036601746138347886,
          "impressions": 2978,
          "position": 2.4395567494963064
         },
         {
          "Bin": 2,
          "clicks": 109,
          "ctr": 0.6089385474860335,
          "impressions": 179,
          "position": 2.044692737430168
         },
         {
          "Bin": 2,
          "clicks": 108,
          "ctr": 0.4595744680851064,
          "impressions": 235,
          "position": 2.6553191489361705
         },
         {
          "Bin": 2,
          "clicks": 108,
          "ctr": 0.45,
          "impressions": 240,
          "position": 2.425
         },
         {
          "Bin": 2,
          "clicks": 107,
          "ctr": 0.3977695167286245,
          "impressions": 269,
          "position": 2.2304832713754648
         },
         {
          "Bin": 2,
          "clicks": 106,
          "ctr": 0.3693379790940767,
          "impressions": 287,
          "position": 2.7909407665505226
         },
         {
          "Bin": 2,
          "clicks": 106,
          "ctr": 0.3202416918429003,
          "impressions": 331,
          "position": 2.9063444108761334
         },
         {
          "Bin": 2,
          "clicks": 105,
          "ctr": 0.18197573656845756,
          "impressions": 577,
          "position": 2.8890814558058926
         },
         {
          "Bin": 2,
          "clicks": 103,
          "ctr": 0.29178470254957506,
          "impressions": 353,
          "position": 2.951841359773371
         },
         {
          "Bin": 2,
          "clicks": 103,
          "ctr": 0.4007782101167315,
          "impressions": 257,
          "position": 2.6536964980544746
         },
         {
          "Bin": 2,
          "clicks": 103,
          "ctr": 0.4186991869918699,
          "impressions": 246,
          "position": 2.6463414634146343
         },
         {
          "Bin": 2,
          "clicks": 103,
          "ctr": 0.23732718894009214,
          "impressions": 434,
          "position": 2.9447004608294933
         },
         {
          "Bin": 2,
          "clicks": 102,
          "ctr": 0.2440191387559809,
          "impressions": 418,
          "position": 2.1650717703349285
         },
         {
          "Bin": 2,
          "clicks": 102,
          "ctr": 0.4377682403433477,
          "impressions": 233,
          "position": 2.133047210300429
         },
         {
          "Bin": 2,
          "clicks": 101,
          "ctr": 0.060226595110316035,
          "impressions": 1677,
          "position": 2.75968992248062
         },
         {
          "Bin": 2,
          "clicks": 100,
          "ctr": 0.04688232536333802,
          "impressions": 2133,
          "position": 2.191279887482419
         },
         {
          "Bin": 2,
          "clicks": 99,
          "ctr": 0.1542056074766355,
          "impressions": 642,
          "position": 2.451713395638629
         },
         {
          "Bin": 2,
          "clicks": 96,
          "ctr": 0.6808510638297872,
          "impressions": 141,
          "position": 2.0212765957446805
         },
         {
          "Bin": 2,
          "clicks": 95,
          "ctr": 0.2996845425867508,
          "impressions": 317,
          "position": 2.100946372239748
         },
         {
          "Bin": 2,
          "clicks": 95,
          "ctr": 0.5864197530864198,
          "impressions": 162,
          "position": 2.3271604938271606
         },
         {
          "Bin": 2,
          "clicks": 94,
          "ctr": 0.5433526011560693,
          "impressions": 173,
          "position": 2.1502890173410405
         },
         {
          "Bin": 2,
          "clicks": 93,
          "ctr": 0.25271739130434784,
          "impressions": 368,
          "position": 2.891304347826087
         },
         {
          "Bin": 2,
          "clicks": 93,
          "ctr": 0.11938382541720155,
          "impressions": 779,
          "position": 2.920410783055199
         },
         {
          "Bin": 2,
          "clicks": 93,
          "ctr": 0.19456066945606693,
          "impressions": 478,
          "position": 2.696652719665272
         },
         {
          "Bin": 2,
          "clicks": 92,
          "ctr": 0.03691813804173355,
          "impressions": 2492,
          "position": 2.2780898876404496
         },
         {
          "Bin": 2,
          "clicks": 91,
          "ctr": 0.245945945945946,
          "impressions": 370,
          "position": 2.6972972972972973
         },
         {
          "Bin": 2,
          "clicks": 91,
          "ctr": 0.2724550898203593,
          "impressions": 334,
          "position": 2.2005988023952097
         },
         {
          "Bin": 2,
          "clicks": 91,
          "ctr": 0.2964169381107492,
          "impressions": 307,
          "position": 2.283387622149837
         },
         {
          "Bin": 2,
          "clicks": 91,
          "ctr": 0.2898089171974522,
          "impressions": 314,
          "position": 2.4203821656050954
         },
         {
          "Bin": 2,
          "clicks": 88,
          "ctr": 0.002978305750160761,
          "impressions": 29547,
          "position": 2.1524689477781163
         },
         {
          "Bin": 2,
          "clicks": 86,
          "ctr": 0.4526315789473685,
          "impressions": 190,
          "position": 2.268421052631579
         },
         {
          "Bin": 2,
          "clicks": 85,
          "ctr": 0.5120481927710844,
          "impressions": 166,
          "position": 2.5120481927710845
         },
         {
          "Bin": 2,
          "clicks": 84,
          "ctr": 0.20388349514563106,
          "impressions": 412,
          "position": 2.2888349514563107
         },
         {
          "Bin": 2,
          "clicks": 84,
          "ctr": 0.20947630922693267,
          "impressions": 401,
          "position": 2.5910224438902745
         },
         {
          "Bin": 2,
          "clicks": 84,
          "ctr": 0.13228346456692913,
          "impressions": 635,
          "position": 2.6283464566929133
         },
         {
          "Bin": 2,
          "clicks": 84,
          "ctr": 0.029957203994293864,
          "impressions": 2804,
          "position": 2.491440798858773
         },
         {
          "Bin": 2,
          "clicks": 83,
          "ctr": 0.4345549738219896,
          "impressions": 191,
          "position": 2.8743455497382198
         },
         {
          "Bin": 2,
          "clicks": 82,
          "ctr": 0.4581005586592179,
          "impressions": 179,
          "position": 2.100558659217877
         },
         {
          "Bin": 2,
          "clicks": 82,
          "ctr": 0.5394736842105263,
          "impressions": 152,
          "position": 2.375
         },
         {
          "Bin": 2,
          "clicks": 81,
          "ctr": 0.17016806722689076,
          "impressions": 476,
          "position": 2.7857142857142856
         },
         {
          "Bin": 2,
          "clicks": 80,
          "ctr": 0.4166666666666667,
          "impressions": 192,
          "position": 2.130208333333333
         },
         {
          "Bin": 2,
          "clicks": 79,
          "ctr": 0.4072164948453608,
          "impressions": 194,
          "position": 2.2577319587628866
         },
         {
          "Bin": 2,
          "clicks": 79,
          "ctr": 0.3038461538461538,
          "impressions": 260,
          "position": 2.2076923076923083
         },
         {
          "Bin": 2,
          "clicks": 78,
          "ctr": 0.3107569721115538,
          "impressions": 251,
          "position": 2.3784860557768925
         },
         {
          "Bin": 2,
          "clicks": 78,
          "ctr": 0.34210526315789475,
          "impressions": 228,
          "position": 2.8070175438596485
         },
         {
          "Bin": 2,
          "clicks": 77,
          "ctr": 0.2972972972972973,
          "impressions": 259,
          "position": 2.0849420849420848
         },
         {
          "Bin": 2,
          "clicks": 77,
          "ctr": 0.4723926380368098,
          "impressions": 163,
          "position": 2.0674846625766867
         },
         {
          "Bin": 2,
          "clicks": 77,
          "ctr": 0.5833333333333334,
          "impressions": 132,
          "position": 2.25
         },
         {
          "Bin": 2,
          "clicks": 77,
          "ctr": 0.22318840579710145,
          "impressions": 345,
          "position": 2.8231884057971017
         },
         {
          "Bin": 2,
          "clicks": 77,
          "ctr": 0.4350282485875706,
          "impressions": 177,
          "position": 2.0112994350282483
         },
         {
          "Bin": 2,
          "clicks": 77,
          "ctr": 0.3392070484581498,
          "impressions": 227,
          "position": 2.8986784140969157
         },
         {
          "Bin": 2,
          "clicks": 76,
          "ctr": 0.15734989648033126,
          "impressions": 483,
          "position": 2.761904761904762
         },
         {
          "Bin": 2,
          "clicks": 76,
          "ctr": 0.25675675675675674,
          "impressions": 296,
          "position": 2.47972972972973
         },
         {
          "Bin": 2,
          "clicks": 76,
          "ctr": 0.2794117647058824,
          "impressions": 272,
          "position": 2.3198529411764706
         },
         {
          "Bin": 2,
          "clicks": 76,
          "ctr": 0.28044280442804426,
          "impressions": 271,
          "position": 2.1439114391143907
         },
         {
          "Bin": 2,
          "clicks": 76,
          "ctr": 0.02520729684908789,
          "impressions": 3015,
          "position": 2.6361525704809288
         },
         {
          "Bin": 2,
          "clicks": 76,
          "ctr": 0.3958333333333333,
          "impressions": 192,
          "position": 2.046875
         },
         {
          "Bin": 2,
          "clicks": 75,
          "ctr": 0.5725190839694656,
          "impressions": 131,
          "position": 2.381679389312977
         },
         {
          "Bin": 2,
          "clicks": 75,
          "ctr": 0.6880733944954128,
          "impressions": 109,
          "position": 2.0458715596330275
         },
         {
          "Bin": 2,
          "clicks": 74,
          "ctr": 0.4404761904761905,
          "impressions": 168,
          "position": 2.6845238095238093
         },
         {
          "Bin": 2,
          "clicks": 74,
          "ctr": 0.3045267489711934,
          "impressions": 243,
          "position": 2.835390946502057
         },
         {
          "Bin": 2,
          "clicks": 74,
          "ctr": 0.20670391061452514,
          "impressions": 358,
          "position": 2.3072625698324023
         },
         {
          "Bin": 2,
          "clicks": 74,
          "ctr": 0.4683544303797468,
          "impressions": 158,
          "position": 2.088607594936709
         },
         {
          "Bin": 2,
          "clicks": 73,
          "ctr": 0.14512922465208747,
          "impressions": 503,
          "position": 2.137176938369781
         },
         {
          "Bin": 2,
          "clicks": 71,
          "ctr": 0.5298507462686567,
          "impressions": 134,
          "position": 2.992537313432836
         },
         {
          "Bin": 2,
          "clicks": 71,
          "ctr": 0.14947368421052631,
          "impressions": 475,
          "position": 2.448421052631579
         },
         {
          "Bin": 2,
          "clicks": 71,
          "ctr": 0.2022792022792023,
          "impressions": 351,
          "position": 2.712250712250712
         },
         {
          "Bin": 2,
          "clicks": 70,
          "ctr": 0.3125,
          "impressions": 224,
          "position": 2.821428571428571
         },
         {
          "Bin": 2,
          "clicks": 70,
          "ctr": 0.3867403314917127,
          "impressions": 181,
          "position": 2.3093922651933703
         },
         {
          "Bin": 2,
          "clicks": 69,
          "ctr": 0.3538461538461539,
          "impressions": 195,
          "position": 2.2974358974358973
         },
         {
          "Bin": 2,
          "clicks": 68,
          "ctr": 0.19825072886297376,
          "impressions": 343,
          "position": 2.24198250728863
         },
         {
          "Bin": 2,
          "clicks": 68,
          "ctr": 0.021594156875198483,
          "impressions": 3149,
          "position": 2.538901238488409
         },
         {
          "Bin": 2,
          "clicks": 68,
          "ctr": 0.4625850340136055,
          "impressions": 147,
          "position": 2.020408163265306
         },
         {
          "Bin": 2,
          "clicks": 68,
          "ctr": 0.12903225806451613,
          "impressions": 527,
          "position": 2.5882352941176467
         },
         {
          "Bin": 2,
          "clicks": 66,
          "ctr": 0.033656297807241206,
          "impressions": 1961,
          "position": 2.103518612952575
         },
         {
          "Bin": 2,
          "clicks": 65,
          "ctr": 0.03364389233954451,
          "impressions": 1932,
          "position": 2.9213250517598337
         },
         {
          "Bin": 2,
          "clicks": 64,
          "ctr": 0.5203252032520326,
          "impressions": 123,
          "position": 2.341463414634146
         },
         {
          "Bin": 2,
          "clicks": 64,
          "ctr": 0.3855421686746988,
          "impressions": 166,
          "position": 2.427710843373494
         },
         {
          "Bin": 2,
          "clicks": 63,
          "ctr": 0.3,
          "impressions": 210,
          "position": 2.0428571428571427
         },
         {
          "Bin": 2,
          "clicks": 63,
          "ctr": 0.20655737704918034,
          "impressions": 305,
          "position": 2.3114754098360653
         },
         {
          "Bin": 2,
          "clicks": 63,
          "ctr": 0.5478260869565217,
          "impressions": 115,
          "position": 2.4260869565217393
         },
         {
          "Bin": 2,
          "clicks": 63,
          "ctr": 0.06752411575562701,
          "impressions": 933,
          "position": 2.7084673097534835
         },
         {
          "Bin": 2,
          "clicks": 62,
          "ctr": 0.3647058823529412,
          "impressions": 170,
          "position": 2.0176470588235293
         },
         {
          "Bin": 2,
          "clicks": 62,
          "ctr": 0.3425414364640884,
          "impressions": 181,
          "position": 2.9613259668508287
         },
         {
          "Bin": 2,
          "clicks": 61,
          "ctr": 0.25102880658436216,
          "impressions": 243,
          "position": 2.3456790123456788
         },
         {
          "Bin": 2,
          "clicks": 61,
          "ctr": 0.5126050420168067,
          "impressions": 119,
          "position": 2.4117647058823533
         },
         {
          "Bin": 2,
          "clicks": 61,
          "ctr": 0.12007874015748032,
          "impressions": 508,
          "position": 2.236220472440945
         },
         {
          "Bin": 2,
          "clicks": 61,
          "ctr": 0.2267657992565056,
          "impressions": 269,
          "position": 2.8141263940520447
         },
         {
          "Bin": 2,
          "clicks": 61,
          "ctr": 0.02245123297754877,
          "impressions": 2717,
          "position": 2.9543614280456385
         },
         {
          "Bin": 2,
          "clicks": 61,
          "ctr": 0.5495495495495496,
          "impressions": 111,
          "position": 2.0270270270270268
         },
         {
          "Bin": 2,
          "clicks": 61,
          "ctr": 0.19242902208201887,
          "impressions": 317,
          "position": 2.2618296529968456
         },
         {
          "Bin": 2,
          "clicks": 61,
          "ctr": 0.5495495495495496,
          "impressions": 111,
          "position": 2.756756756756757
         },
         {
          "Bin": 2,
          "clicks": 60,
          "ctr": 0.5084745762711864,
          "impressions": 118,
          "position": 2.1864406779661016
         },
         {
          "Bin": 2,
          "clicks": 60,
          "ctr": 0.3296703296703297,
          "impressions": 182,
          "position": 2.021978021978022
         },
         {
          "Bin": 2,
          "clicks": 60,
          "ctr": 0.594059405940594,
          "impressions": 101,
          "position": 2.504950495049505
         },
         {
          "Bin": 2,
          "clicks": 59,
          "ctr": 0.34502923976608185,
          "impressions": 171,
          "position": 2.982456140350877
         },
         {
          "Bin": 2,
          "clicks": 59,
          "ctr": 0.21851851851851853,
          "impressions": 270,
          "position": 2.7703703703703706
         },
         {
          "Bin": 2,
          "clicks": 59,
          "ctr": 0.329608938547486,
          "impressions": 179,
          "position": 2.88268156424581
         },
         {
          "Bin": 2,
          "clicks": 59,
          "ctr": 0.5412844036697247,
          "impressions": 109,
          "position": 2.5504587155963305
         },
         {
          "Bin": 2,
          "clicks": 58,
          "ctr": 0.09797297297297296,
          "impressions": 592,
          "position": 2.2179054054054053
         },
         {
          "Bin": 2,
          "clicks": 58,
          "ctr": 0.1039426523297491,
          "impressions": 558,
          "position": 2.666666666666667
         },
         {
          "Bin": 2,
          "clicks": 58,
          "ctr": 0.3717948717948718,
          "impressions": 156,
          "position": 2.269230769230769
         },
         {
          "Bin": 2,
          "clicks": 58,
          "ctr": 0.4142857142857143,
          "impressions": 140,
          "position": 2.6785714285714293
         },
         {
          "Bin": 2,
          "clicks": 58,
          "ctr": 0.16909620991253646,
          "impressions": 343,
          "position": 2.737609329446064
         },
         {
          "Bin": 2,
          "clicks": 57,
          "ctr": 0.36774193548387096,
          "impressions": 155,
          "position": 2.5290322580645164
         },
         {
          "Bin": 2,
          "clicks": 57,
          "ctr": 0.3081081081081081,
          "impressions": 185,
          "position": 2.3567567567567567
         },
         {
          "Bin": 2,
          "clicks": 56,
          "ctr": 0.2962962962962963,
          "impressions": 189,
          "position": 2.433862433862434
         },
         {
          "Bin": 2,
          "clicks": 56,
          "ctr": 0.3862068965517241,
          "impressions": 145,
          "position": 2.6344827586206896
         },
         {
          "Bin": 2,
          "clicks": 54,
          "ctr": 0.2583732057416268,
          "impressions": 209,
          "position": 2.8229665071770333
         },
         {
          "Bin": 2,
          "clicks": 53,
          "ctr": 0.4732142857142857,
          "impressions": 112,
          "position": 2.8303571428571432
         },
         {
          "Bin": 2,
          "clicks": 53,
          "ctr": 0.3192771084337349,
          "impressions": 166,
          "position": 2.0783132530120483
         },
         {
          "Bin": 2,
          "clicks": 53,
          "ctr": 0.07957957957957958,
          "impressions": 666,
          "position": 2.927927927927928
         },
         {
          "Bin": 2,
          "clicks": 52,
          "ctr": 0.13612565445026178,
          "impressions": 382,
          "position": 2.8769633507853403
         },
         {
          "Bin": 2,
          "clicks": 52,
          "ctr": 0.5048543689320388,
          "impressions": 103,
          "position": 2.8058252427184467
         },
         {
          "Bin": 2,
          "clicks": 52,
          "ctr": 0.21052631578947367,
          "impressions": 247,
          "position": 2.9676113360323884
         },
         {
          "Bin": 2,
          "clicks": 52,
          "ctr": 0.04297520661157025,
          "impressions": 1210,
          "position": 2.5892561983471074
         },
         {
          "Bin": 2,
          "clicks": 52,
          "ctr": 0.4,
          "impressions": 130,
          "position": 2.2461538461538457
         },
         {
          "Bin": 2,
          "clicks": 51,
          "ctr": 0.3017751479289941,
          "impressions": 169,
          "position": 2.8106508875739644
         },
         {
          "Bin": 2,
          "clicks": 51,
          "ctr": 0.37777777777777777,
          "impressions": 135,
          "position": 2.1185185185185187
         },
         {
          "Bin": 2,
          "clicks": 51,
          "ctr": 0.10944206008583693,
          "impressions": 466,
          "position": 2.8476394849785414
         },
         {
          "Bin": 2,
          "clicks": 50,
          "ctr": 0.2262443438914027,
          "impressions": 221,
          "position": 2.995475113122172
         },
         {
          "Bin": 2,
          "clicks": 49,
          "ctr": 0.26063829787234044,
          "impressions": 188,
          "position": 2.042553191489362
         },
         {
          "Bin": 2,
          "clicks": 49,
          "ctr": 0.11395348837209306,
          "impressions": 430,
          "position": 2.6488372093023256
         },
         {
          "Bin": 2,
          "clicks": 48,
          "ctr": 0.08839779005524863,
          "impressions": 543,
          "position": 2.05340699815838
         },
         {
          "Bin": 2,
          "clicks": 48,
          "ctr": 0.4705882352941176,
          "impressions": 102,
          "position": 2.284313725490196
         },
         {
          "Bin": 2,
          "clicks": 48,
          "ctr": 0.1959183673469388,
          "impressions": 245,
          "position": 2.9428571428571435
         },
         {
          "Bin": 2,
          "clicks": 47,
          "ctr": 0.027230590961761298,
          "impressions": 1726,
          "position": 2.044611819235226
         },
         {
          "Bin": 2,
          "clicks": 47,
          "ctr": 0.1010752688172043,
          "impressions": 465,
          "position": 2.6688172043010754
         },
         {
          "Bin": 2,
          "clicks": 47,
          "ctr": 0.16376306620209058,
          "impressions": 287,
          "position": 2.7909407665505226
         },
         {
          "Bin": 2,
          "clicks": 47,
          "ctr": 0.34057971014492755,
          "impressions": 138,
          "position": 2.181159420289855
         },
         {
          "Bin": 2,
          "clicks": 47,
          "ctr": 0.0865561694290976,
          "impressions": 543,
          "position": 2.720073664825046
         },
         {
          "Bin": 2,
          "clicks": 47,
          "ctr": 0.20434782608695654,
          "impressions": 230,
          "position": 2.356521739130435
         },
         {
          "Bin": 2,
          "clicks": 47,
          "ctr": 0.2764705882352941,
          "impressions": 170,
          "position": 2.494117647058824
         },
         {
          "Bin": 2,
          "clicks": 46,
          "ctr": 0.10952380952380952,
          "impressions": 420,
          "position": 2.307142857142857
         },
         {
          "Bin": 2,
          "clicks": 45,
          "ctr": 0.2631578947368421,
          "impressions": 171,
          "position": 2.064327485380117
         },
         {
          "Bin": 2,
          "clicks": 45,
          "ctr": 0.3435114503816794,
          "impressions": 131,
          "position": 2.4961832061068705
         },
         {
          "Bin": 2,
          "clicks": 45,
          "ctr": 0.021728633510381457,
          "impressions": 2071,
          "position": 2.4466441332689524
         },
         {
          "Bin": 2,
          "clicks": 44,
          "ctr": 0.07357859531772576,
          "impressions": 598,
          "position": 2.1254180602006687
         },
         {
          "Bin": 2,
          "clicks": 44,
          "ctr": 0.2933333333333333,
          "impressions": 150,
          "position": 2.24
         },
         {
          "Bin": 2,
          "clicks": 43,
          "ctr": 0.3706896551724138,
          "impressions": 116,
          "position": 2.9741379310344827
         },
         {
          "Bin": 2,
          "clicks": 43,
          "ctr": 0.21182266009852216,
          "impressions": 203,
          "position": 2.6157635467980294
         },
         {
          "Bin": 2,
          "clicks": 43,
          "ctr": 0.041626331074540175,
          "impressions": 1033,
          "position": 2.037754114230397
         },
         {
          "Bin": 2,
          "clicks": 43,
          "ctr": 0.0012988189808801765,
          "impressions": 33107,
          "position": 2.9973117467605035
         },
         {
          "Bin": 2,
          "clicks": 43,
          "ctr": 0.05341614906832298,
          "impressions": 805,
          "position": 2.987577639751553
         },
         {
          "Bin": 2,
          "clicks": 43,
          "ctr": 0.4257425742574257,
          "impressions": 101,
          "position": 2.6732673267326734
         },
         {
          "Bin": 2,
          "clicks": 41,
          "ctr": 0.08742004264392324,
          "impressions": 469,
          "position": 2.7100213219616203
         },
         {
          "Bin": 2,
          "clicks": 40,
          "ctr": 0.37383177570093457,
          "impressions": 107,
          "position": 2.2149532710280373
         },
         {
          "Bin": 2,
          "clicks": 40,
          "ctr": 0.21505376344086025,
          "impressions": 186,
          "position": 2.247311827956989
         },
         {
          "Bin": 2,
          "clicks": 40,
          "ctr": 0.19801980198019806,
          "impressions": 202,
          "position": 2.1782178217821784
         },
         {
          "Bin": 2,
          "clicks": 39,
          "ctr": 0.2215909090909091,
          "impressions": 176,
          "position": 2.5170454545454546
         },
         {
          "Bin": 2,
          "clicks": 39,
          "ctr": 0.375,
          "impressions": 104,
          "position": 2.105769230769231
         },
         {
          "Bin": 2,
          "clicks": 38,
          "ctr": 0.3114754098360656,
          "impressions": 122,
          "position": 2.9262295081967213
         },
         {
          "Bin": 2,
          "clicks": 37,
          "ctr": 0.3557692307692308,
          "impressions": 104,
          "position": 2.3653846153846154
         },
         {
          "Bin": 2,
          "clicks": 37,
          "ctr": 0.04143337066069429,
          "impressions": 893,
          "position": 2.9977603583426653
         },
         {
          "Bin": 2,
          "clicks": 36,
          "ctr": 0.3333333333333333,
          "impressions": 108,
          "position": 2.5462962962962963
         },
         {
          "Bin": 2,
          "clicks": 36,
          "ctr": 0.0207492795389049,
          "impressions": 1735,
          "position": 2.9371757925072046
         },
         {
          "Bin": 2,
          "clicks": 36,
          "ctr": 0.06923076923076922,
          "impressions": 520,
          "position": 2.907692307692308
         },
         {
          "Bin": 2,
          "clicks": 35,
          "ctr": 0.02003434459072696,
          "impressions": 1747,
          "position": 2.109902690326273
         },
         {
          "Bin": 2,
          "clicks": 35,
          "ctr": 0.03954802259887006,
          "impressions": 885,
          "position": 2.135593220338983
         },
         {
          "Bin": 2,
          "clicks": 35,
          "ctr": 0.2364864864864865,
          "impressions": 148,
          "position": 2.3108108108108105
         },
         {
          "Bin": 2,
          "clicks": 35,
          "ctr": 0.3181818181818182,
          "impressions": 110,
          "position": 2.1
         },
         {
          "Bin": 2,
          "clicks": 34,
          "ctr": 0.1452991452991453,
          "impressions": 234,
          "position": 2.8974358974358974
         },
         {
          "Bin": 2,
          "clicks": 34,
          "ctr": 0.022193211488250653,
          "impressions": 1532,
          "position": 2.8642297650130546
         },
         {
          "Bin": 2,
          "clicks": 34,
          "ctr": 0.24817518248175185,
          "impressions": 137,
          "position": 2.554744525547445
         },
         {
          "Bin": 2,
          "clicks": 34,
          "ctr": 0.013276064037485356,
          "impressions": 2561,
          "position": 2.5349472862163216
         },
         {
          "Bin": 2,
          "clicks": 34,
          "ctr": 0.0011507090398348394,
          "impressions": 29547,
          "position": 2.1524689477781163
         },
         {
          "Bin": 2,
          "clicks": 33,
          "ctr": 0.09428571428571428,
          "impressions": 350,
          "position": 2.7457142857142856
         },
         {
          "Bin": 2,
          "clicks": 33,
          "ctr": 0.06903765690376569,
          "impressions": 478,
          "position": 2.1276150627615062
         },
         {
          "Bin": 2,
          "clicks": 33,
          "ctr": 0.125,
          "impressions": 264,
          "position": 2.7727272727272725
         },
         {
          "Bin": 2,
          "clicks": 33,
          "ctr": 0.2307692307692308,
          "impressions": 143,
          "position": 2.867132867132867
         },
         {
          "Bin": 2,
          "clicks": 33,
          "ctr": 0.19186046511627908,
          "impressions": 172,
          "position": 2.6395348837209305
         },
         {
          "Bin": 2,
          "clicks": 33,
          "ctr": 0.32038834951456313,
          "impressions": 103,
          "position": 2.5728155339805827
         },
         {
          "Bin": 2,
          "clicks": 32,
          "ctr": 0.03902439024390244,
          "impressions": 820,
          "position": 2.201219512195122
         },
         {
          "Bin": 2,
          "clicks": 31,
          "ctr": 0.035632183908045977,
          "impressions": 870,
          "position": 2.586206896551724
         },
         {
          "Bin": 2,
          "clicks": 31,
          "ctr": 0.246031746031746,
          "impressions": 126,
          "position": 2.087301587301587
         },
         {
          "Bin": 2,
          "clicks": 30,
          "ctr": 0.12875536480686695,
          "impressions": 233,
          "position": 2.5193133047210297
         },
         {
          "Bin": 2,
          "clicks": 30,
          "ctr": 0.2158273381294964,
          "impressions": 139,
          "position": 2.3812949640287773
         },
         {
          "Bin": 2,
          "clicks": 30,
          "ctr": 0.26548672566371684,
          "impressions": 113,
          "position": 2.601769911504425
         },
         {
          "Bin": 2,
          "clicks": 29,
          "ctr": 0.18238993710691825,
          "impressions": 159,
          "position": 2.9371069182389937
         },
         {
          "Bin": 2,
          "clicks": 29,
          "ctr": 0.2735849056603773,
          "impressions": 106,
          "position": 2.320754716981132
         },
         {
          "Bin": 2,
          "clicks": 28,
          "ctr": 0.18421052631578946,
          "impressions": 152,
          "position": 2.6578947368421053
         },
         {
          "Bin": 2,
          "clicks": 28,
          "ctr": 0.25225225225225223,
          "impressions": 111,
          "position": 2.918918918918919
         },
         {
          "Bin": 2,
          "clicks": 28,
          "ctr": 0.2413793103448276,
          "impressions": 116,
          "position": 2.7931034482758617
         },
         {
          "Bin": 2,
          "clicks": 27,
          "ctr": 0.25961538461538464,
          "impressions": 104,
          "position": 2.8461538461538463
         },
         {
          "Bin": 2,
          "clicks": 27,
          "ctr": 0.11637931034482757,
          "impressions": 232,
          "position": 2.5258620689655173
         },
         {
          "Bin": 2,
          "clicks": 26,
          "ctr": 0.08724832214765099,
          "impressions": 298,
          "position": 2.25503355704698
         },
         {
          "Bin": 2,
          "clicks": 26,
          "ctr": 0.12560386473429952,
          "impressions": 207,
          "position": 2.42512077294686
         },
         {
          "Bin": 2,
          "clicks": 26,
          "ctr": 0.0654911838790932,
          "impressions": 397,
          "position": 2.3400503778337534
         },
         {
          "Bin": 2,
          "clicks": 25,
          "ctr": 0.12953367875647667,
          "impressions": 193,
          "position": 2.8652849740932638
         },
         {
          "Bin": 2,
          "clicks": 25,
          "ctr": 0.011096316023080338,
          "impressions": 2253,
          "position": 2.7265867731913005
         },
         {
          "Bin": 2,
          "clicks": 25,
          "ctr": 0.2427184466019417,
          "impressions": 103,
          "position": 2.41747572815534
         },
         {
          "Bin": 3,
          "clicks": 7548,
          "ctr": 0.20913801224682052,
          "impressions": 36091,
          "position": 3.4640769166828296
         },
         {
          "Bin": 3,
          "clicks": 5690,
          "ctr": 0.11191534558042564,
          "impressions": 50842,
          "position": 3.1785138271507813
         },
         {
          "Bin": 3,
          "clicks": 4279,
          "ctr": 0.16155094952240726,
          "impressions": 26487,
          "position": 3.124136368784687
         },
         {
          "Bin": 3,
          "clicks": 3649,
          "ctr": 0.23570828757832185,
          "impressions": 15481,
          "position": 3.813836315483496
         },
         {
          "Bin": 3,
          "clicks": 3399,
          "ctr": 0.2390127276562829,
          "impressions": 14221,
          "position": 3.6575486955910272
         },
         {
          "Bin": 3,
          "clicks": 1161,
          "ctr": 0.16545532278751604,
          "impressions": 7017,
          "position": 3.0380504489097904
         },
         {
          "Bin": 3,
          "clicks": 1126,
          "ctr": 0.08067636311528266,
          "impressions": 13957,
          "position": 3.1154259511356313
         },
         {
          "Bin": 3,
          "clicks": 421,
          "ctr": 0.06710232706407396,
          "impressions": 6274,
          "position": 3.5204016576346833
         },
         {
          "Bin": 3,
          "clicks": 398,
          "ctr": 0.3355817875210793,
          "impressions": 1186,
          "position": 3.3617200674536263
         },
         {
          "Bin": 3,
          "clicks": 387,
          "ctr": 0.17269076305220885,
          "impressions": 2241,
          "position": 3.209727800089246
         },
         {
          "Bin": 3,
          "clicks": 360,
          "ctr": 0.09685230024213076,
          "impressions": 3717,
          "position": 3.2429378531073447
         },
         {
          "Bin": 3,
          "clicks": 349,
          "ctr": 0.09032091097308488,
          "impressions": 3864,
          "position": 3.128623188405797
         },
         {
          "Bin": 3,
          "clicks": 320,
          "ctr": 0.21447721179624665,
          "impressions": 1492,
          "position": 3.051608579088472
         },
         {
          "Bin": 3,
          "clicks": 317,
          "ctr": 0.01819747416762342,
          "impressions": 17420,
          "position": 3.7392652123995407
         },
         {
          "Bin": 3,
          "clicks": 311,
          "ctr": 0.36761229314420796,
          "impressions": 846,
          "position": 3.0224586288416075
         },
         {
          "Bin": 3,
          "clicks": 304,
          "ctr": 0.08624113475177304,
          "impressions": 3525,
          "position": 3.735035460992908
         },
         {
          "Bin": 3,
          "clicks": 297,
          "ctr": 0.11194873727855258,
          "impressions": 2653,
          "position": 3.92687523558236
         },
         {
          "Bin": 3,
          "clicks": 283,
          "ctr": 0.13205786280914605,
          "impressions": 2143,
          "position": 3.321978534764349
         },
         {
          "Bin": 3,
          "clicks": 281,
          "ctr": 0.25545454545454543,
          "impressions": 1100,
          "position": 3.585454545454545
         },
         {
          "Bin": 3,
          "clicks": 249,
          "ctr": 0.04117744336034397,
          "impressions": 6047,
          "position": 3.2779890854969405
         },
         {
          "Bin": 3,
          "clicks": 241,
          "ctr": 0.047153198982586575,
          "impressions": 5111,
          "position": 3.62238309528468
         },
         {
          "Bin": 3,
          "clicks": 238,
          "ctr": 0.2556390977443609,
          "impressions": 931,
          "position": 3.2406015037593985
         },
         {
          "Bin": 3,
          "clicks": 238,
          "ctr": 0.09949832775919733,
          "impressions": 2392,
          "position": 3.1224916387959865
         },
         {
          "Bin": 3,
          "clicks": 229,
          "ctr": 0.1827613727055068,
          "impressions": 1253,
          "position": 3.597765363128492
         },
         {
          "Bin": 3,
          "clicks": 221,
          "ctr": 0.3646864686468647,
          "impressions": 606,
          "position": 3.0907590759075907
         },
         {
          "Bin": 3,
          "clicks": 216,
          "ctr": 0.03474903474903475,
          "impressions": 6216,
          "position": 3.2572393822393817
         },
         {
          "Bin": 3,
          "clicks": 206,
          "ctr": 0.0615476546160741,
          "impressions": 3347,
          "position": 3.8843740663280553
         },
         {
          "Bin": 3,
          "clicks": 200,
          "ctr": 0.2638522427440633,
          "impressions": 758,
          "position": 3.398416886543536
         },
         {
          "Bin": 3,
          "clicks": 199,
          "ctr": 0.08076298701298701,
          "impressions": 2464,
          "position": 3.166801948051948
         },
         {
          "Bin": 3,
          "clicks": 196,
          "ctr": 0.2135076252723312,
          "impressions": 918,
          "position": 3.351851851851852
         },
         {
          "Bin": 3,
          "clicks": 191,
          "ctr": 0.4125269978401728,
          "impressions": 463,
          "position": 3.2937365010799136
         },
         {
          "Bin": 3,
          "clicks": 186,
          "ctr": 0.11425061425061425,
          "impressions": 1628,
          "position": 3.82985257985258
         },
         {
          "Bin": 3,
          "clicks": 173,
          "ctr": 0.12339514978601995,
          "impressions": 1402,
          "position": 3.4422253922967188
         },
         {
          "Bin": 3,
          "clicks": 169,
          "ctr": 0.04409079050352205,
          "impressions": 3833,
          "position": 3.9639968692929823
         },
         {
          "Bin": 3,
          "clicks": 158,
          "ctr": 0.2867513611615245,
          "impressions": 551,
          "position": 3.8620689655172415
         },
         {
          "Bin": 3,
          "clicks": 156,
          "ctr": 0.3553530751708428,
          "impressions": 439,
          "position": 3.277904328018223
         },
         {
          "Bin": 3,
          "clicks": 156,
          "ctr": 0.0325678496868476,
          "impressions": 4790,
          "position": 3.64321503131524
         },
         {
          "Bin": 3,
          "clicks": 156,
          "ctr": 0.13220338983050847,
          "impressions": 1180,
          "position": 3.6915254237288138
         },
         {
          "Bin": 3,
          "clicks": 155,
          "ctr": 0.10580204778156996,
          "impressions": 1465,
          "position": 3.95358361774744
         },
         {
          "Bin": 3,
          "clicks": 142,
          "ctr": 0.11668036154478224,
          "impressions": 1217,
          "position": 3.1758422350041084
         },
         {
          "Bin": 3,
          "clicks": 141,
          "ctr": 0.11662531017369727,
          "impressions": 1209,
          "position": 3.832092638544252
         },
         {
          "Bin": 3,
          "clicks": 137,
          "ctr": 0.1721105527638191,
          "impressions": 796,
          "position": 3.5841708542713566
         },
         {
          "Bin": 3,
          "clicks": 136,
          "ctr": 0.056384742951907124,
          "impressions": 2412,
          "position": 3.511608623548922
         },
         {
          "Bin": 3,
          "clicks": 133,
          "ctr": 0.18811881188118806,
          "impressions": 707,
          "position": 3.1188118811881185
         },
         {
          "Bin": 3,
          "clicks": 133,
          "ctr": 0.2427007299270073,
          "impressions": 548,
          "position": 3.5875912408759123
         },
         {
          "Bin": 3,
          "clicks": 131,
          "ctr": 0.05125195618153365,
          "impressions": 2556,
          "position": 3.536776212832551
         },
         {
          "Bin": 3,
          "clicks": 128,
          "ctr": 0.2949308755760369,
          "impressions": 434,
          "position": 3.9539170506912433
         },
         {
          "Bin": 3,
          "clicks": 126,
          "ctr": 0.12268743914313535,
          "impressions": 1027,
          "position": 3.8412852969815
         },
         {
          "Bin": 3,
          "clicks": 122,
          "ctr": 0.057984790874524725,
          "impressions": 2104,
          "position": 3.2309885931558937
         },
         {
          "Bin": 3,
          "clicks": 121,
          "ctr": 0.08236895847515316,
          "impressions": 1469,
          "position": 3.578624914908101
         },
         {
          "Bin": 3,
          "clicks": 119,
          "ctr": 0.035554227666567066,
          "impressions": 3347,
          "position": 3.2811472960860466
         },
         {
          "Bin": 3,
          "clicks": 114,
          "ctr": 0.34545454545454546,
          "impressions": 330,
          "position": 3.463636363636364
         },
         {
          "Bin": 3,
          "clicks": 114,
          "ctr": 0.06138933764135704,
          "impressions": 1857,
          "position": 3.1141626278944536
         },
         {
          "Bin": 3,
          "clicks": 114,
          "ctr": 0.1884297520661157,
          "impressions": 605,
          "position": 3.1983471074380163
         },
         {
          "Bin": 3,
          "clicks": 108,
          "ctr": 0.19014084507042253,
          "impressions": 568,
          "position": 3.125
         },
         {
          "Bin": 3,
          "clicks": 106,
          "ctr": 0.3192771084337349,
          "impressions": 332,
          "position": 3.9246987951807233
         },
         {
          "Bin": 3,
          "clicks": 105,
          "ctr": 0.21875,
          "impressions": 480,
          "position": 3.38125
         },
         {
          "Bin": 3,
          "clicks": 105,
          "ctr": 0.03754022166607079,
          "impressions": 2797,
          "position": 3.5698963174830176
         },
         {
          "Bin": 3,
          "clicks": 103,
          "ctr": 0.1418732782369146,
          "impressions": 726,
          "position": 3.475206611570248
         },
         {
          "Bin": 3,
          "clicks": 103,
          "ctr": 0.02636293831584336,
          "impressions": 3907,
          "position": 3.6398771435884307
         },
         {
          "Bin": 3,
          "clicks": 102,
          "ctr": 0.3063063063063063,
          "impressions": 333,
          "position": 3.3213213213213213
         },
         {
          "Bin": 3,
          "clicks": 101,
          "ctr": 0.28450704225352114,
          "impressions": 355,
          "position": 3.4985915492957744
         },
         {
          "Bin": 3,
          "clicks": 99,
          "ctr": 0.3694029850746269,
          "impressions": 268,
          "position": 3.899253731343284
         },
         {
          "Bin": 3,
          "clicks": 97,
          "ctr": 0.2747875354107649,
          "impressions": 353,
          "position": 3.5155807365439093
         },
         {
          "Bin": 3,
          "clicks": 94,
          "ctr": 0.04307974335472044,
          "impressions": 2182,
          "position": 3.449587534372136
         },
         {
          "Bin": 3,
          "clicks": 93,
          "ctr": 0.07795473595976529,
          "impressions": 1193,
          "position": 3.0838222967309306
         },
         {
          "Bin": 3,
          "clicks": 93,
          "ctr": 0.12722298221614228,
          "impressions": 731,
          "position": 3.2845417236662113
         },
         {
          "Bin": 3,
          "clicks": 92,
          "ctr": 0.2266009852216749,
          "impressions": 406,
          "position": 3.5394088669950734
         },
         {
          "Bin": 3,
          "clicks": 89,
          "ctr": 0.24383561643835616,
          "impressions": 365,
          "position": 3.202739726027397
         },
         {
          "Bin": 3,
          "clicks": 86,
          "ctr": 0.4095238095238095,
          "impressions": 210,
          "position": 3.509523809523809
         },
         {
          "Bin": 3,
          "clicks": 86,
          "ctr": 0.2182741116751269,
          "impressions": 394,
          "position": 3.172588832487309
         },
         {
          "Bin": 3,
          "clicks": 85,
          "ctr": 0.09004237288135593,
          "impressions": 944,
          "position": 3.233050847457627
         },
         {
          "Bin": 3,
          "clicks": 84,
          "ctr": 0.3373493975903614,
          "impressions": 249,
          "position": 3.3694779116465865
         },
         {
          "Bin": 3,
          "clicks": 80,
          "ctr": 0.05843681519357195,
          "impressions": 1369,
          "position": 3.406135865595325
         },
         {
          "Bin": 3,
          "clicks": 80,
          "ctr": 0.0400200100050025,
          "impressions": 1999,
          "position": 3.165082541270636
         },
         {
          "Bin": 3,
          "clicks": 78,
          "ctr": 0.2698961937716263,
          "impressions": 289,
          "position": 3.833910034602076
         },
         {
          "Bin": 3,
          "clicks": 78,
          "ctr": 0.05833956619296934,
          "impressions": 1337,
          "position": 3.219147344801795
         },
         {
          "Bin": 3,
          "clicks": 78,
          "ctr": 0.06621392190152801,
          "impressions": 1178,
          "position": 3.5611205432937183
         },
         {
          "Bin": 3,
          "clicks": 76,
          "ctr": 0.2289156626506024,
          "impressions": 332,
          "position": 3.5030120481927716
         },
         {
          "Bin": 3,
          "clicks": 75,
          "ctr": 0.3275109170305677,
          "impressions": 229,
          "position": 3.0087336244541483
         },
         {
          "Bin": 3,
          "clicks": 74,
          "ctr": 0.1295971978984238,
          "impressions": 571,
          "position": 3.882661996497373
         },
         {
          "Bin": 3,
          "clicks": 74,
          "ctr": 0.08249721293199554,
          "impressions": 897,
          "position": 3.018952062430323
         },
         {
          "Bin": 3,
          "clicks": 73,
          "ctr": 0.15800865800865802,
          "impressions": 462,
          "position": 3.1666666666666665
         },
         {
          "Bin": 3,
          "clicks": 72,
          "ctr": 0.1565217391304348,
          "impressions": 460,
          "position": 3.343478260869565
         },
         {
          "Bin": 3,
          "clicks": 71,
          "ctr": 0.242320819112628,
          "impressions": 293,
          "position": 3.7679180887372015
         },
         {
          "Bin": 3,
          "clicks": 71,
          "ctr": 0.29098360655737704,
          "impressions": 244,
          "position": 3.7745901639344255
         },
         {
          "Bin": 3,
          "clicks": 69,
          "ctr": 0.4693877551020408,
          "impressions": 147,
          "position": 3.952380952380953
         },
         {
          "Bin": 3,
          "clicks": 69,
          "ctr": 0.21835443037974686,
          "impressions": 316,
          "position": 3.6677215189873418
         },
         {
          "Bin": 3,
          "clicks": 68,
          "ctr": 0.19428571428571428,
          "impressions": 350,
          "position": 3.5342857142857143
         },
         {
          "Bin": 3,
          "clicks": 67,
          "ctr": 0.3764044943820225,
          "impressions": 178,
          "position": 3.4831460674157304
         },
         {
          "Bin": 3,
          "clicks": 67,
          "ctr": 0.33668341708542715,
          "impressions": 199,
          "position": 3.768844221105528
         },
         {
          "Bin": 3,
          "clicks": 66,
          "ctr": 0.15172413793103448,
          "impressions": 435,
          "position": 3.3287356321839083
         },
         {
          "Bin": 3,
          "clicks": 66,
          "ctr": 0.264,
          "impressions": 250,
          "position": 3.3560000000000003
         },
         {
          "Bin": 3,
          "clicks": 65,
          "ctr": 0.025855210819411296,
          "impressions": 2514,
          "position": 3.8448687350835318
         },
         {
          "Bin": 3,
          "clicks": 64,
          "ctr": 0.20189274447949526,
          "impressions": 317,
          "position": 3.3659305993690847
         },
         {
          "Bin": 3,
          "clicks": 63,
          "ctr": 0.026470588235294117,
          "impressions": 2380,
          "position": 3.350420168067227
         },
         {
          "Bin": 3,
          "clicks": 63,
          "ctr": 0.15365853658536585,
          "impressions": 410,
          "position": 3.0390243902439025
         },
         {
          "Bin": 3,
          "clicks": 62,
          "ctr": 0.28440366972477066,
          "impressions": 218,
          "position": 3.0229357798165135
         },
         {
          "Bin": 3,
          "clicks": 62,
          "ctr": 0.31794871794871793,
          "impressions": 195,
          "position": 3.1384615384615384
         },
         {
          "Bin": 3,
          "clicks": 62,
          "ctr": 0.010127409343351846,
          "impressions": 6122,
          "position": 3.1871937275400195
         },
         {
          "Bin": 3,
          "clicks": 61,
          "ctr": 0.3034825870646766,
          "impressions": 201,
          "position": 3.0845771144278618
         },
         {
          "Bin": 3,
          "clicks": 60,
          "ctr": 0.4166666666666667,
          "impressions": 144,
          "position": 3.2569444444444446
         },
         {
          "Bin": 3,
          "clicks": 60,
          "ctr": 0.3045685279187817,
          "impressions": 197,
          "position": 3.1573604060913705
         },
         {
          "Bin": 3,
          "clicks": 60,
          "ctr": 0.3,
          "impressions": 200,
          "position": 3.745
         },
         {
          "Bin": 3,
          "clicks": 60,
          "ctr": 0.02916869227029655,
          "impressions": 2057,
          "position": 3.8376276130286815
         },
         {
          "Bin": 3,
          "clicks": 59,
          "ctr": 0.11346153846153845,
          "impressions": 520,
          "position": 3.3807692307692307
         },
         {
          "Bin": 3,
          "clicks": 58,
          "ctr": 0.4084507042253521,
          "impressions": 142,
          "position": 3.014084507042253
         },
         {
          "Bin": 3,
          "clicks": 57,
          "ctr": 0.5089285714285714,
          "impressions": 112,
          "position": 3.3482142857142856
         },
         {
          "Bin": 3,
          "clicks": 57,
          "ctr": 0.4710743801652893,
          "impressions": 121,
          "position": 3.049586776859504
         },
         {
          "Bin": 3,
          "clicks": 56,
          "ctr": 0.3373493975903614,
          "impressions": 166,
          "position": 3.6867469879518073
         },
         {
          "Bin": 3,
          "clicks": 56,
          "ctr": 0.4087591240875912,
          "impressions": 137,
          "position": 3.1824817518248176
         },
         {
          "Bin": 3,
          "clicks": 56,
          "ctr": 0.11570247933884298,
          "impressions": 484,
          "position": 3.347107438016529
         },
         {
          "Bin": 3,
          "clicks": 56,
          "ctr": 0.4628099173553719,
          "impressions": 121,
          "position": 3.5454545454545454
         },
         {
          "Bin": 3,
          "clicks": 55,
          "ctr": 0.25462962962962965,
          "impressions": 216,
          "position": 3.4027777777777777
         },
         {
          "Bin": 3,
          "clicks": 54,
          "ctr": 0.39416058394160586,
          "impressions": 137,
          "position": 3.2116788321167884
         },
         {
          "Bin": 3,
          "clicks": 53,
          "ctr": 0.4649122807017544,
          "impressions": 114,
          "position": 3.1754385964912277
         },
         {
          "Bin": 3,
          "clicks": 53,
          "ctr": 0.1,
          "impressions": 530,
          "position": 3.6339622641509433
         },
         {
          "Bin": 3,
          "clicks": 53,
          "ctr": 0.1620795107033639,
          "impressions": 327,
          "position": 3.5321100917431187
         },
         {
          "Bin": 3,
          "clicks": 52,
          "ctr": 0.2888888888888889,
          "impressions": 180,
          "position": 3.216666666666667
         },
         {
          "Bin": 3,
          "clicks": 52,
          "ctr": 0.16828478964401294,
          "impressions": 309,
          "position": 3.029126213592233
         },
         {
          "Bin": 3,
          "clicks": 52,
          "ctr": 0.06096131301289566,
          "impressions": 853,
          "position": 3.003516998827667
         },
         {
          "Bin": 3,
          "clicks": 52,
          "ctr": 0.04406779661016949,
          "impressions": 1180,
          "position": 3.8
         },
         {
          "Bin": 3,
          "clicks": 51,
          "ctr": 0.03606789250353607,
          "impressions": 1414,
          "position": 3.637906647807638
         },
         {
          "Bin": 3,
          "clicks": 51,
          "ctr": 0.14782608695652175,
          "impressions": 345,
          "position": 3.782608695652174
         },
         {
          "Bin": 3,
          "clicks": 51,
          "ctr": 0.42857142857142855,
          "impressions": 119,
          "position": 3.0504201680672267
         },
         {
          "Bin": 3,
          "clicks": 50,
          "ctr": 0.2403846153846154,
          "impressions": 208,
          "position": 3.4855769230769234
         },
         {
          "Bin": 3,
          "clicks": 50,
          "ctr": 0.35714285714285715,
          "impressions": 140,
          "position": 3.792857142857143
         },
         {
          "Bin": 3,
          "clicks": 47,
          "ctr": 0.1857707509881423,
          "impressions": 253,
          "position": 3.225296442687747
         },
         {
          "Bin": 3,
          "clicks": 47,
          "ctr": 0.2797619047619048,
          "impressions": 168,
          "position": 3.8928571428571432
         },
         {
          "Bin": 3,
          "clicks": 47,
          "ctr": 0.0120698510529019,
          "impressions": 3894,
          "position": 3.959938366718028
         },
         {
          "Bin": 3,
          "clicks": 47,
          "ctr": 0.015588723051409618,
          "impressions": 3015,
          "position": 3.860696517412936
         },
         {
          "Bin": 3,
          "clicks": 46,
          "ctr": 0.027479091995221028,
          "impressions": 1674,
          "position": 3.589605734767025
         },
         {
          "Bin": 3,
          "clicks": 46,
          "ctr": 0.06571428571428571,
          "impressions": 700,
          "position": 3.7257142857142855
         },
         {
          "Bin": 3,
          "clicks": 45,
          "ctr": 0.11904761904761905,
          "impressions": 378,
          "position": 3.3703703703703702
         },
         {
          "Bin": 3,
          "clicks": 45,
          "ctr": 0.371900826446281,
          "impressions": 121,
          "position": 3.115702479338843
         },
         {
          "Bin": 3,
          "clicks": 44,
          "ctr": 0.053855569155446766,
          "impressions": 817,
          "position": 3.3867809057527536
         },
         {
          "Bin": 3,
          "clicks": 44,
          "ctr": 0.17054263565891473,
          "impressions": 258,
          "position": 3.182170542635659
         },
         {
          "Bin": 3,
          "clicks": 43,
          "ctr": 0.14333333333333334,
          "impressions": 300,
          "position": 3.23
         },
         {
          "Bin": 3,
          "clicks": 43,
          "ctr": 0.012233285917496443,
          "impressions": 3515,
          "position": 3.5615931721194882
         },
         {
          "Bin": 3,
          "clicks": 43,
          "ctr": 0.24293785310734464,
          "impressions": 177,
          "position": 3.9491525423728815
         },
         {
          "Bin": 3,
          "clicks": 42,
          "ctr": 0.25925925925925924,
          "impressions": 162,
          "position": 3.1481481481481484
         },
         {
          "Bin": 3,
          "clicks": 42,
          "ctr": 0.013337567481740234,
          "impressions": 3149,
          "position": 3.3813909177516672
         },
         {
          "Bin": 3,
          "clicks": 41,
          "ctr": 0.2907801418439716,
          "impressions": 141,
          "position": 3.3900709219858154
         },
         {
          "Bin": 3,
          "clicks": 41,
          "ctr": 0.33064516129032256,
          "impressions": 124,
          "position": 3.620967741935484
         },
         {
          "Bin": 3,
          "clicks": 41,
          "ctr": 0.2928571428571429,
          "impressions": 140,
          "position": 3.3642857142857143
         },
         {
          "Bin": 3,
          "clicks": 41,
          "ctr": 0.25949367088607594,
          "impressions": 158,
          "position": 3.0379746835443036
         },
         {
          "Bin": 3,
          "clicks": 40,
          "ctr": 0.01763668430335097,
          "impressions": 2268,
          "position": 3.0308641975308643
         },
         {
          "Bin": 3,
          "clicks": 40,
          "ctr": 0.3636363636363637,
          "impressions": 110,
          "position": 3.527272727272728
         },
         {
          "Bin": 3,
          "clicks": 40,
          "ctr": 0.03656307129798903,
          "impressions": 1094,
          "position": 3.671846435100549
         },
         {
          "Bin": 3,
          "clicks": 40,
          "ctr": 0.24096385542168675,
          "impressions": 166,
          "position": 3.415662650602409
         },
         {
          "Bin": 3,
          "clicks": 40,
          "ctr": 0.3252032520325203,
          "impressions": 123,
          "position": 3.113821138211382
         },
         {
          "Bin": 3,
          "clicks": 40,
          "ctr": 0.32,
          "impressions": 125,
          "position": 3.096
         },
         {
          "Bin": 3,
          "clicks": 40,
          "ctr": 0.15625,
          "impressions": 256,
          "position": 3.5
         },
         {
          "Bin": 3,
          "clicks": 40,
          "ctr": 0.08264462809917356,
          "impressions": 484,
          "position": 3.363636363636364
         },
         {
          "Bin": 3,
          "clicks": 40,
          "ctr": 0.3603603603603603,
          "impressions": 111,
          "position": 3.63963963963964
         },
         {
          "Bin": 3,
          "clicks": 40,
          "ctr": 0.20304568527918784,
          "impressions": 197,
          "position": 3.0964467005076144
         },
         {
          "Bin": 3,
          "clicks": 39,
          "ctr": 0.12956810631229235,
          "impressions": 301,
          "position": 3.717607973421927
         },
         {
          "Bin": 3,
          "clicks": 39,
          "ctr": 0.05019305019305019,
          "impressions": 777,
          "position": 3.1583011583011578
         },
         {
          "Bin": 3,
          "clicks": 39,
          "ctr": 0.22285714285714286,
          "impressions": 175,
          "position": 3.32
         },
         {
          "Bin": 3,
          "clicks": 39,
          "ctr": 0.19796954314720813,
          "impressions": 197,
          "position": 3.7157360406091366
         },
         {
          "Bin": 3,
          "clicks": 38,
          "ctr": 0.027879677182685254,
          "impressions": 1363,
          "position": 3.2611885546588413
         },
         {
          "Bin": 3,
          "clicks": 38,
          "ctr": 0.2345679012345679,
          "impressions": 162,
          "position": 3.5246913580246915
         },
         {
          "Bin": 3,
          "clicks": 38,
          "ctr": 0.20320855614973266,
          "impressions": 187,
          "position": 3.5614973262032086
         },
         {
          "Bin": 3,
          "clicks": 38,
          "ctr": 0.06451612903225806,
          "impressions": 589,
          "position": 3.775891341256367
         },
         {
          "Bin": 3,
          "clicks": 38,
          "ctr": 0.2122905027932961,
          "impressions": 179,
          "position": 3.089385474860335
         },
         {
          "Bin": 3,
          "clicks": 38,
          "ctr": 0.10826210826210826,
          "impressions": 351,
          "position": 3.660968660968661
         },
         {
          "Bin": 3,
          "clicks": 38,
          "ctr": 0.3584905660377358,
          "impressions": 106,
          "position": 3.3679245283018866
         },
         {
          "Bin": 3,
          "clicks": 38,
          "ctr": 0.2585034013605442,
          "impressions": 147,
          "position": 3.578231292517007
         },
         {
          "Bin": 3,
          "clicks": 37,
          "ctr": 0.09090909090909093,
          "impressions": 407,
          "position": 3.4938574938574933
         },
         {
          "Bin": 3,
          "clicks": 36,
          "ctr": 0.00914169629253428,
          "impressions": 3938,
          "position": 3.694007110208228
         },
         {
          "Bin": 3,
          "clicks": 36,
          "ctr": 0.18461538461538465,
          "impressions": 195,
          "position": 3.6769230769230767
         },
         {
          "Bin": 3,
          "clicks": 36,
          "ctr": 0.08294930875576037,
          "impressions": 434,
          "position": 3.2580645161290325
         },
         {
          "Bin": 3,
          "clicks": 35,
          "ctr": 0.2413793103448276,
          "impressions": 145,
          "position": 3.703448275862069
         },
         {
          "Bin": 3,
          "clicks": 35,
          "ctr": 0.2554744525547445,
          "impressions": 137,
          "position": 3.9270072992700733
         },
         {
          "Bin": 3,
          "clicks": 35,
          "ctr": 0.1715686274509804,
          "impressions": 204,
          "position": 3.127450980392157
         },
         {
          "Bin": 3,
          "clicks": 35,
          "ctr": 0.09043927648578813,
          "impressions": 387,
          "position": 3.214470284237726
         },
         {
          "Bin": 3,
          "clicks": 35,
          "ctr": 0.25735294117647056,
          "impressions": 136,
          "position": 3.7205882352941178
         },
         {
          "Bin": 3,
          "clicks": 35,
          "ctr": 0.1206896551724138,
          "impressions": 290,
          "position": 3.6206896551724137
         },
         {
          "Bin": 3,
          "clicks": 34,
          "ctr": 0.13026819923371644,
          "impressions": 261,
          "position": 3.747126436781609
         },
         {
          "Bin": 3,
          "clicks": 34,
          "ctr": 0.08877284595300261,
          "impressions": 383,
          "position": 3.185378590078329
         },
         {
          "Bin": 3,
          "clicks": 34,
          "ctr": 0.16748768472906406,
          "impressions": 203,
          "position": 3.3054187192118225
         },
         {
          "Bin": 3,
          "clicks": 34,
          "ctr": 0.13026819923371644,
          "impressions": 261,
          "position": 3.888888888888889
         },
         {
          "Bin": 3,
          "clicks": 34,
          "ctr": 0.2236842105263158,
          "impressions": 152,
          "position": 3.907894736842105
         },
         {
          "Bin": 3,
          "clicks": 34,
          "ctr": 0.02426837972876517,
          "impressions": 1401,
          "position": 3.0014275517487508
         },
         {
          "Bin": 3,
          "clicks": 34,
          "ctr": 0.1122112211221122,
          "impressions": 303,
          "position": 3.99009900990099
         },
         {
          "Bin": 3,
          "clicks": 33,
          "ctr": 0.2894736842105263,
          "impressions": 114,
          "position": 3.4473684210526314
         },
         {
          "Bin": 3,
          "clicks": 33,
          "ctr": 0.226027397260274,
          "impressions": 146,
          "position": 3.3356164383561633
         },
         {
          "Bin": 3,
          "clicks": 33,
          "ctr": 0.17553191489361702,
          "impressions": 188,
          "position": 3.877659574468085
         },
         {
          "Bin": 3,
          "clicks": 33,
          "ctr": 0.10576923076923077,
          "impressions": 312,
          "position": 3.301282051282051
         },
         {
          "Bin": 3,
          "clicks": 33,
          "ctr": 0.024535315985130108,
          "impressions": 1345,
          "position": 3.7903345724907065
         },
         {
          "Bin": 3,
          "clicks": 32,
          "ctr": 0.22377622377622375,
          "impressions": 143,
          "position": 3.6713286713286712
         },
         {
          "Bin": 3,
          "clicks": 32,
          "ctr": 0.26229508196721313,
          "impressions": 122,
          "position": 3.565573770491804
         },
         {
          "Bin": 3,
          "clicks": 32,
          "ctr": 0.012549019607843137,
          "impressions": 2550,
          "position": 3.491372549019608
         },
         {
          "Bin": 3,
          "clicks": 31,
          "ctr": 0.03964194373401535,
          "impressions": 782,
          "position": 3.9309462915601023
         },
         {
          "Bin": 3,
          "clicks": 31,
          "ctr": 0.055956678700361015,
          "impressions": 554,
          "position": 3.855595667870036
         },
         {
          "Bin": 3,
          "clicks": 31,
          "ctr": 0.05984555984555984,
          "impressions": 518,
          "position": 3.3706563706563712
         },
         {
          "Bin": 3,
          "clicks": 31,
          "ctr": 0.2152777777777778,
          "impressions": 144,
          "position": 3.180555555555556
         },
         {
          "Bin": 3,
          "clicks": 30,
          "ctr": 0.037406483790523685,
          "impressions": 802,
          "position": 3.976309226932668
         },
         {
          "Bin": 3,
          "clicks": 30,
          "ctr": 0.17857142857142858,
          "impressions": 168,
          "position": 3.2142857142857144
         },
         {
          "Bin": 3,
          "clicks": 30,
          "ctr": 0.05607476635514018,
          "impressions": 535,
          "position": 3.0485981308411216
         },
         {
          "Bin": 3,
          "clicks": 30,
          "ctr": 0.026525198938992044,
          "impressions": 1131,
          "position": 3.2042440318302385
         },
         {
          "Bin": 3,
          "clicks": 30,
          "ctr": 0.11494252873563217,
          "impressions": 261,
          "position": 3.6398467432950192
         },
         {
          "Bin": 3,
          "clicks": 30,
          "ctr": 0.019404915912031046,
          "impressions": 1546,
          "position": 3.022639068564036
         },
         {
          "Bin": 3,
          "clicks": 30,
          "ctr": 0.1875,
          "impressions": 160,
          "position": 3.5625
         },
         {
          "Bin": 3,
          "clicks": 29,
          "ctr": 0.20567375886524825,
          "impressions": 141,
          "position": 3.333333333333333
         },
         {
          "Bin": 3,
          "clicks": 28,
          "ctr": 0.10894941634241244,
          "impressions": 257,
          "position": 3.8949416342412455
         },
         {
          "Bin": 3,
          "clicks": 28,
          "ctr": 0.03361344537815126,
          "impressions": 833,
          "position": 3.4453781512605044
         },
         {
          "Bin": 3,
          "clicks": 28,
          "ctr": 0.13930348258706468,
          "impressions": 201,
          "position": 3.2636815920398017
         },
         {
          "Bin": 3,
          "clicks": 28,
          "ctr": 0.18791946308724836,
          "impressions": 149,
          "position": 3.657718120805369
         },
         {
          "Bin": 3,
          "clicks": 27,
          "ctr": 0.1812080536912752,
          "impressions": 149,
          "position": 3.3959731543624163
         },
         {
          "Bin": 3,
          "clicks": 27,
          "ctr": 0.1134453781512605,
          "impressions": 238,
          "position": 3.6722689075630246
         },
         {
          "Bin": 3,
          "clicks": 27,
          "ctr": 0.21428571428571427,
          "impressions": 126,
          "position": 3.0476190476190474
         },
         {
          "Bin": 3,
          "clicks": 27,
          "ctr": 0.25961538461538464,
          "impressions": 104,
          "position": 3.1634615384615383
         },
         {
          "Bin": 3,
          "clicks": 27,
          "ctr": 0.135,
          "impressions": 200,
          "position": 3.855
         },
         {
          "Bin": 3,
          "clicks": 26,
          "ctr": 0.04311774461028192,
          "impressions": 603,
          "position": 3.487562189054726
         },
         {
          "Bin": 3,
          "clicks": 26,
          "ctr": 0.19548872180451127,
          "impressions": 133,
          "position": 3.0902255639097747
         },
         {
          "Bin": 3,
          "clicks": 26,
          "ctr": 0.1306532663316583,
          "impressions": 199,
          "position": 3.190954773869347
         },
         {
          "Bin": 3,
          "clicks": 26,
          "ctr": 0.1390374331550802,
          "impressions": 187,
          "position": 3.6256684491978617
         },
         {
          "Bin": 3,
          "clicks": 25,
          "ctr": 0.0505050505050505,
          "impressions": 495,
          "position": 3.511111111111111
         },
         {
          "Bin": 3,
          "clicks": 25,
          "ctr": 0.10683760683760683,
          "impressions": 234,
          "position": 3.4743589743589745
         },
         {
          "Bin": 3,
          "clicks": 25,
          "ctr": 0.10460251046025104,
          "impressions": 239,
          "position": 3.6610878661087862
         },
         {
          "Bin": 4,
          "clicks": 5885,
          "ctr": 0.0566181139481634,
          "impressions": 103942,
          "position": 4.191626099170692
         },
         {
          "Bin": 4,
          "clicks": 4785,
          "ctr": 0.05441457423580786,
          "impressions": 87936,
          "position": 4.88170942503639
         },
         {
          "Bin": 4,
          "clicks": 1526,
          "ctr": 0.07647589455748223,
          "impressions": 19954,
          "position": 4.096973037987371
         },
         {
          "Bin": 4,
          "clicks": 1464,
          "ctr": 0.0675339053418212,
          "impressions": 21678,
          "position": 4.466924993080543
         },
         {
          "Bin": 4,
          "clicks": 1412,
          "ctr": 0.03217720249760722,
          "impressions": 43882,
          "position": 4.386559409325009
         },
         {
          "Bin": 4,
          "clicks": 1292,
          "ctr": 0.09345388788426763,
          "impressions": 13825,
          "position": 4.788065099457505
         },
         {
          "Bin": 4,
          "clicks": 1123,
          "ctr": 0.09726312142733416,
          "impressions": 11546,
          "position": 4.907413822968993
         },
         {
          "Bin": 4,
          "clicks": 955,
          "ctr": 0.061474090762793684,
          "impressions": 15535,
          "position": 4.806115223688447
         },
         {
          "Bin": 4,
          "clicks": 951,
          "ctr": 0.0239891027419721,
          "impressions": 39643,
          "position": 4.8265015261206266
         },
         {
          "Bin": 4,
          "clicks": 699,
          "ctr": 0.14647946353730093,
          "impressions": 4772,
          "position": 4.797150041911149
         },
         {
          "Bin": 4,
          "clicks": 689,
          "ctr": 0.03131248863842938,
          "impressions": 22004,
          "position": 4.754680967096891
         },
         {
          "Bin": 4,
          "clicks": 599,
          "ctr": 0.062001863161163434,
          "impressions": 9661,
          "position": 4.9477279784701365
         },
         {
          "Bin": 4,
          "clicks": 589,
          "ctr": 0.1559438707969288,
          "impressions": 3777,
          "position": 4.084193804606831
         },
         {
          "Bin": 4,
          "clicks": 563,
          "ctr": 0.057696249231399876,
          "impressions": 9758,
          "position": 4.615904898544784
         },
         {
          "Bin": 4,
          "clicks": 541,
          "ctr": 0.03597552866072616,
          "impressions": 15038,
          "position": 4.970474797180477
         },
         {
          "Bin": 4,
          "clicks": 441,
          "ctr": 0.12152108018737945,
          "impressions": 3629,
          "position": 4.528795811518325
         },
         {
          "Bin": 4,
          "clicks": 412,
          "ctr": 0.07435480960115502,
          "impressions": 5541,
          "position": 4.061360765204837
         },
         {
          "Bin": 4,
          "clicks": 409,
          "ctr": 0.04805545764305017,
          "impressions": 8511,
          "position": 4.362237104923041
         },
         {
          "Bin": 4,
          "clicks": 395,
          "ctr": 0.05894642590658111,
          "impressions": 6701,
          "position": 4.391284882853306
         },
         {
          "Bin": 4,
          "clicks": 379,
          "ctr": 0.12112496005113454,
          "impressions": 3129,
          "position": 4.781399808245446
         },
         {
          "Bin": 4,
          "clicks": 354,
          "ctr": 0.2017094017094017,
          "impressions": 1755,
          "position": 4.6826210826210835
         },
         {
          "Bin": 4,
          "clicks": 337,
          "ctr": 0.05194204685573366,
          "impressions": 6488,
          "position": 4.542077681874229
         },
         {
          "Bin": 4,
          "clicks": 317,
          "ctr": 0.04581586934528111,
          "impressions": 6919,
          "position": 4.1057956352074
         },
         {
          "Bin": 4,
          "clicks": 276,
          "ctr": 0.228287841191067,
          "impressions": 1209,
          "position": 4.461538461538462
         },
         {
          "Bin": 4,
          "clicks": 267,
          "ctr": 0.14816870144284128,
          "impressions": 1802,
          "position": 4.053274139844619
         },
         {
          "Bin": 4,
          "clicks": 258,
          "ctr": 0.02795838751625488,
          "impressions": 9228,
          "position": 4.300065019505851
         },
         {
          "Bin": 4,
          "clicks": 240,
          "ctr": 0.10484927916120576,
          "impressions": 2289,
          "position": 4.798602009611184
         },
         {
          "Bin": 4,
          "clicks": 224,
          "ctr": 0.020717721050684423,
          "impressions": 10812,
          "position": 4.938771735109138
         },
         {
          "Bin": 4,
          "clicks": 201,
          "ctr": 0.08945260347129506,
          "impressions": 2247,
          "position": 4.33555852247441
         },
         {
          "Bin": 4,
          "clicks": 200,
          "ctr": 0.2478314745972739,
          "impressions": 807,
          "position": 4.346964064436183
         },
         {
          "Bin": 4,
          "clicks": 200,
          "ctr": 0.08741258741258741,
          "impressions": 2288,
          "position": 4.570367132867133
         },
         {
          "Bin": 4,
          "clicks": 198,
          "ctr": 0.12692307692307692,
          "impressions": 1560,
          "position": 4.911538461538461
         },
         {
          "Bin": 4,
          "clicks": 195,
          "ctr": 0.22860492379835876,
          "impressions": 853,
          "position": 4.825322391559204
         },
         {
          "Bin": 4,
          "clicks": 181,
          "ctr": 0.027574649603900058,
          "impressions": 6564,
          "position": 4.424283973187081
         },
         {
          "Bin": 4,
          "clicks": 165,
          "ctr": 0.06674757281553398,
          "impressions": 2472,
          "position": 4.6213592233009715
         },
         {
          "Bin": 4,
          "clicks": 159,
          "ctr": 0.07378190255220418,
          "impressions": 2155,
          "position": 4.4153132250580045
         },
         {
          "Bin": 4,
          "clicks": 155,
          "ctr": 0.2080536912751678,
          "impressions": 745,
          "position": 4.573154362416108
         },
         {
          "Bin": 4,
          "clicks": 154,
          "ctr": 0.1097647897362794,
          "impressions": 1403,
          "position": 4.398431931575196
         },
         {
          "Bin": 4,
          "clicks": 149,
          "ctr": 0.061417971970321526,
          "impressions": 2426,
          "position": 4.775762572135203
         },
         {
          "Bin": 4,
          "clicks": 149,
          "ctr": 0.04531630170316302,
          "impressions": 3288,
          "position": 4.016423357664234
         },
         {
          "Bin": 4,
          "clicks": 146,
          "ctr": 0.016189842537147926,
          "impressions": 9018,
          "position": 4.046019072965181
         },
         {
          "Bin": 4,
          "clicks": 139,
          "ctr": 0.027174975562072337,
          "impressions": 5115,
          "position": 4.345650048875855
         },
         {
          "Bin": 4,
          "clicks": 134,
          "ctr": 0.1572769953051643,
          "impressions": 852,
          "position": 4.399061032863849
         },
         {
          "Bin": 4,
          "clicks": 130,
          "ctr": 0.08977900552486189,
          "impressions": 1448,
          "position": 4.794198895027624
         },
         {
          "Bin": 4,
          "clicks": 129,
          "ctr": 0.003872478386167147,
          "impressions": 33312,
          "position": 4.575138088376561
         },
         {
          "Bin": 4,
          "clicks": 123,
          "ctr": 0.12628336755646818,
          "impressions": 974,
          "position": 4.8644763860369595
         },
         {
          "Bin": 4,
          "clicks": 122,
          "ctr": 0.2230347349177331,
          "impressions": 547,
          "position": 4.435100548446068
         },
         {
          "Bin": 4,
          "clicks": 116,
          "ctr": 0.16642754662840745,
          "impressions": 697,
          "position": 4.8048780487804885
         },
         {
          "Bin": 4,
          "clicks": 115,
          "ctr": 0.05079505300353357,
          "impressions": 2264,
          "position": 4.1660777385159005
         },
         {
          "Bin": 4,
          "clicks": 114,
          "ctr": 0.2446351931330472,
          "impressions": 466,
          "position": 4.521459227467812
         },
         {
          "Bin": 4,
          "clicks": 113,
          "ctr": 0.11154985192497532,
          "impressions": 1013,
          "position": 4.0414610069101675
         },
         {
          "Bin": 4,
          "clicks": 111,
          "ctr": 0.0967741935483871,
          "impressions": 1147,
          "position": 4.8343504795117695
         },
         {
          "Bin": 4,
          "clicks": 102,
          "ctr": 0.020656136087484813,
          "impressions": 4938,
          "position": 4.947144592952613
         },
         {
          "Bin": 4,
          "clicks": 101,
          "ctr": 0.09148550724637683,
          "impressions": 1104,
          "position": 4.898550724637682
         },
         {
          "Bin": 4,
          "clicks": 100,
          "ctr": 0.2331002331002331,
          "impressions": 429,
          "position": 4.627039627039627
         },
         {
          "Bin": 4,
          "clicks": 100,
          "ctr": 0.11013215859030837,
          "impressions": 908,
          "position": 4.438325991189426
         },
         {
          "Bin": 4,
          "clicks": 99,
          "ctr": 0.14864864864864866,
          "impressions": 666,
          "position": 4.127627627627628
         },
         {
          "Bin": 4,
          "clicks": 93,
          "ctr": 0.203056768558952,
          "impressions": 458,
          "position": 4.207423580786026
         },
         {
          "Bin": 4,
          "clicks": 90,
          "ctr": 0.03907946157186279,
          "impressions": 2303,
          "position": 4.959617889709075
         },
         {
          "Bin": 4,
          "clicks": 88,
          "ctr": 0.22448979591836732,
          "impressions": 392,
          "position": 4.566326530612245
         },
         {
          "Bin": 4,
          "clicks": 87,
          "ctr": 0.15992647058823528,
          "impressions": 544,
          "position": 4.851102941176472
         },
         {
          "Bin": 4,
          "clicks": 84,
          "ctr": 0.34567901234567894,
          "impressions": 243,
          "position": 4.378600823045268
         },
         {
          "Bin": 4,
          "clicks": 84,
          "ctr": 0.08936170212765958,
          "impressions": 940,
          "position": 4.36063829787234
         },
         {
          "Bin": 4,
          "clicks": 83,
          "ctr": 0.15930902111324374,
          "impressions": 521,
          "position": 4.222648752399232
         },
         {
          "Bin": 4,
          "clicks": 81,
          "ctr": 0.15728155339805824,
          "impressions": 515,
          "position": 4.388349514563107
         },
         {
          "Bin": 4,
          "clicks": 78,
          "ctr": 0.2921348314606741,
          "impressions": 267,
          "position": 4.535580524344568
         },
         {
          "Bin": 4,
          "clicks": 74,
          "ctr": 0.1143740340030912,
          "impressions": 647,
          "position": 4.938176197836167
         },
         {
          "Bin": 4,
          "clicks": 74,
          "ctr": 0.2144927536231884,
          "impressions": 345,
          "position": 4.046376811594203
         },
         {
          "Bin": 4,
          "clicks": 71,
          "ctr": 0.031415929203539826,
          "impressions": 2260,
          "position": 4.303097345132743
         },
         {
          "Bin": 4,
          "clicks": 70,
          "ctr": 0.20895522388059698,
          "impressions": 335,
          "position": 4.438805970149255
         },
         {
          "Bin": 4,
          "clicks": 68,
          "ctr": 0.19883040935672516,
          "impressions": 342,
          "position": 4.108187134502924
         },
         {
          "Bin": 4,
          "clicks": 64,
          "ctr": 0.2549800796812749,
          "impressions": 251,
          "position": 4.0159362549800806
         },
         {
          "Bin": 4,
          "clicks": 64,
          "ctr": 0.007115063924402446,
          "impressions": 8995,
          "position": 4.1081712062256805
         },
         {
          "Bin": 4,
          "clicks": 63,
          "ctr": 0.245136186770428,
          "impressions": 257,
          "position": 4.116731517509727
         },
         {
          "Bin": 4,
          "clicks": 63,
          "ctr": 0.04751131221719457,
          "impressions": 1326,
          "position": 4.340874811463046
         },
         {
          "Bin": 4,
          "clicks": 61,
          "ctr": 0.01972833117723156,
          "impressions": 3092,
          "position": 4.658150064683053
         },
         {
          "Bin": 4,
          "clicks": 61,
          "ctr": 0.23282442748091606,
          "impressions": 262,
          "position": 4.232824427480916
         },
         {
          "Bin": 4,
          "clicks": 60,
          "ctr": 0.3296703296703297,
          "impressions": 182,
          "position": 4.115384615384615
         },
         {
          "Bin": 4,
          "clicks": 58,
          "ctr": 0.2020905923344948,
          "impressions": 287,
          "position": 4.536585365853659
         },
         {
          "Bin": 4,
          "clicks": 58,
          "ctr": 0.05708661417322835,
          "impressions": 1016,
          "position": 4.015748031496063
         },
         {
          "Bin": 4,
          "clicks": 56,
          "ctr": 0.25,
          "impressions": 224,
          "position": 4.616071428571429
         },
         {
          "Bin": 4,
          "clicks": 56,
          "ctr": 0.1978798586572438,
          "impressions": 283,
          "position": 4.826855123674912
         },
         {
          "Bin": 4,
          "clicks": 56,
          "ctr": 0.27450980392156865,
          "impressions": 204,
          "position": 4.96078431372549
         },
         {
          "Bin": 4,
          "clicks": 56,
          "ctr": 0.16716417910447762,
          "impressions": 335,
          "position": 4.8507462686567155
         },
         {
          "Bin": 4,
          "clicks": 54,
          "ctr": 0.05654450261780105,
          "impressions": 955,
          "position": 4.7591623036649215
         },
         {
          "Bin": 4,
          "clicks": 53,
          "ctr": 0.167192429022082,
          "impressions": 317,
          "position": 4.55205047318612
         },
         {
          "Bin": 4,
          "clicks": 52,
          "ctr": 0.40625,
          "impressions": 128,
          "position": 4.4375
         },
         {
          "Bin": 4,
          "clicks": 52,
          "ctr": 0.029562251279135875,
          "impressions": 1759,
          "position": 4.789084707220012
         },
         {
          "Bin": 4,
          "clicks": 52,
          "ctr": 0.09701492537313433,
          "impressions": 536,
          "position": 4.585820895522389
         },
         {
          "Bin": 4,
          "clicks": 52,
          "ctr": 0.2047244094488189,
          "impressions": 254,
          "position": 4.740157480314961
         },
         {
          "Bin": 4,
          "clicks": 51,
          "ctr": 0.022039757994814176,
          "impressions": 2314,
          "position": 4.5233362143474505
         },
         {
          "Bin": 4,
          "clicks": 50,
          "ctr": 0.25,
          "impressions": 200,
          "position": 4.2
         },
         {
          "Bin": 4,
          "clicks": 50,
          "ctr": 0.028604118993135013,
          "impressions": 1748,
          "position": 4.775743707093822
         },
         {
          "Bin": 4,
          "clicks": 50,
          "ctr": 0.176678445229682,
          "impressions": 283,
          "position": 4.699646643109539
         },
         {
          "Bin": 4,
          "clicks": 49,
          "ctr": 0.3223684210526316,
          "impressions": 152,
          "position": 4.046052631578947
         },
         {
          "Bin": 4,
          "clicks": 49,
          "ctr": 0.1225,
          "impressions": 400,
          "position": 4.5975
         },
         {
          "Bin": 4,
          "clicks": 49,
          "ctr": 0.19367588932806326,
          "impressions": 253,
          "position": 4.442687747035573
         },
         {
          "Bin": 4,
          "clicks": 48,
          "ctr": 0.12467532467532468,
          "impressions": 385,
          "position": 4.176623376623377
         },
         {
          "Bin": 4,
          "clicks": 48,
          "ctr": 0.034139402560455195,
          "impressions": 1406,
          "position": 4.6678520625889055
         },
         {
          "Bin": 4,
          "clicks": 48,
          "ctr": 0.14457831325301204,
          "impressions": 332,
          "position": 4.6656626506024095
         },
         {
          "Bin": 4,
          "clicks": 47,
          "ctr": 0.020982142857142852,
          "impressions": 2240,
          "position": 4.047321428571428
         },
         {
          "Bin": 4,
          "clicks": 47,
          "ctr": 0.040517241379310336,
          "impressions": 1160,
          "position": 4.551724137931036
         },
         {
          "Bin": 4,
          "clicks": 46,
          "ctr": 0.1885245901639344,
          "impressions": 244,
          "position": 4.418032786885246
         },
         {
          "Bin": 4,
          "clicks": 45,
          "ctr": 0.17509727626459146,
          "impressions": 257,
          "position": 4.085603112840467
         },
         {
          "Bin": 4,
          "clicks": 45,
          "ctr": 0.11194029850746268,
          "impressions": 402,
          "position": 4.291044776119403
         },
         {
          "Bin": 4,
          "clicks": 45,
          "ctr": 0.12893982808022922,
          "impressions": 349,
          "position": 4.206303724928366
         },
         {
          "Bin": 4,
          "clicks": 45,
          "ctr": 0.08620689655172414,
          "impressions": 522,
          "position": 4.773946360153257
         },
         {
          "Bin": 4,
          "clicks": 45,
          "ctr": 0.07853403141361257,
          "impressions": 573,
          "position": 4.015706806282722
         },
         {
          "Bin": 4,
          "clicks": 45,
          "ctr": 0.014231499051233398,
          "impressions": 3162,
          "position": 4.345983554712207
         },
         {
          "Bin": 4,
          "clicks": 44,
          "ctr": 0.016871165644171782,
          "impressions": 2608,
          "position": 4.757668711656442
         },
         {
          "Bin": 4,
          "clicks": 43,
          "ctr": 0.1,
          "impressions": 430,
          "position": 4.681395348837209
         },
         {
          "Bin": 4,
          "clicks": 42,
          "ctr": 0.02048780487804878,
          "impressions": 2050,
          "position": 4.246829268292683
         },
         {
          "Bin": 4,
          "clicks": 42,
          "ctr": 0.19004524886877827,
          "impressions": 221,
          "position": 4.018099547511312
         },
         {
          "Bin": 4,
          "clicks": 41,
          "ctr": 0.13183279742765272,
          "impressions": 311,
          "position": 4.527331189710611
         },
         {
          "Bin": 4,
          "clicks": 41,
          "ctr": 0.1806167400881057,
          "impressions": 227,
          "position": 4.889867841409692
         },
         {
          "Bin": 4,
          "clicks": 41,
          "ctr": 0.0296028880866426,
          "impressions": 1385,
          "position": 4.8447653429602875
         },
         {
          "Bin": 4,
          "clicks": 41,
          "ctr": 0.16334661354581673,
          "impressions": 251,
          "position": 4.848605577689243
         },
         {
          "Bin": 4,
          "clicks": 40,
          "ctr": 0.110803324099723,
          "impressions": 361,
          "position": 4.969529085872576
         },
         {
          "Bin": 4,
          "clicks": 40,
          "ctr": 0.113314447592068,
          "impressions": 353,
          "position": 4.424929178470255
         },
         {
          "Bin": 4,
          "clicks": 40,
          "ctr": 0.3539823008849557,
          "impressions": 113,
          "position": 4.1946902654867255
         },
         {
          "Bin": 4,
          "clicks": 39,
          "ctr": 0.06782608695652173,
          "impressions": 575,
          "position": 4.328695652173913
         },
         {
          "Bin": 4,
          "clicks": 39,
          "ctr": 0.17727272727272728,
          "impressions": 220,
          "position": 4.363636363636363
         },
         {
          "Bin": 4,
          "clicks": 39,
          "ctr": 0.2977099236641221,
          "impressions": 131,
          "position": 4.679389312977099
         },
         {
          "Bin": 4,
          "clicks": 39,
          "ctr": 0.17410714285714285,
          "impressions": 224,
          "position": 4.598214285714286
         },
         {
          "Bin": 4,
          "clicks": 38,
          "ctr": 0.03865717192268565,
          "impressions": 983,
          "position": 4.6581892166836205
         },
         {
          "Bin": 4,
          "clicks": 38,
          "ctr": 0.23170731707317074,
          "impressions": 164,
          "position": 4.6951219512195115
         },
         {
          "Bin": 4,
          "clicks": 37,
          "ctr": 0.013157894736842105,
          "impressions": 2812,
          "position": 4.661806543385492
         },
         {
          "Bin": 4,
          "clicks": 37,
          "ctr": 0.04143337066069429,
          "impressions": 893,
          "position": 4.718924972004481
         },
         {
          "Bin": 4,
          "clicks": 37,
          "ctr": 0.0891566265060241,
          "impressions": 415,
          "position": 4.669879518072289
         },
         {
          "Bin": 4,
          "clicks": 36,
          "ctr": 0.13382899628252787,
          "impressions": 269,
          "position": 4.111524163568774
         },
         {
          "Bin": 4,
          "clicks": 36,
          "ctr": 0.034220532319391636,
          "impressions": 1052,
          "position": 4.100760456273765
         },
         {
          "Bin": 4,
          "clicks": 36,
          "ctr": 0.1153846153846154,
          "impressions": 312,
          "position": 4.977564102564102
         },
         {
          "Bin": 4,
          "clicks": 35,
          "ctr": 0.06294964028776978,
          "impressions": 556,
          "position": 4.5503597122302155
         },
         {
          "Bin": 4,
          "clicks": 35,
          "ctr": 0.19886363636363635,
          "impressions": 176,
          "position": 4.443181818181818
         },
         {
          "Bin": 4,
          "clicks": 35,
          "ctr": 0.09536784741144416,
          "impressions": 367,
          "position": 4.514986376021799
         },
         {
          "Bin": 4,
          "clicks": 35,
          "ctr": 0.11589403973509932,
          "impressions": 302,
          "position": 4.831125827814568
         },
         {
          "Bin": 4,
          "clicks": 35,
          "ctr": 0.09562841530054644,
          "impressions": 366,
          "position": 4.286885245901638
         },
         {
          "Bin": 4,
          "clicks": 34,
          "ctr": 0.2446043165467626,
          "impressions": 139,
          "position": 4.9208633093525185
         },
         {
          "Bin": 4,
          "clicks": 33,
          "ctr": 0.14285714285714285,
          "impressions": 231,
          "position": 4.329004329004329
         },
         {
          "Bin": 4,
          "clicks": 33,
          "ctr": 0.01739588824459673,
          "impressions": 1897,
          "position": 4.338956246705323
         },
         {
          "Bin": 4,
          "clicks": 33,
          "ctr": 0.02782462057335582,
          "impressions": 1186,
          "position": 4.1214165261382805
         },
         {
          "Bin": 4,
          "clicks": 33,
          "ctr": 0.12087912087912088,
          "impressions": 273,
          "position": 4.835164835164836
         },
         {
          "Bin": 4,
          "clicks": 33,
          "ctr": 0.2578125,
          "impressions": 128,
          "position": 4.609375
         },
         {
          "Bin": 4,
          "clicks": 33,
          "ctr": 0.21428571428571427,
          "impressions": 154,
          "position": 4.5649350649350655
         },
         {
          "Bin": 4,
          "clicks": 33,
          "ctr": 0.10377358490566037,
          "impressions": 318,
          "position": 4.773584905660377
         },
         {
          "Bin": 4,
          "clicks": 33,
          "ctr": 0.011410788381742738,
          "impressions": 2892,
          "position": 4.150069156293222
         },
         {
          "Bin": 4,
          "clicks": 32,
          "ctr": 0.031714568880079286,
          "impressions": 1009,
          "position": 4.061446977205153
         },
         {
          "Bin": 4,
          "clicks": 32,
          "ctr": 0.1015873015873016,
          "impressions": 315,
          "position": 4.996825396825397
         },
         {
          "Bin": 4,
          "clicks": 32,
          "ctr": 0.15165876777251186,
          "impressions": 211,
          "position": 4.142180094786728
         },
         {
          "Bin": 4,
          "clicks": 31,
          "ctr": 0.11231884057971014,
          "impressions": 276,
          "position": 4.173913043478262
         },
         {
          "Bin": 4,
          "clicks": 31,
          "ctr": 0.16939890710382513,
          "impressions": 183,
          "position": 4.939890710382514
         },
         {
          "Bin": 4,
          "clicks": 31,
          "ctr": 0.12863070539419086,
          "impressions": 241,
          "position": 4.746887966804978
         },
         {
          "Bin": 4,
          "clicks": 31,
          "ctr": 0.0044412607449856745,
          "impressions": 6980,
          "position": 4.138538681948424
         },
         {
          "Bin": 4,
          "clicks": 30,
          "ctr": 0.297029702970297,
          "impressions": 101,
          "position": 4.069306930693069
         },
         {
          "Bin": 4,
          "clicks": 30,
          "ctr": 0.14354066985645933,
          "impressions": 209,
          "position": 4.0861244019138745
         },
         {
          "Bin": 4,
          "clicks": 30,
          "ctr": 0.16216216216216214,
          "impressions": 185,
          "position": 4.681081081081081
         },
         {
          "Bin": 4,
          "clicks": 30,
          "ctr": 0.08955223880597014,
          "impressions": 335,
          "position": 4.889552238805972
         },
         {
          "Bin": 4,
          "clicks": 30,
          "ctr": 0.1973684210526316,
          "impressions": 152,
          "position": 4.302631578947368
         },
         {
          "Bin": 4,
          "clicks": 29,
          "ctr": 0.2396694214876033,
          "impressions": 121,
          "position": 4.752066115702481
         },
         {
          "Bin": 4,
          "clicks": 28,
          "ctr": 0.2153846153846154,
          "impressions": 130,
          "position": 4.223076923076923
         },
         {
          "Bin": 4,
          "clicks": 28,
          "ctr": 0.1564245810055866,
          "impressions": 179,
          "position": 4.815642458100559
         },
         {
          "Bin": 4,
          "clicks": 28,
          "ctr": 0.12334801762114538,
          "impressions": 227,
          "position": 4.7004405286343625
         },
         {
          "Bin": 4,
          "clicks": 27,
          "ctr": 0.225,
          "impressions": 120,
          "position": 4.55
         },
         {
          "Bin": 4,
          "clicks": 27,
          "ctr": 0.19708029197080293,
          "impressions": 137,
          "position": 4.781021897810219
         },
         {
          "Bin": 4,
          "clicks": 27,
          "ctr": 0.16265060240963855,
          "impressions": 166,
          "position": 4.855421686746988
         },
         {
          "Bin": 4,
          "clicks": 27,
          "ctr": 0.10384615384615384,
          "impressions": 260,
          "position": 4.346153846153847
         },
         {
          "Bin": 4,
          "clicks": 27,
          "ctr": 0.15517241379310345,
          "impressions": 174,
          "position": 4.172413793103448
         },
         {
          "Bin": 4,
          "clicks": 27,
          "ctr": 0.01731879409878127,
          "impressions": 1559,
          "position": 4.253367543296985
         },
         {
          "Bin": 4,
          "clicks": 26,
          "ctr": 0.18705035971223025,
          "impressions": 139,
          "position": 4.669064748201438
         },
         {
          "Bin": 4,
          "clicks": 26,
          "ctr": 0.0187997107736804,
          "impressions": 1383,
          "position": 4.945770065075922
         },
         {
          "Bin": 4,
          "clicks": 26,
          "ctr": 0.04506065857885616,
          "impressions": 577,
          "position": 4.708838821490468
         },
         {
          "Bin": 4,
          "clicks": 26,
          "ctr": 0.20800000000000002,
          "impressions": 125,
          "position": 4.848
         },
         {
          "Bin": 4,
          "clicks": 26,
          "ctr": 0.2184873949579832,
          "impressions": 119,
          "position": 4.310924369747899
         },
         {
          "Bin": 4,
          "clicks": 25,
          "ctr": 0.10121457489878542,
          "impressions": 247,
          "position": 4.967611336032389
         },
         {
          "Bin": 4,
          "clicks": 25,
          "ctr": 0.035868005738880916,
          "impressions": 697,
          "position": 4.4103299856527975
         },
         {
          "Bin": 4,
          "clicks": 25,
          "ctr": 0.07692307692307693,
          "impressions": 325,
          "position": 4.1230769230769235
         },
         {
          "Bin": 4,
          "clicks": 25,
          "ctr": 0.15625,
          "impressions": 160,
          "position": 4.50625
         },
         {
          "Bin": 4,
          "clicks": 25,
          "ctr": 0.05040322580645161,
          "impressions": 496,
          "position": 4.028225806451613
         },
         {
          "Bin": 4,
          "clicks": 25,
          "ctr": 0.013157894736842105,
          "impressions": 1900,
          "position": 4.561052631578948
         },
         {
          "Bin": 4,
          "clicks": 25,
          "ctr": 0.045372050816696916,
          "impressions": 551,
          "position": 4.94010889292196
         },
         {
          "Bin": 4,
          "clicks": 25,
          "ctr": 0.17857142857142858,
          "impressions": 140,
          "position": 4.085714285714285
         },
         {
          "Bin": 4,
          "clicks": 25,
          "ctr": 0.06596306068601583,
          "impressions": 379,
          "position": 4.965699208443271
         },
         {
          "Bin": 5,
          "clicks": 3009,
          "ctr": 0.02645879497731349,
          "impressions": 113724,
          "position": 5.024040659843129
         },
         {
          "Bin": 5,
          "clicks": 1962,
          "ctr": 0.27432885906040266,
          "impressions": 7152,
          "position": 5.165687919463087
         },
         {
          "Bin": 5,
          "clicks": 1868,
          "ctr": 0.14136521870743152,
          "impressions": 13214,
          "position": 5.060012108369912
         },
         {
          "Bin": 5,
          "clicks": 1739,
          "ctr": 0.014075501019846538,
          "impressions": 123548,
          "position": 5.894405413280668
         },
         {
          "Bin": 5,
          "clicks": 1272,
          "ctr": 0.036982119494112516,
          "impressions": 34395,
          "position": 5.647128943160343
         },
         {
          "Bin": 5,
          "clicks": 977,
          "ctr": 0.061690976826419136,
          "impressions": 15837,
          "position": 5.975310980615015
         },
         {
          "Bin": 5,
          "clicks": 859,
          "ctr": 0.09870159715040792,
          "impressions": 8703,
          "position": 5.177869700103413
         },
         {
          "Bin": 5,
          "clicks": 825,
          "ctr": 0.045966124359260084,
          "impressions": 17948,
          "position": 5.416536661466457
         },
         {
          "Bin": 5,
          "clicks": 689,
          "ctr": 0.06015891032917139,
          "impressions": 11453,
          "position": 5.4081899938880635
         },
         {
          "Bin": 5,
          "clicks": 676,
          "ctr": 0.07591240875912407,
          "impressions": 8905,
          "position": 5.578214486243684
         },
         {
          "Bin": 5,
          "clicks": 586,
          "ctr": 0.06665150136487716,
          "impressions": 8792,
          "position": 5.4613284804367614
         },
         {
          "Bin": 5,
          "clicks": 475,
          "ctr": 0.11696626446688008,
          "impressions": 4061,
          "position": 5.276286628909135
         },
         {
          "Bin": 5,
          "clicks": 457,
          "ctr": 0.01976045314999784,
          "impressions": 23127,
          "position": 5.879232066415877
         },
         {
          "Bin": 5,
          "clicks": 438,
          "ctr": 0.10909090909090907,
          "impressions": 4015,
          "position": 5.300124533001245
         },
         {
          "Bin": 5,
          "clicks": 420,
          "ctr": 0.0390806736763748,
          "impressions": 10747,
          "position": 5.2897552805434085
         },
         {
          "Bin": 5,
          "clicks": 402,
          "ctr": 0.03670562454346238,
          "impressions": 10952,
          "position": 5.952063550036522
         },
         {
          "Bin": 5,
          "clicks": 380,
          "ctr": 0.023704073357869133,
          "impressions": 16031,
          "position": 5.912606824277963
         },
         {
          "Bin": 5,
          "clicks": 368,
          "ctr": 0.0699619771863118,
          "impressions": 5260,
          "position": 5.097528517110267
         },
         {
          "Bin": 5,
          "clicks": 355,
          "ctr": 0.07751091703056769,
          "impressions": 4580,
          "position": 5.857423580786027
         },
         {
          "Bin": 5,
          "clicks": 329,
          "ctr": 0.09850299401197604,
          "impressions": 3340,
          "position": 5.20748502994012
         },
         {
          "Bin": 5,
          "clicks": 303,
          "ctr": 0.032056707575116375,
          "impressions": 9452,
          "position": 5.465933135844265
         },
         {
          "Bin": 5,
          "clicks": 294,
          "ctr": 0.1389413988657845,
          "impressions": 2116,
          "position": 5.275992438563328
         },
         {
          "Bin": 5,
          "clicks": 289,
          "ctr": 0.02466501664248528,
          "impressions": 11717,
          "position": 5.632243748399762
         },
         {
          "Bin": 5,
          "clicks": 283,
          "ctr": 0.001500840576789474,
          "impressions": 188561,
          "position": 5.8546252936715435
         },
         {
          "Bin": 5,
          "clicks": 275,
          "ctr": 0.04954062331111511,
          "impressions": 5551,
          "position": 5.512520266618627
         },
         {
          "Bin": 5,
          "clicks": 227,
          "ctr": 0.013631996156617823,
          "impressions": 16652,
          "position": 5.426435263031467
         },
         {
          "Bin": 5,
          "clicks": 217,
          "ctr": 0.09442993907745864,
          "impressions": 2298,
          "position": 5.8842471714534375
         },
         {
          "Bin": 5,
          "clicks": 205,
          "ctr": 0.09822712026832776,
          "impressions": 2087,
          "position": 5.184954480114998
         },
         {
          "Bin": 5,
          "clicks": 202,
          "ctr": 0.1573208722741433,
          "impressions": 1284,
          "position": 5.4478193146417455
         },
         {
          "Bin": 5,
          "clicks": 196,
          "ctr": 0.07515337423312883,
          "impressions": 2608,
          "position": 5.491180981595091
         },
         {
          "Bin": 5,
          "clicks": 190,
          "ctr": 0.015636573121553782,
          "impressions": 12151,
          "position": 5.209530079828822
         },
         {
          "Bin": 5,
          "clicks": 170,
          "ctr": 0.0206511175898931,
          "impressions": 8232,
          "position": 5.62184159378037
         },
         {
          "Bin": 5,
          "clicks": 164,
          "ctr": 0.02164445031014913,
          "impressions": 7577,
          "position": 5.962386168668338
         },
         {
          "Bin": 5,
          "clicks": 160,
          "ctr": 0.07901234567901234,
          "impressions": 2025,
          "position": 5.9995061728395065
         },
         {
          "Bin": 5,
          "clicks": 154,
          "ctr": 0.1068702290076336,
          "impressions": 1441,
          "position": 5.163775156141568
         },
         {
          "Bin": 5,
          "clicks": 153,
          "ctr": 0.08181818181818183,
          "impressions": 1870,
          "position": 5.0973262032085564
         },
         {
          "Bin": 5,
          "clicks": 147,
          "ctr": 0.027338664682908687,
          "impressions": 5377,
          "position": 5.907011344615957
         },
         {
          "Bin": 5,
          "clicks": 146,
          "ctr": 0.19235836627140976,
          "impressions": 759,
          "position": 5.4229249011857705
         },
         {
          "Bin": 5,
          "clicks": 141,
          "ctr": 0.026115947397666237,
          "impressions": 5399,
          "position": 5.3208001481755876
         },
         {
          "Bin": 5,
          "clicks": 134,
          "ctr": 0.057191634656423386,
          "impressions": 2343,
          "position": 5.66880068288519
         },
         {
          "Bin": 5,
          "clicks": 128,
          "ctr": 0.03173816017852715,
          "impressions": 4033,
          "position": 5.246962558889164
         },
         {
          "Bin": 5,
          "clicks": 128,
          "ctr": 0.07678464307138573,
          "impressions": 1667,
          "position": 5.58248350329934
         },
         {
          "Bin": 5,
          "clicks": 118,
          "ctr": 0.015170995114425304,
          "impressions": 7778,
          "position": 5.646181537670352
         },
         {
          "Bin": 5,
          "clicks": 115,
          "ctr": 0.015473627556512378,
          "impressions": 7432,
          "position": 5.997847147470398
         },
         {
          "Bin": 5,
          "clicks": 114,
          "ctr": 0.049159120310478664,
          "impressions": 2319,
          "position": 5.348857266062958
         },
         {
          "Bin": 5,
          "clicks": 112,
          "ctr": 0.42911877394636017,
          "impressions": 261,
          "position": 5.237547892720307
         },
         {
          "Bin": 5,
          "clicks": 108,
          "ctr": 0.11088295687885012,
          "impressions": 974,
          "position": 5.197125256673512
         },
         {
          "Bin": 5,
          "clicks": 102,
          "ctr": 0.08777969018932874,
          "impressions": 1162,
          "position": 5.5129087779690185
         },
         {
          "Bin": 5,
          "clicks": 99,
          "ctr": 0.1430635838150289,
          "impressions": 692,
          "position": 5.15606936416185
         },
         {
          "Bin": 5,
          "clicks": 97,
          "ctr": 0.13179347826086954,
          "impressions": 736,
          "position": 5.380434782608695
         },
         {
          "Bin": 5,
          "clicks": 89,
          "ctr": 0.038763066202090586,
          "impressions": 2296,
          "position": 5.9033101045296155
         },
         {
          "Bin": 5,
          "clicks": 88,
          "ctr": 0.056482670089858786,
          "impressions": 1558,
          "position": 5.953145057766367
         },
         {
          "Bin": 5,
          "clicks": 87,
          "ctr": 0.1403225806451613,
          "impressions": 620,
          "position": 5.101612903225806
         },
         {
          "Bin": 5,
          "clicks": 87,
          "ctr": 0.0954994511525796,
          "impressions": 911,
          "position": 5.200878155872667
         },
         {
          "Bin": 5,
          "clicks": 86,
          "ctr": 0.06957928802588997,
          "impressions": 1236,
          "position": 5.765372168284791
         },
         {
          "Bin": 5,
          "clicks": 76,
          "ctr": 0.12709030100334448,
          "impressions": 598,
          "position": 5.173913043478262
         },
         {
          "Bin": 5,
          "clicks": 74,
          "ctr": 0.06554472984942426,
          "impressions": 1129,
          "position": 5.368467670504872
         },
         {
          "Bin": 5,
          "clicks": 74,
          "ctr": 0.05863708399366085,
          "impressions": 1262,
          "position": 5.916006339144214
         },
         {
          "Bin": 5,
          "clicks": 74,
          "ctr": 0.07283464566929132,
          "impressions": 1016,
          "position": 5.479330708661418
         },
         {
          "Bin": 5,
          "clicks": 68,
          "ctr": 0.06302131603336422,
          "impressions": 1079,
          "position": 5.907321594068582
         },
         {
          "Bin": 5,
          "clicks": 67,
          "ctr": 0.030790441176470586,
          "impressions": 2176,
          "position": 5.946231617647059
         },
         {
          "Bin": 5,
          "clicks": 66,
          "ctr": 0.14864864864864866,
          "impressions": 444,
          "position": 5.86036036036036
         },
         {
          "Bin": 5,
          "clicks": 65,
          "ctr": 0.10317460317460317,
          "impressions": 630,
          "position": 5.412698412698413
         },
         {
          "Bin": 5,
          "clicks": 64,
          "ctr": 0.2277580071174377,
          "impressions": 281,
          "position": 5.683274021352313
         },
         {
          "Bin": 5,
          "clicks": 62,
          "ctr": 0.0668103448275862,
          "impressions": 928,
          "position": 5.092672413793104
         },
         {
          "Bin": 5,
          "clicks": 62,
          "ctr": 0.08959537572254335,
          "impressions": 692,
          "position": 5.57514450867052
         },
         {
          "Bin": 5,
          "clicks": 62,
          "ctr": 0.1169811320754717,
          "impressions": 530,
          "position": 5.339622641509433
         },
         {
          "Bin": 5,
          "clicks": 62,
          "ctr": 0.08378378378378379,
          "impressions": 740,
          "position": 5.85
         },
         {
          "Bin": 5,
          "clicks": 60,
          "ctr": 0.3468208092485549,
          "impressions": 173,
          "position": 5.6531791907514455
         },
         {
          "Bin": 5,
          "clicks": 60,
          "ctr": 0.2510460251046025,
          "impressions": 239,
          "position": 5.451882845188284
         },
         {
          "Bin": 5,
          "clicks": 58,
          "ctr": 0.16477272727272727,
          "impressions": 352,
          "position": 5.795454545454546
         },
         {
          "Bin": 5,
          "clicks": 58,
          "ctr": 0.08055555555555556,
          "impressions": 720,
          "position": 5.484722222222223
         },
         {
          "Bin": 5,
          "clicks": 57,
          "ctr": 0.10035211267605634,
          "impressions": 568,
          "position": 5.223591549295775
         },
         {
          "Bin": 5,
          "clicks": 57,
          "ctr": 0.12666666666666668,
          "impressions": 450,
          "position": 5.8244444444444445
         },
         {
          "Bin": 5,
          "clicks": 57,
          "ctr": 0.10160427807486633,
          "impressions": 561,
          "position": 5.691622103386809
         },
         {
          "Bin": 5,
          "clicks": 56,
          "ctr": 0.0016965070132388136,
          "impressions": 33009,
          "position": 5.575873246690296
         },
         {
          "Bin": 5,
          "clicks": 55,
          "ctr": 0.03937007874015748,
          "impressions": 1397,
          "position": 5.5912670007158205
         },
         {
          "Bin": 5,
          "clicks": 55,
          "ctr": 0.12702078521939955,
          "impressions": 433,
          "position": 5.558891454965359
         },
         {
          "Bin": 5,
          "clicks": 54,
          "ctr": 0.03375,
          "impressions": 1600,
          "position": 5.958125
         },
         {
          "Bin": 5,
          "clicks": 54,
          "ctr": 0.03680981595092025,
          "impressions": 1467,
          "position": 5.7914110429447865
         },
         {
          "Bin": 5,
          "clicks": 54,
          "ctr": 0.06835443037974684,
          "impressions": 790,
          "position": 5.70632911392405
         },
         {
          "Bin": 5,
          "clicks": 53,
          "ctr": 0.09464285714285714,
          "impressions": 560,
          "position": 5.9
         },
         {
          "Bin": 5,
          "clicks": 52,
          "ctr": 0.10633946830265847,
          "impressions": 489,
          "position": 5.541922290388548
         },
         {
          "Bin": 5,
          "clicks": 51,
          "ctr": 0.17586206896551726,
          "impressions": 290,
          "position": 5.006896551724138
         },
         {
          "Bin": 5,
          "clicks": 51,
          "ctr": 0.08614864864864864,
          "impressions": 592,
          "position": 5.5641891891891895
         },
         {
          "Bin": 5,
          "clicks": 51,
          "ctr": 0.2116182572614108,
          "impressions": 241,
          "position": 5.315352697095436
         },
         {
          "Bin": 5,
          "clicks": 51,
          "ctr": 0.02265659706796979,
          "impressions": 2251,
          "position": 5.886717014660151
         },
         {
          "Bin": 5,
          "clicks": 51,
          "ctr": 0.06390977443609022,
          "impressions": 798,
          "position": 5.783208020050125
         },
         {
          "Bin": 5,
          "clicks": 50,
          "ctr": 0.06648936170212766,
          "impressions": 752,
          "position": 5.888297872340425
         },
         {
          "Bin": 5,
          "clicks": 50,
          "ctr": 0.0509683995922528,
          "impressions": 981,
          "position": 5.7859327217125385
         },
         {
          "Bin": 5,
          "clicks": 49,
          "ctr": 0.10986547085201794,
          "impressions": 446,
          "position": 5.441704035874438
         },
         {
          "Bin": 5,
          "clicks": 49,
          "ctr": 0.09333333333333334,
          "impressions": 525,
          "position": 5.626666666666668
         },
         {
          "Bin": 5,
          "clicks": 48,
          "ctr": 0.11162790697674417,
          "impressions": 430,
          "position": 5.6
         },
         {
          "Bin": 5,
          "clicks": 47,
          "ctr": 0.037964458804523434,
          "impressions": 1238,
          "position": 5.453957996768981
         },
         {
          "Bin": 5,
          "clicks": 47,
          "ctr": 0.08545454545454545,
          "impressions": 550,
          "position": 5.092727272727274
         },
         {
          "Bin": 5,
          "clicks": 45,
          "ctr": 0.07880910683012259,
          "impressions": 571,
          "position": 5.833625218914187
         },
         {
          "Bin": 5,
          "clicks": 44,
          "ctr": 0.031907179115300936,
          "impressions": 1379,
          "position": 5.733865119651923
         },
         {
          "Bin": 5,
          "clicks": 44,
          "ctr": 0.01570867547304534,
          "impressions": 2801,
          "position": 5.660121385219566
         },
         {
          "Bin": 5,
          "clicks": 43,
          "ctr": 0.03216155572176515,
          "impressions": 1337,
          "position": 5.039640987284966
         },
         {
          "Bin": 5,
          "clicks": 42,
          "ctr": 0.24277456647398846,
          "impressions": 173,
          "position": 5.872832369942198
         },
         {
          "Bin": 5,
          "clicks": 42,
          "ctr": 0.2222222222222222,
          "impressions": 189,
          "position": 5.211640211640212
         },
         {
          "Bin": 5,
          "clicks": 40,
          "ctr": 0.03330557868442964,
          "impressions": 1201,
          "position": 5.0141548709408825
         },
         {
          "Bin": 5,
          "clicks": 40,
          "ctr": 0.0408997955010225,
          "impressions": 978,
          "position": 5.777096114519428
         },
         {
          "Bin": 5,
          "clicks": 40,
          "ctr": 0.08791208791208792,
          "impressions": 455,
          "position": 5.558241758241758
         },
         {
          "Bin": 5,
          "clicks": 40,
          "ctr": 0.0020178580436866268,
          "impressions": 19823,
          "position": 5.687232003228573
         },
         {
          "Bin": 5,
          "clicks": 39,
          "ctr": 0.3023255813953488,
          "impressions": 129,
          "position": 5.054263565891473
         },
         {
          "Bin": 5,
          "clicks": 39,
          "ctr": 0.0924170616113744,
          "impressions": 422,
          "position": 5.876777251184834
         },
         {
          "Bin": 5,
          "clicks": 39,
          "ctr": 0.14391143911439114,
          "impressions": 271,
          "position": 5.4464944649446485
         },
         {
          "Bin": 5,
          "clicks": 39,
          "ctr": 0.22285714285714286,
          "impressions": 175,
          "position": 5.1657142857142855
         },
         {
          "Bin": 5,
          "clicks": 38,
          "ctr": 0.07063197026022305,
          "impressions": 538,
          "position": 5.1133828996282515
         },
         {
          "Bin": 5,
          "clicks": 37,
          "ctr": 0.013328530259365994,
          "impressions": 2776,
          "position": 5.647334293948128
         },
         {
          "Bin": 5,
          "clicks": 37,
          "ctr": 0.010114816839803172,
          "impressions": 3658,
          "position": 5.073810825587753
         },
         {
          "Bin": 5,
          "clicks": 36,
          "ctr": 0.20809248554913296,
          "impressions": 173,
          "position": 5.479768786127168
         },
         {
          "Bin": 5,
          "clicks": 35,
          "ctr": 0.0054255154239652775,
          "impressions": 6451,
          "position": 5.1161060300728565
         },
         {
          "Bin": 5,
          "clicks": 35,
          "ctr": 0.002578458818329159,
          "impressions": 13574,
          "position": 5.634595550316782
         },
         {
          "Bin": 5,
          "clicks": 35,
          "ctr": 0.02304147465437788,
          "impressions": 1519,
          "position": 5.593153390388414
         },
         {
          "Bin": 5,
          "clicks": 35,
          "ctr": 0.2215189873417721,
          "impressions": 158,
          "position": 5.278481012658228
         },
         {
          "Bin": 5,
          "clicks": 35,
          "ctr": 0.01407884151246983,
          "impressions": 2486,
          "position": 5.080048270313757
         },
         {
          "Bin": 5,
          "clicks": 34,
          "ctr": 0.04683195592286502,
          "impressions": 726,
          "position": 5.6707988980716255
         },
         {
          "Bin": 5,
          "clicks": 34,
          "ctr": 0.09018567639257294,
          "impressions": 377,
          "position": 5.1936339522546415
         },
         {
          "Bin": 5,
          "clicks": 34,
          "ctr": 0.2251655629139073,
          "impressions": 151,
          "position": 5.543046357615894
         },
         {
          "Bin": 5,
          "clicks": 33,
          "ctr": 0.25384615384615383,
          "impressions": 130,
          "position": 5.592307692307692
         },
         {
          "Bin": 5,
          "clicks": 33,
          "ctr": 0.015144561725562184,
          "impressions": 2179,
          "position": 5.5631023405231765
         },
         {
          "Bin": 5,
          "clicks": 33,
          "ctr": 0.15942028985507245,
          "impressions": 207,
          "position": 5.9178743961352644
         },
         {
          "Bin": 5,
          "clicks": 32,
          "ctr": 0.016632016632016633,
          "impressions": 1924,
          "position": 5.191268191268192
         },
         {
          "Bin": 5,
          "clicks": 32,
          "ctr": 0.07289293849658314,
          "impressions": 439,
          "position": 5.995444191343965
         },
         {
          "Bin": 5,
          "clicks": 32,
          "ctr": 0.125,
          "impressions": 256,
          "position": 5.08203125
         },
         {
          "Bin": 5,
          "clicks": 31,
          "ctr": 0.1076388888888889,
          "impressions": 288,
          "position": 5.954861111111112
         },
         {
          "Bin": 5,
          "clicks": 31,
          "ctr": 0.09627329192546584,
          "impressions": 322,
          "position": 5.155279503105589
         },
         {
          "Bin": 5,
          "clicks": 31,
          "ctr": 0.13716814159292035,
          "impressions": 226,
          "position": 5.823008849557523
         },
         {
          "Bin": 5,
          "clicks": 31,
          "ctr": 0.08093994778067885,
          "impressions": 383,
          "position": 5.323759791122716
         },
         {
          "Bin": 5,
          "clicks": 30,
          "ctr": 0.20689655172413796,
          "impressions": 145,
          "position": 5.048275862068966
         },
         {
          "Bin": 5,
          "clicks": 30,
          "ctr": 0.1079136690647482,
          "impressions": 278,
          "position": 5.089928057553957
         },
         {
          "Bin": 5,
          "clicks": 30,
          "ctr": 0.1176470588235294,
          "impressions": 255,
          "position": 5.882352941176472
         },
         {
          "Bin": 5,
          "clicks": 30,
          "ctr": 0.2255639097744361,
          "impressions": 133,
          "position": 5.496240601503758
         },
         {
          "Bin": 5,
          "clicks": 30,
          "ctr": 0.1056338028169014,
          "impressions": 284,
          "position": 5.295774647887324
         },
         {
          "Bin": 5,
          "clicks": 30,
          "ctr": 0.14492753623188406,
          "impressions": 207,
          "position": 5.381642512077295
         },
         {
          "Bin": 5,
          "clicks": 30,
          "ctr": 0.020746887966804982,
          "impressions": 1446,
          "position": 5.025587828492394
         },
         {
          "Bin": 5,
          "clicks": 30,
          "ctr": 0.01721170395869191,
          "impressions": 1743,
          "position": 5.818129661503155
         },
         {
          "Bin": 5,
          "clicks": 29,
          "ctr": 0.17261904761904762,
          "impressions": 168,
          "position": 5.065476190476192
         },
         {
          "Bin": 5,
          "clicks": 29,
          "ctr": 0.07213930348258707,
          "impressions": 402,
          "position": 5.106965174129353
         },
         {
          "Bin": 5,
          "clicks": 29,
          "ctr": 0.017480409885473176,
          "impressions": 1659,
          "position": 5.657625075346594
         },
         {
          "Bin": 5,
          "clicks": 29,
          "ctr": 0.07304785894206549,
          "impressions": 397,
          "position": 5.9496221662468525
         },
         {
          "Bin": 5,
          "clicks": 29,
          "ctr": 0.12946428571428573,
          "impressions": 224,
          "position": 5.7142857142857135
         },
         {
          "Bin": 5,
          "clicks": 29,
          "ctr": 0.049403747870528106,
          "impressions": 587,
          "position": 5.160136286201023
         },
         {
          "Bin": 5,
          "clicks": 28,
          "ctr": 0.0989399293286219,
          "impressions": 283,
          "position": 5.685512367491167
         },
         {
          "Bin": 5,
          "clicks": 28,
          "ctr": 0.07526881720430108,
          "impressions": 372,
          "position": 5.018817204301075
         },
         {
          "Bin": 5,
          "clicks": 28,
          "ctr": 0.007639836289222373,
          "impressions": 3665,
          "position": 5.548158253751705
         },
         {
          "Bin": 5,
          "clicks": 28,
          "ctr": 0.008615384615384615,
          "impressions": 3250,
          "position": 5.243384615384615
         },
         {
          "Bin": 5,
          "clicks": 28,
          "ctr": 0.04674457429048414,
          "impressions": 599,
          "position": 5.185308848080132
         },
         {
          "Bin": 5,
          "clicks": 27,
          "ctr": 0.19708029197080293,
          "impressions": 137,
          "position": 5.613138686131387
         },
         {
          "Bin": 5,
          "clicks": 27,
          "ctr": 0.08307692307692308,
          "impressions": 325,
          "position": 5.403076923076923
         },
         {
          "Bin": 5,
          "clicks": 27,
          "ctr": 0.13106796116504854,
          "impressions": 206,
          "position": 5.131067961165049
         },
         {
          "Bin": 5,
          "clicks": 27,
          "ctr": 0.008294930875576038,
          "impressions": 3255,
          "position": 5.775115207373272
         },
         {
          "Bin": 5,
          "clicks": 27,
          "ctr": 0.023978685612788632,
          "impressions": 1126,
          "position": 5.847246891651865
         },
         {
          "Bin": 5,
          "clicks": 26,
          "ctr": 0.12935323383084574,
          "impressions": 201,
          "position": 5.2039800995024885
         },
         {
          "Bin": 5,
          "clicks": 26,
          "ctr": 0.05263157894736842,
          "impressions": 494,
          "position": 5.625506072874494
         },
         {
          "Bin": 5,
          "clicks": 26,
          "ctr": 0.1111111111111111,
          "impressions": 234,
          "position": 5.44871794871795
         },
         {
          "Bin": 5,
          "clicks": 26,
          "ctr": 0.10400000000000001,
          "impressions": 250,
          "position": 5.356
         },
         {
          "Bin": 5,
          "clicks": 25,
          "ctr": 0.18248175182481752,
          "impressions": 137,
          "position": 5.569343065693432
         },
         {
          "Bin": 5,
          "clicks": 25,
          "ctr": 0.12254901960784312,
          "impressions": 204,
          "position": 5.769607843137255
         },
         {
          "Bin": 5,
          "clicks": 25,
          "ctr": 0.05980861244019139,
          "impressions": 418,
          "position": 5.239234449760765
         },
         {
          "Bin": 5,
          "clicks": 25,
          "ctr": 0.12953367875647667,
          "impressions": 193,
          "position": 5.3160621761658025
         },
         {
          "Bin": 6,
          "clicks": 10834,
          "ctr": 0.0762158017291715,
          "impressions": 142149,
          "position": 6.119156659561446
         },
         {
          "Bin": 6,
          "clicks": 4654,
          "ctr": 0.007872177754923916,
          "impressions": 591196,
          "position": 6.933206584618299
         },
         {
          "Bin": 6,
          "clicks": 4002,
          "ctr": 0.023436813717739244,
          "impressions": 170757,
          "position": 6.44934029058838
         },
         {
          "Bin": 6,
          "clicks": 1455,
          "ctr": 0.08434293664135413,
          "impressions": 17251,
          "position": 6.334531331517012
         },
         {
          "Bin": 6,
          "clicks": 1096,
          "ctr": 0.08159618820726622,
          "impressions": 13432,
          "position": 6.365321620011913
         },
         {
          "Bin": 6,
          "clicks": 1040,
          "ctr": 0.04417636564438026,
          "impressions": 23542,
          "position": 6.560572593662392
         },
         {
          "Bin": 6,
          "clicks": 1032,
          "ctr": 0.04206407434580582,
          "impressions": 24534,
          "position": 6.348210646449826
         },
         {
          "Bin": 6,
          "clicks": 787,
          "ctr": 0.03364254264096097,
          "impressions": 23393,
          "position": 6.0739109990168
         },
         {
          "Bin": 6,
          "clicks": 680,
          "ctr": 0.03012448500420857,
          "impressions": 22573,
          "position": 6.656758073804988
         },
         {
          "Bin": 6,
          "clicks": 496,
          "ctr": 0.052531243380639685,
          "impressions": 9442,
          "position": 6.797288710019064
         },
         {
          "Bin": 6,
          "clicks": 452,
          "ctr": 0.02289998986726112,
          "impressions": 19738,
          "position": 6.852872631472287
         },
         {
          "Bin": 6,
          "clicks": 389,
          "ctr": 0.05244708103006607,
          "impressions": 7417,
          "position": 6.871376567345287
         },
         {
          "Bin": 6,
          "clicks": 308,
          "ctr": 0.031775508098627885,
          "impressions": 9693,
          "position": 6.849479005467862
         },
         {
          "Bin": 6,
          "clicks": 279,
          "ctr": 0.01491181186531267,
          "impressions": 18710,
          "position": 6.933832175307323
         },
         {
          "Bin": 6,
          "clicks": 277,
          "ctr": 0.05206766917293233,
          "impressions": 5320,
          "position": 6.6001879699248125
         },
         {
          "Bin": 6,
          "clicks": 274,
          "ctr": 0.020561308719795886,
          "impressions": 13326,
          "position": 6.844664565511031
         },
         {
          "Bin": 6,
          "clicks": 195,
          "ctr": 0.013120710536939846,
          "impressions": 14862,
          "position": 6.536065132552818
         },
         {
          "Bin": 6,
          "clicks": 193,
          "ctr": 0.12961719274680994,
          "impressions": 1489,
          "position": 6.563465413028879
         },
         {
          "Bin": 6,
          "clicks": 182,
          "ctr": 0.03190184049079755,
          "impressions": 5705,
          "position": 6.297984224364593
         },
         {
          "Bin": 6,
          "clicks": 177,
          "ctr": 0.01655288506499579,
          "impressions": 10693,
          "position": 6.122884129804545
         },
         {
          "Bin": 6,
          "clicks": 166,
          "ctr": 0.007799652304656298,
          "impressions": 21283,
          "position": 6.355588967720716
         },
         {
          "Bin": 6,
          "clicks": 161,
          "ctr": 0.007969507969507971,
          "impressions": 20202,
          "position": 6.452529452529451
         },
         {
          "Bin": 6,
          "clicks": 149,
          "ctr": 0.009144470357186695,
          "impressions": 16294,
          "position": 6.407880201301093
         },
         {
          "Bin": 6,
          "clicks": 140,
          "ctr": 0.0516414607156031,
          "impressions": 2711,
          "position": 6.0335669494651425
         },
         {
          "Bin": 6,
          "clicks": 132,
          "ctr": 0.12966601178781925,
          "impressions": 1018,
          "position": 6.240667976424361
         },
         {
          "Bin": 6,
          "clicks": 131,
          "ctr": 0.0861842105263158,
          "impressions": 1520,
          "position": 6.010526315789473
         },
         {
          "Bin": 6,
          "clicks": 117,
          "ctr": 0.04513888888888889,
          "impressions": 2592,
          "position": 6.967592592592593
         },
         {
          "Bin": 6,
          "clicks": 113,
          "ctr": 0.019758699073264555,
          "impressions": 5719,
          "position": 6.893512851897185
         },
         {
          "Bin": 6,
          "clicks": 106,
          "ctr": 0.03704998252359315,
          "impressions": 2861,
          "position": 6.369451240824887
         },
         {
          "Bin": 6,
          "clicks": 103,
          "ctr": 0.4904761904761905,
          "impressions": 210,
          "position": 6.033333333333332
         },
         {
          "Bin": 6,
          "clicks": 100,
          "ctr": 0.0449438202247191,
          "impressions": 2225,
          "position": 6.326741573033707
         },
         {
          "Bin": 6,
          "clicks": 99,
          "ctr": 0.10227272727272728,
          "impressions": 968,
          "position": 6.8698347107438025
         },
         {
          "Bin": 6,
          "clicks": 88,
          "ctr": 0.04317958783120707,
          "impressions": 2038,
          "position": 6.574092247301277
         },
         {
          "Bin": 6,
          "clicks": 86,
          "ctr": 0.025679307255897284,
          "impressions": 3349,
          "position": 6.568826515377724
         },
         {
          "Bin": 6,
          "clicks": 83,
          "ctr": 0.02147477360931436,
          "impressions": 3865,
          "position": 6.1754204398447605
         },
         {
          "Bin": 6,
          "clicks": 81,
          "ctr": 0.07555970149253731,
          "impressions": 1072,
          "position": 6.755597014925373
         },
         {
          "Bin": 6,
          "clicks": 81,
          "ctr": 0.052941176470588235,
          "impressions": 1530,
          "position": 6.688235294117647
         },
         {
          "Bin": 6,
          "clicks": 81,
          "ctr": 0.08059701492537312,
          "impressions": 1005,
          "position": 6.0756218905472625
         },
         {
          "Bin": 6,
          "clicks": 80,
          "ctr": 0.03134796238244514,
          "impressions": 2552,
          "position": 6.329937304075235
         },
         {
          "Bin": 6,
          "clicks": 80,
          "ctr": 0.013809770412566893,
          "impressions": 5793,
          "position": 6.109960296910063
         },
         {
          "Bin": 6,
          "clicks": 75,
          "ctr": 0.024933510638297872,
          "impressions": 3008,
          "position": 6.68218085106383
         },
         {
          "Bin": 6,
          "clicks": 72,
          "ctr": 0.040955631399317405,
          "impressions": 1758,
          "position": 6.950511945392491
         },
         {
          "Bin": 6,
          "clicks": 69,
          "ctr": 0.06301369863013699,
          "impressions": 1095,
          "position": 6.625570776255708
         },
         {
          "Bin": 6,
          "clicks": 68,
          "ctr": 0.04613297150610583,
          "impressions": 1474,
          "position": 6.9579375848032585
         },
         {
          "Bin": 6,
          "clicks": 67,
          "ctr": 0.03665207877461707,
          "impressions": 1828,
          "position": 6.406455142231947
         },
         {
          "Bin": 6,
          "clicks": 66,
          "ctr": 0.051643192488262914,
          "impressions": 1278,
          "position": 6.190140845070423
         },
         {
          "Bin": 6,
          "clicks": 66,
          "ctr": 0.08375634517766498,
          "impressions": 788,
          "position": 6.9238578680203045
         },
         {
          "Bin": 6,
          "clicks": 57,
          "ctr": 0.10270270270270272,
          "impressions": 555,
          "position": 6.077477477477478
         },
         {
          "Bin": 6,
          "clicks": 56,
          "ctr": 0.009009009009009007,
          "impressions": 6216,
          "position": 6.687580437580437
         },
         {
          "Bin": 6,
          "clicks": 55,
          "ctr": 0.04680851063829787,
          "impressions": 1175,
          "position": 6.036595744680851
         },
         {
          "Bin": 6,
          "clicks": 54,
          "ctr": 0.0133630289532294,
          "impressions": 4041,
          "position": 6.99752536500866
         },
         {
          "Bin": 6,
          "clicks": 53,
          "ctr": 0.0279831045406547,
          "impressions": 1894,
          "position": 6.353748680042238
         },
         {
          "Bin": 6,
          "clicks": 50,
          "ctr": 0.10504201680672268,
          "impressions": 476,
          "position": 6.155462184873951
         },
         {
          "Bin": 6,
          "clicks": 49,
          "ctr": 0.03295225285810356,
          "impressions": 1487,
          "position": 6.498991257565567
         },
         {
          "Bin": 6,
          "clicks": 49,
          "ctr": 0.03640416047548292,
          "impressions": 1346,
          "position": 6.389301634472512
         },
         {
          "Bin": 6,
          "clicks": 49,
          "ctr": 0.11694510739856802,
          "impressions": 419,
          "position": 6.145584725536993
         },
         {
          "Bin": 6,
          "clicks": 48,
          "ctr": 0.0867992766726944,
          "impressions": 553,
          "position": 6.054249547920433
         },
         {
          "Bin": 6,
          "clicks": 47,
          "ctr": 0.012583668005354752,
          "impressions": 3735,
          "position": 6.451405622489959
         },
         {
          "Bin": 6,
          "clicks": 45,
          "ctr": 0.025951557093425604,
          "impressions": 1734,
          "position": 6.28316032295271
         },
         {
          "Bin": 6,
          "clicks": 45,
          "ctr": 0.05434782608695652,
          "impressions": 828,
          "position": 6.233091787439613
         },
         {
          "Bin": 6,
          "clicks": 44,
          "ctr": 0.07177814029363784,
          "impressions": 613,
          "position": 6.112561174551388
         },
         {
          "Bin": 6,
          "clicks": 44,
          "ctr": 0.05929919137466307,
          "impressions": 742,
          "position": 6.351752021563343
         },
         {
          "Bin": 6,
          "clicks": 44,
          "ctr": 0.04178537511870845,
          "impressions": 1053,
          "position": 6.2241215574548905
         },
         {
          "Bin": 6,
          "clicks": 44,
          "ctr": 0.0013402784123792988,
          "impressions": 32829,
          "position": 6.5751317432757626
         },
         {
          "Bin": 6,
          "clicks": 43,
          "ctr": 0.11286089238845146,
          "impressions": 381,
          "position": 6.15748031496063
         },
         {
          "Bin": 6,
          "clicks": 43,
          "ctr": 0.03194650817236255,
          "impressions": 1346,
          "position": 6.579494799405646
         },
         {
          "Bin": 6,
          "clicks": 43,
          "ctr": 0.044885177453027135,
          "impressions": 958,
          "position": 6.6471816283924845
         },
         {
          "Bin": 6,
          "clicks": 42,
          "ctr": 0.0711864406779661,
          "impressions": 590,
          "position": 6.079661016949152
         },
         {
          "Bin": 6,
          "clicks": 41,
          "ctr": 0.03912213740458016,
          "impressions": 1048,
          "position": 6.513358778625954
         },
         {
          "Bin": 6,
          "clicks": 41,
          "ctr": 0.11081081081081083,
          "impressions": 370,
          "position": 6.010810810810812
         },
         {
          "Bin": 6,
          "clicks": 40,
          "ctr": 0.1932367149758454,
          "impressions": 207,
          "position": 6.415458937198068
         },
         {
          "Bin": 6,
          "clicks": 39,
          "ctr": 0.09307875894988067,
          "impressions": 419,
          "position": 6.1026252983293565
         },
         {
          "Bin": 6,
          "clicks": 38,
          "ctr": 0.024967148488830485,
          "impressions": 1522,
          "position": 6.351511169513798
         },
         {
          "Bin": 6,
          "clicks": 37,
          "ctr": 0.05196629213483146,
          "impressions": 712,
          "position": 6.012640449438202
         },
         {
          "Bin": 6,
          "clicks": 36,
          "ctr": 0.1111111111111111,
          "impressions": 324,
          "position": 6.435185185185184
         },
         {
          "Bin": 6,
          "clicks": 36,
          "ctr": 0.017569546120058566,
          "impressions": 2049,
          "position": 6.345534407027818
         },
         {
          "Bin": 6,
          "clicks": 36,
          "ctr": 0.03308823529411765,
          "impressions": 1088,
          "position": 6.1994485294117645
         },
         {
          "Bin": 6,
          "clicks": 35,
          "ctr": 0.034619188921859535,
          "impressions": 1011,
          "position": 6.770524233432245
         },
         {
          "Bin": 6,
          "clicks": 35,
          "ctr": 0.06944444444444445,
          "impressions": 504,
          "position": 6.583333333333332
         },
         {
          "Bin": 6,
          "clicks": 34,
          "ctr": 0.0356020942408377,
          "impressions": 955,
          "position": 6.139267015706806
         },
         {
          "Bin": 6,
          "clicks": 34,
          "ctr": 0.024337866857551897,
          "impressions": 1397,
          "position": 6.0651395848246255
         },
         {
          "Bin": 6,
          "clicks": 33,
          "ctr": 0.125,
          "impressions": 264,
          "position": 6.162878787878787
         },
         {
          "Bin": 6,
          "clicks": 32,
          "ctr": 0.05237315875613748,
          "impressions": 611,
          "position": 6.945990180032733
         },
         {
          "Bin": 6,
          "clicks": 32,
          "ctr": 0.01455206912232833,
          "impressions": 2199,
          "position": 6.772169167803547
         },
         {
          "Bin": 6,
          "clicks": 32,
          "ctr": 0.09302325581395347,
          "impressions": 344,
          "position": 6.593023255813954
         },
         {
          "Bin": 6,
          "clicks": 31,
          "ctr": 0.01988454137267479,
          "impressions": 1559,
          "position": 6.667735728030789
         },
         {
          "Bin": 6,
          "clicks": 31,
          "ctr": 0.056985294117647065,
          "impressions": 544,
          "position": 6.806985294117648
         },
         {
          "Bin": 6,
          "clicks": 31,
          "ctr": 0.05057096247960848,
          "impressions": 613,
          "position": 6.769983686786298
         },
         {
          "Bin": 6,
          "clicks": 31,
          "ctr": 0.015285996055226824,
          "impressions": 2028,
          "position": 6.666666666666668
         },
         {
          "Bin": 6,
          "clicks": 30,
          "ctr": 0.04005340453938585,
          "impressions": 749,
          "position": 6.511348464619492
         },
         {
          "Bin": 6,
          "clicks": 30,
          "ctr": 0.07518796992481203,
          "impressions": 399,
          "position": 6.571428571428571
         },
         {
          "Bin": 6,
          "clicks": 30,
          "ctr": 0.08086253369272238,
          "impressions": 371,
          "position": 6.579514824797844
         },
         {
          "Bin": 6,
          "clicks": 30,
          "ctr": 0.12605042016806722,
          "impressions": 238,
          "position": 6.3613445378151265
         },
         {
          "Bin": 6,
          "clicks": 29,
          "ctr": 0.02482876712328767,
          "impressions": 1168,
          "position": 6.886130136986301
         },
         {
          "Bin": 6,
          "clicks": 29,
          "ctr": 0.0675990675990676,
          "impressions": 429,
          "position": 6.531468531468532
         },
         {
          "Bin": 6,
          "clicks": 29,
          "ctr": 0.0053843297437801705,
          "impressions": 5386,
          "position": 6.366505755662828
         },
         {
          "Bin": 6,
          "clicks": 28,
          "ctr": 0.15217391304347827,
          "impressions": 184,
          "position": 6.902173913043479
         },
         {
          "Bin": 6,
          "clicks": 28,
          "ctr": 0.052830188679245285,
          "impressions": 530,
          "position": 6.235849056603772
         },
         {
          "Bin": 6,
          "clicks": 28,
          "ctr": 0.02938090241343127,
          "impressions": 953,
          "position": 6.094438614900316
         },
         {
          "Bin": 6,
          "clicks": 27,
          "ctr": 0.2327586206896552,
          "impressions": 116,
          "position": 6.310344827586207
         },
         {
          "Bin": 6,
          "clicks": 27,
          "ctr": 0.016938519447929738,
          "impressions": 1594,
          "position": 6.953575909661231
         },
         {
          "Bin": 6,
          "clicks": 26,
          "ctr": 0.09352517985611512,
          "impressions": 278,
          "position": 6.014388489208633
         },
         {
          "Bin": 6,
          "clicks": 26,
          "ctr": 0.05869074492099322,
          "impressions": 443,
          "position": 6.496613995485327
         },
         {
          "Bin": 6,
          "clicks": 26,
          "ctr": 0.09454545454545454,
          "impressions": 275,
          "position": 6.96
         },
         {
          "Bin": 6,
          "clicks": 26,
          "ctr": 0.19117647058823528,
          "impressions": 136,
          "position": 6.316176470588236
         },
         {
          "Bin": 6,
          "clicks": 26,
          "ctr": 0.12935323383084574,
          "impressions": 201,
          "position": 6.945273631840797
         },
         {
          "Bin": 6,
          "clicks": 26,
          "ctr": 0.1187214611872146,
          "impressions": 219,
          "position": 6.703196347031962
         },
         {
          "Bin": 6,
          "clicks": 25,
          "ctr": 0.03834355828220859,
          "impressions": 652,
          "position": 6.964723926380367
         },
         {
          "Bin": 6,
          "clicks": 25,
          "ctr": 0.05112474437627812,
          "impressions": 489,
          "position": 6.9427402862985685
         },
         {
          "Bin": 7,
          "clicks": 2306,
          "ctr": 0.0010012556944789391,
          "impressions": 2303108,
          "position": 7.508991762435803
         },
         {
          "Bin": 7,
          "clicks": 1862,
          "ctr": 0.030473135525260625,
          "impressions": 61103,
          "position": 7.7551675040505375
         },
         {
          "Bin": 7,
          "clicks": 757,
          "ctr": 0.036471381769126995,
          "impressions": 20756,
          "position": 7.70654268645211
         },
         {
          "Bin": 7,
          "clicks": 640,
          "ctr": 0.026023665270605456,
          "impressions": 24593,
          "position": 7.053592485666653
         },
         {
          "Bin": 7,
          "clicks": 529,
          "ctr": 0.03190975992278924,
          "impressions": 16578,
          "position": 7.1250452406804206
         },
         {
          "Bin": 7,
          "clicks": 488,
          "ctr": 0.01959681953256766,
          "impressions": 24902,
          "position": 7.407075736888603
         },
         {
          "Bin": 7,
          "clicks": 430,
          "ctr": 0.021203155818540438,
          "impressions": 20280,
          "position": 7.395660749506903
         },
         {
          "Bin": 7,
          "clicks": 355,
          "ctr": 0.04598445595854922,
          "impressions": 7720,
          "position": 7.322150259067357
         },
         {
          "Bin": 7,
          "clicks": 299,
          "ctr": 0.032592108131676484,
          "impressions": 9174,
          "position": 7.797689121430127
         },
         {
          "Bin": 7,
          "clicks": 273,
          "ctr": 0.01327175498298493,
          "impressions": 20570,
          "position": 7.429314535731647
         },
         {
          "Bin": 7,
          "clicks": 257,
          "ctr": 0.01750442718975616,
          "impressions": 14682,
          "position": 7.866639422422013
         },
         {
          "Bin": 7,
          "clicks": 177,
          "ctr": 0.17788944723618091,
          "impressions": 995,
          "position": 7.125628140703517
         },
         {
          "Bin": 7,
          "clicks": 172,
          "ctr": 0.05984690327070285,
          "impressions": 2874,
          "position": 7.413013221990258
         },
         {
          "Bin": 7,
          "clicks": 156,
          "ctr": 0.04060385216033316,
          "impressions": 3842,
          "position": 7.195471108797501
         },
         {
          "Bin": 7,
          "clicks": 154,
          "ctr": 0.005258844420161181,
          "impressions": 29284,
          "position": 7.588922278377272
         },
         {
          "Bin": 7,
          "clicks": 133,
          "ctr": 0.0497754491017964,
          "impressions": 2672,
          "position": 7.148203592814372
         },
         {
          "Bin": 7,
          "clicks": 126,
          "ctr": 0.04231027535258563,
          "impressions": 2978,
          "position": 7.171255876427133
         },
         {
          "Bin": 7,
          "clicks": 125,
          "ctr": 0.016050333846944015,
          "impressions": 7788,
          "position": 7.220210580380073
         },
         {
          "Bin": 7,
          "clicks": 124,
          "ctr": 0.02298850574712644,
          "impressions": 5394,
          "position": 7.1357063403781975
         },
         {
          "Bin": 7,
          "clicks": 122,
          "ctr": 0.02216167120799273,
          "impressions": 5505,
          "position": 7.026521344232516
         },
         {
          "Bin": 7,
          "clicks": 120,
          "ctr": 0.061318344404701075,
          "impressions": 1957,
          "position": 7.535002554931017
         },
         {
          "Bin": 7,
          "clicks": 115,
          "ctr": 0.06364139457664637,
          "impressions": 1807,
          "position": 7.944659656889873
         },
         {
          "Bin": 7,
          "clicks": 107,
          "ctr": 0.01980014803849001,
          "impressions": 5404,
          "position": 7.043671354552183
         },
         {
          "Bin": 7,
          "clicks": 102,
          "ctr": 0.01606046291922532,
          "impressions": 6351,
          "position": 7.620059833097151
         },
         {
          "Bin": 7,
          "clicks": 101,
          "ctr": 0.03749072011878248,
          "impressions": 2694,
          "position": 7.223088344469191
         },
         {
          "Bin": 7,
          "clicks": 94,
          "ctr": 0.0817391304347826,
          "impressions": 1150,
          "position": 7.2608695652173925
         },
         {
          "Bin": 7,
          "clicks": 90,
          "ctr": 0.015154066341134871,
          "impressions": 5939,
          "position": 7.418252231015322
         },
         {
          "Bin": 7,
          "clicks": 90,
          "ctr": 0.0616860863605209,
          "impressions": 1459,
          "position": 7.453050034270048
         },
         {
          "Bin": 7,
          "clicks": 87,
          "ctr": 0.016319639842431063,
          "impressions": 5331,
          "position": 7.635528043519041
         },
         {
          "Bin": 7,
          "clicks": 83,
          "ctr": 0.03322658126501201,
          "impressions": 2498,
          "position": 7.82906325060048
         },
         {
          "Bin": 7,
          "clicks": 82,
          "ctr": 0.04128902316213495,
          "impressions": 1986,
          "position": 7.2532729103726075
         },
         {
          "Bin": 7,
          "clicks": 82,
          "ctr": 0.004904306220095694,
          "impressions": 16720,
          "position": 7.97188995215311
         },
         {
          "Bin": 7,
          "clicks": 78,
          "ctr": 0.02667578659370725,
          "impressions": 2924,
          "position": 7.261969904240766
         },
         {
          "Bin": 7,
          "clicks": 72,
          "ctr": 0.058919803600654665,
          "impressions": 1222,
          "position": 7.171031096563011
         },
         {
          "Bin": 7,
          "clicks": 68,
          "ctr": 0.0191765369430344,
          "impressions": 3546,
          "position": 7
         },
         {
          "Bin": 7,
          "clicks": 67,
          "ctr": 0.04789135096497498,
          "impressions": 1399,
          "position": 7.561829878484633
         },
         {
          "Bin": 7,
          "clicks": 66,
          "ctr": 0.07104413347685684,
          "impressions": 929,
          "position": 7.08719052744887
         },
         {
          "Bin": 7,
          "clicks": 64,
          "ctr": 0.09078014184397164,
          "impressions": 705,
          "position": 7.421276595744682
         },
         {
          "Bin": 7,
          "clicks": 62,
          "ctr": 0.015282228247473504,
          "impressions": 4057,
          "position": 7.081587379837318
         },
         {
          "Bin": 7,
          "clicks": 60,
          "ctr": 0.05097706032285471,
          "impressions": 1177,
          "position": 7.917587085811385
         },
         {
          "Bin": 7,
          "clicks": 57,
          "ctr": 0.01595298068849706,
          "impressions": 3573,
          "position": 7.277637839350685
         },
         {
          "Bin": 7,
          "clicks": 57,
          "ctr": 0.017204950196196802,
          "impressions": 3313,
          "position": 7.064895864775129
         },
         {
          "Bin": 7,
          "clicks": 55,
          "ctr": 0.06358381502890173,
          "impressions": 865,
          "position": 7.865895953757224
         },
         {
          "Bin": 7,
          "clicks": 54,
          "ctr": 0.026799007444168736,
          "impressions": 2015,
          "position": 7.811414392059554
         },
         {
          "Bin": 7,
          "clicks": 52,
          "ctr": 0.028872848417545807,
          "impressions": 1801,
          "position": 7.1910049972237635
         },
         {
          "Bin": 7,
          "clicks": 51,
          "ctr": 0.07391304347826087,
          "impressions": 690,
          "position": 7.4101449275362326
         },
         {
          "Bin": 7,
          "clicks": 50,
          "ctr": 0.01212415130940834,
          "impressions": 4124,
          "position": 7.939136760426769
         },
         {
          "Bin": 7,
          "clicks": 48,
          "ctr": 0.13636363636363635,
          "impressions": 352,
          "position": 7.0369318181818175
         },
         {
          "Bin": 7,
          "clicks": 48,
          "ctr": 0.2364532019704433,
          "impressions": 203,
          "position": 7.862068965517241
         },
         {
          "Bin": 7,
          "clicks": 48,
          "ctr": 0.003971537315902697,
          "impressions": 12086,
          "position": 7.0806718517292735
         },
         {
          "Bin": 7,
          "clicks": 47,
          "ctr": 0.04658077304261645,
          "impressions": 1009,
          "position": 7.349851337958374
         },
         {
          "Bin": 7,
          "clicks": 45,
          "ctr": 0.03548895899053628,
          "impressions": 1268,
          "position": 7.08359621451104
         },
         {
          "Bin": 7,
          "clicks": 44,
          "ctr": 0.03228173147468818,
          "impressions": 1363,
          "position": 7.0315480557593535
         },
         {
          "Bin": 7,
          "clicks": 43,
          "ctr": 0.038053097345132736,
          "impressions": 1130,
          "position": 7.811504424778762
         },
         {
          "Bin": 7,
          "clicks": 41,
          "ctr": 0.07056798623063683,
          "impressions": 581,
          "position": 7.139414802065406
         },
         {
          "Bin": 7,
          "clicks": 41,
          "ctr": 0.012685643564356437,
          "impressions": 3232,
          "position": 7.599009900990099
         },
         {
          "Bin": 7,
          "clicks": 40,
          "ctr": 0.07722007722007722,
          "impressions": 518,
          "position": 7.086872586872588
         },
         {
          "Bin": 7,
          "clicks": 40,
          "ctr": 0.008828073273008165,
          "impressions": 4531,
          "position": 7.4425071728095356
         },
         {
          "Bin": 7,
          "clicks": 39,
          "ctr": 0.017719218537028625,
          "impressions": 2201,
          "position": 7.986369831894593
         },
         {
          "Bin": 7,
          "clicks": 37,
          "ctr": 0.18226600985221675,
          "impressions": 203,
          "position": 7.931034482758621
         },
         {
          "Bin": 7,
          "clicks": 36,
          "ctr": 0.014018691588785048,
          "impressions": 2568,
          "position": 7.825545171339563
         },
         {
          "Bin": 7,
          "clicks": 36,
          "ctr": 0.33962264150943394,
          "impressions": 106,
          "position": 7.150943396226416
         },
         {
          "Bin": 7,
          "clicks": 34,
          "ctr": 0.032882011605415866,
          "impressions": 1034,
          "position": 7.651837524177949
         },
         {
          "Bin": 7,
          "clicks": 34,
          "ctr": 0.14847161572052406,
          "impressions": 229,
          "position": 7.4410480349344965
         },
         {
          "Bin": 7,
          "clicks": 33,
          "ctr": 0.013301088270858524,
          "impressions": 2481,
          "position": 7.577589681580008
         },
         {
          "Bin": 7,
          "clicks": 30,
          "ctr": 0.06772009029345373,
          "impressions": 443,
          "position": 7.72686230248307
         },
         {
          "Bin": 7,
          "clicks": 29,
          "ctr": 0.010261854210898796,
          "impressions": 2826,
          "position": 7.3237791932059455
         },
         {
          "Bin": 7,
          "clicks": 29,
          "ctr": 0.054613935969868174,
          "impressions": 531,
          "position": 7.293785310734464
         },
         {
          "Bin": 7,
          "clicks": 29,
          "ctr": 0.07512953367875648,
          "impressions": 386,
          "position": 7.484455958549223
         },
         {
          "Bin": 7,
          "clicks": 29,
          "ctr": 0.0237315875613748,
          "impressions": 1222,
          "position": 7.842880523731588
         },
         {
          "Bin": 7,
          "clicks": 29,
          "ctr": 0.08978328173374613,
          "impressions": 323,
          "position": 7.21671826625387
         },
         {
          "Bin": 7,
          "clicks": 28,
          "ctr": 0.07368421052631577,
          "impressions": 380,
          "position": 7.718421052631579
         },
         {
          "Bin": 7,
          "clicks": 28,
          "ctr": 0.04301075268817205,
          "impressions": 651,
          "position": 7.439324116743473
         },
         {
          "Bin": 7,
          "clicks": 27,
          "ctr": 0.01393188854489164,
          "impressions": 1938,
          "position": 7.702786377708978
         },
         {
          "Bin": 7,
          "clicks": 26,
          "ctr": 0.06483790523690773,
          "impressions": 401,
          "position": 7.3017456359102235
         },
         {
          "Bin": 7,
          "clicks": 26,
          "ctr": 0.004042288557213929,
          "impressions": 6432,
          "position": 7.112251243781095
         },
         {
          "Bin": 7,
          "clicks": 26,
          "ctr": 0.07761194029850746,
          "impressions": 335,
          "position": 7.035820895522388
         },
         {
          "Bin": 7,
          "clicks": 26,
          "ctr": 0.018505338078291814,
          "impressions": 1405,
          "position": 7.581494661921707
         },
         {
          "Bin": 7,
          "clicks": 26,
          "ctr": 0.022413793103448282,
          "impressions": 1160,
          "position": 7.225862068965517
         },
         {
          "Bin": 7,
          "clicks": 26,
          "ctr": 0.03874813710879285,
          "impressions": 671,
          "position": 7.35618479880775
         },
         {
          "Bin": 7,
          "clicks": 26,
          "ctr": 0.06860158311345646,
          "impressions": 379,
          "position": 7.741424802110817
         },
         {
          "Bin": 7,
          "clicks": 25,
          "ctr": 0.06265664160401002,
          "impressions": 399,
          "position": 7.030075187969924
         },
         {
          "Bin": 7,
          "clicks": 25,
          "ctr": 0.12886597938144329,
          "impressions": 194,
          "position": 7.6701030927835046
         },
         {
          "Bin": 7,
          "clicks": 25,
          "ctr": 0.03561253561253561,
          "impressions": 702,
          "position": 7.136752136752138
         },
         {
          "Bin": 7,
          "clicks": 25,
          "ctr": 0.0038825904643578204,
          "impressions": 6439,
          "position": 7.800900760987731
         },
         {
          "Bin": 8,
          "clicks": 3020,
          "ctr": 0.004755508595345586,
          "impressions": 635053,
          "position": 8.214404152094392
         },
         {
          "Bin": 8,
          "clicks": 1670,
          "ctr": 0.0314536482465062,
          "impressions": 53094,
          "position": 8.535973933024447
         },
         {
          "Bin": 8,
          "clicks": 1581,
          "ctr": 0.036161112508863016,
          "impressions": 43721,
          "position": 8.636330367557925
         },
         {
          "Bin": 8,
          "clicks": 1374,
          "ctr": 0.0029884442472448247,
          "impressions": 459771,
          "position": 8.166000030449942
         },
         {
          "Bin": 8,
          "clicks": 1252,
          "ctr": 0.03091892425851382,
          "impressions": 40493,
          "position": 8.044032301879337
         },
         {
          "Bin": 8,
          "clicks": 946,
          "ctr": 0.027940220922677058,
          "impressions": 33858,
          "position": 8.612587866973831
         },
         {
          "Bin": 8,
          "clicks": 601,
          "ctr": 0.012842703592110606,
          "impressions": 46797,
          "position": 8.112443105327266
         },
         {
          "Bin": 8,
          "clicks": 545,
          "ctr": 0.017675293507167414,
          "impressions": 30834,
          "position": 8.390705065836414
         },
         {
          "Bin": 8,
          "clicks": 478,
          "ctr": 0.007843137254901959,
          "impressions": 60945,
          "position": 8.210386413979819
         },
         {
          "Bin": 8,
          "clicks": 449,
          "ctr": 0.03021127708249226,
          "impressions": 14862,
          "position": 8.281590633831247
         },
         {
          "Bin": 8,
          "clicks": 276,
          "ctr": 0.040058055152394766,
          "impressions": 6890,
          "position": 8.618722786647314
         },
         {
          "Bin": 8,
          "clicks": 266,
          "ctr": 0.018660119256401264,
          "impressions": 14255,
          "position": 8.360154331813398
         },
         {
          "Bin": 8,
          "clicks": 250,
          "ctr": 0.0186039589224587,
          "impressions": 13438,
          "position": 8.163640422681947
         },
         {
          "Bin": 8,
          "clicks": 230,
          "ctr": 0.03333816495144224,
          "impressions": 6899,
          "position": 8.810262356863314
         },
         {
          "Bin": 8,
          "clicks": 196,
          "ctr": 0.004523320486487735,
          "impressions": 43331,
          "position": 8.428723085089196
         },
         {
          "Bin": 8,
          "clicks": 190,
          "ctr": 0.0026762071102597327,
          "impressions": 70996,
          "position": 8.129598850639471
         },
         {
          "Bin": 8,
          "clicks": 188,
          "ctr": 0.10603496897913142,
          "impressions": 1773,
          "position": 8.199661590524535
         },
         {
          "Bin": 8,
          "clicks": 165,
          "ctr": 0.004789411047574816,
          "impressions": 34451,
          "position": 8.319206989637456
         },
         {
          "Bin": 8,
          "clicks": 142,
          "ctr": 0.006156247290384114,
          "impressions": 23066,
          "position": 8.371846007110031
         },
         {
          "Bin": 8,
          "clicks": 134,
          "ctr": 0.02558716822608364,
          "impressions": 5237,
          "position": 8.455604353637579
         },
         {
          "Bin": 8,
          "clicks": 121,
          "ctr": 0.013186573670444636,
          "impressions": 9176,
          "position": 8.383391455972102
         },
         {
          "Bin": 8,
          "clicks": 119,
          "ctr": 0.019751037344398342,
          "impressions": 6025,
          "position": 8.578423236514523
         },
         {
          "Bin": 8,
          "clicks": 114,
          "ctr": 0.005783572624422911,
          "impressions": 19711,
          "position": 8.76657703820202
         },
         {
          "Bin": 8,
          "clicks": 114,
          "ctr": 0.03611023123218245,
          "impressions": 3157,
          "position": 8.302502375673107
         },
         {
          "Bin": 8,
          "clicks": 100,
          "ctr": 0.04775549188156638,
          "impressions": 2094,
          "position": 8.792263610315185
         },
         {
          "Bin": 8,
          "clicks": 91,
          "ctr": 0.007630387388898206,
          "impressions": 11926,
          "position": 8.552658058024484
         },
         {
          "Bin": 8,
          "clicks": 85,
          "ctr": 0.003416124105779278,
          "impressions": 24882,
          "position": 8.890362511052167
         },
         {
          "Bin": 8,
          "clicks": 75,
          "ctr": 0.014869151467089609,
          "impressions": 5044,
          "position": 8.295202220459952
         },
         {
          "Bin": 8,
          "clicks": 71,
          "ctr": 0.003605708191559596,
          "impressions": 19691,
          "position": 8.17642577827434
         },
         {
          "Bin": 8,
          "clicks": 71,
          "ctr": 0.009844703272323905,
          "impressions": 7212,
          "position": 8.706045479755963
         },
         {
          "Bin": 8,
          "clicks": 68,
          "ctr": 0.0034447821681864235,
          "impressions": 19740,
          "position": 8.171732522796352
         },
         {
          "Bin": 8,
          "clicks": 62,
          "ctr": 0.031031031031031032,
          "impressions": 1998,
          "position": 8.884384384384385
         },
         {
          "Bin": 8,
          "clicks": 60,
          "ctr": 0.02884615384615385,
          "impressions": 2080,
          "position": 8.111057692307693
         },
         {
          "Bin": 8,
          "clicks": 59,
          "ctr": 0.005380756953944368,
          "impressions": 10965,
          "position": 8.983766529867761
         },
         {
          "Bin": 8,
          "clicks": 59,
          "ctr": 0.0960912052117264,
          "impressions": 614,
          "position": 8.965798045602606
         },
         {
          "Bin": 8,
          "clicks": 58,
          "ctr": 0.03409758965314521,
          "impressions": 1701,
          "position": 8.216931216931219
         },
         {
          "Bin": 8,
          "clicks": 56,
          "ctr": 0.014694305956441878,
          "impressions": 3811,
          "position": 8.26292311729205
         },
         {
          "Bin": 8,
          "clicks": 55,
          "ctr": 0.027610441767068276,
          "impressions": 1992,
          "position": 8.373995983935743
         },
         {
          "Bin": 8,
          "clicks": 55,
          "ctr": 0.06650544135429262,
          "impressions": 827,
          "position": 8.275695284159614
         },
         {
          "Bin": 8,
          "clicks": 50,
          "ctr": 0.0015270439483248328,
          "impressions": 32743,
          "position": 8.627645603640474
         },
         {
          "Bin": 8,
          "clicks": 49,
          "ctr": 0.01240506329113924,
          "impressions": 3950,
          "position": 8.804050632911393
         },
         {
          "Bin": 8,
          "clicks": 49,
          "ctr": 0.050411522633744855,
          "impressions": 972,
          "position": 8.854938271604937
         },
         {
          "Bin": 8,
          "clicks": 47,
          "ctr": 0.007083647324792766,
          "impressions": 6635,
          "position": 8.179201205727201
         },
         {
          "Bin": 8,
          "clicks": 47,
          "ctr": 0.044131455399061034,
          "impressions": 1065,
          "position": 8.227230046948359
         },
         {
          "Bin": 8,
          "clicks": 43,
          "ctr": 0.09492273730684328,
          "impressions": 453,
          "position": 8.32008830022075
         },
         {
          "Bin": 8,
          "clicks": 41,
          "ctr": 0.11452513966480447,
          "impressions": 358,
          "position": 8.879888268156424
         },
         {
          "Bin": 8,
          "clicks": 41,
          "ctr": 0.030303030303030307,
          "impressions": 1353,
          "position": 8.52919438285292
         },
         {
          "Bin": 8,
          "clicks": 41,
          "ctr": 0.00786344457230533,
          "impressions": 5214,
          "position": 8.900652090525508
         },
         {
          "Bin": 8,
          "clicks": 40,
          "ctr": 0.02686366689053056,
          "impressions": 1489,
          "position": 8.144392209536601
         },
         {
          "Bin": 8,
          "clicks": 40,
          "ctr": 0.02053388090349076,
          "impressions": 1948,
          "position": 8.382956878850102
         },
         {
          "Bin": 8,
          "clicks": 39,
          "ctr": 0.025913621262458476,
          "impressions": 1505,
          "position": 8.316279069767443
         },
         {
          "Bin": 8,
          "clicks": 38,
          "ctr": 0.03270223752151463,
          "impressions": 1162,
          "position": 8.1144578313253
         },
         {
          "Bin": 8,
          "clicks": 37,
          "ctr": 0.025412087912087912,
          "impressions": 1456,
          "position": 8.167582417582418
         },
         {
          "Bin": 8,
          "clicks": 37,
          "ctr": 0.26811594202898553,
          "impressions": 138,
          "position": 8.673913043478262
         },
         {
          "Bin": 8,
          "clicks": 37,
          "ctr": 0.013153217205830077,
          "impressions": 2813,
          "position": 8.574831141130467
         },
         {
          "Bin": 8,
          "clicks": 33,
          "ctr": 0.015102974828375287,
          "impressions": 2185,
          "position": 8.620594965675057
         },
         {
          "Bin": 8,
          "clicks": 32,
          "ctr": 0.007457469121416919,
          "impressions": 4291,
          "position": 8.87415520857609
         },
         {
          "Bin": 8,
          "clicks": 31,
          "ctr": 0.0047386120452461026,
          "impressions": 6542,
          "position": 8.465453989605624
         },
         {
          "Bin": 8,
          "clicks": 31,
          "ctr": 0.06326530612244897,
          "impressions": 490,
          "position": 8.93673469387755
         },
         {
          "Bin": 8,
          "clicks": 31,
          "ctr": 0.02206405693950178,
          "impressions": 1405,
          "position": 8.437722419928825
         },
         {
          "Bin": 8,
          "clicks": 29,
          "ctr": 0.023015873015873014,
          "impressions": 1260,
          "position": 8.436507936507939
         },
         {
          "Bin": 8,
          "clicks": 29,
          "ctr": 0.09034267912772584,
          "impressions": 321,
          "position": 8.713395638629283
         },
         {
          "Bin": 8,
          "clicks": 28,
          "ctr": 0.01702127659574468,
          "impressions": 1645,
          "position": 8.217021276595744
         },
         {
          "Bin": 8,
          "clicks": 28,
          "ctr": 0.012516763522574878,
          "impressions": 2237,
          "position": 8.518104604380866
         },
         {
          "Bin": 8,
          "clicks": 28,
          "ctr": 0.0302049622437972,
          "impressions": 927,
          "position": 8.527508090614887
         },
         {
          "Bin": 8,
          "clicks": 27,
          "ctr": 0.014508328855454056,
          "impressions": 1861,
          "position": 8.216550241805482
         },
         {
          "Bin": 8,
          "clicks": 27,
          "ctr": 0.009186798230690709,
          "impressions": 2939,
          "position": 8.238176250425315
         },
         {
          "Bin": 8,
          "clicks": 26,
          "ctr": 0.0068583487206541815,
          "impressions": 3791,
          "position": 8.386441572144552
         },
         {
          "Bin": 8,
          "clicks": 26,
          "ctr": 0.04340567612687813,
          "impressions": 599,
          "position": 8.065108514190317
         },
         {
          "Bin": 8,
          "clicks": 25,
          "ctr": 0.018642803877703208,
          "impressions": 1341,
          "position": 8.568232662192392
         },
         {
          "Bin": 8,
          "clicks": 25,
          "ctr": 0.031685678073510776,
          "impressions": 789,
          "position": 8.70722433460076
         },
         {
          "Bin": 9,
          "clicks": 967,
          "ctr": 0.09303444294785453,
          "impressions": 10394,
          "position": 9.257071387338849
         },
         {
          "Bin": 9,
          "clicks": 761,
          "ctr": 0.010737516402579262,
          "impressions": 70873,
          "position": 9.454376137598238
         },
         {
          "Bin": 9,
          "clicks": 559,
          "ctr": 0.008171678337012295,
          "impressions": 68407,
          "position": 9.534799070270589
         },
         {
          "Bin": 9,
          "clicks": 328,
          "ctr": 0.0002676626764798767,
          "impressions": 1225423,
          "position": 9.453050089642515
         },
         {
          "Bin": 9,
          "clicks": 248,
          "ctr": 0.02069425901201602,
          "impressions": 11984,
          "position": 9.01059746328438
         },
         {
          "Bin": 9,
          "clicks": 221,
          "ctr": 0.0722930978083088,
          "impressions": 3057,
          "position": 9.454039908406935
         },
         {
          "Bin": 9,
          "clicks": 203,
          "ctr": 0.009342353536748123,
          "impressions": 21729,
          "position": 9.898614754475586
         },
         {
          "Bin": 9,
          "clicks": 191,
          "ctr": 0.007041215070412152,
          "impressions": 27126,
          "position": 9.735235567352357
         },
         {
          "Bin": 9,
          "clicks": 176,
          "ctr": 0.045349136820407115,
          "impressions": 3881,
          "position": 9.116464828652411
         },
         {
          "Bin": 9,
          "clicks": 171,
          "ctr": 0.006725928256765261,
          "impressions": 25424,
          "position": 9.615245437381999
         },
         {
          "Bin": 9,
          "clicks": 170,
          "ctr": 0.00996483001172333,
          "impressions": 17060,
          "position": 9.09337631887456
         },
         {
          "Bin": 9,
          "clicks": 165,
          "ctr": 0.00216438859301624,
          "impressions": 76234,
          "position": 9.3074481202613
         },
         {
          "Bin": 9,
          "clicks": 141,
          "ctr": 0.0011318028576015411,
          "impressions": 124580,
          "position": 9.691258628993419
         },
         {
          "Bin": 9,
          "clicks": 134,
          "ctr": 0.006736037802241994,
          "impressions": 19893,
          "position": 9.355652742170612
         },
         {
          "Bin": 9,
          "clicks": 117,
          "ctr": 0.0972568578553616,
          "impressions": 1203,
          "position": 9.377389858686618
         },
         {
          "Bin": 9,
          "clicks": 114,
          "ctr": 0.06563039723661486,
          "impressions": 1737,
          "position": 9.51986183074266
         },
         {
          "Bin": 9,
          "clicks": 111,
          "ctr": 0.007453165916873699,
          "impressions": 14893,
          "position": 9.863157187940644
         },
         {
          "Bin": 9,
          "clicks": 89,
          "ctr": 0.014462138446538838,
          "impressions": 6154,
          "position": 9.967175820604485
         },
         {
          "Bin": 9,
          "clicks": 86,
          "ctr": 0.0020607687146554205,
          "impressions": 41732,
          "position": 9.363054730183071
         },
         {
          "Bin": 9,
          "clicks": 83,
          "ctr": 0.03341384863123994,
          "impressions": 2484,
          "position": 9.370772946859905
         },
         {
          "Bin": 9,
          "clicks": 71,
          "ctr": 0.021443672606463304,
          "impressions": 3311,
          "position": 9.464512231954092
         },
         {
          "Bin": 9,
          "clicks": 69,
          "ctr": 0.013287117273252456,
          "impressions": 5193,
          "position": 9.058732909686118
         },
         {
          "Bin": 9,
          "clicks": 68,
          "ctr": 0.019149535342157138,
          "impressions": 3551,
          "position": 9.124471979724019
         },
         {
          "Bin": 9,
          "clicks": 61,
          "ctr": 0.01869445295740117,
          "impressions": 3263,
          "position": 9.452957401164571
         },
         {
          "Bin": 9,
          "clicks": 60,
          "ctr": 0.0009235315847801996,
          "impressions": 64968,
          "position": 9.1762560029553
         },
         {
          "Bin": 9,
          "clicks": 59,
          "ctr": 0.018408736349453975,
          "impressions": 3205,
          "position": 9.058346333853354
         },
         {
          "Bin": 9,
          "clicks": 59,
          "ctr": 0.0019225129525237054,
          "impressions": 30689,
          "position": 9.546743132718564
         },
         {
          "Bin": 9,
          "clicks": 56,
          "ctr": 0.012213740458015269,
          "impressions": 4585,
          "position": 9.332824427480915
         },
         {
          "Bin": 9,
          "clicks": 54,
          "ctr": 0.03169014084507042,
          "impressions": 1704,
          "position": 9.371478873239434
         },
         {
          "Bin": 9,
          "clicks": 53,
          "ctr": 0.011988237955213752,
          "impressions": 4421,
          "position": 9.38000452386338
         },
         {
          "Bin": 9,
          "clicks": 52,
          "ctr": 0.004567413263065437,
          "impressions": 11385,
          "position": 9.916644707949057
         },
         {
          "Bin": 9,
          "clicks": 51,
          "ctr": 0.0048190494188793355,
          "impressions": 10583,
          "position": 9.332514409902672
         },
         {
          "Bin": 9,
          "clicks": 49,
          "ctr": 0.07040229885057471,
          "impressions": 696,
          "position": 9.317528735632184
         },
         {
          "Bin": 9,
          "clicks": 44,
          "ctr": 0.023109243697478996,
          "impressions": 1904,
          "position": 9.665441176470589
         },
         {
          "Bin": 9,
          "clicks": 44,
          "ctr": 0.0854368932038835,
          "impressions": 515,
          "position": 9.264077669902912
         },
         {
          "Bin": 9,
          "clicks": 43,
          "ctr": 0.0649546827794562,
          "impressions": 662,
          "position": 9.717522658610273
         },
         {
          "Bin": 9,
          "clicks": 42,
          "ctr": 0.0052783712454442635,
          "impressions": 7957,
          "position": 9.04210129445771
         },
         {
          "Bin": 9,
          "clicks": 42,
          "ctr": 0.035175879396984924,
          "impressions": 1194,
          "position": 9.715242881072026
         },
         {
          "Bin": 9,
          "clicks": 35,
          "ctr": 0.002881369885568453,
          "impressions": 12147,
          "position": 9.640405038281056
         },
         {
          "Bin": 9,
          "clicks": 35,
          "ctr": 0.03941441441441442,
          "impressions": 888,
          "position": 9.079954954954957
         },
         {
          "Bin": 9,
          "clicks": 34,
          "ctr": 0.017391304347826087,
          "impressions": 1955,
          "position": 9.371355498721227
         },
         {
          "Bin": 9,
          "clicks": 33,
          "ctr": 0.08068459657701711,
          "impressions": 409,
          "position": 9.193154034229831
         },
         {
          "Bin": 9,
          "clicks": 33,
          "ctr": 0.01110363391655451,
          "impressions": 2972,
          "position": 9.314939434724092
         },
         {
          "Bin": 9,
          "clicks": 31,
          "ctr": 0.015938303341902313,
          "impressions": 1945,
          "position": 9.901799485861183
         },
         {
          "Bin": 9,
          "clicks": 31,
          "ctr": 0.03681710213776722,
          "impressions": 842,
          "position": 9.112826603325416
         },
         {
          "Bin": 9,
          "clicks": 31,
          "ctr": 0.05183946488294314,
          "impressions": 598,
          "position": 9.643812709030101
         },
         {
          "Bin": 9,
          "clicks": 29,
          "ctr": 0.03211517165005537,
          "impressions": 903,
          "position": 9.364341085271318
         },
         {
          "Bin": 9,
          "clicks": 28,
          "ctr": 0.014568158168574404,
          "impressions": 1922,
          "position": 9.171696149843912
         },
         {
          "Bin": 9,
          "clicks": 27,
          "ctr": 0.006903605216057275,
          "impressions": 3911,
          "position": 9.070058808488877
         },
         {
          "Bin": 9,
          "clicks": 25,
          "ctr": 0.01128158844765343,
          "impressions": 2216,
          "position": 9.639891696750905
         },
         {
          "Bin": 9,
          "clicks": 25,
          "ctr": 0.018839487565938208,
          "impressions": 1327,
          "position": 9.131876412961569
         },
         {
          "Bin": 9,
          "clicks": 25,
          "ctr": 0.01425313568985177,
          "impressions": 1754,
          "position": 9.23261117445838
         }
        ]
       },
       "height": 300,
       "layer": [
        {
         "encoding": {
          "x": {
           "field": "Bin",
           "title": "Search Results Position",
           "type": "quantitative"
          },
          "y": {
           "axis": {
            "format": ".0%"
           },
           "field": "ctr",
           "title": "Based on Search Results Position",
           "type": "quantitative"
          }
         },
         "mark": {
          "extent": "ci",
          "type": "errorband"
         }
        },
        {
         "encoding": {
          "x": {
           "field": "Bin",
           "title": null,
           "type": "quantitative"
          },
          "y": {
           "aggregate": "mean",
           "field": "ctr",
           "type": "quantitative"
          }
         },
         "mark": "line"
        }
       ],
       "title": "Click-Through Rates",
       "width": 400
      },
      "image/png": "[encoded data removed]",
      "text/plain": [
       "<VegaLite 3 object>\n",
       "\n",
       "If you see this message, it means the renderer has not been properly enabled\n",
       "for the frontend that you are using. For more information, see\n",
       "https://altair-viz.github.io/user_guide/troubleshooting.html\n"
      ]
     },
     "execution_count": 18,
     "metadata": {},
     "output_type": "execute_result"
    }
   ],
   "source": [
    "con_int = alt.Chart(combined).mark_errorband(extent='ci').encode(\n",
    "    x=alt.X('Bin', title='Search Results Position'),\n",
    "    y=alt.Y('ctr', title='Based on Search Results Position', axis=alt.Axis(format='.0%'))\n",
    ")\n",
    "\n",
    "line = alt.Chart(combined).mark_line().encode(\n",
    "    x=alt.X('Bin', title=None),\n",
    "    y=alt.Y('mean(ctr)'))\n",
    "\n",
    "line_con_int = (con_int + line).properties(width=400, title='Click-Through Rates')\n",
    "line_con_int"
   ]
  },
  {
   "cell_type": "code",
   "execution_count": 19,
   "metadata": {},
   "outputs": [],
   "source": [
    "line_con_int.save('conf_interval.png', scale_factor=3)"
   ]
  }
 ],
 "metadata": {
  "kernelspec": {
   "display_name": "Python 3",
   "language": "python",
   "name": "python3"
  },
  "language_info": {
   "codemirror_mode": {
    "name": "ipython",
    "version": 3
   },
   "file_extension": ".py",
   "mimetype": "text/x-python",
   "name": "python",
   "nbconvert_exporter": "python",
   "pygments_lexer": "ipython3",
   "version": "3.7.3"
  }
 },
 "nbformat": 4,
 "nbformat_minor": 4
}
